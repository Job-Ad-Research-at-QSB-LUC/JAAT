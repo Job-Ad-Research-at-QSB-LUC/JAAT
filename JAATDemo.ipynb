{
 "cells": [
  {
   "cell_type": "markdown",
   "id": "f36cec1d-ccbd-4d8e-b2cc-066de9d5c83f",
   "metadata": {
    "editable": true,
    "slideshow": {
     "slide_type": "slide"
    },
    "tags": []
   },
   "source": [
    "# JAAT Demo\n"
   ]
  },
  {
   "cell_type": "markdown",
   "id": "65f6539d-7920-41f1-a5e9-4cfcb75a4a3e",
   "metadata": {
    "editable": true,
    "slideshow": {
     "slide_type": "subslide"
    },
    "tags": []
   },
   "source": [
    "A short demonstration of Job Ad Analysis Toolkit (JAAT) - efficiently and accurately extracting information from job ad texts."
   ]
  },
  {
   "cell_type": "markdown",
   "id": "03e43c53-a532-4f76-9339-b87e2b46d470",
   "metadata": {
    "editable": true,
    "slideshow": {
     "slide_type": "slide"
    },
    "tags": []
   },
   "source": [
    "# Simple Startup"
   ]
  },
  {
   "cell_type": "code",
   "execution_count": null,
   "id": "52b6b682-680a-4d71-a9e6-72f104f8f5d3",
   "metadata": {
    "editable": true,
    "slideshow": {
     "slide_type": "subslide"
    },
    "tags": []
   },
   "outputs": [],
   "source": [
    "from pprint import pprint\n",
    "import nltk\n",
    "from tqdm.auto import tqdm\n",
    "import time\n",
    "import pandas as pd\n",
    "import random\n",
    "from pathlib import Path\n",
    "\n",
    "import sys\n",
    "#sys.path.insert(0, \"/path/to/JAAT/\") # TODO: edit!\n",
    "sys.path.insert(0, \"/home/sjmeis/JAAT/\") # TODO: edit!\n",
    "\n",
    "from JAAT import TaskMatch"
   ]
  },
  {
   "cell_type": "code",
   "execution_count": 2,
   "id": "186df90d-e362-4ab1-9bc4-8bd2ea56f6b9",
   "metadata": {
    "editable": true,
    "slideshow": {
     "slide_type": "subslide"
    },
    "tags": []
   },
   "outputs": [
    {
     "name": "stdout",
     "output_type": "stream",
     "text": [
      "INIT\n",
      "Preparing embeddings...\n"
     ]
    },
    {
     "data": {
      "application/vnd.jupyter.widget-view+json": {
       "model_id": "05c2a087356e4d048a3300be6d23a7b0",
       "version_major": 2,
       "version_minor": 0
      },
      "text/plain": [
       "Batches:   0%|          | 0/295 [00:00<?, ?it/s]"
      ]
     },
     "metadata": {},
     "output_type": "display_data"
    },
    {
     "name": "stdout",
     "output_type": "stream",
     "text": [
      "Setting up pipeline...\n",
      "Finished.\n"
     ]
    }
   ],
   "source": [
    "# load TaskMatch - performs setup steps\n",
    "TM = TaskMatch()"
   ]
  },
  {
   "cell_type": "markdown",
   "id": "b922d086-b464-4926-b316-2a3362bb5387",
   "metadata": {
    "editable": true,
    "slideshow": {
     "slide_type": "slide"
    },
    "tags": []
   },
   "source": [
    "# Extracting Task IDs from Job Ad Texts"
   ]
  },
  {
   "cell_type": "markdown",
   "id": "b090d075-e8b6-439c-a8fb-80522b99f730",
   "metadata": {
    "editable": true,
    "slideshow": {
     "slide_type": "slide"
    },
    "tags": []
   },
   "source": [
    "Let's start off with a sample job ad:"
   ]
  },
  {
   "cell_type": "code",
   "execution_count": 3,
   "id": "68982f0c-a583-4d7c-851c-81e603e5ea2e",
   "metadata": {
    "editable": true,
    "slideshow": {
     "slide_type": "subslide"
    },
    "tags": []
   },
   "outputs": [],
   "source": [
    "job = \"\"\"\n",
    "Junior Full Stack Software Developer\n",
    "\n",
    "Description\n",
    "Develops software solutions by studying information needs; conferring with users; studying systems flow, data usage, and work processes; investigating problem areas; following the software development lifecycle.\n",
    "Determines operational feasibility by evaluating analysis, problem definition, requirements, solution development, and proposed solutions.\n",
    "Documents and demonstrates solutions by developing documentation, flowcharts, layouts, diagrams, charts, code comments and clear code.\n",
    "Supports and develops software developers by providing advice, coaching and educational opportunities.\n",
    "Other duties as required.\n",
    "\n",
    "About Us\n",
    "We are a small team of dedicated professionals that work to support the business objectives of our company as well as developing innovative software solutions for other companies in our industry. If you join our team, you will have the opportunity to work with a wide variety of technologies in a fast-paced development environment that caters to innovation and efficiency as opposed to rigid processes and ingrained mentalities. If you like to code, can follow other people’s code, can work in a team, and for a team, we say come and talk to us (mention ‘verko’ in your cover letter). We believe our company is a nice place to work and grow your skills, where working smart is appreciated as much as working hard.\n",
    "Requirements:\n",
    "\n",
    "Experience Requirements\n",
    "Bachelor’s degree in computer science, MIS, other related field or relevant experience.\n",
    "Experience with the Microsoft .NET technology stack (C#, MVC, Web API, Web Forms, etc.)\n",
    "Experience with JavaScript frameworks (ReactJS, Node.js preferred).\n",
    "Experience with relational databases (MS SQL preferred)\n",
    "Experience with code versioning tools, such as Git.\n",
    "Experience with modern software design patterns, debugging and refactoring.\n",
    "Familiarity with continuous integration and automated build products like Team City and Azure DevOps\n",
    "Geographical Requirements\n",
    "Applicants from Glastonbury/Hartford CT and the vicinity will be favored.\n",
    "Applicants from outside of New England states will not be considered.\n",
    "\"\"\""
   ]
  },
  {
   "cell_type": "markdown",
   "id": "276d6086-57dd-4b6d-bfc9-4e30f7a7ccd7",
   "metadata": {
    "editable": true,
    "slideshow": {
     "slide_type": "slide"
    },
    "tags": []
   },
   "source": [
    "To extract task IDs from the job, simply call:"
   ]
  },
  {
   "cell_type": "code",
   "execution_count": 4,
   "id": "9cecaa13-277a-4458-99de-812a2c98db78",
   "metadata": {
    "editable": true,
    "slideshow": {
     "slide_type": "subslide"
    },
    "tags": []
   },
   "outputs": [
    {
     "name": "stdout",
     "output_type": "stream",
     "text": [
      "[('16363', 'Identify operational requirements for new systems to inform selection of technological solutions.'),\n",
      " ('16987', 'Prepare documentation or presentations, including charts, photos, or graphs.'),\n",
      " ('9583', 'Assign duties to other staff and give instructions regarding work methods and routines.')]\n"
     ]
    }
   ],
   "source": [
    "tasks = TM.get_tasks(job)\n",
    "pprint(tasks, width=120)"
   ]
  },
  {
   "cell_type": "markdown",
   "id": "50d1065d-4e28-4c87-bf4a-4d7d62a7a33d",
   "metadata": {
    "editable": true,
    "slideshow": {
     "slide_type": "slide"
    },
    "tags": []
   },
   "source": [
    "## Great! But let's look under the hood"
   ]
  },
  {
   "cell_type": "markdown",
   "id": "68551c91-e427-4854-881e-2120a07d3982",
   "metadata": {
    "editable": true,
    "slideshow": {
     "slide_type": "slide"
    },
    "tags": []
   },
   "source": [
    "Before matching to task IDs, TaskMatch first identifies candidate sentences. To do a this, a classifier model identifies which segments of the job ad text are potentially task statements. Going back to the example:"
   ]
  },
  {
   "cell_type": "code",
   "execution_count": 5,
   "id": "8d5a1c48-6e23-4bbe-8609-ccddd0096e65",
   "metadata": {
    "editable": true,
    "slideshow": {
     "slide_type": "subslide"
    },
    "tags": []
   },
   "outputs": [
    {
     "name": "stdout",
     "output_type": "stream",
     "text": [
      "['(1) Junior Full Stack Software Developer\\n'\n",
      " '\\n'\n",
      " 'Description\\n'\n",
      " 'Develops software solutions by studying information needs; conferring with users; studying systems flow, data usage, and work processes; '\n",
      " 'investigating problem areas; following the software development lifecycle.',\n",
      " '(2) Determines operational feasibility by evaluating analysis, problem definition, requirements, solution development, and proposed solutions.',\n",
      " '(3) Documents and demonstrates solutions by developing documentation, flowcharts, layouts, diagrams, charts, code comments and clear code.',\n",
      " '(4) Supports and develops software developers by providing advice, coaching and educational opportunities.',\n",
      " '(5) Other duties as required.',\n",
      " '(6) Experience with modern software design patterns, debugging and refactoring.']\n"
     ]
    }
   ],
   "source": [
    "candidates = [\"({}) \".format(i+1)+x.strip() for i, x in enumerate(TM.get_candidates(job))]\n",
    "pprint(candidates, width=150)"
   ]
  },
  {
   "cell_type": "code",
   "execution_count": 6,
   "id": "888be459-341a-48f8-a7b9-f829c90091dc",
   "metadata": {
    "editable": true,
    "slideshow": {
     "slide_type": "subslide"
    },
    "tags": []
   },
   "outputs": [
    {
     "data": {
      "text/plain": [
       "16"
      ]
     },
     "execution_count": 6,
     "metadata": {},
     "output_type": "execute_result"
    }
   ],
   "source": [
    "len(nltk.sent_tokenize(job))"
   ]
  },
  {
   "cell_type": "markdown",
   "id": "d94a1d3e-273c-49aa-97c1-28b2bbeca9b1",
   "metadata": {
    "editable": true,
    "slideshow": {
     "slide_type": "subslide"
    },
    "tags": []
   },
   "source": [
    "So we see that six candidates are identified out of the 16 \"sentences\" in the job ad. From these we can narrow down to three matched tasks."
   ]
  },
  {
   "cell_type": "markdown",
   "id": "065d15a9-455f-474b-bfb9-73aab1e6141b",
   "metadata": {
    "editable": true,
    "slideshow": {
     "slide_type": "slide"
    },
    "tags": []
   },
   "source": [
    "## Batch Processing"
   ]
  },
  {
   "cell_type": "markdown",
   "id": "c352f4b1-295a-4375-b445-0608d4d1805f",
   "metadata": {
    "editable": true,
    "slideshow": {
     "slide_type": "slide"
    },
    "tags": []
   },
   "source": [
    "What if we want to process many job ads at once? Use our batch processing function."
   ]
  },
  {
   "cell_type": "markdown",
   "id": "b4cffd2e-1259-49da-9e12-6e132434f6fa",
   "metadata": {
    "editable": true,
    "slideshow": {
     "slide_type": "subslide"
    },
    "tags": []
   },
   "source": [
    "Let's first load in a large file of job ad \"sentences\"."
   ]
  },
  {
   "cell_type": "code",
   "execution_count": 7,
   "id": "540f675c-9cbb-49d4-a114-0c99b37b780a",
   "metadata": {
    "editable": true,
    "slideshow": {
     "slide_type": "subslide"
    },
    "tags": []
   },
   "outputs": [
    {
     "data": {
      "text/plain": [
       "27710"
      ]
     },
     "execution_count": 7,
     "metadata": {},
     "output_type": "execute_result"
    }
   ],
   "source": [
    "with open(\"./data/demo/TaskMatch/sample_job_ads_in_line.csv\", 'r') as f:\n",
    "    sentences = [x.strip() for x in f.readlines()]\n",
    "len(sentences)"
   ]
  },
  {
   "cell_type": "markdown",
   "id": "d045b291-d74b-46d6-9602-8682c5dddf16",
   "metadata": {
    "editable": true,
    "slideshow": {
     "slide_type": "slide"
    },
    "tags": []
   },
   "source": [
    "Let's look at a couple samples."
   ]
  },
  {
   "cell_type": "code",
   "execution_count": 8,
   "id": "0e9b630e-3dc5-4fd5-b197-ce5297d17f77",
   "metadata": {
    "editable": true,
    "slideshow": {
     "slide_type": "subslide"
    },
    "tags": []
   },
   "outputs": [
    {
     "data": {
      "text/plain": [
       "'Pack luggage for travel and move bags to the proper place.'"
      ]
     },
     "execution_count": 8,
     "metadata": {},
     "output_type": "execute_result"
    }
   ],
   "source": [
    "sentences[1]"
   ]
  },
  {
   "cell_type": "code",
   "execution_count": 9,
   "id": "ca08f8f1-6a77-4a78-a9ec-05e775b3b1d5",
   "metadata": {
    "editable": true,
    "slideshow": {
     "slide_type": "subslide"
    },
    "tags": []
   },
   "outputs": [
    {
     "data": {
      "text/plain": [
       "'Play with dogs.'"
      ]
     },
     "execution_count": 9,
     "metadata": {},
     "output_type": "execute_result"
    }
   ],
   "source": [
    "sentences[11]"
   ]
  },
  {
   "cell_type": "code",
   "execution_count": 10,
   "id": "30b732e6-b606-4b9a-b559-57811e070ed3",
   "metadata": {
    "editable": true,
    "slideshow": {
     "slide_type": "subslide"
    },
    "tags": []
   },
   "outputs": [
    {
     "data": {
      "text/plain": [
       "'Participate in the call back of service requests to monitor resident satisfaction.'"
      ]
     },
     "execution_count": 10,
     "metadata": {},
     "output_type": "execute_result"
    }
   ],
   "source": [
    "sentences[111]"
   ]
  },
  {
   "cell_type": "markdown",
   "id": "7e5040ea-374e-40a5-b5bb-d4a5e8c3bef2",
   "metadata": {
    "editable": true,
    "slideshow": {
     "slide_type": "slide"
    },
    "tags": []
   },
   "source": [
    "Let's first see how long it would take to process these texts sequentially."
   ]
  },
  {
   "cell_type": "code",
   "execution_count": 11,
   "id": "602f46c1-dbfc-4c94-901f-5d32ee5616d9",
   "metadata": {
    "editable": true,
    "slideshow": {
     "slide_type": "subslide"
    },
    "tags": []
   },
   "outputs": [
    {
     "data": {
      "application/vnd.jupyter.widget-view+json": {
       "model_id": "16d96c6aa5c64497ac7ba1a5a08c7f18",
       "version_major": 2,
       "version_minor": 0
      },
      "text/plain": [
       "  0%|          | 0/27 [00:00<?, ?it/s]"
      ]
     },
     "metadata": {},
     "output_type": "display_data"
    },
    {
     "name": "stderr",
     "output_type": "stream",
     "text": [
      "/home/sjmeis/.local/lib/python3.10/site-packages/transformers/pipelines/base.py:1123: UserWarning: You seem to be using the pipelines sequentially on GPU. In order to maximize efficiency please use a dataset\n",
      "  warnings.warn(\n"
     ]
    },
    {
     "name": "stdout",
     "output_type": "stream",
     "text": [
      "2736.9091510772705\n"
     ]
    }
   ],
   "source": [
    "start = time.time()\n",
    "for t in tqdm(sentences[:int(len(sentences)/1000)]):\n",
    "    res = TM.get_tasks(t)\n",
    "end = time.time() - start\n",
    "print(end*1000)"
   ]
  },
  {
   "cell_type": "markdown",
   "id": "de5139ff-f456-497d-886f-ee3ddda2746a",
   "metadata": {
    "editable": true,
    "slideshow": {
     "slide_type": "slide"
    },
    "tags": []
   },
   "source": [
    "And now using our batch processing..."
   ]
  },
  {
   "cell_type": "code",
   "execution_count": 12,
   "id": "98fc25d2-9ae9-491b-b82f-bd0d3088e760",
   "metadata": {
    "editable": true,
    "slideshow": {
     "slide_type": "subslide"
    },
    "tags": []
   },
   "outputs": [
    {
     "name": "stdout",
     "output_type": "stream",
     "text": [
      "6.258026599884033\n"
     ]
    }
   ],
   "source": [
    "start = time.time()\n",
    "res = TM.get_tasks_batch(sentences)\n",
    "end = time.time() - start\n",
    "print(end)"
   ]
  },
  {
   "cell_type": "markdown",
   "id": "b1013e63-a2b7-490d-a5fe-f9cdff204062",
   "metadata": {
    "editable": true,
    "slideshow": {
     "slide_type": "subslide"
    },
    "tags": []
   },
   "source": [
    "Much faster!"
   ]
  },
  {
   "cell_type": "markdown",
   "id": "162845ad-f46d-483d-926f-4569713b010a",
   "metadata": {
    "editable": true,
    "slideshow": {
     "slide_type": "slide"
    },
    "tags": []
   },
   "source": [
    "Finally, the output tasks matches for our three examples:"
   ]
  },
  {
   "cell_type": "code",
   "execution_count": 13,
   "id": "f011d990-1926-4c6f-a056-9b29f5af12f2",
   "metadata": {
    "editable": true,
    "slideshow": {
     "slide_type": "subslide"
    },
    "tags": []
   },
   "outputs": [
    {
     "name": "stdout",
     "output_type": "stream",
     "text": [
      "[('3151', 'Load and unload baggage in baggage compartments.')]\n"
     ]
    }
   ],
   "source": [
    "pprint(res[1], width=150)"
   ]
  },
  {
   "cell_type": "code",
   "execution_count": 14,
   "id": "386735f3-a6d1-4d39-8fe3-efa3964474c1",
   "metadata": {
    "editable": true,
    "slideshow": {
     "slide_type": "subslide"
    },
    "tags": []
   },
   "outputs": [
    {
     "name": "stdout",
     "output_type": "stream",
     "text": [
      "[('4321', 'Exercise animals or provide them with companionship.')]\n"
     ]
    }
   ],
   "source": [
    "pprint(res[11], width=150)"
   ]
  },
  {
   "cell_type": "code",
   "execution_count": 15,
   "id": "5292ce0b-9400-4205-9e0d-c4adf904677b",
   "metadata": {
    "editable": true,
    "slideshow": {
     "slide_type": "subslide"
    },
    "tags": []
   },
   "outputs": [
    {
     "name": "stdout",
     "output_type": "stream",
     "text": [
      "[]\n"
     ]
    }
   ],
   "source": [
    "pprint(res[111], width=150)"
   ]
  },
  {
   "cell_type": "markdown",
   "id": "85f00e8a-e6ad-4b0d-89c8-5b7b76d52a5e",
   "metadata": {
    "editable": true,
    "slideshow": {
     "slide_type": "slide"
    },
    "tags": []
   },
   "source": [
    "# Matching Titles from Job Ad Titles"
   ]
  },
  {
   "cell_type": "markdown",
   "id": "9d23be4d-26f3-4bc9-a14c-c7526235e946",
   "metadata": {
    "editable": true,
    "slideshow": {
     "slide_type": "slide"
    },
    "tags": []
   },
   "source": [
    "What if we want to match job titles found in job ads with those established in the O*NET framework? Use our tool!"
   ]
  },
  {
   "cell_type": "code",
   "execution_count": 16,
   "id": "312cc7a1-862f-4a1b-967b-ca1357fd08bf",
   "metadata": {
    "editable": true,
    "slideshow": {
     "slide_type": "subslide"
    },
    "tags": []
   },
   "outputs": [
    {
     "name": "stdout",
     "output_type": "stream",
     "text": [
      "INIT\n",
      "Loading data...\n",
      "Preparing embeddings...\n"
     ]
    },
    {
     "data": {
      "application/vnd.jupyter.widget-view+json": {
       "model_id": "a37e80c5d8914edebc14270d41b1e2d5",
       "version_major": 2,
       "version_minor": 0
      },
      "text/plain": [
       "Batches:   0%|          | 0/1424 [00:00<?, ?it/s]"
      ]
     },
     "metadata": {},
     "output_type": "display_data"
    }
   ],
   "source": [
    "from JAAT import TitleMatch\n",
    "TiM = TitleMatch()"
   ]
  },
  {
   "cell_type": "markdown",
   "id": "1ebafb57-8eae-4287-8c3d-ac0f70e619af",
   "metadata": {
    "editable": true,
    "slideshow": {
     "slide_type": "slide"
    },
    "tags": []
   },
   "source": [
    "Now let's load of a sample of titles."
   ]
  },
  {
   "cell_type": "code",
   "execution_count": 17,
   "id": "8b93be8e-1280-4471-a17b-4a7e2b754cdc",
   "metadata": {
    "editable": true,
    "slideshow": {
     "slide_type": "subslide"
    },
    "tags": []
   },
   "outputs": [
    {
     "data": {
      "text/plain": [
       "0                                     SBA Loan Associate\n",
       "1                                         Credit Analyst\n",
       "2                              Scientist, Lead Discovery\n",
       "3                                   Maintenance Director\n",
       "4                                             Engineer I\n",
       "                             ...                        \n",
       "985                 $1500 Signing Bonus Home Health Aide\n",
       "986    Home Health Aide - Home Health - New River Val...\n",
       "987                                     Home Health Aide\n",
       "988                                     Home Health Aide\n",
       "989                          Medical Lab Technician/UKHC\n",
       "Name: job_title, Length: 990, dtype: object"
      ]
     },
     "execution_count": 17,
     "metadata": {},
     "output_type": "execute_result"
    }
   ],
   "source": [
    "data = pd.read_excel(\"data/demo/TitleMatch/JobAdsData2022_OSF.xlsx\")\n",
    "data.job_title"
   ]
  },
  {
   "cell_type": "code",
   "execution_count": 18,
   "id": "415b1990-725b-4d9f-8cf0-59cafe5eea17",
   "metadata": {
    "editable": true,
    "slideshow": {
     "slide_type": "slide"
    },
    "tags": []
   },
   "outputs": [
    {
     "data": {
      "text/plain": [
       "'Operations Engineer'"
      ]
     },
     "execution_count": 18,
     "metadata": {},
     "output_type": "execute_result"
    }
   ],
   "source": [
    "data.job_title[42]"
   ]
  },
  {
   "cell_type": "code",
   "execution_count": 19,
   "id": "27ead0b0-2a69-474d-83fc-fcaede541455",
   "metadata": {
    "editable": true,
    "slideshow": {
     "slide_type": "subslide"
    },
    "tags": []
   },
   "outputs": [
    {
     "data": {
      "text/plain": [
       "'ESL Processing Operator'"
      ]
     },
     "execution_count": 19,
     "metadata": {},
     "output_type": "execute_result"
    }
   ],
   "source": [
    "data.job_title[123]"
   ]
  },
  {
   "cell_type": "markdown",
   "id": "41bb44ba-91bc-4f74-a20a-e45a85635a20",
   "metadata": {
    "editable": true,
    "slideshow": {
     "slide_type": "slide"
    },
    "tags": []
   },
   "source": [
    "We can use TitleMatch to match a single text:"
   ]
  },
  {
   "cell_type": "code",
   "execution_count": 20,
   "id": "a0e159ee-18bc-4579-8e80-1d9c75038af5",
   "metadata": {
    "editable": true,
    "slideshow": {
     "slide_type": "subslide"
    },
    "tags": []
   },
   "outputs": [
    {
     "data": {
      "application/vnd.jupyter.widget-view+json": {
       "model_id": "227e2dce1d4842cbb6ad99c119e5e8c8",
       "version_major": 2,
       "version_minor": 0
      },
      "text/plain": [
       "Batches:   0%|          | 0/1 [00:00<?, ?it/s]"
      ]
     },
     "metadata": {},
     "output_type": "display_data"
    },
    {
     "data": {
      "text/plain": [
       "[('Operations Engineer', '17-2112.00', 1.0)]"
      ]
     },
     "execution_count": 20,
     "metadata": {},
     "output_type": "execute_result"
    }
   ],
   "source": [
    "TiM.get_title(data.job_title[42])"
   ]
  },
  {
   "cell_type": "code",
   "execution_count": 21,
   "id": "3df44afa-f5c8-40b2-9e34-2353286f56fe",
   "metadata": {
    "editable": true,
    "slideshow": {
     "slide_type": "subslide"
    },
    "tags": []
   },
   "outputs": [
    {
     "data": {
      "application/vnd.jupyter.widget-view+json": {
       "model_id": "8fe40f2713634100b0d7bf5571dcd90e",
       "version_major": 2,
       "version_minor": 0
      },
      "text/plain": [
       "Batches:   0%|          | 0/1 [00:00<?, ?it/s]"
      ]
     },
     "metadata": {},
     "output_type": "display_data"
    },
    {
     "data": {
      "text/plain": [
       "[('Processing Operator', '51-3091.00', 0.943)]"
      ]
     },
     "execution_count": 21,
     "metadata": {},
     "output_type": "execute_result"
    }
   ],
   "source": [
    "TiM.get_title(data.job_title[123])"
   ]
  },
  {
   "cell_type": "markdown",
   "id": "c22e7f91-9c0a-4238-a7f0-d9ec3388962c",
   "metadata": {
    "editable": true,
    "slideshow": {
     "slide_type": "slide"
    },
    "tags": []
   },
   "source": [
    "Use the same function to process a list of job titles all at once!"
   ]
  },
  {
   "cell_type": "code",
   "execution_count": 22,
   "id": "7332bad2-1e08-4991-9ab4-4842622133d8",
   "metadata": {
    "editable": true,
    "slideshow": {
     "slide_type": "subslide"
    },
    "tags": []
   },
   "outputs": [
    {
     "data": {
      "application/vnd.jupyter.widget-view+json": {
       "model_id": "874aa9048d4b4164b32ec75870b8f9cd",
       "version_major": 2,
       "version_minor": 0
      },
      "text/plain": [
       "Batches:   0%|          | 0/31 [00:00<?, ?it/s]"
      ]
     },
     "metadata": {},
     "output_type": "display_data"
    }
   ],
   "source": [
    "results = TiM.get_title(data.job_title.to_list())"
   ]
  },
  {
   "cell_type": "markdown",
   "id": "e6d1a195-028f-4a85-892f-94eebaa6126b",
   "metadata": {
    "editable": true,
    "slideshow": {
     "slide_type": "slide"
    },
    "tags": []
   },
   "source": [
    "Looking at a random sample of 10 results..."
   ]
  },
  {
   "cell_type": "code",
   "execution_count": 23,
   "id": "bca70efa-92ed-4556-b60a-ab7c684a2910",
   "metadata": {
    "editable": true,
    "slideshow": {
     "slide_type": "subslide"
    },
    "tags": []
   },
   "outputs": [
    {
     "name": "stdout",
     "output_type": "stream",
     "text": [
      "{'DevSecOps Solutions Architect': ('Solutions Architect', '15-1241.00', 0.909),\n",
      " 'Digital Technology Architect, Pharma': ('Informatics Pharmacist', '15-1211.01', 0.901),\n",
      " 'Family Nurse Practitioner - Cherry Hill, NJ Area Locations': ('Family Health Nurse Practitioner', '29-1171.00', 0.885),\n",
      " 'Firmware Engineer (Features / Embedded Systems / Product Software), Bachelors (Meraki)': ('Firmware Engineer', '15-1299.07', 0.932),\n",
      " 'Loan Servicing Admin I': ('Loan Administrator', '13-2072.00', 0.923),\n",
      " 'Salesforce Analyst/Developer': ('Salesforce Developer', '15-1211.00', 0.963),\n",
      " 'Software Architect Fellow': ('Software Architect', '15-1252.00', 0.944),\n",
      " 'Sr Accounting Specialist': ('Accounting Specialist', '43-3031.00', 0.949),\n",
      " 'Visiting Assistant Professor in Sociology': ('Sociology Professor', '25-1067.00', 0.942),\n",
      " 'Web Design Art Director': ('Digital Art Director', '27-1011.00', 0.936)}\n"
     ]
    }
   ],
   "source": [
    "d = dict(zip(data.job_title, results))\n",
    "pprint({k:d[k] for k in random.sample(sorted(d), k=10)}, width=150)"
   ]
  },
  {
   "cell_type": "markdown",
   "id": "0616790b-3ffe-407e-b37b-84cba2709d5b",
   "metadata": {
    "editable": true,
    "slideshow": {
     "slide_type": "slide"
    },
    "tags": []
   },
   "source": [
    "# Extracting Firm Names from Text Documents"
   ]
  },
  {
   "cell_type": "markdown",
   "id": "c5c9dab2-bde3-4713-8332-27ede6136484",
   "metadata": {
    "editable": true,
    "slideshow": {
     "slide_type": "slide"
    },
    "tags": []
   },
   "source": [
    "Using FirmExtract, we can efficiently extract firm names from text documents, be it job ads or other documents."
   ]
  },
  {
   "cell_type": "code",
   "execution_count": 24,
   "id": "0792b020-2aed-41e4-9a09-95cab732f574",
   "metadata": {
    "editable": true,
    "slideshow": {
     "slide_type": "subslide"
    },
    "tags": []
   },
   "outputs": [
    {
     "name": "stdout",
     "output_type": "stream",
     "text": [
      "INIT\n"
     ]
    },
    {
     "name": "stderr",
     "output_type": "stream",
     "text": [
      "/home/sjmeis/.local/lib/python3.10/site-packages/torch/_utils.py:831: UserWarning: TypedStorage is deprecated. It will be removed in the future and UntypedStorage will be the only storage class. This should only matter to you if you are using storages directly.  To access UntypedStorage directly, use tensor.untyped_storage() instead of tensor.storage()\n",
      "  return self.fget.__get__(instance, owner)()\n"
     ]
    }
   ],
   "source": [
    "from JAAT import FirmExtract\n",
    "FE = FirmExtract()"
   ]
  },
  {
   "cell_type": "markdown",
   "id": "f4dce7cd-fa28-414e-89fd-d2654338b200",
   "metadata": {
    "editable": true,
    "slideshow": {
     "slide_type": "slide"
    },
    "tags": []
   },
   "source": [
    "Now let's load a sample of 10 franchise documents, found in our demo data folder."
   ]
  },
  {
   "cell_type": "code",
   "execution_count": 25,
   "id": "b0cab2f2-84cd-4e16-8b84-af432f71a9cb",
   "metadata": {
    "editable": true,
    "slideshow": {
     "slide_type": "subslide"
    },
    "tags": []
   },
   "outputs": [
    {
     "data": {
      "text/plain": [
       "10"
      ]
     },
     "execution_count": 25,
     "metadata": {},
     "output_type": "execute_result"
    }
   ],
   "source": [
    "texts = []\n",
    "for file in Path(\"data/demo/FirmExtract/\").glob(\"*\"):\n",
    "    with open(file, 'r') as f:\n",
    "        texts.append(f.read().strip())\n",
    "len(texts)"
   ]
  },
  {
   "cell_type": "markdown",
   "id": "3063c0e9-bdce-4a66-86b1-9cd04c0b07eb",
   "metadata": {
    "editable": true,
    "slideshow": {
     "slide_type": "slide"
    },
    "tags": []
   },
   "source": [
    "Let's focus on one document first:"
   ]
  },
  {
   "cell_type": "code",
   "execution_count": 26,
   "id": "0df7656f-cae3-4693-866a-a76d936680d9",
   "metadata": {
    "editable": true,
    "slideshow": {
     "slide_type": "subslide"
    },
    "tags": []
   },
   "outputs": [
    {
     "data": {
      "text/plain": [
       "'received zou february am department or business oversight san francisco franchise disclosure document togo franchisor llc delaware limited liability company north san pedro street san jose california franchisesales togos.com the franchise offered is for the operation of a togo restaurant which will offer specialty sandwiches and related food and beverage items. the total investment necessary to begin operation of a togo restaurant is from to. this includes to which must be paid to us or our affiliates. this disclosure document summarizes certain provisions of your franchise agreement and other information in plain english. read this disclosure document and all accompanying agreements carefully. you must receive this disclosure document at least calendar days before you sign a binding agreement with or make any payment to us or an affiliate in connection with the proposed franchise sale. note however that no government agency has verified the information contained in this document. the terms of your contract will govern your franchise relationship. don rely on the disclosure document alone to understand your contract. read all of your contract carefully. show your contract and this disclosure document to an advisor like a lawyer or accountant. you may wish to receive your disclosure document in another format that is more convenient for you. to discuss the availability of disclosures in different formats contact the togo franchise development department at north san pedro street san jose california telephone. buying a franchise is a complex investment. the information in this disclosure document can help you make up your mind. more information on franchising such as consumer guide to buying a franchise which can help you understand how to use this disclosure document is available from the federal trade commission. you can contact the ftc at ftc help or by writing to the ftc at pennsylvania avenue north-west washington district of columbia you can also visit the ftc home page at for additional information on franchising. there may also be laws on franchising in your state. ask your state agencies about them. issuance date april as amended november dms.us. state cover page your state may have a franchise law that requires a franchisor to register or file with a state franchise administrator before offering or selling in your state. registration of franchise by state does not mean that the state recommends the franchise or has verified the information in this disclosure document. call the state franchise administrator listed in exhibit for information about the franchisor about other franchisors or about franchising in your state. many franchise agreements do not allow you to renew unconditionally after the initial term expires. you may have to sign new agreement with different terms and conditions in order to continue to operate your business. before you buy consider what rights you have to renew your franchise if any and what terms you might have to accept in order to renew. please consider the following risk factors before you buy this franchise the franchise agreement states that california law governs the agreement and this law may not provide the same protections and benefits of local law. even though the franchise agreement provides that california applies local law may supersede it in your state. please refer to exhibit for details. the franchise agreement requires that all disagreements be arbitrated or litigated in san jose california. it may cost more to arbitrate or litigate with us in san jose california than in your home state. we may use the services of one or more franchise brokers or referral sources to assist us in selling our franchise. franchise broker or referral source represents us not you. we pay this person a fee for selling our franchise or referring you to us. you should be sure to do your own investigation of this franchise. see next page for effective dates. dms.us. state effective dates the following states require that the franchise disclosure document be registered or filed with the state or be exempt from registration california hawaii illinois indiana maryland michigan minnesota new york north dakota rhode island south dakota virginia washington and wisconsin. this franchise disclosure document is registered on file or exempt from registration in the following states having franchise registration and disclosure laws with the following effective dates. california may as amended washington april as amended dms.us. table of contents item description page item the franchisor and any parents predecessors and affiliates. item business experience. item litigation. item bankruptcy. item initial fees. item other fees. item estimated initial investment. item restrictions on sources of products and services. item franchisee obligations. item financing. item franchisor assistance advertising computer systems and training. item territory. item trademarks. item patents copyrights and proprietary information. item obligation to participate in the actual operation of the franchise business. item restrictions on what the franchisee may sell. item renewal termination transfer and dispute resolution. item public figures. item financial performance representations. item outlets and franchisee information. item financial statements. item contracts. item receipts. exhibits exhibit list of state administrators and agents for service of process exhibit franchise agreement exhibit restaurant development agreement exhibit sublease exhibit addendum to lease exhibit loan documents exhibit financial statements exhibit table of contents of operations manual exhibit list of franchisees exhibit state specific addenda exhibit temporary operating agreement exhibit confidentiality agreement exhibit deposit agreement exhibit training materials license agreement exhibit transfer rider exhibit receipts dms.us. item the franchisor and any parents predecessors and affiliates the franchisor is togo franchisor llc. our agents to receive service of process are disclosed on exhibit. to simplify the language in this disclosure document and as noted above we or us means togo franchisor llc. please note that none of the terms that describe us include our employees officers directors or shareholders. the term you means the person corporation limited liability company partnership or other legal entity that is granted the franchise. the term you does include all of the shareholders officers and directors of a franchisee corporation or all of the partners of a franchisee partnership or all of the members of a franchisee limited liability company. in this disclosure document parts of agreements you may have to sign may only be cross referenced or summarized. you should read this disclosure document and all agreements fully and carefully to understand the parties rights and obligations. we are a delaware limited liability company that was formed on november. our principal business address is north san pedro street san jose california telephone. we are a wholly owned subsidiary of togo holdings llc holdings which is a delaware limited liability company. in addition to being our parent company holdings is our managing member. holdings principal business address is california street road floor san francisco california. holdings also owns togo eateries incorporated eateries which in turn owns togo franchised eateries llc tfe and owns togo restaurants llc restaurants. our affiliate eateries provides initial and ongoing support services to togo franchisees. tfe and eateries own the trademarks. our affiliate restaurants was formed in march to own and operate togo restaurants. we have several predecessors. allied domecq plc allied acquired the togo eateries chain indiana at that time allied also owned and franchised the dunkin donuts and baskin robbins brands. on july pernod ricard. acquired allied domecq plc. pernod ricard. was primarily engaged in the manufacture and sale of wine and spirits with its headquarters located in paris france. on december pernod ricard. and certain subsidiaries of allied domecq plc entered into an agreement to sell allied domecq qsr the dunkin donuts baskin robbins and togo systems. this sale occurred on march at which time dunkin brands incorporated dbi was formed. subsidiary of dbi togo franchising llc franchising served as the franchisor of the togo system from march until november. on november holdings acquired the stock of eateries from dbi. eateries franchised togo restaurants from until march and is still the franchisor under the franchise agreements signed during that period. as disclosed above franchising franchised togo restaurants from march until november. in november franchising assigned to tfe its existing franchise agreements and tfe offered togo franchises from march until february. we have been offering togo franchises since february. we have not offered franchises in other lines of business and we have not operated togo restaurants. dms.us. the togo franchise we grant to qualified franchisees the right to develop and operate a togo restaurant at a specific location. the franchise agreement authorizes you to use the togo trade name and service mark the marks in connection with the operation of a togo restaurant and permits you to use our distinctive identity trade dress methods and system. togo restaurant is a distinctive food service facility based upon a specific and distinctive family of specialty sandwiches and related food and beverage items. except as noted in the next paragraph the franchise agreement is limited to a single specific location. in certain markets we permit development by franchisees of togo restaurants under a restaurant development agreement the rda. the restaurants will be in a number determined by us within a specified area established by us. the rda program and the markets in which it is offered may change without notice. your market is the general public. your competition includes many national regional and local businesses offering similar products and services. you may also compete with other existing togo restaurants and with new togo restaurants that we may operate franchise or license in the future. your competition may also include other outlets selling similar products supermarkets convenience restaurants and specialty sandwich restaurants. competition.may also include togo products sold through other channels of distribution such as supermarket sales the internet and other venues. there is also competition for suitable restaurant locations. principal factors that will vary but that will impact our brand competitive position are name recognition which is stronger in some regions than in others product quality variety restaurant appearance location and advertising. we reserve the right to change supplement and further develop the togo system. licenses and regulations laws exist in every state that govern the food service industry including health sanitation and safety regulations regarding food storage preparation and safety. you must comply with these laws and other laws that apply to businesses generally. in addition to laws and regulations that apply to businesses generally your restaurant will be subject to various federal state and local government regulations including those relating to site location and building construction such as the americans with disabilities act storage preparation and sale of food products including meat products and health sanitation and safety regulations relating to food service. it is your sole responsibility to obtain and keep in force all necessary licenses and permits required by public authorities and to comply with all pci payment card industry data security standards. government contracts. government contractor laws typically apply if you sell products on united states armed forces bases or at other government facilities. these laws may include wage and hour restrictions preparation and maintenance of written affirmative action plans retention and access of records special procedures for resolving contractual disputes listing employment openings with state employment services and termination of the contract for default or for the convenience of the government. you should carefully review these requirements with your own attorney before entering into any government contracts. dms.us. item business experience anthony. gioia ceo and chairman mister gioia has served as ceo and chairman of holdings and of eateries since december and as our ceo and chairman since november. from october until november he was self employed dba gioia capital group in the private equity investment business in phoenix arizona. mister gioia also served as ceo as an independent consultant contractor for robeks corporation in manhattan beach california from march until october. from april until july he served as ceo of tully coffee corporation in seattle washington. renae scott vice president branding and marketing for eateries mississippi scott has been vice president of branding and marketing since december. from september until april she served as the chief marketing officer for round table pizza incorporated located in concord california. from july until september mississippi scott served as the vice president of marketing for cke restaurants incorporated located in carpinteria california. susan koch vice president of finance of eateries mississippi koch has been vice president of finance of eateries since january. from march imtil january she was director of finance of eateries. from january until march she served as finance manager for allied domecq qsr in canton massachusetts. todd. peterson vice president of franchise sales of eateries mister peterson has been vice president of franchise sales of eateries since june. from january until june he was an independent franchise sales agent for cici enterprises lp in coppell texas. mister peterson was vice president of franchise development for sizzler united states of america usa or incorporated in culver city california from may until december. from december until may he was director of franchise sales for damon international incorporated in columbus ohio. rand. ferris vice president of restaurant operations of eateries mister ferris has served as vice president of restaurant operations of eateries since january. from january imtil january he was self employed as a restaurant retail and service consultant in canyon county california. mister ferris was vice president of franchise operations for ihop in glendale louisiana from may until august. kim rogers franchise development manager of eateries mississippi rogers has served as franchise development manager of eateries since september. from june to september she was manager franchise development sales for round table franchise corporation in concord california. dms.us. kimberly bryant franchise manager of eateries mississippi bryant has been our franchise manager of eateries since november. from september until october she served as franchise service manager of eateries. mike shurm director of supply chain of eateries mister shurm has been the director of supply chain of eateries since december. from november until november he served as franchise service manager for eateries. from july until november he was area general manager for sodexho united states of america usa or in san ramon california. item litigation pending matters.robert dorian and adael incorporated vs. togo franchisor llc and does through. case number british columbia filed september in superior court for the state of california for the county of los angeles. dorian is a franchisee who owns four togo restaurants. togo sent dorian notices to cure and notices of termination of the franchise agreements based upon his failure to properly pay his employees. the suit is for a temporary restraining order and preliminary injunction enjoining the terminations and for damages of at least. dorian alleges attempted wrongful termination and violation of the california franchise relations act. there is a companion arbitration proceeding involving the same parties and issues. the temporary restraining order was granted on september and the hearing on the preliminary injunction was scheduled for october. the parties agreed to stay the preliminary injunction hearing until such time as they are able to arbitrate the issues. the lawsuit and the arbitration matter are in the pre trial stage. concluded matters under us randeb enterprises llc randei jenkins and deborah jenkins. togo eateries incorporated togo franchised eateries llc jeff sweetman and does to. case number cubic bt ctl filed on august in the superior court for san diego county california. randeb was a franchisee who operated a togo restaurant in san diego. togo eateries incorporated and togo franchised eateries llc both served as the franchisor of the togo concept as described in item. jeff sweetman is director of operations for southern california. randeb attempted to transfer its franchise several times from through. none of the transfers were completed due to togo non approval in certain situations and due to other factors in other situations. randeb alleged that togo failure to approve the transfers and its imposition of certain requirements as a condition to transfer were wrongful. randeb alleged fraud in the inducement by representing that there would be no unreasonable restraints on the ability to transfer intentional interference with contractual relationships negligent misrepresentations negligent interference with contractual economic relations and breach of the covenant of good faith and fair dealing. this matter was settled in november. randeb sold the restaurant to another togo franchisee and eateries paid randeb. dms.us. abh food corporation. togo franchised eateries llc togo holdings llc togo eateries incorporated baskin robbins franchising llc baskin robbins united states of america usa or colorado bunkin donuts franchising llc dunkin donuts incorporated and does. case number filed on november in the superior court for orange county california. abridged is a franchisee who operates a combined baskin robbins togo restaurant. abridged purchased the restaurant from another franchisee. abridged allegations were based on it having to remove certain signage because the signage was in violation of a city ordinance. abridged alleged that the defendants knew the signage was not permitted but did not inform abridged of this before abridged purchased the restaurant and signed the franchise agreement. abridged alleged violation of the california franchise investment law fraud and concealment negligent misrepresentation violation of unfair competition law and breach of covenant of good faith and fair dealing. abridged sought an imspecified amount of compensation damages and prestaurantive damages rescission other equitable relief costs and attorneys fees. this suit settled in october. togo holdings and alicia center each agreed to pay and abridged agreed to dismiss the suit upon receipt of such payments. concluded matters under our predecessors qsr management incorporated togo incorporated tony gioia and does through. civil action number cove filed on november in the superior court for the county of san bernardino california. on january the case was removed to federal court usdc central district of california case number edcv vap opx. qsr is a franchisee who operates a combined togo and baskin robbins restaurant and togo incorporated is a predecessor of ours. qsr allegations arose out of his attempted transfer of the restaurant and the handling of the proposed transfer. qsr alleged breach of the franchise agreement breach of fiduciary duty intentional or negligent misrepresentation and interference with contract. this suit was settled and the case was dismissed in november. the settlement provides that tfe will permit qsr to locate a new togo restaurant in california subject to site approval and enter into a new franchise agreement without payment of an initial franchise fee and tfe paid qsr. zahava group incorporated et alabama togo eateries incorporated allied domecq plc allied domecq retailing united states of america usa or allied domecq retailing international and does to. case number gic filed in the superior court of the state of california county of san diego. on may a togo franchisee zahava group incorporated on behalf of itself and purportedly on behalf of other franchisees and former franchisees making up the class of individuals and entities described in the complaint sought damages and injunctive relief for the following alleged acts by eateries and other defendants allied domecq is a predecessor parent among others restricting plaintiff right to purchase through a buying cooperative at lower prices the same goods and products required by defendants to be purchased from approved vendors and suppliers improperly marking up goods sold to its franchisees through a master distributor improperly using advertising money for purposes other than advertising wrongfully receiving and applying a rebate bonus from a beverage supplier charging and concealing excess prices for food products and paper goods developing restaurants too close to existing restaurants conducting unreasonable restaurant inspections and improperly requiring new franchise agreements with greater commissions and advertising costs to be signed. after failing to have the action certified as a class action plaintiff amended the complaint to add current togo franchisees as individual plaintiffs. plaintiffs brought claims for breach of contract breach of fiduciary duty declaratory and injunctive relief conversion unfair fraudulent or deceptive business practices breach of implied covenant of good faith and fair dealing violation of cartwright act price fixing violation of cartwright act boycott violation of cartwright act unlawful tying fraudulent concealment and a claim under the racketeering influenced corrupt organization act. plaintiffs dms.us. sought declaratory and injunctive relief and compensatory and prestaurantive damages on all claims in a combined amount of over million dollars trebled as provided by law plus prestaurantive damages in an amount to be proven at trial and attorneys fees and costs. in june in lieu of proceeding to trial the court mediated a settlement between the parties in which eateries agreed to repurchase some of plaintiffs restaurants for market value required others to be sold extended the franchise term of some of the restaurants to facilitate sale waived some transfer fees upon sale and allowed some restaurants to close and delaware identify. national association of quick service restaurants incorporated togo eateries incorporated allied domecq plc allied domecq retailing united states of america usa or and does to. case number gic filed in the superior court of the state of california county of san diego. on april an association of togo franchisees located primarily in california brought this lawsuit against eateries and the other defendants seeking damages in excess of million dollars as well as injunctive and declaratory relief. plaintiff was a purported purchasing cooperative that was created for the purpose of purchasing togo products directly from approved suppliers at separately negotiated prices. plaintiff brought claims for intentional interference with prospective economic advantage unfair fraudulent or deceptive business practices and declaratory and injunctive relief. in essence plaintiff alleged that togo and its vendors have conspired to fix the price of supplies to the franchisees and refused to permit the franchisees to negotiate directly with vendors for the purchase of togo products. plaintiff further alleged among other things that togo received impermissible rebates from vendors without using such rebates to decrease the cost of goods sold for its member franchisees. this matter was settled with and along the same terms the above described case of zahava group incorporated et alabama togo eateries incorporated etal. case number gic. togo incorporated michael. cobler mtc management incorporated mtc restaurant group incorporated togo eateries incorporated allied domecq north america corporation incorporated civil action number cove filed in the united states district court for the western district of michigan northern division. on april togo incorporated a michigan corporation the owner of two sandwich shops in the upper peninsula of michigan filed an action against eateries its predecessor and related parties for unfair competition and trademark infringement under state federal and common law unfair trade practices under michigan law tortious interference with a business expectancy under michigan law and fraud in the united states patent and trademark office. plaintiff alleged that it was the first to use the togo trademark for a sandwich shop that defendants and or its predecessors in title to the togo trademark were aware of plaintiff prior rights and therefore were infringing on plaintiff trademark rights. plaintiff sought cancellation of the defendants federal trademark registrations an injunction against use of the togo trademark the costs of the action reasonable attorneys fees and compensatory damages and profits trebled as provided by law. on april the case was settled at mediation. togo agreed to pay to plaintiff and recognize plaintiff ownership rights in a michigan state trademark registration for togo in the upper peninsula of michigan only. plaintiff agreed that eateries is the owner of federal registrations for the trademark togo in the rest of the state of michigan and elsewhere. kelvin. mcqueen. togo eateries incorporated american arbitration association on april mister mcqueen a togo franchisee filed this arbitration claim. plaintiff entered into a togo franchise agreement in january for a restaurant located in san diego california. plaintiff claimed that his sales declined after eateries opened other togo restaurants in the restaurant vicinity. plaintiff further claimed that the demographics for his restaurant at the time of purchase did not meet togo own minimum standards and that fact was not disclosed to plaintiff. plaintiff made the following claims fraudulent concealment negligent misrepresentation failure to disclose breach dms.us. of the implied covenant of good faith and fair dealing violation of the california franchise investment law and violation of the california unfair competition law. plaintiff sought compensatory damages in an amount to be determined and reasonable attorneys fees and costs. on august the arbitrator in this matter found for eateries on all counts and awarded the franchisee nothing on his claims. motion for reconsideration was filed and denied by the arbitrator. no appeal has been filed. daniel. collins as chapter trustee chairman of southwest supermarkets llc. anthony gioia and jane doe gioia. united states bankruptcy court district of arizona case. nos. through adversary proceeding number mister gioia is our chairman and ceo as noted in item. neither we nor any of our predecessors or affiliates were parties to this proceeding. mister gioia formerly was the president and ceo of southwest supermarkets which filed for reorganization in november as noted in item. on november the bankruptcy trustee filed a complaint against mister and mrs. gioia alleging that the debtor southwest supermarket forgiveness of the balance of a loan to mister gioia constituted a fraudulent conveyance under the bankruptcy code and under arizona state law. in defense mister gioia asserted inter alia that the loan forgiveness was approved by the southwest supermarket board in consideration for mister gioia agreement to remain with the company despite its financial difficulties mister gioia efforts to secure and consummate the purchase of a significant portion of the debtor assets and mister gioia assistance to the debtor in its pre bankruptcy preparations. this litigation was settled on october. as part of the settlement mister gioia paid the trustee. other than the seven actions listed above no litigation is required to be disclosed in this item. item bankruptcy mister gioia our chairman and ceo was the president and ceo of southwest supermarkets llc when it filed for reorganization under chapter of the. bankruptcy code in the. bankruptcy court for the district of arizona in november case nos. through ecf cgc. all of the related bankruptcy cases were converted to chapter liquidation cases in september. in a separate adversary case filed under the southwest supermarkets llc case mister gioia was sued by the bankruptcy trustee. this litigation was settled on october. as part of the settlement mister gioia paid the trustee. kim rogers franchise development manager and her husband jose rogers filed for bankruptcy under chapter of the. bankruptcy code in the. bankruptcy court for the eastern district of california case number she was discharged of her debts in april. other than these two bankruptcy actions no bankruptcies are required to be disclosed in this item. dms.us. item initial fees initial franchise fees you must pay an initial franchise fee iff of for each location that you open. you sign a separate franchise agreement for each franchise that you buy. the iff is payable upon signing the franchise agreement. the iff is non refundable. if you buy three or more franchises at the same time you pay a reduced initial franchise fee of per restaurant which is due in a lump sum at the time you sign the franchise agreements and is non refundable. to qualify for this discount all franchises must be new franchises not purchases of an existing togo restaurant and you must meet our then current eligibility for growth standards. we also offer a vetfran discount. the iff for vets island if you are an existing togo franchisee the iff to develop a new togo restaurant island for an existing togo franchisee purchasing a new franchise the iff is payable upon signing the franchise agreement. as an option you may sign a deposit agreement. in that case the iff is payable as follows is payable upon signing the deposit agreement as attached as exhibit if applicable and the balance is due upon signing the franchise agreement. both the deposit and the balance are non refundable. the deposit agreement may be offered to new franchisees at our option. during all new franchisees paid an initial franchise fee ranging from to for locations not sold as part of a restaurant development agreement. restaurants developed under a restaurant development agreement rda in some geographic regions rdas will only be offered to those who commit to a minimum number of restaurants typically three or more restaurants. if you are purchasing an rda for more than one restaurant you will be required to make a payment upon execution of the restaurant development agreement rda fee and subsequent payments will be made upon the execution of the franchise agreement for the restaurant. if you are purchasing an rda you pay a reduced initial fee of per restaurant half of which is due in the form of the rda fee paid upon the execution of the rda and the balance of which is due at the time you sign the franchise agreement for the restaurant. none of the rda fee is refundable. if you do not remain current on your development schedule or otherwise default under the terms of the rda we have the right to terminate the rda. all restaurant development fees paid under a rda are non refundable. during the range of rdafees collected was to. refunds deposits and iff under any arrangement are not refundable to you under any circumstance. franchise revenue is recognized as certain milestones are achieved the final milestone being the restaurant opening. we similarly defer the related expenses specific to the franchise agreements primarily sales commissions. other initial payments to us grand opening marketing fee. you pay to us a non refundable grand opening marketing fee for a start up promotional program. the grand opening marketing fee is currently for a new restaurant. this fee is used to promote the opening of your restaurant. in some geographic dms.us. regions you may administer these promotional programs yourself and pay the fees to the vendors rather than to us. payment is due before you and or your designated manager attend training or days before the scheduled opening of the restaurant whichever date is earlier. referral incentives fees we may provide referral incentives to existing franchisees employees real estate professionals franchise brokers and others for qualified referrals of prospective franchisees. we may from time to time pay membership fees to public quasi public and private services who refer potential franchisees from identified groups. veterans or military personnel planning to leave the service. item other fees type of fee amount due date remarks continuing franchise fee of gross sales notes due weekly each thursday for the prior sunday to saturday note gross sales include all revenue related to the location note continuing marketing fee up to of gross sales notes due weekly each thursday for the prior sunday to saturday note currently of gross sales local advertising expenditures up to of gross sales periodically this is only payable for restaurants developed under a rda and located outside of california. see note lease fees note payable as described in the lease. only payable if you lease the restaurant from us. franchise transfer fee for a majority interest in the first years increased by compounded annually or of the adjusted sales price whichever is greater. note is payable at time purchase agreement is submitted and is payable at the closing of the transfer. due if you transfer or more interest during the first years after your purchase of the franchise. franchise transfer fee for a majority interest after years have elapsed an amount based upon the gross sales of the restaurant for the months preceding the date of the contract of sale. note is payable at time purchase agreement is submitted and is payable at the closing of the transfer. due if you transfer or more interest more than years after your purchase of the franchise. franchise transfer fee for less than a majority interest or transfer to spouse or children increased by cpi every years is payable at time purchase agreement is submitted and is payable at the closing of the transfer. due if i you transfer less than a in the franchise or a franchise interest or ii you transfer or more interest to your spouse and or one or more children. dms.us. type of fee amount due date remarks transfer fee for change in franchisee entity payable at the closing of the transfer. due if you transfer the franchise agreement to a new entity owned by you. grand opening marketing fee for transfer or relocation of restaurant payable at the closing of the transfer or upon relocation. payable by new franchisee transferee in event of transfer. payable by you in event of relocation. audit costs our cost to audit your gross sales reports including legal and accounting fees. when and as billed to you. due only if a discrepancy is discovered or if the audit is done because you did not send us or keep required records. immigration status review costs our out of pocket costs to hire attorneys or others. when and as billed to you. payable if we need outside advice on your legal or immigration status. interest late fees and collection costs the current late fee or dishonored check fee and if applicable interest on unpaid amount at. per month or highest rate allowed by law. when and as billed to you. we can change these fees without notice. they apply if you fail to pay us of if your check is dishonored or your eft is rejected by your bank. indemnification varies upon demand. you must reimburse us if we are sued and or held liable for claims arising out of your restaurant operations. rda transfer fee note upon transfer. you must transfer all your interest in the rda partial transfers are not allowed. annual training materials license fee before opening and annually thereafter. the amount will be determined annually based on our cost but will not exceed per year. past costs have been in and. additional restaurant training fee at time of training. we do not charge for training two people for a new restaurant and one person if you are buying an existing restaurant. this fee is payable on a per person basis only if you want additional people trained. this fee is also payable if you need to have new person trained to serve as your designated manager. dms.us. type of fee amount due date remarks costs for tests used to approve additional supplier our out of pocket and internal costs per hour. when and as billed to you. we will pay the cost of first test conducted by us each year. you pay the cost for any additional tests approvals that you have requested. see item. management fee varies upon demand if you do not have a qualified designated manager we have the right to provide a temporary designated manager to you and charge you for the management services until you hire a new qualified designated manager. miscellaneous varies varies see note. notes. unless otherwise stated all fees paid to us are non refundable. for restaurants you will develop under a rda you will sign the then current form of franchise agreement. your fees will be the same as the fees for new franchisees as of the date you sign the rda except for the minimum marketing fee which shall be the then current minimum if it is higher than of gross sales. if you enter into a temporary operating agreement for a restaurant see exhibit you will pay the same continuing franchise fee for that restaurant as provided for in your franchise agreement. if you enter into a rda to develop restaurants outside of california you may be required to pay up to of gross sales for approved local advertising in addition to your continuing franchise fee and continuing marketing fee. beginning in year the amount of gross sales that you are spending for various approved local advertising activities may be paid into a newly formed local advertising cooperative that we will direct and administer on your behalf. gross sales includes all revenue from the sale of all products and services and all other income of every kind and nature related to the restaurant whether for cash by redemption of gift certificates or for credit regardless of collection provided however gross sales does not include the incidental sales of gift cards or newspapers incidental receipts from pay telephones or any sales taxes or other taxes you collect from customers for transmittal to the appropriate taxing authority. we will require you to pay us by electronic funds transfer eft. you must provide us with all bank and other forms we need to set up or change eft authorization. we will also require you to report your gross sales electronically over the internet. for each week that you do so and authorize eft payment of the corresponding weekly fees we will deduct the dms.us. fees from your bank account. you must have computer equipment capable of accessing and using the electronic form. if your state or any governmental body in your state charges a tax on the royalty we receive from you then you are required to pay an additional earned service fee and royalty equal to the amount of this tax. this does not apply to any federal or income taxes we have to pay. although the franchise agreement provide for a marketing fee as of the date of this disclosure document we are only collecting from of gross sales. we have the right to increase them at any time up to. we also may require you to pay up to regardless of what other togo franchisees may pay. if you enter into a temporary operating agreement for a restaurant you will pay the same continuing marketing fee for such restaurant as provided for in your franchise agreement. if you lease the restaurant from us or one of our affiliates then you will pay us or our affiliate a monthly fixed rent set forth in your sublease. you may also pay us percentage rent regardless of whether the prime lease requires percentage rent. the amount of percentage rent varies and will be set forth in your sublease. our leases are customarily net net net leases which means you must pay all related costs of occupancy such as real estate taxes insurance costs all maintenance and repair costs utilities common area maintenance charges and other costs. see items and for initial real estate fees and investment costs. the transfer fee during the first three years of the seller operation of the restaurant is the greater of i increased by compounded annually during the term you have operated the restaurant under the franchise agreement or ii of the adjusted sales price of the restaurant. the adjusted sales price is the sales price the buyer pays for a restaurant less the amount the seller previously paid for the same restaurant if he or she bought it from us or another franchisee. no adjustment is made for a seller development costs upon the resale of a restaurant. the adjusted sales price includes all the consideration whether included in the sale contract or not for the sale such as cash assumption of debt equipment lease obligations and deferred financing amounts allocated to all property except for amounts reasonably allocated to land and building that you own or personal service agreement. to determine the correct transfer fee we have the right to adjust the allocation the buyer and seller made for land building equipment personal service agreement or otherwise if we believe the allocation is not reasonable. when a franchisee sells a restaurant to another franchisee we do not allow the seller and buyer to enter into their own covenant not to compete outside the franchise agreement. if the transfer is not consummated we will refund to the transferor the partial payment of the transfer fee after deducting our costs for training and our other costs. at any time after commencement of your fourth year of operations at a restaurant the transfer fee is a set amount determined by the restaurant gross sales for the most recently completed calendar months preceding the date of the contract of sale. we reserve the right to select another period or to make appropriate adjustments to sales in the event extraordinary occurrences. road construction fire or other casualty et cetera have affected gross sales during the indicated month period. see general terms and conditions of the franchise agreement paragraph. if the transfer is not consummated we will refund to the dms.us. transferor the partial payment of the transfer fee after deducting our costs for training and our other costs. sales for most recent month period transfer fee less than or more but less than or more but less than or more but less than or more if we elect to purchase the restaurant by exercising our right of first refusal the seller must still pay us the required transfer fee. the requirements for transfers of an road are the same as those for transfers of franchises. the rda transfer fee is due and payable in addition to the transfer fees for operating restaurants that may be part of the same transaction. you also will have to pay other fees to other parties. landlords vendors contractors such as for remodeling and refurbishing governmental agencies utilities communications companies internet service providers et cetera in connection with your business operations. if you are buying an existing restaurant you may be required to pay the costs of a third party such as a title company to assist with the processing of documents. you may be required to pay this third party directly or reimburse us for this cost. item estimated initial investment your estimated initial investment type of expenditure note amount method of payment when due to whom payment is to be made initial franchise fee note to lump sum upon signing deposit agreement if applicable and balance upon signing franchise agreement us leasehold improvements note to lump sum or financed before opening third parties your landlord and or contractor dms.us. your estimated initial investment type of expenditure note amount method of payment when due to whom payment is to be made real estate rental deposit note to as agreed as incurred landlord equipment fixtures and furniture note to lump sum or financed as incurred before opening approved suppliers signage note to as agreed as incurred approved suppliers architectural fee to as agreed as incurred approved suppliers point of sale pos system note to lump sum or financed as incurred before installation approved supplier opening inventory note to lump sum before opening approved suppliers miscellaneous opening costs note lump sum as incurred suppliers utilities employees et cetera uniforms to lump sum before opening approved supplier insurance note to lump sum or monthly payment as incurred insurance company agent travel and living expenses while training notell to as agreed as incurred during training. airlines rental car agencies restaurants hotels et cetera grand opening marketing fee note lump sum before opening us additional funds for first months of operation note to as agreed monthly and as incurred us third parties and employees totals note to notes note your initial investment for a new restaurant depends primarily upon the number of restaurants you acquire their size their configuration their location who develops the real estate for and or constructs them and the amount and terms of financing. the initial funds required must be estimated since most costs are not within our control and may change at frequent intervals. these figures are estimates only and we cannot and do not guarantee that your costs will fall within the stated ranges. these estimated ranges are based on our and our predecessors years of experience and information provided by franchisees. costs are constantly dms.us. changing and your costs may be higher. you should diligently investigate all potential costs before proceeding. these estimates do not include out of the ordinary costs such as costs related to extensive redesign permitting variances legal obstacles et cetera note our standard initial franchise fee island see item for a description of possible discounts on the initial franchise fee. note leasehold improvements costs vary considerably according to the size and condition of the premises contractor costs and the location of the restaurant. the lower estimate assumes that you will be taking over the premises of a former sandwich restaurant. your costs can be higher depending on the size of the site competitive construction business climate and jurisdictional building and code requirements. these estimates are based on our experience and information provided by construction managers and franchisees as a guide to budget costs. we recommend that you contact professionals contractors architects and engineers who are skilled in estimating these costs. note your rent expense will vary based on a number of factors including square footage location local real estate market values terms under which other locations have been leased how the costs to renovate or develop the land building and other site improvements are allocated between landlord and tenant interest costs and the negotiations of the parties among others. lease terms are individually negotiated and may vary materially from one location or transaction to another. typical togo restaurant has approximately to square feet. the estimate given represents a security deposit equal to one month rent. your initial investment may be significantly lower if we or your landlord develops the location but in that case your annual rent will probably be higher. your rent will likely be based on development costs and reflect a rate of return on the landlord initial investment as well as other factors. commercial leases are typically triple net leases requiring you to pay rent all taxes insurance maintenance repairs common area maintenance costs merchants association fees and all other costs associated with the property. rent will likely exceed the landlord cost of leasing or financing the purchase of the location. you may also have to pay percentage rent. you may also have to make an initial payment into an escrow fund to cover estimated real estate taxes. if you elect to buy land rather than rent the real estate costs will vary greatly depending on size location visibility local real estate market values and the type of ownership interest you are buying. due to the many variable impacting the value of a particular piece of commercial real estate this initial investment estimate tables does not provide for the potential purchase of real estate or the costs associated with constructing a building for the restaurant. note this amount includes estimated costs of furniture furnishings installations equipment trade fixtures smallwares and certain other items on the restaurant premises the amount and specific items of which will vary depending upon the location size and condition of a particular restaurant. cost range includes tax and delivery estimated at. note signage includes both the interior and exterior signs. the cost of these signs will vary depending on the number location and size of the signs and may also be impacted by any local city code restrictions. dms.us.o note the price reflects the equipment configurations and solution costs for two point of sale systems. note before opening a togo restaurant you must purchase an initial inventory consisting of products from suppliers approved by us. the assortment and number of these items will be based upon the size and configuration of your restaurant. the estimated cost for the opening inventory of these products varies for different locations seasons and the storage capacity of the restaurant. your initial inventory of merchandise and supplies needed for the operation of the restaurant will include raw ingredients and products for resale containers and other paper plastic or similar goods maintenance and cleaning materials office supplies and miscellaneous materials and supplies. note miscellaneous opening costs estimated typical range pre opening employee training payroll utility deposits. gas water electricity telephone petty cash including cash register opening banks computer printer router service contract video surveillance mise. expenses. sanitation books interior landscaping plants restaurant sound system office supplies licenses permits banking pre opening costs estimated total note you must provide commercial general liability insurance in minimum amounts of aggregate single limit coverage subject to increase and maintain other insurance in accordance with state law requirements. some property owners may require higher levels of commercial general liability insurance under their leases. initial premiums for commercial general liability insurance are subject to change due to market forces beyond either of our control but usually range between and per year. failure to maintain such insurance may result in loss of your franchise and additional financial obligations. the cost of other coverages including workers compensation coverage and your discretionary purchases varies widely but may range from to per year. the lower estimate assumes that this is not your first togo restaurant. your premium may be higher based upon your risk profile. you should discuss with your insurance carrier agent whether or not these costs need to be paid in full before opening or whether they can be budgeted. note we provide the initial training program at no charge for two people for a new restaurant and for one if you are buying an existing restaurant. however you must pay for training materials including the cost of the sanitation examination uniforms accommodations and travel expenses if any for you and your employees. if you attend the initial training program in a location other than one of our training facilities then you may be charged certain additional costs such as your portion of the costs for the meeting room. you must also pay per person if you want additional people trained. you must also pay for later training programs that we may conduct. this reflects the dms.us. estimated range of costs for two people to attend the togo initial training program including transportation lodging and uniforms to. if you live close to the training facility your costs will be on the lower end of the range. you must pass the training course before you can open your restaurant. any wages or salaries that you may pay trainees while they attend training are not included in these estimates. you must also maintain worker compensation insurance coverage for trainees in your employ. note grand opening marketing fee is used to promote the opening or re opening of your restaurant. see item. although you pay the fees to us we will use the money to pay invoices and reimburse you for grand opening expenditures. if you do not submit expenses to total the within the first months of operation die balance will be deposited in the togo fundamental note cash flow from your operations may not be adequate to cover operating and other costs during the initial phase of business. the range shown reflects your estimated expenses for the first months of operations. these expenses do not include the owner salary or draw. note togo restaurants may vary from one another in many respects. for example restaurants in urban trade areas may be multi level with kitchen storage sales and seating areas on two or more levels or have limited or no seating. kitchen storage and sales areas may be smaller than typical restaurants. specially designed equipment may be necessary. restaurants in urban trade areas may have no dedicated parking require elevators specially designed doorways have limited access and require greater security measures. this may require special arrangements for deliveries of products and supplies to and from the restaurant. trash may require special handling such as daily pickup. labor costs may be higher in urban restaurants due to restaurants configuration and competition for available workers among other reasons. we encourage you to talk to franchisees that operate restaurants in similar trade areas to gain a better understanding of how your trade area may vary. item restrictions on sources of products and services we and our predecessors have spent considerable time effort and money to develop the togo system the system. the distinguishing characteristics of our system include among others proprietary marks distinctive exterior and interior design decor color and identification schemes and furnishings special menu items standards specifications requirements and procedures for operations manufacturing distribution and delivery quality and safety of products and services offered management systems programs training and assistance and marketing advertising and promotional programs. you must conform to our high and uniform standards of quality safety cleanliness appearance and service. we anticipate that our standards will change over time. you are expected to adhere to these changes. we require that all food products supplies equipment fixtures exterior and interior signs graphics and materials of your restaurant and services to your restaurant meet our specifications standards and requirements and must be purchased from approved suppliers including manufacturers distributors and other providers of goods and services. to become approved a supplier of items or services must demonstrate to our satisfaction that it can meet all specifications standards and requirements and has adequate capacity to supply our franchisees quantity and delivery needs which may mean the ability to supply all franchisees in the system. however some dms.us. suppliers may not distribute their products to your region. in addition before approving suppliers we may take into consideration a consistency of products and or name brands in and between our systems economies of scale achieved by larger volumes and certain other benefits that a particular supplier may offer such as new product development capability. when approving a supplier we take into consideration the system as a whole which means that certain franchisees may pay higher prices than they could receive from another supplier that is not approved. we reserve the right to withhold approval of a supplier for any reason. list of approved suppliers is available on request. suppliers are required to share shipping distribution and all other information with us and you will be required to cooperate. one of our officers owns stock in a publicly traded company which is our designated supplier of soft drinks. all requests for approving suppliers must be submitted in writing by you and or the supplier to our purchasing department. see paragraph. general terms and conditions of the franchise agreement. we may require that samples from the supplier be delivered to us or to a designated independent testing laboratory for testing prior to approval and use. you or the supplier will be required to pay us a fee not to exceed the actual cost of the test provided however no fee shall be charged for the first test requested by us in any calendar year. each request will be reviewed in accordance with our then current procedures and we will take into consideration our available resources which may affect the timing of our response. the supplier must meet our then current specifications standards and requirements which may include signing a non disclosure agreement and a guarantee of performance. we have the right to change specifications standards and requirements. if the supplier is approved we will notify the supplier in writing. our approval may later be withdrawn based on the supplier performance changes in our specifications standards or requirements or other reasons. we reserve the right to limit the number of potential suppliers we may consider for approval and for some categories of products we will designate a third party or ourselves as an exclusive supplier. we have exclusive supplier arrangements for some categories of products. we may negotiate purchase arrangements or terms such as price with suppliers for the benefit of franchisees and the system as a whole. we do not provide any other material special benefits to franchisees for using designated suppliers. we reserve the right to receive fees or other consideration in exchange for rights licensed or granted or services rendered to third parties including vendors. we do not guarantee the availability of independent sources of supply for any particular product or service required to establish or operate your restaurant. we or our affiliates may periodically make available for purchase by franchisees items such as signs packaging materials customer convenience items advertising marketing and sales promotion programs and materials posters or other like supplies. except as noted in this item neither we nor our affiliates are approved suppliers of any item although we reserve the right to become one in the future and to be the sole approved supplier of certain items. you may be required to become a member of a national and or regional buying cooperative which may require the payment of a fee. most goods that you are required to purchase will be purchased from a master distributor. the master distributor will carry items such as meats cheese grocery bread in some areas paper and cleaning supplies. as of the date of this disclosure document the master distributor was the roma division of vistar corporation east arapahoe road building centennial colorado dms.us. we reserve the right to change the master distributor. other master distributors may be approved. in the togo system you may only offer for sale or dispense wine or beer with our prior written consent. should such consent be granted we will not restrict your discretion as to beer or wine brands being offered at the restaurant if such restriction is in violation of any federal or state law. we have the right to require you to use only real estate brokers approved by us to locate a site for your restaurant. we may require you to use a third party national real estate brokerage firm to assist you in managing the site selection process and related negotiations. if we do so you will be required to manage all site selection activities and conduct all negotiations for all sites through such third party firm. we may also require you to use only architects designated and approved by us to develop plans for your restaurant and we require you to use only general contractors that we have approved to construct your restaurants. we estimate that your purchase of products supplies and other products and services from us or our affiliates or that meet our specifications and standards will represent approximately to or more of the cost to establish the franchise business and to of the cost to operate the franchise business on an ongoing basis. point of sale pos systems if you are opening a new restaurant renewing your franchise agreement or remodeling an existing restaurant you are required to purchase install and use our then current electronic point of sale cash register system approved by us. see item. revenues received by us or an affiliate in consideration of your purchases participating company operated restaurants if any may receive lower prices patronage discounts and or allowances from suppliers on the same basis as franchisees. if you lease the restaurant from us or one of our subsidiaries or affiliates we may derive revenue in the form of base and percentage rent payments tax common area and other payments. in any such case your payments to us may exceed our costs. if you buy an existing restaurant from us we may derive revenue from your acquisition in excess of our cost to acquire and in some cases refurbish or remodel the location. we occasionally sell our real estate interest in a restaurant to the franchisee. the purchase price may reflect the present value of our future revenue projected for the location and other factors. we did not receive any revenues from the sale or lease of products or services to franchisees during. in the fiscal year ended december eateries had rental revenues from franchisees of which represented of its total revenues. also during the fiscal year ended december eateries received from food vendors which was used to offset marketing expenses made from the togo fundamental dms.us. other than the payments described above no other revenue was derived by us or our affiliates from required purchases and leases by franchisees of products and services in the most recently completed fiscal year. item franchisee obligations this table lists your principal obligations under the franchise and other agreements. it will help you find more detailed information about your obligations in these agreements and in other item of this disclosure document. for purposes of this chart gtc means general terms and conditions of franchise agreement cd means contract data schedule to franchise agreement rda means restaurant development agreement and toa means temporary operating agreement. obligation section in agreement disclosure document item a site selection and acquisition lease gtc defence sublease optics to assume rda. pre opening purchases leases gtc. site development and other pre opening requirements gtc. sublease. rda. initial and ongoing training gtc. opening gtc. fees cd. gtc. sublease. rda. ex. toa. compliance with standards and policies operating manual gtc defence rda. sublease. toa.a dms.us. obligation section in agreement disclosure document item. trademarks and proprietary information gtc introduction defence rda. i restrictions on products services offered gtc. sublease. warranty and customer service requirements gtc. territorial development and sales quotas rda. ongoing product service purchases gtc. maintenance appearance and remodeling requirements gtc. cd. sublease. toa.a insurance gtc. sublease. advertising gtc. cd. indemnification gtc. sublease. owner participation management staffing gtc. records reports gtc. sublease. inspections audits gtc. sublease. transfer gtc. cd. sublease. rda. dms.us. obligation section in agreement disclosure document item. renewal rda. post termination obligations gtc. sublease. optics to assume. non competition covenants gtc. dispute resolution gtc. rda. sublease. other describe none not applicable item financing we and our affiliates do not offer direct financing to our franchisees. we do however offer indirect financing to our franchisees through bancorp bank sba loan program as outlined below. we and our affiliates generally do not guarantee or colorado sign our franchisee notes leases or any other obligations and we are unable to estimate whether you will be able to obtain financing through bancorp bank or any other third party for any or all of your investment. sample copy of the key loan documents typically used in connection with bancorp bank sba loan program are attached as exhibit. the attached loan documents include a sample. small business administration note the note security agreement unconditional guarantee the guarantee mortgage and deed of trust. there may be other collateral documents that you are required to sign. below is a summary of the loan terms offered by bancorp bank sba loan program. your ability to obtain a loan through bancorp bank will depend on a number of factors including current market conditions your credit history and your personal financial condition. bancorp bank will ultimately determine whether you qualify for a loan and the precise terms of any loan you may receive. in order to make this indirect financing available to our franchisees we have agreed to pay bancorp bank. of the principal amount of each loan bancorp bank extends to a new or existing togo franchisee under the sba loan program outlined below. item financed source of financing packaging fee amount financed term annual interest rate monthly quarterly payment prepayment penalty security required liability upon default loss of legal right on default initial investment bancorp bank up to up to excluding real estate purchase years see note variable rate up to the maximum amount see note see note yes see note yes see note no see note dms.us. item financed source of financing packaging fee amount financed term annual interest rate monthly quarterly payment prepayment penalty security required liability upon default loss of legal right on default see note allowed under sba guidelines see note additional capital refinance reimage remodel transfer or resale of existing units bancorp bank up to up to see note years see notes variable rate up to the maximum amounts allowed under sba guidelines see note see note see note yes see note yes see note no see note notes if bancorp bank chooses to offer you financing it may charge you a lender packaging fee of up to. additionally you will be responsible for all third party costs associated with obtaining the loan including without limitation an attorney loan documentation and closing fee any appraisal fees costs of title insurance credit reports inspections searches and filing costs. you also will be responsible for any sba guaranty fee which bancorp bank must collect and pay over to the sba guaranty fund as required by sba regulations. the amount financed will depend on each particular loan and the related circumstances including the franchisee and its owners credit history and other financial conditions. the term of the loan may vary depending on each particular loan and the related circumstances including the franchisee and its owner credit history and other financial conditions. variable rate of interest will apply up to the maximum amount allowed under sba regulations. currently the maximum interest rate allowed under sba regulations is prime. or variable rates pegged to the libor base rate or the optional sba peg rate as more particularly described in sba sop subpart chapter section iv cfr. as used in this item prime rate means the prime rate as published from time to time in the money rates section of the wall street journal or in the event that such rate is no longer published in the wall street journal the comparable index or reference rate designated by the sba. the total number of payments will depend on the term of your loan and will be designated in section of the note. the franchisee may prepay the debt at any time without premium or penalty. dms.us. in connection with obtaining a loan through bancorp bank sb loan program bancorp bank generally will require a franchisee to sign a security agreement covering among other things all accounts inventory equipment furniture fixtures tangible property general intangibles chattel paper and other instruments of the franchisee. security agreement section. in addition all owners of franchisee having a or more ownership interest in franchisee and their respective spouses may be required to sign a personal guarantee a sample copy of which is included in exhibit. bancorp bank also may require franchisee to sign any other documents as it deems necessary to secure the loan amount including but not limited to a mortgage and or deed of trust sample copies of which are included in exhibit. in the event of any default under the terms of the note as defined in section of the note bancorp bank will have the right to i require immediate payment of all amounts owing under the note ii collect all amounts owing from you or any guarantor of the note iii file suit and obtain judgment iv take possession of any collateral or iv sell lease or otherwise dispose of any collateral at public or private sale with or without advertisement. note section. additionally bancorp bank will have the right to exercise any other rights under the note security agreement guarantee or any other loan documents. this may include among other things bancorp bank foreclosing on any or all assets of the franchisee and or taking any legal action against one or more guarantors for payment of all amounts due and or exercising its rights under the security agreement personal guarantee and or any mortgage or deed of trust. note section. default under the terms of any loan agreement with bancorp bank will not constitute a default of your obligations under your franchise agreement or any other agreement between you and us or you and our affiliates. due to the current lending environment in the united states we may also from time to time provide credit enhancements to lenders for placement of debt. neither we nor any affiliate currently receive payment from any person or persons in exchange for their obtaining or placing financing for you. we and our affiliates do not have any present practice or intent to transfer assign discount or sell to a third party in whole or in part any note contract or other instrument signed by you but we and our affiliates reserve the right to do so in the future. item franchisor assistance advertising computer systems and training except as listed below we need not provide any assistance to you. pre opening obligations if you are acquiring a restaurant development area we will determine the restaurant development area the number of restaurants you must develop and the development schedule. see schedules to rda. dms.us. the following are our obligations before or at the opening of your restaurant. if you are developing a new restaurant we will accept the location if it meets our standards. we will provide you with a copy of our standard plans and specifications for the type of restaurant. you must conform the premises to all codes and ordinances and obtain all required permits. you must construct or remodel the location to our standards and subject to our approval. see schedule of the franchise agreement and if applicable section. of the rda. we will make available to you the standards for designing constructing equipping and operating your restaurant. see the general terms and conditions of the franchise agreement paragraph. if you are opening a new restaurant we will make an initial training program available to you and or your designated manager. see the general terms and conditions paragraphs. and. we will provide you with operating procedures to assist you in i complying with our standard methods of record keeping controls staffing and training requirements and production methods and ii developing approved sources of supply. there is no charge for the initial training for two people for a new restaurant and one person for the purchase of an existing restaurant. there is a charge for each additional person who attends training. see the general terms and conditions paragraph. we will make available to you such assistance in the pre opening opening and initial operation of your restaurant as we deem advisable based on your organization experience and training. see the general terms and conditions paragraph. if you are opening a new restaurant we will advise on the grand opening promotional advertising program or such other advertising program as we may specify. see general terms and conditions paragraph. continuing obligations the following are our obligations during the operation of your franchise. we will maintain a continuing advisory relationship with you including consulting with you in marketing merchandising and general business operations. see the general terms and conditions paragraph. we will provide you with information on our operating and other standards for your restaurant. we may modify these as and when we desire. see the general terms and conditions paragraph. we will continue our efforts to maintain uniform standards of quality cleanliness appearance and service. we will make reasonable efforts to disseminate our standards to potential suppliers at your written request. see the general terms and conditions paragraphs. and. we may review advertising and promotional materials you propose to use locally. see general terms and conditions paragraph. dms.us. we will administer the marketing fund and direct the development of all advertising and promotional programs for the system. see detail below and the general terms and conditions section. advertising and sales promotion grand opening marketing fee you pay us a grand opening marketing fee of to promote the opening of your restaurant. there is also a grand opening market fee payable in the event of a transfer or a relocation. advertising cooperatives we do not currently require or employ any advertising cooperatives. we do however administer and direct the development of advertising and promotional programs as described below. we also reserve the right to require advertising or marketing cooperatives to be formed changed dissolved or merged. promotional activities except as prohibited or limited by the law you must actively participate in and colorado operate with our national regional and local advertising and sales promotion campaigns prize contests and special offers. you must display in the restaurant such advertising and promotional materials required by us from time to time. in addition you must conduct such promotions and special events offer such promotional items and accept such coupons loyalty stored value and gift cards as we may require from time to time. your own advertising under certain circumstances you may use your own local advertising. to do so you must obtain our prior approval of all your local advertising and promotional plans and all materials you would like to use. you must comply with our social media policies as promulgated by us from time to time. the togo fund our affiliate eateries administers and directs the development of all marketing and promotional programs of the togo system. you must pay advertising fees to the togo fund the fundamental although the franchise agreement provides that the marketing fee is of gross sales as of the date of this disclosure document we are only collecting of gross sales. we have the right to increase the marketing fee up to of gross sales. restaurants owned by us or our affiliates contribute to the togo sales and promotion fund on the same basis as franchisees. advertising may be disseminated in various types of media. print radio television the internet billboards and others. we will determine whether the scope of individual advertising programs will be local or regional. the term advertising as used in this section also includes related activities as described below. as of the date of this disclosure document creative work was being done by outside advertising agencies. all advertising media and the advertising area are determined by us. we reserve the right to change advertising agencies from time to time without notice to you. the fund fiscal year coincides with our fiscal year. at the end of the most recently concluded fiscal year december the following percentages of funds received were spent on brand supporting initiatives which include restaurant design and development market research promotions consulting and professional fees point of purchase materials product and dms.us. menu tests and website expenses media placement regional marketing initiatives and administrative. the fund is not a trust or escrow account creates no fiduciary duties or obligations and is the property of eateries. you have no property rights of any kind with respect to the monies in the fundamental the balance including any interest earned by the fund will be used for advertising and related expenses which include various marketing and promotional activities and the costs to prepare produce and distribute advertising marketing and related materials. eateries reserves the right to use the fund to reimburse it for all costs incurred related to the marketing and promotion programs including the proportionate compensation of employees who devote time and render service in the conduct formulation development and production of the marketing and promotion programs or the administration of the fundamental upon request we will provide you with an annual audited summary of the fund receipts and expenditures for each fiscal year. as noted above we determine the content and placement of marketing. we are not required to spend any amount in marketing in your area. we have no obligation to ensure that you benefit directly or on a pro rata basis from the marketing. marketing funds not spent in the fiscal year in which they accrue are typically carried forward to the next year and spent on marketing and related expenses. we reserve the right to establish cooperative advertising funds and to designate local advertising markets. if established in your market you will be required to participate. in no event will the total marketing expenditures to the fund and toward required cooperative advertising exceed of gross sales. togo brand advisory council the brand advisory council is composed of franchisees to advise us on marketing and other issues. members of the brand advisory council are selected by vote of franchisees at company sponsored regional franchisee meetings. we may appoint additional members. we reserve the right to change one or more of these councils to form new coimcils or to dissolve one or more councils. these councils will serve in an advisory capacity only and will not have either operational or decision making power. computer system requirements we require you to record all your sales on the currently approved point of sale pos system. all approved cash registers are capable of recording accumulated sales and cannot be turned back or reset. the system must provide a receipt to the customer after a transaction. the pos system requires internet access via dsl line or similar high speed access a dedicated telephone line and email. we have required our approved suppliers to make special modifications to their equipment and systems to comply with our requirements. the types of data that will be collected and generated by the point of sale system includes sales and may include product mix purchases and labor utilization. all new restaurants are required to i have a fully managed high speed network solution approved by us for use with pos and other technology initiatives and ii comply with the dms.us. construction and wiring standards relating to pos equipment in the restaurant including dedicated isolated grounded power for use solely with the pos system and its approved components. the estimated cost of two pos stations is to not including installation. the estimated cost of maintenance is to per year. we require that you provide us continuous independent access to data from your retail information system through our approved fully managed high speed network solution. to enable both restaurant and remote view of activities inclusive of a pos overlay franchisees are encouraged to install video surveillance camera system svc. we may require you to purchase this system from an approved vendor. the estimated price ranges are to depending on the number of cameras installed. we may implement the svc program and or a preferred merchant processing service. if we do you may be required to install an additional telephone line upgrade your pos system and incur other costs. site selection it is solely your responsibility to find and secure a site for your restaurant. you must present a site to us for our review. if we do not accept a site you must find a different suitable site. factors affecting our decision generally include location occupancy costs proximity to major retail activity traffic volume and speed density of nearby population resident or daytime competition site configuration parking accessibility visibility signage permitted by the landlord and local governmental authorities and other factors. each site is considered individually as no two sites are the same. factors other than those listed above may be considered in evaluating a particular site. our acceptance of a site means the site meets the then current site criteria. we however do not guarantee that any site will be successful or otherwise produce certain results. performance of the site you select is based on many independent factors. we have the right to engage a third party national real estate brokerage firm to assist you in managing the site selection process and related negotiations. if we do so you will be required to manage all site selection activities and conduct all negotiations for all sites through such designated third party firm. if you submit a site for our consideration you must provide us with all required information about the site. you must not sign a lease or begin any construction for a site before we approve it. while we try to promptly review nominated sites there is no specified time period in which we must respond to your approval request. we will provide you standard generic plans and specifications for the improvements furnishings fixtures and decor of the type of restaurant approved for your site. you will then at your expense have specific plans and specifications for construction or conversion of the space for the restaurant prepared by a licensed architect. before you may begin construction these plans and specifications must be approved by us in writing. any changes made during construction must also be approved by us in writing. all construction will be at your sole expense. you must ensure before the opening of the restaurant that the restaurant is accessible to and usable by persons with disabilities and meets the standards for accessible design for new dms.us. construction in the ada accessibility guidelines adaag as may be amended from time to time or any more stringent accessibility standard under federal state or local law. time required to open business the typical length of time between the signing of the franchise agreement and the restaurant opening for business is to months. if you do not find a site within months or open your restaurant within months from the date of the franchise agreement we may terminate the franchise agreement. we reserve the right to extend the deadline for opening a restaurant as we deem appropriate. the above time estimates do not include relocations. in addition there may be an additional to months between the time you sign a franchise agreement and the time you identify a site. factors affecting the elapsed time include lease or purchase negotiations zoning procedures financing applications local ordinances and approvals obtaining licenses and permits construction delays weather conditions shortages delays in installing equipment and signs development or construction not in accordance with our requirements labor disputes acts of god and other reasons. training program you must at all times have an on site manager who must be you or another partner shareholder of your corporation or member of your limited liability company who has successfully completed our required training program. if you do not successfully complete our training requirements including initial brand training you will not be granted a franchise regardless of whether you were previously approved to be a franchisee. if you are a non traditional or multi unit developer you will be required to attend a training program which includes business acumen and one week on in restaurant training. you will also be required to have a designated manager successfully complete the full brand training program before opening. in conjunction with your togo training you and or your designated manager must also satisfactorily complete a food safety certification course from an outside accredited agency. you must arrange and pay for this course on your own. you must also provide togo with proof of completion. if you wish to own and operate multiple restaurants you must continuously employ a minimum number of managers in your togo restaurants who have successfully completed our training program according to our standards for multi restaurant development and operation. our current training fee for managers island you and your restaurant managers must have literacy and fluency in the english language sufficient in our good faith opinion to satisfactorily complete our training program and to communicate with employees customers and suppliers we provide the initial training program at no charge for two people if you are opening a new restaurant and just for one person if you are buying an existing restaurant. you must pay for training additional people and you must also pay for all training materials including the cost of the food safety certification course uniforms salaries accommodations and travel expenses if any for dms.us. you and your employees. if you attend the initial training program in a location other than one of our training facilities then you may be charged certain additional costs such as your portion of the costs for the meeting room. you must also pay for later training programs that we may conduct. attendees at our training facilities are required to execute a participant agreement copy attached. if this will be your first togo restaurant we may require you to participate in a restaurant opening before your restaurant opening at your own expense. if you complete training more than days before the opening of your first togo restaurant you may be required to complete refresher training of up to five days. you may be required to participate in an in restaurant evaluation of five days before starting the training program described below. our training programs are regularly reviewed and updated. togo training program as of the date of this disclosure document the following summarizes the togo initial training program subject hours of classroom training hours of on the job training location food safety certification varies brand training west varies business acumen togo corporate support center in san jose california various southern california locations total hours hours in addition the training summarized in the chart above you will be required to complete approximately hours of self study. you or a designated manager must complete the food safety certification course from an outside accredited agency. the training will generally take place in a togo restaurant in california. the training will generally take place at a location in california. there may be additional time needed to achieve required competency levels. the amount of time required is a function of the individual ability to personally demonstrate the competencies. an estimated hours for pre training study. as of the date of this disclosure document our market trainer is salena boone who has more than years experience in the restaurant industry and more than five years experience with us. dms.us. additional employees who have experience in some facet of the operation of a togo restaurant will assist in the training. experienced franchisee training if the franchisee will operate multiple togo restaurants or otherwise meets our qualifications as an experienced franchisee the owners of the franchisee may not be required to complete our standard training requirements but instead may be required to successfully complete a four day franchise business course reduced in restaurant training food safety training and possibly other abbreviated training. we will decide at our sole determination whether the experienced franchisee will be required to complete our standard training requirements or modified training program. in the case of an experienced franchisee we require that the person with operational responsibilities within the franchisee entity successfully complete our standard training requirements as opposed to the modified training discussed above. if one or more of the owners is the person with operational responsibilities then that owner must complete the standard training requirements. if the experienced franchisee commits to multiple locations the first restaurant the franchisee opens operates may become the training restaurant for the remainder of the restaurants to be opened operated by the franchisee entity. this first restaurant may have a franchisee employee trained and approved by us who will conduct training for employees of franchisee subsequent restaurants. we reserve the right to modify or eliminate this experienced franchisee program. other training you must ensure that all your employees are trained in our restaurant procedures. you must ensure that the manager and all employees whose duties include customer service have sufficient literacy and fluency in english and such other language as may be required to adequately meet the public in your restaurant. we believe training is important to the success of our system and from time to time provide formal and informal training sessions to franchisees. you must attend and require your employees to attend further training as we may from time to time require. this training may require travel to our training facility. operations manuals we will provide to you a copy of the restaurant operations management manual. the operations manual contains mandatory and suggested standards operating procedures and rules prescribed by us. the operations manual is copyrighted and may not to be reproduced or distributed to any unauthorized person. we can change the terms of and add to the operations manuals whenever we believe it is appropriate. copy of the table of contents of each operations manual as of the date of this disclosure document is attached as exhibit. the manuals have a total of pages. dms.us. item territory the franchise agreement does not provide you with an exclusive territory. you may face competition from other franchisees from restaurants that we or our affiliates own or from other channels of distribution such as retail sales of product or competitive brands that we control. we reserve the right to a establish operate or license to any other person or entity the right to establish or operate a togo restaurant at any location other than your specific location develop market own operate or participate in any other business under the marks or any other trademarks merge with or be acquired by any other business including a business that competes with togo restaurants distribute sell or license other persons to distribute or sell non system products and system products through all other channels. other channels means locations other than traditional restaurants owned or franchised or licensed by us and includes sale by or through other channels of trade including without limitation kiosks carts grocery stores convenience stores food chains electronic mail and internet sales and implement multi area marketing programs including without limitation mail drops and other flyer distribution methods which may allow us or others to solicit or sell to customers anywhere. we also reserve the right to issue mandatory policies to coordinate such multi area marketing programs. restaurant development agreement rda restaurant development agreement is a development agreement that sets out one or more geographic areas identified for the development of new restaurants. if you acquire an rda we will limit the number of people who can compete with you in your effort to find qualified sites for development of new restaurants within your restaurant development area during its term rda section. and schedule. this does not mean that you have any exclusive right to any potential customer base for your restaurant. you have no rights relating to the distribution channels referenced above in this item. restaurant development areas are specifically identified for adding new restaurants. we determine your restaurant development area which may require development in certain areas before development in other areas within the development area. typically restaurant development areas are relatively limited in size and scope. the restaurant development area size and development requirements may reflect other factors such as the rda term estimated length of time to develop restaurants in the area retail shopping facilities major employment centers transportation centers train stations bus terminals et cetera key traffic intersections interstate highway ramps population among others. your rda does not include any special distribution opportunities as that term is described in section of the rda. we may pursue these special distribution opportunities directly or indirectly including by franchising to you or to others. our rights are intended to maximize potential distribution within the restaurant development area. your restaurant development area terminates if any restaurant you are required to develop does not open on schedule you breach or default under the rda or any other agreement with us and do not cure the default within the applicable cure period or you do not remain qualified under the then current guidelines for multi restaurant development. in some instances where you are in default you will be required to assign or sell any real estate committed in furtherance of the rda to us or our designee. dms.us. you have no rights under the rda outside your rda boundaries. if you sign an rda you will be responsible for developing the minimum number of restaurants set forth in the rda. we determine the size of the restaurant development area the number of restaurants and the development schedule. each location must be approved by us and meet our design standards. you must continue to meet then current guidelines for multi restaurant development and ownership or our approval of your development or opening of scheduled restaurants may be withheld. you are granted limited rights of development exclusivity during the term of the rda. see item. your initial franchise fees under the rda equal the sum of the initial franchise fees for each restaurant you are required to develop under the agreement. see item. we may approve reduced initial franchise fees modified continuing franchise fees and modified franchisee requirements as part of an rda in special circumstances such as to franchisees who commit to and have the ability to develop a large number of restaurants or in certain geographic areas. other information under the terms of the franchise agreement you do not have the right to relocate your business. if you request relocation you must obtain our approval for the site and meet our then current criteria for relocation. our approval process is substantially the same process we use in approving a new franchise for a new location. in addition you must be current with all your obligations to us and must sign our then current franchise agreement with all then current on going fees for a term equal to the term remaining on your franchise agreement for the previous location. there is no new initial franchise fee paid to us for relocation unless we decide to grant you term greater than the term remaining on the franchise agreement for the previous location. you have no rights under the rda outside your rda boundaries. we retain the sole right to use our trademarks on the internet including in connection with web sites domain names directory addresses metatags as graphic images on web pages linking advertising colorado branding and other arrangements. you may not maintain a web site. if we do ever approve of a web site that you promote and develop we have the right to condition our approval on the terms that we determine are necessary such as requiring that your domain name and home page belong to us and be licensed to you for your use during the term of your agreement. as part of your review of a particular trade area or territory we may but are not required to provide you with certain information such as maps indicating competition in the area and major shopping activity employment centers and activity generators or demographic reports. you are not entitled to rely on this information you must perform and only rely upon your own investigation and due diligence. item trademarks we grant you the right to operate a restaurant under the name togo. you may also be authorized to use other current or future trademarks to operate your restaurant. by trademark we mean trade names trademarks service marks and logos used to identify your restaurant. you must follow our rules in using these marks. you cannot use a name or mark as part of a corporate limited liability company other entity name or internet domain name. you cannot use any dms.us. of our names or marks with modifying words designs or symbols except for those which we expressly license to you. you may not use togo registered name in connection with the sale of unauthorized product or service or in any manner not authorized in writing by us. you may only use our trademarks on vehicles if you first obtain our written consent. the trademarks and service marks listed below are registered on the principal register in the united states patent and trademark office uspto on the date shown and all affidavits required to preserve and renew these marks have been timely filed. mark registration number registration date togo january togo july togo february togo great sandwiches february togo great sandwiches february togo sandwich surfer design horizontal november togo sandwich surfer design horizontal in color october togo great sandwiches design april togo great sandwiches design in color december togo since great sandwiches west coast original design in color june togo since great sandwiches west coast original design june as part of a settlement to litigation eateries entered into an agreement with togo incorporated a michigan corporation recognizing its rights to the name togo in the upper peninsula of michigan while it recognized eaters ownership of the federal trademark registration and the togo mark in the nest of michigan and elsewhere. our affiliate tfe owns most of the trademarks. we have entered into a trademark license agreement with tfe dated january which grants us the right to use and sublicense to our franchisees the right to use the marks. the term of this license agreement is for years and after that it is renewed for an additional year period unless either party gives notice of termination before the end of such extension. the license agreement can also be terminated for failure to maintain quality standards breach of the license agreement or bankruptcy. the intent is to assign the trademarks to eateries at which time we will enter into a license agreement containing the same material terms. dms.us.o except as described above there are no agreements that limit our right to use or license the use of the togo trademarks. there are no material determinations proceedings or litigation which would affect your right to use the trademarks other than as may be stated in this disclosure document. we do not know of any infringing use that could materially affect your use of our trademarks other than as may be stated in this disclosure document. as of the date of this disclosure document there were no effective material determinations of the uspto trademark trial and appeal board the trademark administrator of this state or any court. there were also no pending infringement opposition or cancellation of the trademarks and no pending material litigation involving the principal trademarks other than as disclosed in this disclosure document. you must notify us immediately when you learn about an infringement of or challenge to your use of our trademark. we will take the action we think appropriate. we are not required to defend you against a claim against your use of our trademarks or to pay for any costs you incur as a result of such a claim. you must modify or discontinue the use of a trademark if we modify or discontinue it. if this happens we are not required to reimburse you for your tangible costs of compliance for example changing signs. you must not directly or indirectly contest our right to our trademarks trade secrets or business techniques that are part of our business. item patents copyrights and proprietary information no patents or registered copyrights are material to the franchise. we do however claim copyright interests in our training manuals magazines posters toys pamphlets brochures television advertisements and all other printed and pictorial materials that we produce although these materials have not been registered with the copyright office of the library of congressional these materials are proprietary and confidential and are considered our property. they may be used by you only as long as you are a franchisee and only as provided in your franchise agreement. you do not receive the right to use an item covered by a patent or copyright unless it is expressly incorporated as proprietary information in our operations manuals. you may use these materials in the manner we approve in the operation of your restaurant during the term of your franchise agreement. however you may not use these materials in any other way for your own benefit or communicate or disclose them to or use them for the benefit of any other person or entity. these materials include any trade secrets knowledge or know how confidential information advertising marketing designs plans or methods of operation. this includes information about our sources of supply and our recommendations on pricing. you may disclose this information to your employees but only to the extent necessary to operate the business and then only while your franchise agreement is in effect. you must also promptly tell us when you learn about unauthorized uses or challenges to our uses of this proprietary information. we are not obligated to take any action but will respond to this information as we think appropriate. we will indemnify you for losses resulting from claims brought by a third party concerning your use of this information. at this time there are no infringing uses known to us which could materially affect your use of the copyrights. there is no effective decision ruling or order of the united states patent and trademark office copyright office of the library of congress or any court which could materially affect the dms.us. ownership or use of any patents or copyrighted materials. our right to use or license these patents and copyrighted items is not materially limited by any agreement or known infringing use. there are no agreements currently in effect which significantly limit our rights to use or license the use of such patents or copyrights in any manner material to you. we may use and incorporate into any system changes and improvements that you or your employees or contractors develop. we do not have an obligation to you or the developer of these changes or improvements in connection with such use. item obligation to participate in the actual operation of the franchise business you must devote continuous best efforts to the development management and operation of your business. this means devoting sufficient time and resources to ensure full and complete compliance with your obligations to us to your customers and to others. if you do not devote your full time to operating your business and if you receive two or more default notices from us in any month period we can require you to devote your full time to operating the business. the business is a challenging one. it requires and responds to personal attention. for most restaurants it is most important that you personally be involved in all facets of the business. you must be able to organize the business so that our standards of service quality and cleanliness are maintained and you must set standards for your employees to follow. the business requires a firm personal commitment and at least initially may require many long hours. as a new franchisee of an individual restaurant you may expect to perform a substantial amount of manual labor especially during the first year of operation. depending on the sales volume of the restaurant you should expect to work a full shift in the restaurant every day. in addition to production skills you must also understand and be able to perform all of the sales management and maintenance functions required to ensure successful restaurant operations. because this is primarily a cash business you must have effective vigilant cash management procedures to avoid employee theft. your on premises manager cannot have an interest or business relationship with any of our competitors. you are required to have a certified manager or a designated shift leader present during all business operating hours. see item for more information on managerial and training requirements. if you have an rda in addition to managing individual restaurant operations and sales you must ensure that locations are selected approved and developed in accordance with your rda development schedule. you will be then required to manage all facets of a multi restaurant retail business with some operating days a week including production transportation and distribution with attendant cost controls and record keeping requirements. you can minimize these demands on you personally by attracting motivating and retaining capable development supervisory production transportation and sales personnel. we may provide you with certain suggested basic procedures and guidelines to use in recruiting training and motivating your personnel. however recruiting training and motivating employees are your responsibility. dms.us. confidentiality under the franchise agreement you must keep confidential our restaurant development and operations methods and all other information we deem to be confidential. you may share this information with your employees if it is necessary for their jobs. personal and cross guarantees if you chose to use a business entity partnership corporation or limited liability company to operate the business you and your officers directors shareholders members and partners as applicable must personally guarantee such entity performance of all of the franchisee obligations under the franchise agreement and lease if applicable. this personal guarantee applies to all money and other obligations such as non competition provisions of the franchise agreement. if you operate more than one restaurant and choose to use more than one business entity each entity must cross guarantee all of the obligations of each other entity in which you have any interest. if you have an road you are permitted to form subsidiary corporations llcs or partnerships for each restaurant you open. you or your majority shareholder or partner must have at least a interest in each subsidiary. all new minority shareholders of the subsidiaries must be approved by us and must sign a personal guarantee. the subsidiaries must cross guarantee the obligations of you and your other subsidiaries. item restrictions on what the franchisee may sell goods and services you may not conduct any other business or activity at the site of the restaurant without our prior written approval. your business may be identified only by the name of the trademarks specifically licensed in writing by us. you must offer the full menu prescribed by us and the menu is subject to change from time to time. you may not offer or sell any product or service except those authorized by us. your restaurant must be open for business each day of the year subject to local law strikes or casualty and for the number of hours per day prescribed in the operations manual. you may not offer or sell alcoholic beverages unless you are authorized to do so in writing by us. we impose no customer restrictions. we require you to offer and sell only those goods and services that we have approved and designate for sale at your restaurant see items and. you may only use products materials ingredients supplies paper goods uniforms fixtures furnishings signs equipment and methods of product preparation and delivery that meet our requirements. see item. we have the right to require you to sell additional authorized products and services from time to time. there are no contractual limits on our right to do so. dms.us. item renewal termination transfer and dispute resolution the franchise relationship a franchise and related agreements these tables list certain important provisions of the franchise and related agreements. you should read these provisions in the agreements attached to this disclosure document and discuss them with your lawyer and business advisor. name of document abbreviation contract data schedule to franchise agreement. con. data school general terms and conditions of franchise agreement gtc sublease lease temporary operating agreement toa provision section in franchise and related agreements summary a term of the franchise con. data school second gtc for a new franchised restaurant the term is years. if you buy an existing restaurant you will obtain the remaining term of your seller franchise. see note. renewal or extension of the term renewal addendum two year renewal terms. requirements for you to renew or extend rider. you must give written notice of election to renew pay a renewal fee remodel restaurant according to specifications not be in default of franchise or other agreements with us satisfy money obligations execute then current form franchise agreement execute general release meet our then current qualifications for renewal including any additional training requirements and if you lease from us or our subsidiary amend the lease to extend the term. if you seek to renew your franchise at the expiration of the initial term or any renewal term you may be asked to sign a new franchise agreement that contains terms and conditions materially different from these in your previous franchise agreement such as different fee requirements and territorial rights. termination by you sublease. you do not have the right to unilaterally terminate the franchise agreement with one exception if we agree to lease the restaurant real estate to you but are unable to do so you may terminate the franchise agreement. termination by us without cause gtc none not applicable dms.us. provision section in franchise and related agreements summary. termination by us with cause gtc sublease. we can terminate the franchise agreement if you fail to timely cure a curable default under i your franchise agreement or ii any other agreement you have with us or any of our affiliates or subsidiaries for this or any other location. cause defined defaults which can be cured gtc. sublease. except where your state law may provide otherwise the following cure periods apply hazardous situations must be cured on demand violations of any law regulation order or our standard relating to health sanitation or safety must be cured within hours after notice your failure to keep the restaurant open for business must be cured within hours after notice your failure to maintain insurance or to pay when due any monies owing to us must be cured within days after notice all defaults not listed above or in section. below must be cured within days after notice. see note. cause defined defaults which can not be cured gtc. sublease. the following defaults cannot be cured by you i if you become insolvent make an assignment for the benefit of creditors or if any bankruptcy or insolvency proceeding is filed by or for you as described in section. of the franchise agreement ii if you are convicted of or plead guilty or nolo contendere to a felony a crime involving moral turpitude or any other crime or offense that we believe is injurious to the system or if we have proof that you have committed such a felony crime or offense iii if you permit the use of the restaurant premises for any illegal or unauthorized purpose including substitution of unapproved products iv if you abandon the restaurant if you intentionally under report gross sales falsify financial data or otherwise commit an act of fraud with respect to your acquisition or operation of the franchise or your rights or obligations under the franchise agreement virgin islands if your lease for the restaurant is terminated because of your default vii after you receive notices to cure for the same or a substantially similar default in any month period any later recurrence of such a default can not be cured even if you cured the earlier defaults. dms.us. provision section in franchise and related agreements summary i your obligations on termination non renewal gtc. sublease. toa upon expiration or termination you must i pay all amounts you owe us the fund and any affiliates ii cease to operate the restaurant iii cease to use any feature of the system and proprietary marks and cease to hold yourself out as our franchisee iv return all operating manuals and other materials in your possession disconnect or terminate any telephone listings and or fictitious name registration containing any part of the proprietary marks virgin islands sell to us if we elect any or all equipment signs trade fixtures furnishings and other personal property used in the restaurant at the purchase cost originally installed less depreciation straight line over years minimum or if we don elect remove all proprietary marks or other distinguishing indicia vii assign to us if we elect any interest which you have in the lease or any other agreement related to the restaurant or if we don elect make such changes to the premises as we reasonably require to distinguish it from other of our restaurants viii comply with the restrictions set forth in section of the franchise agreement for years thereafter and ix maintain all required books and records for years thereafter. see state specific addenda exhibit. assignment of contract by us gtc. sublease. we may assign the franchise agreement to any entity that agrees to assume our obligations. if your franchise agreement is signed by more than one franchisor you may be asked to replace the contract with the same contract signed only by one of the affiliated companies. transfer by you definition gtc. transfer by you is any sale assignment transfer conveyance gift pledge mortgage or other encumbrance of any interest in either the franchise agreement the franchise itself or any proprietorship partnership limited liability company llc or corporation which owns any interest in the franchise to any person persons partnership association llc or corporation whether by contract operation of law or otherwise. our approval of transfer by you gtc. sublease. you which includes any partner shareholder or member of transfer by are not permitted to transfer any interest in the franchise agreement or in the proprietorship partnership corporation or llc which owns any interest in the franchise without our prior written consent. we will not unreasonably withhold such consent if your transfer meets all of our conditions. dms.us. provision section in franchise and related agreements summary. conditions for our approval of transfer gtc. your transfer must meet the following conditions i the sales price may not be excessive ii the transferee must meet our qualifications iii you must satisfy all money obligations to us and our affiliates and any third party obligations we have guaranteed iv the physical condition of the restaurant must be brought into compliance with our standards the transferee must meet all of our qualifications and sign our then current franchise agreement virgin islands you must execute a general release of all claims against us at the closing and vii you must pay us a transfer fee. we may have additional reasonable requirements at the time you decide to sell your business. see note. our right of first refusal to acquire your business gtc. if you which includes any shareholder member or partner wish to sell any interest in the franchise you must give us days notice to elect to purchase such interest on the same terms and conditions. if the terms later change we must receive notice of the changes and will have a new day option to make the election on the new terms. our option to purchase your business gtc. if your franchise agreement is terminated due to your default you must sell to us if we elect any or all equipment signs trade fixtures furnishings and other personal property used in the restaurant at the purchase cost originally installed less depreciation straight line over years minimum. also see. below. your death or disability gtc. if any one of you should die or be disabled the legal representative of the affected party together with all other partners members or shareholders if any have months to apply to transfer the franchise or the interest of the affected party. if the legal representative and other partners members or shareholders do not present an acceptable transferee to us within months or if a transfer fails to occur within year after the date of death or disability your franchise rights will terminate. we will then have the right to purchase all furniture fixtures signs equipment and other chattels at an agreed or appraised price. non competition covenants during the term of the franchise gtc you may not have any interest in any other business which sells or offers to sell substantially similar products of the type we require you to offer at the restaurant nor contest our right or the right of any other franchisee to obtain governmental approval required for the development of another location as a restaurant franchised by us. dms.us. provision section in franchise and related agreements summary. non competition covenants after the franchise is terminated or expires gtc the restrictions described indiana above remain effective for years after the franchise agreement expires or is terminated regardless of the cause except that they do not apply to another business located more than miles from any of our other restaurants. if you think that a mile radius is unreasonable you can arbitrate but you must not engage in competitive activities while we resolve the dispute. this may not be enforceable in some states. see state specific addenda in exhibit. modification of the agreement gtc. generally there are no modifications unless in writing signed by both parties. our operating manuals policies standards and requirements are subject to change. integration merger clause gtc. only the terms of the franchise agreement are binding subject to state law. any representations or promises made outside of the franchise agreement and this disclosure document may not be enforceable. dispute resolution by arbitration or mediation gtc sublease. all disputes between you and us must be settled by arbitration in san jose california. the federal arbitration act governs the franchise agreement except for the following i disputes over the validity or scope of arbitration ii we may litigate to enforce money obligations intentional underreporting of sales an action for declaratory or equitable relief an action based upon your material failure to obey all laws or an action for possession of an interest in real or personal property and iii you may litigate any dispute provided that you first waive your right to a trial by jury and all forms of multiple damages. claim by any party must be brought within years of the party discovery of the facts giving rise to the claim. we both agree to waive our rights to trial by jury and to punitive multiple exemplary and or consequential damages except that we can obtain multiple damages against you for willful trademark infringement. we both agree that no party may recover damages for economic loss attributable to negligent acts or omissions except for gross negligence or an intentional wrong. no party may participate in any class action litigation except you may participate in certain class action arbitration regarding the fundamental choice of forum gtc. arbitration proceedings are administered by the american arbitration association aaa under its commercial arbitration rules and will be conducted in san jose california. dms.us. provision section in franchise and related agreements summary. choice of law gtc. the franchise agreement is governed by the laws of california and the federal arbitration act. state laws may apply nevertheless. see state laws on selected matters appendix and schedules to contracts required by various states appendix ii. the above summaries are as a result of disclosure regulations necessarily brief. you are strongly urged to read in full all provisions of the franchise agreement and other documents before signing any binding documents paying any amounts or making any investments. notes to table note the franchise expires on the termination of the location lease foreclosure of your mortgage drive you loss of the right to possess the location. the sublease provides for a termination of the lease on termination of the franchise agreement. note after the initial year term you will have two five year options to renew. the renewal fee for a five year renewal term will be one half of the then current initial franchise fee. in order to qualify for the renewal you will need to meet the requirements included in the renewal addendum to the franchise agreement. note cure periods may be extended or provided if required by law. note the transfer fee may be reduced if the transfer is of less than of the controlling interest or is to your spouse or children. table restaurant development agreement rda this table lists important provisions of the restaurant development agreement. you should read these provisions in the agreements attached to this disclosure document and discuss them with your lawyer and business advisor. see note. provision section in rda summary a term rda exhibit virgin islands to be determined according to the number of restaurants to be opened. renewal or extension of the term rda. at our sole option if you are in good standing have fully performed under the rda and we determine that more restaurants can be developed in your restaurant development area we may offer you a new rda on the then current form for the same geographic area. dms.us. provision section in rda summary. requirements for you to renew or extend rda. rda advise us in writing if there is a potential for additional restaurants we may offer you a new rda. you must promptly sign new agreement. if you seek to renew your restaurant development agreement at the expiration of the initial term or any renewal term you may be asked to sign a new rda that contains terms and conditions materially different from these in your previous rda such as different fee requirements and territorial rights. termination by you none. not applicable. termination by us without cause none. not applicable. termination by us with cause rda. we can terminate if you fail to timely cure a curable default. cause defined defaults which can be cured rda. failure to pay money when due day cure period. any other breach of agreement day cure period. cure periods may be extended if required by law. cause defined defaults which caimot be cured rda violate the confidentiality provision commit a felony or crime of moral turpitude commit a fraud upon any of our affiliates or us or if we terminate any of your franchise agreements in the dma in this rda is located. i your obligations on termination non renewal rda rda pay all money owed to us. assignment of contract by us rda. we may assign the rda to any person partnership or corporation which agrees in writing to assume our obligations under the rda. following such an assignment we are relieved of future obligations. transfer by you defined rda. rda any transfer requires our approval you may not transfer part of your development rights you must transfer all rights for the remaining restaurants to be developed. our approval of transfer by you rda. we have the right to approve all transfers. conditions for our approval of transfer rda. you must sign a release and pay a transfer fee. our right of first refusal to acquire your business rda. applies to all offers to purchase the rda and any interest in the franchisee. you must send us a copy of your contract and we have days to purchase the rda or interest on the same terms. if we exercise this right you will still have to pay a transfer fee. dms.us. provision section in rda summary. our option to purchase your rda none. not applicable. your death or disability rda. rda must be assigned by estate to an approved transferee within months. non competition covenants during the term none. not applicable. non competition covenants after the rda is terminated or expires none. not applicable. modification of the agreement rda. the rda may only be modified by the parties in writing. integration merger clause rda. only the terms of the rda are binding subject to state law. any representations or promises made outside of the rda and this disclosure document may not be enforceable. dispute resolution by arbitration or mediation rda. you are required to submit most disputes to mediation prior to a complaint being filed in court or in arbitration. arbitration must be commenced within two years after facts giving rise to the claim. state laws may apply nevertheless. see section. below. choice of forum rda. arbitration shall take place at the american arbitration association office in san jose california. choice of law rda. provides that the agreement is interpreted under california law. state laws may apply nevertheless. see state specific addenda exhibit. note the rda is only available in selected markets as determined by us from time to time. item public figures as of the date of this disclosure document we did not use any public figure to promote our franchise. however in the future we may offer certain celebrities a discount on their initial franchise fee on the condition that they make one or more public appearances and announcements to the media and allow their names photographs and information about their celebrity history to be included in news releases. item financial performance representations the ftc franchise rule permits a franchisor to provide information about the actual or potential financial performance of its franchised and or franchisor owned outlets if there is a dms.us. reasonable basis for the information and if the information is included in the disclosure document. financial performance information that differs from that included in item may be given only if a franchisor provides the actual records of an existing outlet you are considering buying or a franchisor supplements the information provided in this item for example by providing about possible performance at a particular location or under particular circumstances. table below represents the sales of franchisee operated togo restaurants that were in operation for more than days within the week period ended december. if a franchisee did not provide complete sales information for die stated period then those figures were not included. as of december we had restaurants open. these restaurants were comprised of traditional restaurants full service full menu in line or freestanding combo restaurants comprised of more than one brand operating in one location typically a baskin robbins ice cream shop and non traditional restaurants limited service limited menu college or stadium location. of the traditional restaurants were operational for the full week period ended december and had submitted weeks of sales reports. table below covers only those traditional restaurants which submitted sales for the full week period ended december. tables and below include only those restaurants which have submitted reports for part or all of the week period ended december. the information in the tables below was prepared using financial information provided to us by the franchisees. the franchisees financial information is not audited. the footnotes to the tables describe the primary information used to create the information provided. you should consider that this information gives no weight to specific locations types of operators investment cost or market conditions. sales and costs may differ widely from one location to another without respect to their geographic region. you must make your own investigation into the likely sales and costs in your specific location and region. prospective franchisee who is purchasing the assets of an existing restaurant should review the actual financial results of the restaurant being purchased. prospective franchisees for non traditional or combo restaurants should not rely on these figures since these type of restaurants may experience different results. table contains the ranges of sales and averages with the high medium high medium low and low categories for traditional restaurants which submitted sales for the full week period ended december. table contains the average food and paper costs as a percentage of sales for traditional restaurants that submitted reports for part or all of the weeks ended december. table contains the average direct labor costs as a percentage of sales for traditional restaurants. dms.us. average restaurant sales table average restaurant sales franchisee owned restaurants for the week period ended december sales high sales quartile medium high sales quartile medium low sales quartile low sales quartile number of restaurants number and at or above average restaurant sales. range in sales high low average average unit volume for all restaurants in table was. restaurants. met or exceeded the average unit volume. footnotes the number of restaurants represents traditional togo restaurants open for the full week period ended december. only locations that have reported sales for this entire period are included. table average food and paper cost franchisee owned restaurants for the week period ended december number of restaurants total average food paper cost and at or below average food paper total. food and paper costs can vary greatly depending on your ability to maintain portion controls and manage regular inventory counts. the average food and paper cost is shown as a percentage of gross sales. food cost includes food cost beverage cost and cost of paper products such as cups napkins sandwich wraps and takeout packaging. dms.us. table average direct labor franchisee owned restaurants for the week period ended december number of restaurants total average direct labor and at or below average direct labor total. footnotes labor cost is shown as a percentage of gross sales. does not include manager salary franchisee salary or draw workers compensation insurance payroll tax medical insurance or any fringe benefits. franchisee who have a manager or who pay themselves a salary or draw will incur higher direct labor costs. additional notes the information set forth above reflects only a limited number of expenses associated with the ongoing operations of a togo restaurant. you will incur many other types of expenses in operating a togo restaurant among them being royalty fee advertising fee occupancy costs rent common area maintenance tax and insurance due to landlord debt service interest bank charges and other finance charges insurance professional fees accounting payroll legal services and operating costs kitchen supplies utilities repair and maintenance smallwares licenses permits credit card gift card fees laundry telephone office supplies and janitorial services. written substantiation for the financial performance representation will be made available to the prospective franchisee upon reasonable request. some outlets have sold this amount. your individual results may differ. there is no assurance that youll sell as much. warnings. many factors including location of the business management capabilities local market conditions competition and other factors are unique to each business and may significantly impact the financial performance of the business. the actual results included in this statement should not be considered as the actual or probable performance results that you should expect through the operation of your business. we do not make any promises or representations of any kind that you will achieve any particular results or level of sales or profitability. dms.us. you are responsible for developing your own business plan for your business. we encourage you to consult with your own accounting business and legal advisors in doing so. in developing the business plan you are cautioned to make necessary allowance for changes in financial results to income expenses or both that may result from operation of your business in different geographic areas or new market areas or during periods of or in areas suffering from economic downturns inflation unemployment or other negative economic influences. except as disclosed in this item we do not furnish or authorize our sales agents to furnish any oral or written information concerning the actual or potential sales income or profits of a restaurant. actual results vary from restaurant to restaurant and we cannot estimate the results of any particular franchise. the extent to which you may succeed at any particular location cannot be predicted. if you receive any financial performance information or projections of your future income you should report it to our management by contacting our vice president of finance susan koch togo franchisor llc north san pedro street san jose california the federal trade commission and the appropriate state regulatory agency. item outlets and franchisee information table number systemwide outlet summary for years to column outlet type column! year column outlets at the start of the year column outlets at the end of the year columns net change franchised outlets company owned total outlets the franchised outlets are franchised by either us or eateries. all of the franchised outlets are substantially similar to that being offered under this disclosure document. the company owned outlets are owned by eateries and are substantially similar to that being offered under this disclosure document. dms.us. table number transfers of outlets from franchisees to new owners other than the franchisor or an affiliate for years to column state column year column number of transfers california oregon total table number status of franchised outlets for years to column state column year column outlets at start of year column outlets opened column terminations column nonrenewals column reacquired by franchisor column ceased operations other reasons column outlets at end of the year arizona california nevada oregon dms.us. column state column year column outlets at start of year column outlets opened column terminations column nonrenewals column reacquired by franchisor column ceased operations other reasons column outlets at end of the year washington. total table number status of company owned outlets for years to column state column year column outlets at start of year column outlets opened column outlets reacquired from franchisees column outlets closed column outlets sold to franchisees column outlets at end of the year california total table number projected openings for as of december column state column franchise agreements signed but outlets not opened column projected new franchised outlets in the next fiscal year column projected new company owned outlets in the current fiscal year arizona california idaho nevada oregon total attached as exhibit is a list of our operating franchisees. exhibit is a list of franchisees who have signed franchise agreements for restaurants that were not yet operational as of dms.us. december. exhibit is a list of the name city and state and business telephone number or if unknown the last home telephone number of every franchisees who has had an outlet terminated cancelled not renewed or otherwise voluntarily or involuntarily ceased to do business under the franchise agreement during the fiscal year ended december or who has not communicated with us within ten weeks of the issuance date of this disclosure document. if you buy this franchise your contact information may be disclosed to other buyers when you leave the franchise system. we have signed confidentiality clauses during the last three fiscal years. in some instances current and former franchisees sign provisions restricting their ability to speak openly about their experience with the togo franchise system. you may wish to speak with current and former franchisees but be aware that not all such franchisees will be able to communicate with you. we have a franchisee advisory council which we created to obtain input from our franchisees on various matters. it does not maintain a separate address. item financial statements attached as exhibit are our audited financial statements for the years ended december december and december together with the report of independent certified accountants. item contracts the following contracts and agreements are included as exhibits. franchise agreement. restaurant development agreement. sublease. addendum to lease. loan documents. state specific addenda. temporary operating agreement. confidentiality agreement. deposit agreement. training materials license agreement. transfer rider item receipts exhibit to this disclosure document contains two receipt pages by which you acknowledge your receipt of this disclosure document. one of the copies is for your records and one must signed dated and returned to us at least calendar days before you sign the franchise agreement or pay any fee to us. dms.us. exhibit list of state administrators and agents for service of process dms.us. exhibit list of state administrators and agents to receive service of process california department of corporations street suite sacramento california corporations commissioner street suite sacramento california washington department of financial institutions securities division. box olympia washington same or physical address is israel road south-west tumwater washington dms.us.'"
      ]
     },
     "execution_count": 26,
     "metadata": {},
     "output_type": "execute_result"
    }
   ],
   "source": [
    "texts[9]"
   ]
  },
  {
   "cell_type": "code",
   "execution_count": 27,
   "id": "c74c2aee-e0c7-47e1-9620-1785ee8e9236",
   "metadata": {
    "editable": true,
    "slideshow": {
     "slide_type": "slide"
    },
    "tags": []
   },
   "outputs": [
    {
     "data": {
      "text/plain": [
       "{'federal trade commission', 'togo franchisor llc'}"
      ]
     },
     "execution_count": 27,
     "metadata": {},
     "output_type": "execute_result"
    }
   ],
   "source": [
    "FE.get_firm(texts[9])"
   ]
  },
  {
   "cell_type": "markdown",
   "id": "748b1572-a3c3-41b1-83d6-61939dc21147",
   "metadata": {
    "editable": true,
    "slideshow": {
     "slide_type": "slide"
    },
    "tags": []
   },
   "source": [
    "Much like the other tools, you can also use the batch version of FirmExtract for much quicker processing:"
   ]
  },
  {
   "cell_type": "code",
   "execution_count": 28,
   "id": "fde58b53-299d-4e1c-83c0-f14e297b6846",
   "metadata": {
    "editable": true,
    "slideshow": {
     "slide_type": "subslide"
    },
    "tags": []
   },
   "outputs": [
    {
     "data": {
      "application/vnd.jupyter.widget-view+json": {
       "model_id": "3590d61750f34fbaabc5c54a557ddb24",
       "version_major": 2,
       "version_minor": 0
      },
      "text/plain": [
       "  0%|          | 0/10 [00:00<?, ?it/s]"
      ]
     },
     "metadata": {},
     "output_type": "display_data"
    },
    {
     "data": {
      "text/plain": [
       "[{'federal trade commission.'},\n",
       " {'buymg'},\n",
       " {'trade'},\n",
       " {'adkins carter carter', 'carter carter'},\n",
       " {'franchising', 'trade'},\n",
       " {'healthy'},\n",
       " {'ace', 'ace sushi franchise', 'franchise'},\n",
       " None,\n",
       " None,\n",
       " {'federal trade commission', 'togo franchisor llc'}]"
      ]
     },
     "execution_count": 28,
     "metadata": {},
     "output_type": "execute_result"
    }
   ],
   "source": [
    "FE.get_firm_batch(texts)"
   ]
  },
  {
   "cell_type": "markdown",
   "id": "a741a8ce-df5d-4d89-9824-26f9c629a4d3",
   "metadata": {
    "editable": true,
    "slideshow": {
     "slide_type": "slide"
    },
    "tags": []
   },
   "source": [
    "# That's all! Start using JAAT today."
   ]
  }
 ],
 "metadata": {
  "kernelspec": {
   "display_name": "Python 3 (ipykernel)",
   "language": "python",
   "name": "python3"
  },
  "language_info": {
   "codemirror_mode": {
    "name": "ipython",
    "version": 3
   },
   "file_extension": ".py",
   "mimetype": "text/x-python",
   "name": "python",
   "nbconvert_exporter": "python",
   "pygments_lexer": "ipython3",
   "version": "3.10.12"
  }
 },
 "nbformat": 4,
 "nbformat_minor": 5
}
