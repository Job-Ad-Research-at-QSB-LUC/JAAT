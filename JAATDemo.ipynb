{
 "cells": [
  {
   "cell_type": "markdown",
   "id": "f36cec1d-ccbd-4d8e-b2cc-066de9d5c83f",
   "metadata": {
    "slideshow": {
     "slide_type": "slide"
    },
    "tags": []
   },
   "source": [
    "# JAAT Demo\n"
   ]
  },
  {
   "cell_type": "markdown",
   "id": "65f6539d-7920-41f1-a5e9-4cfcb75a4a3e",
   "metadata": {
    "slideshow": {
     "slide_type": "subslide"
    },
    "tags": []
   },
   "source": [
    "A short demonstration of Job Ad Analysis Toolkit (JAAT) - efficiently and accurately extracting information from job ad texts."
   ]
  },
  {
   "cell_type": "markdown",
   "id": "03e43c53-a532-4f76-9339-b87e2b46d470",
   "metadata": {
    "slideshow": {
     "slide_type": "slide"
    },
    "tags": []
   },
   "source": [
    "# Simple Startup"
   ]
  },
  {
   "cell_type": "code",
   "execution_count": null,
   "id": "52b6b682-680a-4d71-a9e6-72f104f8f5d3",
   "metadata": {
    "slideshow": {
     "slide_type": "subslide"
    },
    "tags": []
   },
   "outputs": [],
   "source": [
    "from pprint import pprint\n",
    "import nltk\n",
    "from tqdm.auto import tqdm\n",
    "import time\n",
    "import pandas as pd\n",
    "import random\n",
    "from pathlib import Path\n",
    "\n",
    "from JAAT import TaskMatch"
   ]
  },
  {
   "cell_type": "code",
   "execution_count": 2,
   "id": "186df90d-e362-4ab1-9bc4-8bd2ea56f6b9",
   "metadata": {
    "slideshow": {
     "slide_type": "subslide"
    },
    "tags": []
   },
   "outputs": [
    {
     "name": "stdout",
     "output_type": "stream",
     "text": [
      "INIT\n",
      "Preparing embeddings...\n"
     ]
    },
    {
     "data": {
      "application/vnd.jupyter.widget-view+json": {
       "model_id": "d67a89481f814fc5b99c77e7990c9064",
       "version_major": 2,
       "version_minor": 0
      },
      "text/plain": [
       "Batches:   0%|          | 0/295 [00:00<?, ?it/s]"
      ]
     },
     "metadata": {},
     "output_type": "display_data"
    },
    {
     "name": "stdout",
     "output_type": "stream",
     "text": [
      "Setting up pipeline...\n",
      "Finished.\n"
     ]
    }
   ],
   "source": [
    "# load TaskMatch - performs setup steps\n",
    "TM = TaskMatch()"
   ]
  },
  {
   "cell_type": "markdown",
   "id": "b922d086-b464-4926-b316-2a3362bb5387",
   "metadata": {
    "slideshow": {
     "slide_type": "slide"
    },
    "tags": []
   },
   "source": [
    "# Extracting Task IDs from Job Ad Texts"
   ]
  },
  {
   "cell_type": "markdown",
   "id": "b090d075-e8b6-439c-a8fb-80522b99f730",
   "metadata": {
    "slideshow": {
     "slide_type": "slide"
    },
    "tags": []
   },
   "source": [
    "Let's start off with a sample job ad:"
   ]
  },
  {
   "cell_type": "code",
   "execution_count": 3,
   "id": "68982f0c-a583-4d7c-851c-81e603e5ea2e",
   "metadata": {
    "slideshow": {
     "slide_type": "subslide"
    },
    "tags": []
   },
   "outputs": [],
   "source": [
    "job = \"\"\"\n",
    "Junior Full Stack Software Developer\n",
    "\n",
    "Description\n",
    "Develops software solutions by studying information needs; conferring with users; studying systems flow, data usage, and work processes; investigating problem areas; following the software development lifecycle.\n",
    "Determines operational feasibility by evaluating analysis, problem definition, requirements, solution development, and proposed solutions.\n",
    "Documents and demonstrates solutions by developing documentation, flowcharts, layouts, diagrams, charts, code comments and clear code.\n",
    "Supports and develops software developers by providing advice, coaching and educational opportunities.\n",
    "Other duties as required.\n",
    "\n",
    "About Us\n",
    "We are a small team of dedicated professionals that work to support the business objectives of our company as well as developing innovative software solutions for other companies in our industry. If you join our team, you will have the opportunity to work with a wide variety of technologies in a fast-paced development environment that caters to innovation and efficiency as opposed to rigid processes and ingrained mentalities. If you like to code, can follow other people’s code, can work in a team, and for a team, we say come and talk to us (mention ‘verko’ in your cover letter). We believe our company is a nice place to work and grow your skills, where working smart is appreciated as much as working hard.\n",
    "Requirements:\n",
    "\n",
    "Experience Requirements\n",
    "Bachelor’s degree in computer science, MIS, other related field or relevant experience.\n",
    "Experience with the Microsoft .NET technology stack (C#, MVC, Web API, Web Forms, etc.)\n",
    "Experience with JavaScript frameworks (ReactJS, Node.js preferred).\n",
    "Experience with relational databases (MS SQL preferred)\n",
    "Experience with code versioning tools, such as Git.\n",
    "Experience with modern software design patterns, debugging and refactoring.\n",
    "Familiarity with continuous integration and automated build products like Team City and Azure DevOps\n",
    "Geographical Requirements\n",
    "Applicants from Glastonbury/Hartford CT and the vicinity will be favored.\n",
    "Applicants from outside of New England states will not be considered.\n",
    "\"\"\""
   ]
  },
  {
   "cell_type": "markdown",
   "id": "276d6086-57dd-4b6d-bfc9-4e30f7a7ccd7",
   "metadata": {
    "slideshow": {
     "slide_type": "slide"
    },
    "tags": []
   },
   "source": [
    "To extract task IDs from the job, simply call:"
   ]
  },
  {
   "cell_type": "code",
   "execution_count": 4,
   "id": "9cecaa13-277a-4458-99de-812a2c98db78",
   "metadata": {
    "slideshow": {
     "slide_type": "subslide"
    },
    "tags": []
   },
   "outputs": [
    {
     "name": "stdout",
     "output_type": "stream",
     "text": [
      "[('16363', 'Identify operational requirements for new systems to inform selection of technological solutions.'),\n",
      " ('16987', 'Prepare documentation or presentations, including charts, photos, or graphs.'),\n",
      " ('9583', 'Assign duties to other staff and give instructions regarding work methods and routines.')]\n"
     ]
    }
   ],
   "source": [
    "tasks = TM.get_tasks(job)\n",
    "pprint(tasks, width=120)"
   ]
  },
  {
   "cell_type": "markdown",
   "id": "50d1065d-4e28-4c87-bf4a-4d7d62a7a33d",
   "metadata": {
    "slideshow": {
     "slide_type": "slide"
    },
    "tags": []
   },
   "source": [
    "## Great! But let's look under the hood"
   ]
  },
  {
   "cell_type": "markdown",
   "id": "68551c91-e427-4854-881e-2120a07d3982",
   "metadata": {
    "slideshow": {
     "slide_type": "slide"
    },
    "tags": []
   },
   "source": [
    "Before matching to task IDs, TaskMatch first identifies candidate sentences. To do a this, a classifier model identifies which segments of the job ad text are potentially task statements. Going back to the example:"
   ]
  },
  {
   "cell_type": "code",
   "execution_count": 5,
   "id": "8d5a1c48-6e23-4bbe-8609-ccddd0096e65",
   "metadata": {
    "slideshow": {
     "slide_type": "subslide"
    },
    "tags": []
   },
   "outputs": [
    {
     "name": "stdout",
     "output_type": "stream",
     "text": [
      "['(1) Junior Full Stack Software Developer\\n'\n",
      " '\\n'\n",
      " 'Description\\n'\n",
      " 'Develops software solutions by studying information needs; conferring with users; studying systems flow, data usage, and work processes; '\n",
      " 'investigating problem areas; following the software development lifecycle.',\n",
      " '(2) Determines operational feasibility by evaluating analysis, problem definition, requirements, solution development, and proposed solutions.',\n",
      " '(3) Documents and demonstrates solutions by developing documentation, flowcharts, layouts, diagrams, charts, code comments and clear code.',\n",
      " '(4) Supports and develops software developers by providing advice, coaching and educational opportunities.',\n",
      " '(5) Other duties as required.',\n",
      " '(6) Experience with modern software design patterns, debugging and refactoring.']\n"
     ]
    }
   ],
   "source": [
    "candidates = [\"({}) \".format(i+1)+x.strip() for i, x in enumerate(TM.get_candidates(job))]\n",
    "pprint(candidates, width=150)"
   ]
  },
  {
   "cell_type": "code",
   "execution_count": 6,
   "id": "888be459-341a-48f8-a7b9-f829c90091dc",
   "metadata": {
    "slideshow": {
     "slide_type": "subslide"
    },
    "tags": []
   },
   "outputs": [
    {
     "data": {
      "text/plain": [
       "16"
      ]
     },
     "execution_count": 6,
     "metadata": {},
     "output_type": "execute_result"
    }
   ],
   "source": [
    "len(nltk.sent_tokenize(job))"
   ]
  },
  {
   "cell_type": "markdown",
   "id": "d94a1d3e-273c-49aa-97c1-28b2bbeca9b1",
   "metadata": {
    "slideshow": {
     "slide_type": "subslide"
    },
    "tags": []
   },
   "source": [
    "So we see that six candidates are identified out of the 16 \"sentences\" in the job ad. From these we can narrow down to three matched tasks."
   ]
  },
  {
   "cell_type": "markdown",
   "id": "065d15a9-455f-474b-bfb9-73aab1e6141b",
   "metadata": {
    "slideshow": {
     "slide_type": "slide"
    },
    "tags": []
   },
   "source": [
    "## Batch Processing"
   ]
  },
  {
   "cell_type": "markdown",
   "id": "c352f4b1-295a-4375-b445-0608d4d1805f",
   "metadata": {
    "slideshow": {
     "slide_type": "slide"
    },
    "tags": []
   },
   "source": [
    "What if we want to process many job ads at once? Use our batch processing function."
   ]
  },
  {
   "cell_type": "markdown",
   "id": "b4cffd2e-1259-49da-9e12-6e132434f6fa",
   "metadata": {
    "slideshow": {
     "slide_type": "subslide"
    },
    "tags": []
   },
   "source": [
    "Let's first load in a large file of job ad \"sentences\"."
   ]
  },
  {
   "cell_type": "code",
   "execution_count": 7,
   "id": "540f675c-9cbb-49d4-a114-0c99b37b780a",
   "metadata": {
    "slideshow": {
     "slide_type": "subslide"
    },
    "tags": []
   },
   "outputs": [
    {
     "data": {
      "text/plain": [
       "27710"
      ]
     },
     "execution_count": 7,
     "metadata": {},
     "output_type": "execute_result"
    }
   ],
   "source": [
    "with open(\"./data/demo/TaskMatch/sample_job_ads_in_line.csv\", 'r') as f:\n",
    "    sentences = [x.strip() for x in f.readlines()]\n",
    "len(sentences)"
   ]
  },
  {
   "cell_type": "markdown",
   "id": "d045b291-d74b-46d6-9602-8682c5dddf16",
   "metadata": {
    "slideshow": {
     "slide_type": "slide"
    },
    "tags": []
   },
   "source": [
    "Let's look at a couple samples."
   ]
  },
  {
   "cell_type": "code",
   "execution_count": 8,
   "id": "0e9b630e-3dc5-4fd5-b197-ce5297d17f77",
   "metadata": {
    "slideshow": {
     "slide_type": "subslide"
    },
    "tags": []
   },
   "outputs": [
    {
     "data": {
      "text/plain": [
       "'Pack luggage for travel and move bags to the proper place.'"
      ]
     },
     "execution_count": 8,
     "metadata": {},
     "output_type": "execute_result"
    }
   ],
   "source": [
    "sentences[1]"
   ]
  },
  {
   "cell_type": "code",
   "execution_count": 9,
   "id": "ca08f8f1-6a77-4a78-a9ec-05e775b3b1d5",
   "metadata": {
    "slideshow": {
     "slide_type": "subslide"
    },
    "tags": []
   },
   "outputs": [
    {
     "data": {
      "text/plain": [
       "'Play with dogs.'"
      ]
     },
     "execution_count": 9,
     "metadata": {},
     "output_type": "execute_result"
    }
   ],
   "source": [
    "sentences[11]"
   ]
  },
  {
   "cell_type": "code",
   "execution_count": 10,
   "id": "30b732e6-b606-4b9a-b559-57811e070ed3",
   "metadata": {
    "slideshow": {
     "slide_type": "subslide"
    },
    "tags": []
   },
   "outputs": [
    {
     "data": {
      "text/plain": [
       "'Participate in the call back of service requests to monitor resident satisfaction.'"
      ]
     },
     "execution_count": 10,
     "metadata": {},
     "output_type": "execute_result"
    }
   ],
   "source": [
    "sentences[111]"
   ]
  },
  {
   "cell_type": "markdown",
   "id": "7e5040ea-374e-40a5-b5bb-d4a5e8c3bef2",
   "metadata": {
    "slideshow": {
     "slide_type": "slide"
    },
    "tags": []
   },
   "source": [
    "Let's first see how long it would take to process these texts sequentially."
   ]
  },
  {
   "cell_type": "code",
   "execution_count": 11,
   "id": "602f46c1-dbfc-4c94-901f-5d32ee5616d9",
   "metadata": {
    "slideshow": {
     "slide_type": "subslide"
    },
    "tags": []
   },
   "outputs": [
    {
     "data": {
      "application/vnd.jupyter.widget-view+json": {
       "model_id": "2bd57e9eb2f84f6fbdee5861ba677f99",
       "version_major": 2,
       "version_minor": 0
      },
      "text/plain": [
       "  0%|          | 0/27 [00:00<?, ?it/s]"
      ]
     },
     "metadata": {},
     "output_type": "display_data"
    },
    {
     "name": "stdout",
     "output_type": "stream",
     "text": [
      "5382.537603378296\n"
     ]
    }
   ],
   "source": [
    "start = time.time()\n",
    "for t in tqdm(sentences[:int(len(sentences)/1000)]):\n",
    "    res = TM.get_tasks(t)\n",
    "end = time.time() - start\n",
    "print(end*1000)"
   ]
  },
  {
   "cell_type": "markdown",
   "id": "de5139ff-f456-497d-886f-ee3ddda2746a",
   "metadata": {
    "slideshow": {
     "slide_type": "slide"
    },
    "tags": []
   },
   "source": [
    "And now using our batch processing..."
   ]
  },
  {
   "cell_type": "code",
   "execution_count": 12,
   "id": "98fc25d2-9ae9-491b-b82f-bd0d3088e760",
   "metadata": {
    "slideshow": {
     "slide_type": "subslide"
    },
    "tags": []
   },
   "outputs": [
    {
     "name": "stdout",
     "output_type": "stream",
     "text": [
      "133.48082518577576\n"
     ]
    }
   ],
   "source": [
    "start = time.time()\n",
    "res = TM.get_tasks_batch(sentences)\n",
    "end = time.time() - start\n",
    "print(end)"
   ]
  },
  {
   "cell_type": "markdown",
   "id": "b1013e63-a2b7-490d-a5fe-f9cdff204062",
   "metadata": {
    "slideshow": {
     "slide_type": "subslide"
    },
    "tags": []
   },
   "source": [
    "Much faster!"
   ]
  },
  {
   "cell_type": "markdown",
   "id": "162845ad-f46d-483d-926f-4569713b010a",
   "metadata": {
    "slideshow": {
     "slide_type": "slide"
    },
    "tags": []
   },
   "source": [
    "Finally, the output tasks matches for our three examples:"
   ]
  },
  {
   "cell_type": "code",
   "execution_count": 13,
   "id": "f011d990-1926-4c6f-a056-9b29f5af12f2",
   "metadata": {
    "slideshow": {
     "slide_type": "subslide"
    },
    "tags": []
   },
   "outputs": [
    {
     "name": "stdout",
     "output_type": "stream",
     "text": [
      "[('3151', 'Load and unload baggage in baggage compartments.')]\n"
     ]
    }
   ],
   "source": [
    "pprint(res[1], width=150)"
   ]
  },
  {
   "cell_type": "code",
   "execution_count": 14,
   "id": "386735f3-a6d1-4d39-8fe3-efa3964474c1",
   "metadata": {
    "slideshow": {
     "slide_type": "subslide"
    },
    "tags": []
   },
   "outputs": [
    {
     "name": "stdout",
     "output_type": "stream",
     "text": [
      "[('4321', 'Exercise animals or provide them with companionship.')]\n"
     ]
    }
   ],
   "source": [
    "pprint(res[11], width=150)"
   ]
  },
  {
   "cell_type": "code",
   "execution_count": 15,
   "id": "5292ce0b-9400-4205-9e0d-c4adf904677b",
   "metadata": {
    "slideshow": {
     "slide_type": "subslide"
    },
    "tags": []
   },
   "outputs": [
    {
     "name": "stdout",
     "output_type": "stream",
     "text": [
      "[]\n"
     ]
    }
   ],
   "source": [
    "pprint(res[111], width=150)"
   ]
  },
  {
   "cell_type": "markdown",
   "id": "85f00e8a-e6ad-4b0d-89c8-5b7b76d52a5e",
   "metadata": {
    "slideshow": {
     "slide_type": "slide"
    },
    "tags": []
   },
   "source": [
    "# Matching Titles from Job Ad Titles"
   ]
  },
  {
   "cell_type": "markdown",
   "id": "9d23be4d-26f3-4bc9-a14c-c7526235e946",
   "metadata": {
    "slideshow": {
     "slide_type": "slide"
    },
    "tags": []
   },
   "source": [
    "What if we want to match job titles found in job ads with those established in the O*NET framework? Use our tool!"
   ]
  },
  {
   "cell_type": "code",
   "execution_count": 16,
   "id": "312cc7a1-862f-4a1b-967b-ca1357fd08bf",
   "metadata": {
    "slideshow": {
     "slide_type": "subslide"
    },
    "tags": []
   },
   "outputs": [
    {
     "name": "stdout",
     "output_type": "stream",
     "text": [
      "INIT\n",
      "Loading data...\n",
      "Preparing embeddings...\n"
     ]
    },
    {
     "data": {
      "application/vnd.jupyter.widget-view+json": {
       "model_id": "3bacf96c7a07401c9d304a332c24063a",
       "version_major": 2,
       "version_minor": 0
      },
      "text/plain": [
       "Batches:   0%|          | 0/1424 [00:00<?, ?it/s]"
      ]
     },
     "metadata": {},
     "output_type": "display_data"
    }
   ],
   "source": [
    "from JAAT import TitleMatch\n",
    "TiM = TitleMatch()"
   ]
  },
  {
   "cell_type": "markdown",
   "id": "1ebafb57-8eae-4287-8c3d-ac0f70e619af",
   "metadata": {
    "slideshow": {
     "slide_type": "slide"
    },
    "tags": []
   },
   "source": [
    "Now let's load of a sample of titles."
   ]
  },
  {
   "cell_type": "code",
   "execution_count": 17,
   "id": "8b93be8e-1280-4471-a17b-4a7e2b754cdc",
   "metadata": {
    "slideshow": {
     "slide_type": "subslide"
    },
    "tags": []
   },
   "outputs": [
    {
     "data": {
      "text/plain": [
       "0                                     SBA Loan Associate\n",
       "1                                         Credit Analyst\n",
       "2                              Scientist, Lead Discovery\n",
       "3                                   Maintenance Director\n",
       "4                                             Engineer I\n",
       "                             ...                        \n",
       "985                 $1500 Signing Bonus Home Health Aide\n",
       "986    Home Health Aide - Home Health - New River Val...\n",
       "987                                     Home Health Aide\n",
       "988                                     Home Health Aide\n",
       "989                          Medical Lab Technician/UKHC\n",
       "Name: job_title, Length: 990, dtype: object"
      ]
     },
     "execution_count": 17,
     "metadata": {},
     "output_type": "execute_result"
    }
   ],
   "source": [
    "data = pd.read_excel(\"data/demo/TitleMatch/JobAdsData2022_OSF.xlsx\")\n",
    "data.job_title"
   ]
  },
  {
   "cell_type": "code",
   "execution_count": 18,
   "id": "415b1990-725b-4d9f-8cf0-59cafe5eea17",
   "metadata": {
    "slideshow": {
     "slide_type": "slide"
    },
    "tags": []
   },
   "outputs": [
    {
     "data": {
      "text/plain": [
       "'Operations Engineer'"
      ]
     },
     "execution_count": 18,
     "metadata": {},
     "output_type": "execute_result"
    }
   ],
   "source": [
    "data.job_title[42]"
   ]
  },
  {
   "cell_type": "code",
   "execution_count": 19,
   "id": "27ead0b0-2a69-474d-83fc-fcaede541455",
   "metadata": {
    "slideshow": {
     "slide_type": "subslide"
    },
    "tags": []
   },
   "outputs": [
    {
     "data": {
      "text/plain": [
       "'ESL Processing Operator'"
      ]
     },
     "execution_count": 19,
     "metadata": {},
     "output_type": "execute_result"
    }
   ],
   "source": [
    "data.job_title[123]"
   ]
  },
  {
   "cell_type": "markdown",
   "id": "41bb44ba-91bc-4f74-a20a-e45a85635a20",
   "metadata": {
    "slideshow": {
     "slide_type": "slide"
    },
    "tags": []
   },
   "source": [
    "We can use TitleMatch to match a single text:"
   ]
  },
  {
   "cell_type": "code",
   "execution_count": 20,
   "id": "a0e159ee-18bc-4579-8e80-1d9c75038af5",
   "metadata": {
    "slideshow": {
     "slide_type": "subslide"
    },
    "tags": []
   },
   "outputs": [
    {
     "data": {
      "application/vnd.jupyter.widget-view+json": {
       "model_id": "21d4b032dc59485d8220b1305c0eb6eb",
       "version_major": 2,
       "version_minor": 0
      },
      "text/plain": [
       "Batches:   0%|          | 0/1 [00:00<?, ?it/s]"
      ]
     },
     "metadata": {},
     "output_type": "display_data"
    },
    {
     "data": {
      "text/plain": [
       "[('Operations Engineer', '17-2112.00', 1.0)]"
      ]
     },
     "execution_count": 20,
     "metadata": {},
     "output_type": "execute_result"
    }
   ],
   "source": [
    "TiM.get_title(data.job_title[42])"
   ]
  },
  {
   "cell_type": "code",
   "execution_count": 21,
   "id": "3df44afa-f5c8-40b2-9e34-2353286f56fe",
   "metadata": {
    "slideshow": {
     "slide_type": "subslide"
    },
    "tags": []
   },
   "outputs": [
    {
     "data": {
      "application/vnd.jupyter.widget-view+json": {
       "model_id": "fcd46d9c77df477aad7fb51286018063",
       "version_major": 2,
       "version_minor": 0
      },
      "text/plain": [
       "Batches:   0%|          | 0/1 [00:00<?, ?it/s]"
      ]
     },
     "metadata": {},
     "output_type": "display_data"
    },
    {
     "data": {
      "text/plain": [
       "[('Processing Operator', '51-3091.00', 0.943)]"
      ]
     },
     "execution_count": 21,
     "metadata": {},
     "output_type": "execute_result"
    }
   ],
   "source": [
    "TiM.get_title(data.job_title[123])"
   ]
  },
  {
   "cell_type": "markdown",
   "id": "c22e7f91-9c0a-4238-a7f0-d9ec3388962c",
   "metadata": {
    "slideshow": {
     "slide_type": "slide"
    },
    "tags": []
   },
   "source": [
    "Use the same function to process a list of job titles all at once!"
   ]
  },
  {
   "cell_type": "code",
   "execution_count": 22,
   "id": "7332bad2-1e08-4991-9ab4-4842622133d8",
   "metadata": {
    "slideshow": {
     "slide_type": "subslide"
    },
    "tags": []
   },
   "outputs": [
    {
     "data": {
      "application/vnd.jupyter.widget-view+json": {
       "model_id": "95635b637bf14d138d15fb49fade9d80",
       "version_major": 2,
       "version_minor": 0
      },
      "text/plain": [
       "Batches:   0%|          | 0/31 [00:00<?, ?it/s]"
      ]
     },
     "metadata": {},
     "output_type": "display_data"
    }
   ],
   "source": [
    "results = TiM.get_title(data.job_title.to_list())"
   ]
  },
  {
   "cell_type": "markdown",
   "id": "e6d1a195-028f-4a85-892f-94eebaa6126b",
   "metadata": {
    "slideshow": {
     "slide_type": "slide"
    },
    "tags": []
   },
   "source": [
    "Looking at a random sample of 10 results..."
   ]
  },
  {
   "cell_type": "code",
   "execution_count": 23,
   "id": "bca70efa-92ed-4556-b60a-ab7c684a2910",
   "metadata": {
    "slideshow": {
     "slide_type": "subslide"
    },
    "tags": []
   },
   "outputs": [
    {
     "name": "stdout",
     "output_type": "stream",
     "text": [
      "{'Assistant/Associate Professor of Christian Theology': ('Theology Professor', '25-1126.00', 0.947),\n",
      " 'Boiler Technician': ('Boiler Technician', '47-2011.00', 1.0),\n",
      " 'Business Operations Analyst': ('Business Operations Analyst', '13-1111.00', 1.0),\n",
      " 'CNA I or CNA II': ('Certified Nursing Assistant (CNA)', '29-9093.00', 0.898),\n",
      " 'Distribution Systems Administrator/Support': ('Distribution System Operator', '51-8012.00', 0.93),\n",
      " 'Manager - Annuity Product Applications\\n': ('Pension Fund Manager', '11-3031.03', 0.895),\n",
      " 'Mechanical Technician I': ('Mechanical Technician', '49-2092.00', 0.97),\n",
      " 'Night Customer Service Representative': ('Customer Service Representative', '43-4041.00', 0.917),\n",
      " 'Physician - Venice Family Clinic': ('Family Physician', '29-1215.00', 0.914),\n",
      " 'Revenue Accountant': ('Revenue Accountant', '13-2011.00', 1.0)}\n"
     ]
    }
   ],
   "source": [
    "d = dict(zip(data.job_title, results))\n",
    "pprint({k:d[k] for k in random.sample(sorted(d), k=10)}, width=150)"
   ]
  },
  {
   "cell_type": "markdown",
   "id": "0616790b-3ffe-407e-b37b-84cba2709d5b",
   "metadata": {
    "slideshow": {
     "slide_type": "slide"
    },
    "tags": []
   },
   "source": [
    "# Extracting Firm Names from Text Documents"
   ]
  },
  {
   "cell_type": "markdown",
   "id": "c5c9dab2-bde3-4713-8332-27ede6136484",
   "metadata": {
    "slideshow": {
     "slide_type": "slide"
    },
    "tags": []
   },
   "source": [
    "Using FirmExtract, we can efficiently extract firm names from text documents, be it job ads or other documents."
   ]
  },
  {
   "cell_type": "code",
   "execution_count": 24,
   "id": "0792b020-2aed-41e4-9a09-95cab732f574",
   "metadata": {
    "slideshow": {
     "slide_type": "subslide"
    },
    "tags": []
   },
   "outputs": [
    {
     "name": "stdout",
     "output_type": "stream",
     "text": [
      "INIT\n"
     ]
    }
   ],
   "source": [
    "from JAAT import FirmExtract\n",
    "FE = FirmExtract()"
   ]
  },
  {
   "cell_type": "markdown",
   "id": "f4dce7cd-fa28-414e-89fd-d2654338b200",
   "metadata": {
    "slideshow": {
     "slide_type": "slide"
    },
    "tags": []
   },
   "source": [
    "Now let's load a sample of 10 franchise documents, found in our demo data folder."
   ]
  },
  {
   "cell_type": "code",
   "execution_count": 25,
   "id": "b0cab2f2-84cd-4e16-8b84-af432f71a9cb",
   "metadata": {
    "slideshow": {
     "slide_type": "subslide"
    },
    "tags": []
   },
   "outputs": [
    {
     "data": {
      "text/plain": [
       "10"
      ]
     },
     "execution_count": 25,
     "metadata": {},
     "output_type": "execute_result"
    }
   ],
   "source": [
    "texts = []\n",
    "for file in Path(\"data/demo/FirmExtract/\").glob(\"*\"):\n",
    "    with open(file, 'r') as f:\n",
    "        texts.append(f.read().strip())\n",
    "len(texts)"
   ]
  },
  {
   "cell_type": "markdown",
   "id": "3063c0e9-bdce-4a66-86b1-9cd04c0b07eb",
   "metadata": {
    "slideshow": {
     "slide_type": "slide"
    },
    "tags": []
   },
   "source": [
    "Let's focus on one document first:"
   ]
  },
  {
   "cell_type": "code",
   "execution_count": 26,
   "id": "0df7656f-cae3-4693-866a-a76d936680d9",
   "metadata": {
    "slideshow": {
     "slide_type": "subslide"
    },
    "tags": []
   },
   "outputs": [
    {
     "data": {
      "text/plain": [
       "'th place east suite minnesota a i a department of mn.gov commerce. fax. an equal opportunity employer march barry kurtz attorney at law oxnard street suite woodland hills california re ace sushi franchise corporation ace sushi franchise corporation dear mister kurtz the annual report has been reviewed and is in compliance with minnesota statute chapter society and minnesota rules chapter. this means that there continues to be an effective registration statement on file and that the franchisor may offer and sell the above referenced franchise in minnesota. the franchisor is not required to escrow franchise fees post a franchise surety bond or defer receipt of franchise fees during this registration period. as a reminder the next annual report is due within days after the franchisor fiscal year end which is december. sincerely mike rothman commissioner by daniel sexton commerce analyst supervisor registration division mr des dlw state of minnesota department of commerce registration division in the matter of the registration of ace sushi franchise corporation by ace sushi franchise corporation order amending registration whereas an a i a i amend the i a i and amendment fee have been i it is hereby ordered that the i a i dated august i amended as of the date set below. royal yt rhode island mike rothman commissioner department of commerce th place east sui street paul minnesota date march i uniform franchise registration apbocath file number of previous filings fee state minnesota application for check only one. initial registration of offer and sale of franchises. jw renewal application or report pre effective amendment post effective material amendment tf. full legal name of franchisor ace sushi franchise corporation. name of franchise offering ace sushi. i franchisor principal business address. ace sushi franchise corporation west street suite gardena california. name and address of franchisor agent in this state authorized to receive process. minnesota department of commerce place east suite street paul minnesota. the states in which this application is or will be shortly on file california hawaii illinois indiana maryland minnesota new york rhode island virginia washington and wisconsin. name address and telephone number of person to whom communications regarding this application should be directed. barry kurtz esq. kurtz law group professional corporation oxnard street suite woodland hills california telephone fax bkurtz kurtzfranchiselaw.com kurtz law group professional corporation franchise law first and foremost barry kurtz certified specialist franchise distribution law the stale bar of california board of legal speciolizadon candice. lee bryan. clements of counsel ezra brutzkus gubner llp mark melton march via federal express minnesota department of commerce th place east suite street paul minnesota attn daniel sexton re ace sushi franchise corporation file no dear mister sexton enclosed for filing as a franchise registration renewal application on behalf of ace sushi franchise corporation are the following items. check for the filing fee in the amount of. uniform franchise registration application forms. uniform consent to service of process. franchisor costs and source of funds form. salesperson disclosure forms. auditor consent letter. redlined copy denoting revisions and a complete clean copy of the ufdd and all exhibits please date stamp the enclosed copy of thid letter and return to our offices in the envelope provided for your convenience. should you require any further information please feel free to contact us at anytime. my direct line island my email address is pkaravanich kurtzfranchiselaw.com. truly yours. kurtz rai ud camp jroup professional corporation oxnard street suite woodland hills california state street suite santa baibara california disclosure verification certify and swear under penalty of law that have read and know the contents of this application including the franchise disclosure document with an issuance date of attached as an exhibit and that all material facts stated in all those documents are accurate and those documents do not contain any material omissions. further certify that am duly authorized to make this certification on behalf of the franchisor and that do so upon my personal knowledge. executed at gardena california on flf. ace sushi franchise corporation california corpora state of california county of los angeles. chin president on ftltfsch before maine grboe here insert name and title of the officer personally appeared harlan. chin who proved to me on the basis of satisfactory evidence to be the person whose name is are subscribed to the within instrument and acknowledged to me that he she they executed the same in his her their authorized capadty ies and that by his her their signature on the instrument the person or the entity upon behalf of which the person acted executed the instrument. certify under penalty of perjury under the laws of the state of california that the foregoing paragraph is true and correct. witness my hand and offidal seal. california floor pctorella los angeles county omr jrnse uniform franchise consent to service of process ace sushi franchise corporation a corporation organized under the laws of the state of california the franchisor irrevocably appoints the officers of the states designated below and their successors in those offices its attorney in those states for service of notice process or pleading in an action or proceeding against it arising out of or in connection with the sale of fraihchis or a violation of the franchise laws that state and consents that an action or proceeding against it may be commenced in a court of competent jurisdiction and proper venue within that state by service of process upon this officer with the same effect as if the undersigned was organized or created under the laws of that state and had lawfully been served with process in that state. we have checked below each state in which this application is or will be shortly on file and provided a duplicate original bearing an original signature to each state. california commissioner of corporations hawaii commissioner of securities illinois attorney general indiana secretary of state maryland securities commissioner minnesota commissioner of commerce new york secretary of state north dakota securities commissioner rhode island director department of business regulation south dakota director of the division ofsecurities virginia clerk virginia state corporation commission washington director of financial i institution. i wisconsin administrator division of securities department of financial institutions please mail or send a copy of any notice process or pleading served this consent to ace sushi franchise corporation west street suite gardena california it is requested that a copy of any notice process or pleading served hereunder be mailed to barry kurtz esq. kurtz law group professional corporation oxnard street suite woodland hills california dated. ace sushi franchise corporation california corporation. by. chin president corporate acknowledgment state of california county of los angeles on court line before me fort here insert name and title of the officer personally appeared harlan. chin who proved to me on the.basrs of satisfactory evidence to be the person whose name is are subscribed to the within instrument and acknowledged to me that he she they executed the same in his her their authorized capacity ies and that by his her their signatures on the.instrument the person or the entity upon behalf of which the person acted executed the instrument. certify under penalty of perjury under the laws of the state of california that the foregoing paragraph is true and correct. torella witness my hand and official seal. commlulon signature seal nottry ptftttc cilifomii lmahetttscetmly nmwrrrwht. iv teresa crivello cpa. box san pedro california to whom it may concern re franchise registration application of ace sushi franchise corporation teresa crivello consents to the use in the franchise disclosure document issued by ace sushi franchise corporation franchisor on march as it may be amended of our report dated march relating to the financial statements of franchisor for the periods ending december and december. yours truly franchisor costs and source of funds. disdose the franchisor total costs for performing its pre opening obligations to provide goods or services in connection with establishing each franchised business including real estate improvements inventory training and other items stated in the offering category costs real estate improvements equipment inventory training so.ooo other items so total ipoo. the source of these funds is the operating cash flow and working capital of the corporation. i franchise disclosure document ace sushi franchise corporation california corporation west street suite gardena california. ace sushi franchise corporation grant franchises for the operation of sushi bar departments in grocery stores supermarkets and other locations under the trade name ace sushi which will offer healthy high quality raw and cooked sushi and chinese and other related asian fusion food products for sale at competitive prices as carry out items for off premises consumption. we offer franchise programs single unit program. under this program you will sign a franchise agreement to operate a single ace sushi bar. the total investment necessary to begin operations of one ace sushi bar ranges from to. this amount includes to. which must be paid to the franchisor or an affiliate. satellite store program. under this program we may also grant you the right to prepare sushi and related food products at your main ace sushi bar for delivery to satellite stores in the general geographic vicinity of main ace sushi bar. the total investment necessary to begin operations of one ace sushi bar and one satellite store ranges from to. this amount includes to. which must be paid to the franchisor or an affiliate. purchase program. under this program you will purchase an existing and operating company owned ace sushi bar from asiana management group incorporated an operating unit. the total investment necessary to begin operations of an operating unit ranges from to. this amount includes to. which must be paid to the franchisor or an affiliate. this disclosure document summarizes certain provisions of your franchise agreement and other information in plain english. read the disclosure document and all accompanying agreements carefully. you must receive this disclosure document at least calendar days before you sign a binding agreement with or make any payments to the franchisor or an affiliate in connection with the proposed franchise sale. note however that no government agency has verified the information contained in this document you may wish to receive your disclosure document in another format that is more convenient for you. to discuss the availability of disclosures in different formats contact our chief financial officer gary chin west street suite gardena california. the terms of your contract will govern your franchise relationship. don rely on the disclosure document alone to understand your contract. read all of your contract carefully. show your contract and this disclosure document to an advisor like a lawyer or an accountant. buying a franchise is a complex investment. the information in this disclosure document can help you make up your mind. more information on franchising such as consumer dakota south dakota guide to buying a franchise which can help you understand how to use this disclosure document is available from the federal trade commission. you can i ace sushi ufdd i i union contact the ftc at ftc help or by writing to the ftc at pennsylvania avenue north-west washington district of columbia you can also visit the ftc home page at for additional information. call your state agency or visit your local public library for other sources of information on franchising. there may also be laws on franchismg in your state. ask your state agencies about them. the issuance date of this disclosure document is april.march. iwdlwcjut a ace sushi ufdd i state cover page your state may have a franchise law that requires a franchisor to register or file with a state franchise administrator before offering or selling in your state. registration of this franchise with state does not that the state recommends it or has verified the information in this disclosure document. call the state franchise administrator listed on exhibit for information about the franchisor or about franchising in your state. franchise agreements do not allow you to renew unconditionally after the initial term expires. to sign new agreement with different terms conditions in order to continue to operate your business before you buy consider what rights you to renew your franchise if any what terms you might to accept in order to renew. please consider the following risk factors before vou buv this franchise. the franchise agreement permits you to sue us only in los angeles county california. out of state litigation force you to accept less favorable settlement for disputes. it also cost more to sue us in california in your home state. local law supersede this requirement in your state. please refer to the state specific addenda that are attached to this disclosure document as exhibit for details. the franchise agreement states that the law of caufornia governs the agreement this law not provide the same protections benefits as local law. you want to compare these laws. please refer to the state specific addenda that are attached to this disclosure document as exhibit for details. ace sushi bars will be located in grocery stores supermarkets other locations stores owned operated by third party operators who have entered into agreements with to provide the sushi products for sale at the stores. you will have no control over the stores operating hours operations customer traffic advertising or other aspects of the stores operations however these factors will impact the franchised business. the owners of the stores terminate their agreement with at any time generally only days notice. termination of that agreement result in the termination of your franchise agreement. there be other risks concerning this franchise. see the next page for state effective dates lz lttnlininw ace sushi ufdd rna state effective dates the following states require that the franchise disclosure documents be registered or filed with the state or be exempt from registration california hawaii illinois indiana maryland michigan minnesota new york north dakota rhode island south dakota virginia washington and wisconsin. this franchise disclosure document is registered on file or exempt from registration in the following state having franchise registration and disclosure laws with the following effective twedates california april hawaii april dakota south dakota illinois april indiana mny maryland may minnesota april. new york vlciv rhode island may ti virginia may washington april wisconsin april in all other states the effective date of this franchise disclosure document is the issuance date of april masculine march. minmxhw i u ace sushi ufdd millimeter ace sushi franchise corporation disclosure document table of contents item description of contents page number. the franchisor any parents predecessors affiliates. business experience. litigation. bankruptcy. initial fees. other fees. estimated initial investment. restrictions sources of products services. franchisee obligations. financing. franchisor assistance advertising computer systems tlr vinin. territory. trademarks. patents copyrights. proprietary information. obligation to participate in the operation of the franchise business. restrictions what the franchisee sell. renewal termination transfer dispute resolution. public figures. financial performance representations. outlets franchisee information. financial statements. contracts. receipts imwmi fort exhibits agents for service of process state administrators initial training agreement franchise agreement and attachments satellite store addendum purchase agreement and attachments state specific addenda candidate confidentiality agreement list of franchisees list of terminated franchisees financial statements franchise compliance certificate receipts loooiowhi fort tteml tosimpl i fy thelanguagemti south dakota urel umen ace corporation the franchisor of ti sbusme you means the owners if yon areapartnership hnutedtiahihtycompany corporation or other enti thefranchisor we were incorporated in california on toh street snite gardena california do hnsiness under the trade name ace sushis we do notdo hnsiness nnder any other names. our agents for service of process are listed in exhibit. our parents predecessors and affiliates a licensed hyour affiiiate asiar management group lnc. ac i fo royal navy iaco amg to offer and sell franchises for ace sushi ears. will provide high quality raw and and chinese and other related asian fusion food products he proprietary products to our fra will provide them with the services descrihed in this disclosure ocument. amg was incorporated on emt royal amg sprincipal husiness address is west street suite. we have no other affiliates. we have no predecessors or parents. licensees beginning in april entered intocontractsforservices contractsfor services under whichamggranted licenses to individuals licensees to operate ace sushi bars in grocery stor arkansas supermarkets in various states in the united states. as of december hadexpired. licensees who desiredand were qualified tocontinue to operatetheir ace sushi bars signed franchise a memhersof the franchised sy thesystem ace sushi bars aces shibars are identitied hv certain trade mes service marl and trademark such as acesushi the proprietary ie tarymari and hy their healthy high quality products offered for sale at competitive prices as carry out iterns for off premises consumption. ace suslubar sushi bars are generally located in mainstream grocery stores supermarkets and other locations the stores ow edward and operatedhy thirdparty operators the store owners who have entered interjection writien agreements the sushi suppiyagreements with amg to have oprietary products providedfo saleatthestores eitheratsushi hardepartmentsinthestoreswhereyou will prepare the sushi as an on site sushi chef a main sushi bar or pre pacl ged in display and merchandising cases at stores in the general geographical vicinity of your mainsushibar satellite stores wisconsin thoutasus lu rdepa on site the system.lfyourfranchised husiness franchised business includesamainsus satellite stores you will prepare thel oprietary products at your main sushi bar and deliver the productsto the satellite storesinthe general vicinity approximately bar we have and will continue to automate the operation ordering and inventory maintenance process for franchisees so tl you can focus on food preparation at your main sushi bar rather than administration hy developing andimplementing an interhet hasedmanagementsystem.whichpermits us amg andyou.to communicate effectively and efficiently for the henefit of your ace sushi bar and hy developing and implementinga daily weeldy monthly and annual reportingprocess that willassist you and us in the opemtion and oversight of your ace su thesystem. the franchises offered single unit frogram under this program you will signafranchise agreem you the right to estahiish and operate one main sushi bar atastore we select as specified in the fran agreement the franchised locations satellite store frogram under this program your franchise agreement will also grant you the right and ohligation to deliver oprietary products from your main ace sushi bar to satelhte stores underasatellite store addendum the satellite store addendum attached to your franchise agreement. purchase program. under tlus program you will purchaseacompany wned operating unit from amo.you will signa purchase agreement to acquire the assets of the operating unit and will signafranchise agreement to operate themainsusl barwhenyoupurchasetheassetsof the main sushi bar.you will also sign an addendum to franchise agreement for purchase of operating unit in the form attached to thefranchise agreement as attaclm entf the purchase addendum ti will change certain terms of the franchise agreement to appendix to an operating unit. under all programs all of our respective rights and ohiigations under the franchise agreement are suhject to the terms and conditions of the sushi supply agreement. the term of your franchise agreement will he months or the term of the sushi supplyagreement with the store owner of the franchised ation wluchever is less. term of the sushi sup the storeowner will range from days to months arkansas if options to extend are granted wisconsin from days to months. lnsomecases thesushisupply agreementmay provide foramonth to month arrangement after the expiration of the initial term of the sushisupplyagreement for automatic renewal for the same term as the initial term after the expiration of the initial term that either party may terrace supplyagreement on days notice to the other party and for termination of the sushi supplyagreement if thestoreownerelectstocloseastore.mostsuslusupply agreements provide for immediate termination if any health department takes action for any violation of health codes or regulations at the franchised i a io and for other designated violations of the sushi supply agreement. your franchise agreement will automatically terminate upon the termination of the sushi supplyagreement for your main sushi bar or your satellitestoresunlessweprovideyou with at least days notice that yourfranchise agreement willhe renewed.you do not have the right to extend or renew the franchise agreement when it expires. we have the right to extend the term of the franchise agreement and to grant youasuccessor franchise for the franchised unit if you are ehgihle forasuccessor franchise and if the susl supplyagreement is still in effect.wem ve you days writien notice fore the expiration date of your franchise agreement of your eligihility acquireasuccessor franchise. if the term of your franchise agreement terminates for any reason othe your fault we will use commercially reasonahie efforts to relegate you toanew franchised location in after relocation you will have the right to operate your main sushi bar at the new location for the remam the term of your franchise agreement. if we are unahle to reloc day period your franclnse agreement will terminate.you will not he entitled to any refund of any fees you have paid us hefore the date of termination. ooera ng experience wedonotope eabusmessof thetypebem eranchising experience offered a i a since june. as of franchised ace snsiu ears in i we do not conduct any other hnsiness activities. neither nor ace has offered rancs iineofhusiness. eurms of agreements item of this sciosured ument describes the foiiowing forn of agreements copies of attached to this sciosure documenl our initiaitraining agreement exh attachments exhibit our sateihte store addendum fexhihitd our i rchase agreement and atiachmen exbibite and our candidate confidentiaiity agreement exhibit. competition ace sushi bars wiii generaiiy be located in grocery stores supermarkets and other iocations we sei the market for sushi chinese and otherasian fusion food products is well established and very competitive ace sushi bars wiii compete with sushi bars in grcx ery stores supermarkets and other nations and i service and fine dining restaurants that offer sushi chinese and other asian fusion both onpremises andoffpremises consumption. typicaiiy restaurantandfastfoodbusinesses operate year round so sales are not seasonal. industry specific reguiations you mustcomply withalllocal state and federal laws that apply toyour acesushi baron the preparation labelmg storage andsale of seafood andother peri erancbised business including health sanitation weights and measures no smoking eegc gse a discrimination employment and sexual assmentlaws.you must obtain health business and you should consult with your attorney concerning these and other local laws and ordinances tennessee acesushi bar. eeem businessexeerience president and chief executive officer harian. chin mister chin has served as the president and club ef operating ticer of amgingardena california januaryl and as the president and chief executive officer of ace since gctober. senior vice president saies and store operations brian tan mr tan has served as thevice president sales and store operations of amg in gardena califorr since june. erom june until june mister tan served as the ector of sales and mercury amg. mr.tanhasserved as the vice president store operations of ace since october. i chief fmandal officer and chief franchise commission anceo ce gary chin mister chm has served as the chief finandal ofticer mister chin served as ti econti oller of amo from fehrnary nntil january from toher until january. mister chin has also served as ti chief franchisee acesince february. ffem lffioation i maryland oetermination. in august state of maryland determined ti forservicesoffered and sold in maryland werefranchises under maryland franc is re and sclosurel the maryland franchise law and violated the maryland franchisee amo entered intoaconsentorder with the ce of the attorney general of maryland and agreed to and desist from theofferand saleof franchises inviolation of the maryland franchise to dihgentiyp the completion of an application to register the ace sushi bar franchise offering in maryland to er who was responsihie for a i sales in an approved franchise law comphance training prairie licensees with ace suslu bars in maryland of their right to rescind their contmctsforservice licensees withacopy of our then current oisclosure document after its registmtionfor ourmarylandlicenseeselected to rescind their contracts forservices. state of rhode island oetermination in lune we voluntarily acl owledged to th island apartment of business regulation vision of securities that that the rights offered ode island under the contracts for services may have franchise investment act the rhode isiand act in tl state of business regulation vision of securities detern edward that the rights offered and sold hyamo under the contracts for services were franchises within the meaning of the rhode island act and rhode island act.we agreed to cease and desist from the offer and sale of franchises in violas island act to offer all rhode island licensees the tight to rescind their contracts for services and paid for these violations. none ofour rhode island licensees elected to resdndtheircontmctsforse state of virginia in lune we voluntarily acl owledged to the state of i i commission oivisionof securities andretail franchising that that the tights offered virgin islands rg a under the contracts for services may have heen franchises within the meaning of th franchising act the virginia act. in septeml the state of virginia state vision of securities and retail francl sing determined tl the tights offered and so under the contracts for serviceswere franchises i the meaning of the virginia act andv acl we agreed to cease and desist from the offer and sale of in violation of the virginia act virginia licensees the right to rescind thdr contracts for services and paid investigation costs of penalty of for these violations. none of ourvirginialicensees elected toresdnd their contractsfor services. state ofwashington. in iune we voluntarily acl owledged to the state ofwashington offinandal institutions securities vision that tl tthetightsoffered and sold contracts for services may have heen franchises within the meaning of the washington franchise inventory frotection act the washington act and have violated the washington act on securitiesoivision entered intoaconsentorderwith ace and amo.theoivision alleged that amo sold franchises in the state of washington prior to the filing ofaregistmtion application with the secu and that amo had not comphed with oisclosure oocument requirements. ace and amo agreed in the der to cease and desist from the offer and sale of tianchises in violation of the washington act to comply the registration and oisclosure oocument provisions of the washington act inthef securities vision for its cost of investigation of the matter. ace and amo also waived their rights toa hearing or other further proceedings in this matter. none of our washington licensees elected to rescind their contracts for services. other than these actions no litigation is required to be disclosed in this item. i puujyjm ace sushi ufdd item bankruptcy no bankruptcies are required to be disclosed in this item. item initial fees initial training fee to become eligible to purchase an ace sushi bar franchise under our single unit program you must pay us for our initial training program the initial training program as an initial training fee the initial training fee when you sign our initial training agreement. to become eligible to purchase an ace sushi bar franchise under our purchase program you must pay us for our initial training program as an initial training fee when you sign our initial training agreement. the initial training fee is payable in full when you sign the initial training agreement is fully earned when paid and is not refundable. if you would like us to train additional trainees for you the initial training fee for each additional trainee is under our single unit program and our purchase program and is payable in full when you sign the initial training agreement is fully earned when paid and is not refundable. initial franchise fee single unit program if you successfully complete our initial training program in our judgment you will be eligible to sign our franchise agreement and must then pay us an initial franchise fee the initial franchise fee for your main sushi bar. your initial franchise fee for your main sushi bar is calculated under the uniform schedule included below however all ace sushi franchisees may not pay the same initial franchise fee for their main sushi bar. we will determine the amount of your initial franchise fee before you sign your franchise agreement and will calculate your initial franchise fee based upon the average household income of the population within a mile radius of your main sushi bar your market area as follows average household income in market area initial franchise fee for sushi bar up to we use the currently available average household income statistics from the most recent. census in calculating your initial franchise fee but we may use a substitute or successor source of average household income information if necessary. we will not refund any portion of your initial franchise fee if the average household income in your market area declines nor will we charge any additional fees if the average household income in your market area increases after you sign your franchise agreement. the initial franchise fee for your main sushi bar is either payable in full when you sign the franchise agreement or if you prefer and we agree in equal monthly payments in the manner we require after you sign the franchise agreement. the initial franchise fee is fully earned when paid and is not refundable. hmmitd ijf i ace sushi ufdd satellite store program you must pay us an initial franchise fee for each satellite store. your initial franchise fee is calculated under the uniform schedule included below however all ace sushi franchisees may not pay the same initial franchise fee for their satellite stores. your initial franchise fee for each satellite store will equal of your initial franchise fee for your main sushi bar initial franchise fee for sushi bar initial franchise fee for each satellite store the initial franchise fee fpr each satellite store is payable in full when you the sign the satellite store addendum which may be at the same time you sign your franchise agreement or at a later date as satellite stores are assigned to you and is fully earned when paid and is not refundable. purchase program you must pay us an initial franchise fee of for an operating unit when you complete the asset purchase transaction and sign the franchise agreement. the initial franchise fee is fully earned by us when paid and is not refundable under any circumstances. you must pay us an initial franchise fee of for each satellite store. you must also pay the purchase price for the assets of an operating unit which will generally range from to. the purchase price for the assets of an operating unit is payable in full when you sign the purchase agreement however if you cannot obtain sufficient financing for the purchase price for an ace sushi bar from a third party and we believe in our discretion that despite your financial circumstances your ability to operate a franchised business is compelling we may but are not required to allow you to pay the purchase price for the assets of an operating unit in up to equal monthly payments. the purchase price for the assets of an operating unit is fully earned either when paid in cash or when included in a promissory note and is not refundable. other initial payments you must also pay us the amounts listed below which may range from to for the items listed below before you begin business at your main sushi bar a interior signage. you must pay us for interior signage. insurance. you must pay annually to the insurance broker or us for the costs to obtain liability insurance and worker compensation insurance for your main sushi bar that amg must maintain under the sushi supply agreements with the store owners. if you service any satellite stores you must obtain before the opening of the sushi bar and maintain in full force and effect at all times during the term of your franchise agreement at your expense automobile liability insurance of at least. this estimate covers annual insurance premium for required coverages. initial food inventory. you must pay us or other suppliers to stock your main sushi bar with proprietary products necessary for weeks after the opening of your main sushi bar. kxlmuhl ace sushi ufdd imtial small wares umform supphers for cookmg and food prepa tionutensi. nsf approved camcarrler. you mustpay us for an nsf annroved camcarri. refrigeratedf nlay case and refrigerated table some cases the store require usteprovidearefrigerated display ease andrefrigeratedteble for tbe main su owner requires edoso you mustpay us per montb forarefrigerated display ease and refrigeratedtable wbieb wiii be deducted as an expense before tbe payment of commissions to payment of our compensation. label machine and eabeltemplate.you will lease tbe label machine from us for montbs and must pay us asaone bme payment. per month for leasing the label machi monthasamaintenancefeeforthelabel machine and for label templates which wil anexper beforethepaymentofcomn ions toyou and thepayment of our compensation. security pusit. spending upon the strength of your financial conditior we may require youto pay usasecurity deposit of wben you sign your franchise agreement or duringthe of yourfranchise agreement the security expenses mcludingreasonableattorneys fees ha twe incur i fyoufa i tocomply with thetermsof your franclnse agreement andto ensure continuation of business operations at the main sushibarfollowinga termination of your franchise agreement.we may determine the amount of the securitye eposit based on where you will operate the ace sushi bar. for example we may require you to payahigher security eposit if youwillbeoperatingthe ace sushibarfromalarge supermarket or youmay pay the minimum security posit if you are operating the ace sushi bar fromasmall grocery store.wemay retain all or part of the security posit to recover all oraportionof the actual expenses we incur. licensees were not requir usasecuritye eposit. efferent initial eees wereserve theright tonegotiatedifferent initial training feesand initial franchise fees inour discretion. itheremainoerofthiseaoeleeeblankintenttonallyi item other fees of fee date due remarks compensation to ace varies. typically of gross sushi sales. see item for details monthly on gross sushi sales for the prior month. gross sushi sales means the all revenue from the sale of sushi products at your ace sushi bar and satellite stores. you are paid of gross sushi sales less payment of the expenses as a commission. see notel. expenses food charges freight charges insurance charges equipment charges initial franchise fee and other amounts due to or ace varies. typically food costs of gross sushi sales freight charges of gross sushi sales insurance program administration fee. of gross sushi sales equipment charges. of gross sushi sales other charges. ! of gross sushi sales before the payment of commissions to you and the payment of our compensation. see item item and notes and for details. insurance processing administration fee of the insurance costs upon demand if we obtain insurance on your behalf you must pay us of the insurance costs as an insurance processing administration fee administration fee up to per default upon demand deducted as an expense before the payment of commissions to you and the payment of our compensation if you or your employees commit a default under the franchise agreement or the confidential operations manual you must pay us a fee of up to for each default as we reasonably determine to reimburse us for our administrative costs to investigate the default and for our out of pocket costs associated with the default including costs for attorneys fees. iquolpqbl ace sushi ufdd oatpoue remarks refrigerated display case and refrigerated table lease payments of. deducted as an expense before the paymentof commissions to you and the payment of our compensation ifrequired by the store owners uniforms before opening indudes sets of coats hats and aprons label machine one time payment see item below montbly lease payments of. and montbly maintenance feesof. eductedasan expense before the paymentof commissions to you and the payment of our compensation you welease tbe label macbine fromusfor montbs and will use the machine to place price and ingredient labels on proprietary eroducts.you must also reimburse us for any damaged or lost equipment. pricing labels onr cost estimated to be approximately per itemforwblcbapriceis changed wben we must print special price labels for you because you charge prices different than our recommended or suggested prices you pay or reimburse us for the costs to reprogram our computers to print labels for you htha conform with the prices you charged initialtraining fee foryou and foreach additional employeeyon want usto train beforetraining see item for details. addltionaltraining and education programs pertrainee necessary to defray our direct costs to provide additional training programs upon demand we may charge youafee which will rangefrom per trainee to attend our additional training and education programs. remedlaltraining pertrainee necessary to defray our direct costs to provide remedial training upone emand if we determine it to be necessary we may provideyou with on site remedial training or assistance subject to the availability of our personnel. you will also be responsible for any and all other expenses incurred including the costs of transportation lodging meals training materials and any wages. dattoue remarks administrative transfer fee and costs per location pins our out of pocket costs associated with ttie transfer including costs of attorneys fees associated with ttie transfer upon request for transfer topayaportionofour admims ativeco toprocessa transm of the ranch you do notpayusatransferfeeforan assignment toacontrolled corporation or limited hahihty company or if you inherit the sushi barfromafamily memher management fee per day plus ttie travel and lodging fees for our em lo ees upon demand if we must operate your sushi renewai fee of our thencurrent initial franchise fees atthe timeof renewal we have the option to extend the term of your eranehise agreement. we may in our discretion offer youadiseount of up to off the then current initiai franchise fee when you renew your franchise agreement. union fee d per person monthly heforethe paymentof commissions to you and the payment of our compensation if the store owner requires you toheamemherof aunion you must hecomeaunion memher and pay monthly union fees customer satisfaction fee to per complaint upondorr ai demand hefore the oavment of oo i commis sionstovou andthe payment of our compensation if you we or the store owner receive any complaints from any customers regarding you your employees the main sushi ear andfor any satellite store we will have the right to require you to pay usacustomer satisfaction fee that will rangefrom to for each customer complaint as we reasonahiy determine to reimhurse us for our administrative costs to investigate the complaint satisfy the customer complaint if necessary and for our out of pocket costs associated withthe customer complaint including costs for attorneys fees. i oatpoue remarks inspection fee or more per inspection a i a before ttie pavment of i i sio tovouandthe payment of our compensation you must pay us an inspection fee of or more as we reasonably determine to reimburse us for our administrative eosts to inspect and re inspect tbe main susbi ear and for our outof pocket costs associated witb tbe inspections including costs for attorneys fees. supplier approval fee peritem upon demand you must pay our reasonable costs and expenses if you request us to inspect and evaluatea ro osedsu er interest on overdue payments lesser of per yearor maximum rate permitted hylaw.wtiich may range from ormore upon demand payable on overdue amounts adulteration health violation or failure of sanitation inspection fee our expenses including attorneys fees and inspection fees ofa minimum of upon demand if we inspect your ace susbi ear and findabealtb violation and find tbe same violation atalater date you must pay tbe inspection fee and our expenses to correct tbe violations reimhursement of money paid hyus on your hehalf varies with circumstances and may range from ormore monthly heforethe paymentof commissions to you and the payment of our compensation covers any payments you fail to make wbicb we make on your bebaif in addition to tbe expenses costs and attorneys fees wiii vary under circumstances and may rangefrom ormore upon demand you must reimburse us for our expenses in enforcing or terminating tbe erancbise agreemenl audit expenses cost of audit and interest on underpayment or over payment at per annum or the maximum rate permitted hylaw which may range from ormore upon demand payable if you under report or over reportsaiesbyl or more. of fee amount date due remarks gross up fees varies with circumstances gteupon domanddemaad to insure that we receive the full amount of payment due to us based on gross sushi sales we may directly deduct from your commissions or require that you must pay us whether in arrears in advance in a lump sum or in the manner prescribed by us the amount of all taxes we must pay on revenue we earn or collect based upon your use of our intellectual property or other intangibles or based upon the existence of the franchise agreement. indemnification will vary under circumstances and may range from or more upon demand you must reimburse and pay our attorneys fees if you are held liable for claims arising under your franchise agreement. lost manual fee upon demand you must pay us if you lose our manuals. web site usage fee i per month deducted as an expense before the payment of commissions to you and the payment of our compensation you will use our wob dtowebsite based system as a platform for communication with us to receive chef statements from us and amg as a time attendance system for the transmission of mail correspondence to and from us and as a sales reporting system and ordering system. security deposit when you sign your franchise agreement or during the term of your franchise agreement you must reimburse us for our expenses in enforcing or terminating the franchise agreement. depending upon the strength of your financial condition we may require you to pay us a security deposit of either when you sign your franchise agreement or during the term of the franchise agreement in our discretion. we may retain all or part of the security deposit to recover all or a portion of the actual expenses we incur. puxmkttil ace sushi ufdd except for a otherw enoted. no other fees or payment are a i to us or amg nor do we impose or collet feesorpaymentsforanythh party ail fees paid to us and amg are non reformation partiesarerefundahie hased on your individual arrangements. in most cases customers of your main sushi bar and satellite stores will select the oprietarypro wish to purcha from your main sushi bar or from display and merchandising cases at the satellite stores and will present them to the store scashiers for purchase and payment who will scan their purchases cash register systen scam edward sates. in some cases you will deliver the oprietary products toastor present the store gwner with an mvoice for the products you delaware provide amg with scan reports for scanned sales and with sales reports for invoiced sales wl ch will the total gross sales of proprietary products gross sushi sales and will pay amgafixedpercenta gross sushi sales the gross sushi saies as agreed upon hetween and the store owners in the susanna supply agreements. willpay you sales commissions the gommissions equal to of the gross sushi sales on the sale of proprietary products at your main sushi bar and of the gross sushi sales on the sale of proprietary products at your satellite stores i the food costs oducts and other goods you purchase from us or or its distrihutors the eood gosts ii the ti charges incurred for delivery of the proprietary oducts to you the ereight charges administrative fee for liahihty insurance must maintain under the sushi supplyagreements with the store owners the insurance charges iv rent for refrigeration or other equipment amg rents toy use at your ace sushi bar the equipment charges and any other sums due from you to amg or ace suchasyourlnit ialeranchiseeee ifyouelect to pay the initial fee over ly months at per month collectively the expenses. we will retain of thegrosssushi sales as payment four compensation will act as your agent in the performance of these husiness and management services. amg will invoice and collect its fixed percentage of gross sushi sales due from all store owners accept payments of its fixed percentage of gross sushi sales from the store owners and maintain records of the same on your hehalf. note gross susl sales will he included in reports issued to amg hythe store owner onamonthly or other hasis depending on the sales cycles of the store.we will assign youapayment cycle under which you will receive monthly payments of conm sions after the payment of the expenses accompanied hy report setting forth the expenses and the calculation of these commissions.eh to the irregularity of the receiptor gross sushi sales from the storeowners each payment of commissions may he an estimate of the amount due to you for gross suslu sales during the preceding month together with any adjustments requi months hased on reports ofactuai gross susl sales received from the store ner. we will send youareport with the calculation ofgrosssushi sales expenses commissions and our compensation each month. eood costs are the amounts you pay for proprietary products and other goods you purchase from us amg and amg sdistrihutors. freight charges are the amounts you pay for delivery of the proprietary products to you. insurance charges are the amounts you must a for liahihty insurance for your main sushi bar that amg must maintain under the sushi supplyagreements with the store owners. equipment charges are the amounts you will pay amg for refrigeration and other equipment amg rents to you or sold to you for your use at your ace sushi bar. other charges include direct geneml and administrative expenses incurs for your ace sushi bar costs for permits and licenses and other hke expenses due from you to amg or ace. note if you will supply satellite stores from your main sushi bar you must transport the proprietary products to the satellite stores in a special refrigerated cooler we will rent to you or in a refrigerated truck you must acquire from a third party which will maintain the proper temperature for the proprietary products in transit. the percentages of the expenses listed above are estimates only and will vary depending upon many factors including the gross sushi sales at your ace sushi bar. your financial results are likely to differ from these estimates. we recommend that prospective franchisees contact qualified professionals such as bankers accountants attorneys and business consultants regarding whether or not these estimated percentages can be attained. the remainder of this page left blank intentionally i a tjj ace sushi ufdd item estimated initial investment your estimated initial investment single unit program type of expenditure method of payment when due payment is to be application fee per person lump sum upon submission of your franchise application us initial training feev per person lump sum when you sign the initial training agreement us initial franchise feev for each main sushi bar lump sum when you sign the franchise agreement. you may pay the initial franchisee fee in equal monthly payments in our discretion. us interior signage lump sum before opening us equipment lump sum as required us licenses as incurred before opening local authorities insurance as arranged annually broker or us initial food inventory per main sushi bar as incurred before opening us various supphers and distributors initial small wares supplies uniforms and other non food items as incurred before opening us various suppliers and distributors nsf approved camcarrier lump sum before opening us hlxijflttl in ace sushi ufdd type of expenditure method of payment when due to payment is to be refrigerated display case and refrigerated tablev. as arranged you will pay between. per month deducted as an expense before the payment of commissions to you and the payment of our compensation us or approved supplier refrigerated truck ? as arranged before opening satellite stores various suppliers and distributors label machine with label template as a one time payment and for templates as incurred you will lease the label machine from us for months and will pay as a one time payment. per month for the label machine and. per month as a maintenance fee for the label machine which will be deducted as an expense before the payment of commissions to you and the payment of our compensation us computer system as arranged before operations begin approved suppliers expenses before opening as arranged before opening various vendors and professional advisors security deposit iv as arranged when you sign your franchise agreement or during the term of your franchise agreement us additional funds working capital reserve for months as incurred during the first months of operation various total iv. imlllftw ace sushi ufdd single unit program with satellite store item estimated cost method of payment when due paid application fee per person lump sum upon submission of your franchise application us initial training feev per person lump sum when you sign the initial training agreement us initial franchise feev for each main sushi bar and for each satellite store lump sum when you sign the franchise agreement and each satellite store addendum. you may pay the initial franchisee fee in equal monthly payments in our discretion. us interior signage lump sum before opening us equipment lump sum as required us licenses as incurred before opening local authorities. insurance as arranged annually broker or us initial food inventory per main sushi bar as incurred beforeopening us various suppliers and distributors initial small wares supplies uniforms and other non food items as incurred before opening us various suppliers and distributors nsf approved camcarrier lump sum before opening us refrigerated display case and refrigerated tablev. as arranged you will pay between. per month deducted as an expense before the payment of commissions to you and the payment of our compensation us or approved supplier hhmhhhh ace sushi ufdd item estimated cost method of payment when due paid refrigerated truck as arranged before opening satellite stores various suppliers and distributors label machine with label templatev as a one time payment and for templates as incurred you will lease the label machine from us for months and will pay as a one time payment. per month for the label machine and. per month as a maintenance fee for the label machine which will be deducted as an expense before the payment of commissions to you and the payment of our compensation us computer system as arranged before operations begin approved suppliers expenses before opening as arranged before opening various vendors and professional advisors security deposit i as arranged when you sign your franchise agreement or during the term of your franchise agreement us additional funds working capital reserve for months as arranged during the first months of operation various total. purchase with satellite store item estimated cost when due paid application fee per person lump sum upon submission of your franchise application us hhk iplxtl fort ace sushi ufdd item estimated cost when due paid purchase price for assets of operating unit iv lump sum upon closing of purchase. you may pay the purchase price in up to equal monthly payments in amg discretion. amg initial training fee lump sum when you sign the initial training agreement us initial franchise fee for each sushi bar and for each satellite store lump sum when you sign the franchise agreement and each satellite store addendum. you may pay the initial franchisee fee in equal monthly payments in our discretion. us interior signage lump sum before opening us equipment as incurred as required us licenses as arranged before opening local authorities insurance as incurred annually broker or us initial food inventory per main sushi bar as incurred before opening us various suppliers and distributors initial small wares suppues uniforms and other non food items lump sum beforeopening us various supphers and distributors nsf approved camcarrier as arranged before opening us refrigerated display case and refrigerated tablev. as arranged you will pay between. per month deducted as an expense before the payment of commissions to you and the payment of our compensation us or approved supplier refrigerated truck? as incurred before opening satellite stores various suppliers and distributors owiuum ace sushi ufdd item estimated cost when due paid label machine with label templatev as a one time payment and for templates as arranged you will lease the label machine from us for months and will pay as a one time payment and. per month for the label machine and. per month as a maintenance fee for the label machine which will be deducted as an expense before the payment of commissions to you and the payment of our compensation us computer system as arranged before operations beginr approved suppliers expenses before opening as arranged i before opening various vendors and professional advisors security deposit as incurred when you sign your franchise agreement or during the term of your franchise agreement us additional funds working capital reserve for months as incurred during the first months of operation various total amounts are non refundable unless otherwise noted. if you purchase a number of satellite stores that are not within close proximity of each other you may be required to purchase a refrigerated truck to service satellite stores. the estimated cost for the refrigerated truck is to and your total estimated initial investment under the purchase program with satellite store including one refrigerated truck will range from to. note you must pay us an application fee when you submit your franchise application to us. the application fee covers our costs to process a credit and background check and for tuberculosis and drug testing. the initial training fee and initial franchise fee are discussed in item of this disclosure document. the initial franchise fee is based on the average household income of the population within miles radius of each main sushi bar. the low estimate assumes an average household income of up to. the high estimate assumes an average household income in excess of. we provide financing for the initial franchise fee the ipumhfti.fs ace sushi ufdd refrigerated play case and refrig item notesland item anditemlo equipment inclndesarefrigeratedcooler alabehng machine and interior license fees include husmess permits and health permit you may purchase insurance directly fromour designated insurance broker. if you do noto insurance directly we may obtain insurance on your half and you must reimburse us for our direct costsand administrabve fees to obtain liability insurance and other insurance sucb as worker scompensaboni for your main sushi bar that amg must maintein under the sushi supply agreements with the store if weobtaininsuranceonyour behalf you must pay uso ofthe insurance costsas anlnsurance ocessing administration eee.lfyouservice any satellite stores you must obtain before the opening sushibar and maintain in full force and effect at alltimes during the term of yourfranchise agreement at yourexper automobileliability insurance of at least. estimate covers theannual insurance premium for required coverages. you must maintainall the following insurancecoverage a broad form comprehensive general liability coverage restaurant owners contractual liabihty andinjuryandproductliability coverage withminimum tin tsof or as required by the store liabihty insurance as required by law with limits of unemployment insurance covering your employees fire tiood earthquake and extended coverage insurance on the location and your property in an amount adequate to replace it if there isan irish ured loss business mterruption insurance in reasor ble amounts state disability insurance for your employees as required by law and advertising injury insurance. youmust provide us withgertiticates of insurance evidencing allof the proper types and minimum amounts of required coverage at least days before you are required to carry any insurance and at least days before the expiration of any policy. all gertificates must provide that no less than days prior written notice must be given to us if there isamaterial alteration to or cancellation or non renewal of the coveragesevidencedbythegertiticates. allpolicies of irish urance must also containaseparate endorsement naming us and our affiliates as additional insured parties. ngte lines estimatecovers the cost of stocking your main sushi bar with proprietary oductsnecessa after the opening of your main sushi bar. llusestin teis forcookingand food preparation utensils pots kmves menu holders latin you will ve to purchasearefrigerated truck to service yoursatellite stores if you serviceanumber of sate storesy if the size of your dehvery area and the distance betweenyour main sushi satellite stores are extensive. if you must purcl searefrigerated truck you must pay all experts to acqu i red vehicle.you can either purchase the vehicle directly fromavendor or dealer in which case you must either makealump sum paymentat the time of delivery oryoucan arrange foravehicle lessor or other financing acesushi ufdd sourcetopartidpatemtheacqms mstatiment payment at months if you arrange tinandng of tins type. you must purehasecomputer hardware and software aecordmg to our speeifi expenses foreopening may indude food consumed during training fees for professional advisory eosts during the months after the opening of your main sushi ear. noteio expending upon the strength of your finandai condition we may require you to pay usasecuritye when you sign your franchise agreement or during the term of your eranduse agreement our discretion to secure your payment of any expenses including reasonahie attorneys fees thatweincur if you fail tocomply with the termsof your franchiseagreementand toensurecontinuationof husiness operations at the main sushi ear followingatermination of your franduseagreement.we may retam part of the security eposit to recover all oraportion of the actual expenseswe incur franchisee must at all times maintain adequate reserves and working capital sufficient for you to fulfill all of your ohiigations under the franchise agreement and to cover the risks and contingendes of the franchised business for at least three months. you witi need capital to support ongoing expenses such as payroll inventory and suppties to the extension these costs are not coveredhy your commissions. theneed for additional funds willvary widely among franchisees new husinesses usually generateanegative cash flow. weestimatethattheamountgivenwillhe sufficient to cover on going expenses for the start up plural south-east of your ace suslu ear which we calculate to months lines is is or an estimate however and there is no assurance that additional funds will not during or after the start up phase of your ace sushi ear.we relied upon our experience and the experience of when preparing these figures. the purchase price of an derating unit typically depends pn the husiness sgross cash flow the rema termofthesushisupplyagreementand the value of the leasehold.in the typical case you will purchase all assets of the rating unit owned hy including the goodwill of the husiness other than the goodwill associated with the various marks and receive anassignment ofallrelevantcommercial contracts. amg will generally retain all liahilities ofthe former husiness. the purchase priceand the terms ofthe purchase agreement and its attachments will vary considerably among gperating units depending upon the gross cas tiow for the existing husiness the value of the leasehold any unique character tics regarding each transaction and gperating unit financingarrangements and other a th are negotiable. thesushi supply agreement with the store gwner and the accounts represented by the sushi supply agreement are the exclusivepropertyofaceand and ah of the rightsand duties of the parties underapurchase agreement are subject to the termsand conditions of the sushi supplyagreement. these tab together with their footnoted estimateyour initial investment forenemain sushi bar one operating unit anti one sateltitestore.these expenditures wiii vary depending on a of satellite stores you wiii serviee yourtinaneiaieon arrangements negotiated and the husiness decisions you make.therefore there ean he no assurance experience will correspond with the information in the tahle restriotionsonsouroesoeproouots andservices toinsure thanthe highest degree of quality and service is maintained you must operate your ace susanna earinstrictconformity witi our methods standards andspecifications.you must purchase ah products equipment and supplies used or sold at your main sushi ear and satellite stores solely from us amo or our approved suppliers and distrihutors. proprietary products equipment and supplies you must minnesota hase the proletary products food products other tl nproduce arefrigerated display case and refrigerated tahle alahel machine template interior signage and utensils pots ves menu holders lahels and uniforms and an camcarrier uo or in addition you must huy produce hahiiity insurance and worker compensation insurance and all printed paper and paper products hearing the proprietary marl i ther or fromadistrihutor or manufacturer we auti orize or approve in accordancewith our specifications.toprotect our trade secrets and maintain quality control amo and its distrihutors are the sole supphers of our proprietary products the refrigerated display case and refrigerated tahle the lahel machine a the interior signage theutensils pots knives menu holders lahelsand uniformsand the nseapproved camcarrier. weestimate that your required purchases of proprietary products and equipment and he approximately of your total initial investment a d of your annual operating expenses.we provide any material netits to you for example renewal or granting of additional francltises your use of approved supphers. comnuter hardware and software you must purchasecomputer hardware and software according to our specitications. see item. our revenue erom sales and eeasestoyou we will derive revenue from your purchase of proprietary products equipment and supphes from us and amo or our approved supphers and distrihutors.amo total revenues were the fiscal year ending december. amo stotal revenues from the sale of proprietary products equipment and supplies to ace suslu franchises during this i totalrevenues ofthis amours i tiansactions with approved supphers other than us or amo.we do not receive any revenue from the sale of proprietary oducts equipment or supphes toace sushi franchisees for the tiscal year ending deceml sources of this irish ormation are our financialhooks and recor records of amo we estimate that your expenditure for required purcl ses of proprietary products equipment and supplies will range from of your total initial investment and in operating the husiness ongoing hasis. siteseiectionblmorovements we select ati sites for main susanna bars and a we enter into orai or writiensustii supply agreements may vary ti om site to site.ttie store owners generally improve ttie area selected for your main generaiiy providedisplay and merctiandisingcases storageareas fordry and frozensnpplies refrigerated storage space andaworlting area witti tables and cubic ing ly required to provide your own tables and cutting boards at your expense. ifyoudevelopany newconceptprocessorimprovementintbesystem andlmprovements you must promptly notify us and provide us witb all necessary related information witbout compensation. any sucb improvement will become our sole property and we will be tbe sole owner of all related intellectual property rigbts. you must assign any rigbts you may bave or acquire in tbe improvements to us including tbe rigbt to modify tbe improvement and you waive and or release all rigbts of restraint and moral tigbts to tbe improvement. youmustassistusinobtainmgandenforcingtbeintellectualproperty rigbts toany sucb improvement in any and all countries and you furtber agree to sign and provide us witb all necessary documentation for obtaining and enforcing sucb rigbts.you must irrevocably designate and appoint us as your agent andatiomeydindfact to sign and fileany documentation and todoailotberlawfulacts tofurtbertbe prosecutionandissuanceofintellectualproperty rigbts related to any sucb improvement. youmay aisobe required to grantusaworldwide perpetual nonexclusive ful lypaidl icer to use and subtice tbe improvement to tbe extent sucb use or sublicense would directly or indirectly infringe your tigbtst improvement. occupation of premises you will occupy your main susbi bar in accordance witb tbe terms of our susbi supplyagreements witb tbe store owners.tbe term of our susbi supplyagreements witb tbe store owners generally range from days to montbs and options to extend tbe initial term if granted range from days to montbs store owners and amo generatiyretein tbe rigbt to terminate tbe susbi supplyagreements on to days notice. recommended suppliers we bavecompiled a list of approved suppliersand distributors wbicbmay include usand our affiliates wbo provide products wbicb comply witb our specifications wbicb is available to you and approved suppliers upon reasonable request if you desire to purchase products from otber tban our approved suppliers and distributors you must submitawritten request to us for approval of tbe proposed supplier together witb any evidence of conforn ty witb our standards and specitications as we may reasonably require or request tbe supplier itself to do so.we may inspect and evaluate tbe supplier sfacilities and products before we approve or disapprove your proposed supplier andyou must pay ah of our reasonable costs and expenses incurred in doing so.you may not useasupplier before we approve the suppher in writing.asupplier must demonstrate to our reasonable satisfaction tbat it can supply an item meeting our standards and specifications for the item tbat it is in good tinanciai standing in the business community and that its products and services are reti we will provide you with our specifications and standards and our criteria for approval of supphers and will approveordisapproveaproposedsuppherin days wewill notify you if andwhen we no longer approve a previously approved supplier. supplier must continually adhere to our standards and specifications to maintain its approval harlan.obin owns amo. with this exception none of our officers owns an interest in any of our approvedsuppliers. ooooeratives there are no franchisee purchasing or distribution cooperatives. however you may take advantege of any bulk pricing discounts or rebates offered to amo by our suppliers and distributors for your purchase of i a toyou based upon your pro rata share of purchase standards soedfications aud procedures every aspect ofthe operation of your ace sushi bar is subjecttoour standards and speciticatiy must comply with ah mandatory specitications for the appearance function cieaniiness and main sushi bar and your satetiite stores. we formulate and modify our methods standards and specifications in writing through supplements to our corner identialc rations manual and other writien communication maintenanceandrepairof your ace sushibar are solely your responsibilities. you must at your expense maintain your main sushi bar and your satellite store premises inaclean orderly condition and in excellent repair.you must make all additions alterations repairs and replacements that may be require that purpose including replacing obsolete or deteriorated fixtores equipment and signs as we may reasons require. estoreowners will generaiiy maintainand repair the display and merchandi proprietary products at your satetiitestores.you must make all alterations additions ormodificationsto ace sushi bar as we may reasor blyrequiretoaccommodate changes madeby us to the system including changes to menu items or marketing positionmg.you will have days toyour acesushi bar. comptiance witb governmental regulations and pavment oftaxes you must meet and maintain the highest health standards at your ace sushi bar and must obtain all permits certificates or licenses necessary for the operation of your ace sushi bar.you must comply at your expense with all local state and federal health codes regulations ordinances rules and orders for methods of food handling and all health safety and weights and measure codes if any products you sell from your mainsushi bar or the satellite stores are adulterated orcontaminated or if you failtomaintainyou sushibar in compliance with all applicable laws and regulations you must immediately cease operations searchoutand destroy any adulterated or contaminated products eliminate their sourceand remedy all unsanitary conditions present at your main sushi bar.you cannot resumeoperation of your ace sushi bar until i our analysis of the products sold from your main sushi bar and or tbe tellite stores and our in your main sushi bar demonstrate compliance with all applicable laws and regulations and ii all apphcahle governmental authorities approve the resumption of operations at the main sushi bar. you must promptly pay all taxes levied or assessed against the main sushi bar including unemployment taxes employment taxes sales taxes use taxes withholding taxes excise taxes personal property taxes intangible property taxes gross receipt taxes and any simtiartaxes.you must the full amount of all taxes and for any liability mcluding penalties interest and expenses arising tio payment of taxes whether or not correctly or legally assessed. you must provide us with written proof that all of your taxes have been and are being paid within days after our demand. insurance if youdonot maintain the required insurancecoverage wemay obtain the insurance for you and charge you for its cost as well as our coststoobtain it. we will derive income from purchasing insurance for you. purchase of operating unit ifyou purcl south-east an operating unit from amg you must signapurchase agreement exbibite and applicable attachments andapurchase addendum attached to the franchise agreement as attachmente. under the terms of the purchase agreement you must purchase the assets of the operating unit which may include tixtores furnishing equipment decor signs as well as any supplies and materials used or sold by th operatmg unit. you may also be required to assume contracts with suppliers of goods and services to the operating unit. the sushi supply agreement with the store owner and the accounts represented by the sushi supply agreement are the exclusive property of ace and and all of the rights and duties of the parties under a purchase agreement are subject to the terms and conditions of the sushi supply agreement. a item franchisee obligations this table lists your principal obligations under the franchise agreement and other agreements. it wisconsin help you find more detailed information about your obligations in these agreements and in other items of this disclosure document. obligation section in franchise agreement asset purchase agreement disclosure document item a site selection and acquisition lease of the franchise agreement. items and. pre opening purchases loasol leases and of the franchise agreement. items and. site development and other pre opening requirements of the franchise agreement. items and. initial and ongoing training initial training agreement and of franchise agreement itemll. opening of the franchise agreement. item. fees and of the franchise agreement i of the asset purchase agreement. items and comphance with standards policies confidential operations manuals of the franchise agreement. items hand. trademarks and proprietary information of the franchise agreement. items and i restrictions on products service offered of the franchise agreement. item warranty and customer service requirements of the franchise agreement. item. territorial development and sales quotas not applicable. item. ongoing product service purchases of the franchise agreement. item. maintenance appearance and remodeling requirements of the franchise agreement. item jumillxtril nl acesushi ufdd obligation section in franchise agreement asset purchase agreement disclosure document item. insurance of the franchise agreement. items and. advertising not applicable. items and indemnification of the franchise agreement of the asset purchase agreement. item owner participation management staffing of the franchise agreement. item. records reports of the franchise agreement of the asset purchase agreement. item. inspection audits of the franchise agreement. items and. transfer of the franchise agreement item. renewal of the franchise agreement. item. post termination obligations and of the franchise agreement. item. non competition covenants of the franchise agreement. item. dispute resolution of the franchise agreement of the asset purchase agreement. item taxes permits and of the asset purchase agreement items and. computer hardware and software. of the franchise agreement. item and armed forces americas security interest. of the franchise agreement item ithe remainder of this page left blank intentionally item financing item financed source amount financed down payment terms months april monthly payment prepay penalty security required liability upon default loss of legal right default initial franchise fees none none varies. equal monthly payments determined by the number of months you are given to pay the initial franchise fee. none none loss of franchise damages attorney fees your franchise agreement does not contain provisions that bar you from asserting a defense against us. you waive objections to personal jurisdiction trial by jury applicable statutes of limitation and punitive damages under sections. and. of the franchise agreement. hhkih ? a sushi ufdd item financed source amount financed down payment terms months april monthly payment prepay penalty security required liability upon default loss of legal right default expenses food charges freight charges insurance charges equipment charges and other amounts due to us or amg varies from month to month none none varies none none loss of franchise damages attorney feesd you waive objections to personal jurisdiction trial by jury applicable statutes of limitation and punitive damages under sections. and. of the franchise agreement. purchase price for operating unit portion of purchase price varies varies. up to months in equal payments. none varies none personal guarantee. loss of franchise repossession of assets of operating unit. waive presentment for payment notice of dishonor and protest. note we aggregate all food costs freight charges insurance charges equipment charges and other charges and deduct these expenses from gross sushi sales at your ace sushi bar to determine commissions and our compensation. franchise agreement sections.z and. the estimated deductions range from to depending upon the amount of gross sushi sales and expenses the frequency of receipt of the reports of gross sushi sales received from the store owners and other factors. note may but is not required to finance a portion of the purchase price for an operating unit if we in our discretion believe it is appropriate under the circumstances. you will purchase an operating unit from amg under our current purchase agreement exhibit and applicable attachments. amg aagsusmi financing generally will be for up to months without interest. you must sign a promissory note in a form substantially similar to the promissory note attached as attachment to the purchase agreement in amg favor in the amount financed the purchase note. monthly payments will vary depending the term of purchase note down payment et cetera if you default on any payment under the purchase note for more than days the purchase note will immediately become due at the option of amg. failure to make the payments required by the purchase note may result in termination of the franchise agreement and possibly any other agreement between you and us amg or our affiliates and amg repossession of the franchised business and the franchised location. if amg is required to pursue collection of the purchase note amg may require you to pay for its legal fees and expenses. note with these exceptions we do not offer direct or indirect financing. we do not receive any payments directly or indirectly for the placement of financing. neither we nor any affiliate guarantee any note lease or obligation of yours in connection with the purchase or establishment of your ace sushi bar. we have not sold or assigned our rights to these financing arrangements to any third parties and have no plans to do so. the remainder of this page left blank intentionally lllk llklnl nl a i ace sushi ufdd except as tinted betow we are oot requiredtoprovide any a ere ooeoing obtigations before you open your ace sustii ear we wih provide ttie foliowing assistancean we wih obtainasite for your main sushi bar ioeation anti wih prepare ttie site for ttie operation of an ace sushi bar eranchise agreement i !. we wiii assist you to obtain the necessary licenses anti permits for your ace sushi bar. erancbise agreement section. we wih offer an initial trainmg program to you. initiai training agreement franchise agreement sections. anti. more tietatieti information about training appears in this lieutenant the heading tnitiai anti continuing training. we will provideany initial advisory assistance toyou as wedeemadvisahie. franchise agreement sections. and. we will lend you a copy of the confidentiai operations manual. franchise agreement section. we will allow vou to reviewour confidential rations manual before you sign your initial traimngagreementacopy of our contidential operations manuai is located at our corporate headquarters. before reviewing our confidential operations manuai youmustsignacandidateconfidentiahtyagreement in the form attached as exhibitp.tbe confidential operations manual contains pages. we will make all proprietary products all food products other than produce and certain items of equipment and supplies such as employee uniforms sushi containers lids and product labels andpaper products which bear tbe proprietary marks available to you through amo or independent distributors. francitise agreement section. we wtil use reasonable etiorts to fultill or cause distributors to fu ordersforproprietarvproductsonatimely basis. franchise agreement section. we wih provide you with a list of our approved distributors and suppliers. franchise agreemen section. continuing obligations ouring ti ongoing operation of your ace sushi bar we will provide the following assistance to you. we will make availahle training programs for you and your employees as we deem appropriate. franchise agreement sections. and. we will providecontinuingadvisory assistance toyou as we deem advisable. franchise agreement sections. and. we will provide copies of any modifications to the confidential operations manual. franchise agreement section. we witi inspect your main sushi bar and evaluate its operations to assist you and to maintain the systems standards of quality appearance and service. erancbise agreement section. we wtil provide you wltti a tist of our approveti tilstributors anti supplied franctiise agreement section. we wih periodically consult with you concerning ttie operation ofyour ace sustil bar. ffranctiise agreement section. we will make all proprietary oducts all food products other tl produce and certain items of equipment and suppties sucti as employee uniforms susl containers tids and product labels and paper products which hear the proprietary marks availahle to you through amg or independent distrihutors. franchise agreement section. we wih use reasonahie ordersforf oprietaryproductsonatimelyhasis.fpranchlse agreement i we will act asaliaison hetween you and the store gwner to coordinate advertising for your main sushi bar with the store gwner scustomary advertising programs and policies as we deem advisahle. franchise agreement section. advertising alabama advertismg for vour ace sushi bar will he undertaken hv the store gwners in conjunction with their customary advertising programs andpolicies. amg ace and you do not have any advertising ohiigations under the franchise agreement franchise agreement section. gomnuter svstems you must purchase andusecomputer hardware and software that we approve. you may purchase your computer hardwareandsoftwarefroma source of your choice. franchise agreement second ions. gur hardware and software specitications for our approve system are descrihedinthe operations manual and include ibm gompatihle mfiz pentium computer minimum windows vista windows xp mb minimum displaysettingsofatleastftighgolor hit svgavideo resolutionwithsn good rgm drive mouse or compatible pointing device mb mbharddiskspace printers supported by windows vista xp internet explorer. or. required we estimate tbat the cost of your computer system will range from to. we may specify different hardware and software in the future including proprietary software that we develop the system. thereare no contractual limitations in the frequency or cost of upgrades or changes in the hardware systems and software programs we may impose you must at your expense keep your computer system in good maintenanceand repair and promptly install all additions changes modifications substitutionsor replacements to your computer hardware software ost and power hnes and other computer related facihties tl we require. franchise agreement second ions.we estimate tl your annual costs to do so will from to. we ve and will continue to automate the operation ordering and inventory maintenance process for you so that you can focus on food preparation at your main sushi bar rather tl administration by developing and implementing an internet based management system which permits ace and you to communicate effectively and efficiently for the benefit of your ace sushi bar and by developing and implementingadaily weekly monthly and annual reporting process that will assist you and us in the operation and oversight of your ace suslti bar and the further devdopm wih use your computer system a time attendanee system for the trar uussionofe mati correspondence to and omus system.you must have an internet connection for the purpose of implementmg transn thng coh commumcatmgsaiesand hackoftice data to us eiectronicatiy. franchise agreement second ion usamonthiy fee of. for the use of our weh sitehased system. we wtii have the right to access ah ormation and tinanciai data recorded hyti system for daiiypotiing audit and sales verification we may require you to participate in electronic document dehvery programs and conduct ah husiness with us electronically through any electronic document dehvery and retention system we selection if we do so youmustconductahhusinesswithuselectronicallyusingtheselected systemsand must retain all records we deliver toyou. your computersystem musthave the capacity andcapahility of receiving retrieving and retaining all electronic documents and records we deliver to you. franchise agreement section customers of your main sushi bar and satellite stores will present the sushi they wish to purchase to th store scashiers who will scan the sale of the sushi through ti eir cash register svstems. franchi i siteseiection we will ohtainasite for yourmain sushi bar location. franchise agreement sections.weeonsider the general location and neighborhood parlting size physical characteristics lease terms level of and population density income levels and other demographic information in our consideration ofasite for yourmainsushibar. rselectionofasite is not an assurance that your main sushi bar will he successful. additionally selectionof asitedoesnotguarantee that you willheallowed tohecomeafranchisee all requirementsof ace including the completionof the initialtrainingfrogramdescrihedhelow musthe satistied hefore you wih he eligihle to open an ace sushi barunderafranchise agreement. there is no time limit within which wemust select approve or disapproveasite.you may not re locate your main sushi bar or satellite stores. initiai and continuing training before you your ace sushi bar you must successfully complete our initialtraining program to our satisfaction.you must sign our initial training agreement ih i tb and must pay usatraining fee of for our initialtraining program for our single umt progmm or hefore training gins.we determine the amount of the training fee hased on where you will oper suslu bar. for example we may require you to payahighertrair fee if you wtil inoperating the ace sushi barfromalargesupermarketoryou may pay the minimum training fee if you are operating the ace sushi bar fromasmail grocery store. if you would like us to train additional trainees for you the initialtraining fee fo each additional trainee is for oursingle umt program and our purchase program payahle before hegins. franchise agreement section bi our initial training program generally covers the following subjects the remainder of tff ls page left blank intentionally iux fort ace sushi ufdd training program subject number of hours of classroom training number of hours of on the job training location company policies procedures and standards company organization insurance basic food service safety daily routine hours regional training locations and your main sushi bar inventory control reports sampling introduction of products weights and measurements hours regional training locations and your main sushi bar washing hands daily logs cleaning and sanitizing labeling products food preparation hours regional training locations and your main sushi bar cleaning and sanitizing food preparation record keeping hours regional training locations and your main sushi bar cleaning and sanitizing food preparation record keeping hours regional training locations and your main sushi bar food preparation record keeping packaging hours regional training locations and your main sushi bar training is provided as needed. we may modify our initial training program at any time. ah training will be under the direction of gary chin. he has been employed by since and has years of experience in the operation of ace sushi bars and all subjects taught as part of our initial training program. the instructional materials consistent of our confidential operations manual and demonstration of restaurant operational practices. you and your employees must also attend any additional courses seminars and other training programs we reasonably require. franchise agreement section. you will have to reimburse us for the cost of seminar materials if any. you will be responsible for all other expenses which are incurred with the courses including expenses related to our support training personnel and for the cost of transportation moderately priced lodging meals and wages. franchise agreement section. for days after the opening of your main sushi bar we will provide you with the services of our training personnel to facihtate proper operation of your main sushi bar during the opening period and to assist in correcting any operational problems that may arise. our personnel will be furnished without charge during this day period. if we determine that our training personnel must remain at the sushi bar for more than days you must pay us the sum of per day for each day our training personnel must remain at the sushi bar in excess of days. franchise agreement section. in addition if we determine at any time during the term of your franchise agreement that in our judgment you are not operating the sushi bar in accordance with our contidential operations a a a a tieonti olof ti esnstilbarantiyonmustpay ust i es personnel remalnalttiesustilbar franetiise agreement see ion if you sueeessl lly eomplete onr initial tratiungl ogram in our judgments our franetilseagreementyou will generally glen operating your malnsuslu bar our franetilse agreement you must also atiend and complete all ottierti alr and information programs ti we designate ti at ttie store owner may designate and tl federal state or local authorities require to qu sustii bar franchise agreement sections. and item territory eranehise agreement theeranchise agreement willdeslgnate thelocationof yourmalnsustilbar andyoumay conduct business only at the ranc tocation unless you are granted the right and ohligation to operate a stores mwhlchcaseyou may only conduct husmess at your main sushi bar and your satellite stores.you will not receiveany protected territory nor wll lyouhave any excluslverightstotheeranchlsed tocation the satellite stores or the geographic territorylnwhlch your main suslu bar and satellite stores are franchisesarenon exclusive. you may face competition from other ace sushibars that we or our affiliates franchise or own and that operate at traditional sites outside your territory. also you may face competition from other outlets that we franchise or own or from other channels of distrihution or competitive hrands we control. there may aheady he franchised ace sushi bars or satehitestores near your main sushi bar satellite stores or trade area which will continue to operate.we may franchise additional ace sushi hars with satellite stores without corner ulting you or giving you the tirst right to open them or deliver proprietary products to them.these additional ace sushi bars and their satellite stores may compete directly with you.in addition and our affiliates retain the right a toown and operate and license others to own and operate. ace sushi and satellite storesatany location. toownand operate and license others to own and operate husinesses including ace sushi bars with or without satellite stores under other proprietary marks or other systems whether these husinesses are the same or different from ace sushi bars at any location. tolicenseothers to sell or distribute any proprietary products or related services under any proprietary marks including the proprietary marks at any location. to produce license distribute and market ace sushi branded food products clothing souvenirs and novelty items through any outlet regardless of its proximity to your main sushi bar a stores including grocery stores supermarkets and convenience stores and through any distrihution character wholesale or retail including by means of the world wide web section of the internet mail order a a direct mail advertisingand other distribution methods. to own and operate and grant others the right to own and operate and issue franchises and licenses to others to develop own and operate other methods and channels of distrihution utilizing the proprietary marks and the system mcluding names on line computer networks andservices thelnternet kiosks carts concessions a othermohile remote limited service or non permanent facihties or other retail operations asapart of larger retail venues such as department stores supermarkets shopping malls or in public areas such as amusement parks airports train stations public facilities college and school campuses arenas stadiums hospitals office buildings convention centers airlines in flight service and military bases. to sell proprietary products to national accounts. national accounts are multi state businesses that purchase these products as end users and not re sellers. you may not engage in wholesale sales of any kind without our prior consent. wholesale sales includes the sale or distribution of sushi products to a third party for resale retail sale or other method of distribution. we are not required to pay you if we exercise any of the rights specified above inside your territory. you are not permitted to use the system the proprietary products or the proprietary marks the internet domain name vvww.acesushi.com any other internet domain names urls tou free telephone numbers or any confusingly similar imitations of the same at any location other than the franchised location and satellite stores nor are you permitted to use any other channels of distribution to make sales outside your franchised location and or satellite stores. you are not permitted to engage in wholesale sales of proprietary products of any kind without our prior consent. wholesale sales means the direct or indirect sale or distribution of proprietary products to a third party for resale retail sale or further distribution through any trade method or trade channel. item trademarks filed the following applications with the principal office of the united states patent and trademark office uspto for the ace sushi trademark and logo design. registration number filing date ace sushi ace sushi and logo design asiana cuisine asiana cuisine and logo design has filed all required affidavits. there are no currently effective determinations of the uspto the trademark trial and appeal board the trademark administrator of this state or any court. there is no pending infringement opposition or cancellation proceeding and there is no pending material litigation involving the trademarks that may be relevant to their use in this state or in any other state. we do not know of any prior superior rights or infringing uses that could materially affect your use of the proprietary marks in this state or elsewhere. however we cannot represent with certainty that we have exclusive or superior rights to the name ace sushi in all geographic areas. you must promptly notify us of any unauthorized use of the proprietary marks any challenge to the validity of the proprietary marks or any challenge to our ownership of right to use and to license others to use or your right to use the proprietary marks. we have the right to direct and control any administrative proceeding or litigation involving the proprietary marks including any settlement. we have the right to take action against uses by others that may constitute infringement of the proprietary marks. we will defend you against any third party claim suit or demand arising out of your use of the proprietary marks. if we determine that you have used the proprietary marks in accordance with the franchise agreement we will pay for your defense including the cost of any judgment or settlement. if we determine that you have not used the proprietary marks in accordance with the franchise agreement you must pay for the cost of defense including the cost of any judgment or settlement. in any litigation about your use of the proprietary marks you must sign all documents and do whatever is necessary to defend or prosecute the action including becoming a nominal party to any legal action. unless llhhiuhjtilji i ace sushi ufdd htigationresuhsfromyour useof the proprietary marks a manner consistent with the termsof the franchise agreement we wih reimburse yon for your ontof pocket costs. we are partiestoaperpetuai exclusive worldwide right and iicense trademarkiicense agreement underwhich amg has licensed the use of the i prietarymarks to us including our right to use and lice others to use the oprietarymarks. trademark license agreement is suhject to termination if notifyamgofanyknownoralleged infringement of thel oprietary marks if we do not indemnifyamg from any losses a incur asaresultof our default under the trademark license agreement and if we assign any of our rights under the traden license agreement in violation of the express tern of the trademark ticense agreement and do not cure our default within days after our receipt of written notice to do so from amg. fxcept for this trademark hcense agreement there are no agreements currentiyineffect which limit our rights to use or license the use of any proprietary mark. we may suhstitute different proprietary marks for use in identifying the system and the husinesses operating under it if we determine that suhstitution of different marks as oprietary marks i i the system or if the proprietary marks no longer can he used. you must promptly impiement any suhstitution ofnewproprietarymarksandtheuseof the newproprietary marks will he governed hythe terms of the franchise agreement.we willpay your costs of modifying your signs and advertising materials to conform to our new oprietary marks hut wtil otherwise have no ohligation or liahiiity to you asaresult ofasul titution. you must not estahlishaweh site on the internet using any domain name containing the words agp susfo or any variation of these names. we retain the sole right toadvertise on the internet and createaweh site using the agfsusffl don nname.youacknowledge that we are the owner of all right title and interest in andtothe agpsushp domainname patents ggpyrig pfs andprgpriftaryinpgrma gn patents and goovri ts we donot own any right in or to any patents or copyrights that are material to the franchise.we do not have any pending patent or copyright apphcations we do however claim common law copyright protection for our printed literature and our gontidential operations manual. gonfidentiatgperatiunsmanual you mustoperateyouracesushiearinthemannerspecitied in the gontidential operations manual. we may revise the gontidential operations manual and you must comply with each new or changed standard. we will lend youacopy of the gonfidential operations manual after you complete ourlnitialtraining program. you must treat the gonfidential operations manual and the information contained in it as confidential. you cannot copy these materials or show themto any unauthorizedperson.the gonfidential operations manual will remain our sole property gonfidentiat information you must not during or after the term of the franchise agreement divulge or use for the henefit of anyone else any confidentiai formation knowledge or know how concerning the system and the methods operationofyouracesushi bar.you may divulge confidential information only to those employees who must have access to it to operate your ace suslu bar. any and ah information and other data which we designate as confidentiatwillhedeemedconfidentialfornurposesofthefranchise agreement. youand vour employees wiii he required to sign nfidenti iii and nondisciosurea eemeritmcousi the form of fxhihitgto thisdisclosure document and tachment to the franchise agreement. i acesushi ufdd at our requestyou must reqmre your mformationto sign covenantsthat they wih intaintheeonfidentiatityofinforn tionthey receive during their empioyment at your aee sushi bar. these covenants must he in a form we find satisfactory and specificaiiy identify us asathirdparty heneficiary of these covenants with the independent righ them. customer data aii customer data wiii remain our property. customer data includes ah information ahout an ace sushi bar customer inciudingacustomebsname address maiiaddress teiephonenumher creditcard information and account numhers order information purchasing preferences or history and aiiother identifiahieinformation. youmay not seii iease share or rent any customerdataor make any useof the customer data. dbugattdntdparttcipattinthe actualdperattdndfthefrancff lsebuslness youmust actively participate in your ace sushi bar soperations.dniess we approve otherwise oniy you mayhe your acesushi bar sprincipaioperator.your ace sushi bar must he managed at ati times hy you or one fuh time management empioyee who has compieted the minimum ievei of training required ofin store management empioyees.you are not required to grantan equity interest to any empioyee. certainempioyeeswhoworkforyou mustsigncovenantsofconfidentiaiityand non competition upon our demand. see items and for descriptions of these ohiigations. if we determine that your credit report is insufticient in any way we may require asacondition to granting youafranchise thatafinanciaiiyquaiitied guarantor guarantee the per fo under the franchise agreement hvsigningaguarantee in the form attached as atiachmentcto the franchi agreement. i i i thefranchised location and thedisplay and merchandising cases at yourmain sushi barand the sateitite stores may not he used for any activity other than for the saie of we approve. your main sushi bar must remain open stocked with proprietary products and in normal operationfor theminimumhoursand daysrequired under the sushi supply agreements with the store ners hut at least from. oop. and must he operated in corner ormity with contained in the contidential operations manual or otherwise in wtiting. if you operate satellite must deliver your sushi products to your satellite stores hy no later than. each day. you must sell only products and services tl meet our current standards of quality that have heen expressly approved for sale in writing hyus and tl have heen prepared in accordance with our methods and techniques for product preparation.you must sell or offer for sale ah items products and services required us in the contidential operations manual or otherwise in writing a i part of the system.you may not deviate from our requirements. we may change the types of authorized products and services and there are no hmits on our right to make changes.we have the exclusive right to develop new products and services to he offered for sale at ace sushi bars. you do not have the right to develop new products or services for saie at your ace sushi bar.you will have sole discretion as to the prices of all services and products you offer and sell to your customers. a a i i a yon so ti you can focus on food preparation at and implementinganlnternet tiased managementsystem which pern ts ace amg effectively and eftidentiy fertile henetit of your ace sushibar and tiy developing and implementingadai weeldy monthly and annual reportingprocess that will assist you and us in the operation and oversight of your ace sushi bar and the further development and technolo must comply with ali reasonahle requirements if we modify the system mcluding offering and sellm services and products thatwe specify and ohtainingand usingcomputer hardwareand software that we designate.we may change the types of authorized goods and services and ti ere are no hn ts on our tight make changes.you must also comply with ah sampling policies that we may estahhsh and with ah sampling policies that the store gwner may require. ese pohcies may require you to provide free samples to custo and potential customers. we may introduce new products or reintroduce previously introduced products for ace sushi bars. you must purchase maintain and display reasonahie inventories of all new products for at least days and must continue to purchase intain and display reasonahie inventories of all new products for the peti time we require. foradesctiption of your restrictions on some purchases see item of this disclosure document. you may conducthusiness only at thefranchised location unlessyouaregranted theright and ohtigation to operate sateitite stores in wluch case you may only conduct husiness at your main sushi bar and your satehitestores.you arenot permitied to useany other channels of distrihutiontomal sales territory.you are not granted any rights to solicit or accept orders from outside your main sushi bar and or yoursatellitestores see temls the remainder of this page left blank intentionally fthmhuttl ace sushi ufdd item renewal termination transfer dispute resolution this table lists important provisions of the franchise and related agreements. you should read these provisions in the agreements attached to this disclosure document. the franchise relationship provision section in franchise agreement summary a length of the franchise term. same as in the sushi supply agreements with the store owners. renewal or extension of the term. months or the term of our sushi supply agreements with the store owners whichever is less. requirements for you to renew or extend. satisfaction of monetary obligations compliance with franchise agreement sign a general release in substantiallv the form of attachment to the franchise agreement sign renewal agreement in substantially the form of attachment to the franchise agreement or new franchise agreement in our discretion and others. you may be asked to sign a franchise agreement that contains terms and conditions materially different from those in your previous franchise agreement. termination by you. you may terminate the franchise agreement if you give us days notice. termination by us without cause. we may terminate the franchise agreement if we give you days notice. termination by us with cause. default under franchise agreement bankruptcy and other grounds. cause defined defaults which can be cured. all other defaults not specified indiana and. cause defined defaults which cannot be cured. bankruptcy conviction of felony abandonment adulteration of proprietary products failure for a period of days after notification of noncompliance to comply with any federal state or local law or regulation applicable to the operation of the franchise health violations and others. lamifflkti fort u acesushi ufdd provision section in franchise agreement summary your obligations on termination non renewal vacate and cease operating your ace sushi bar discontinue use of proprietary marks sale of personal property to us at our request. assignment of contract by us. there are no limits on our assignment rights. transfer by you definition i includes transfer of any interest in franchise agreement franchisee or all or substantially all of your ace sushi bar assets. our approval of transfer by you. we have the right to approve transfers. conditions for our approval of transfer. includes payment of money owed non default sign new franchise agreement payment of our administrative transfer fee of per location plus our out of pocket costs associated with the transfer including costs of attorneys fees associated with the transfer sign a general release in substantiallv the form of attachment attached to the franchise agreement and others. you do not pay a transfer fee for an assignment to a controlled corporation or limited liability company or if you inherit the sushi bar from a family member. our right of first refusal to acquire your business. we can match any offer. our option to purchase your business none not applicable your death or disability. must be transferred in months. we will waive the transfer fee. non competition covenants during the term of the franchise. includes prohibition on engaging in any other sushi bar business diverting business or employing persons who were our employees. non competition covenants after the franchise is terminated or expires. includes a year prohibition for any sushi bar business in a mile radius of any ace sushi bar. if you violate the post term covenant not to compete you must pay us throughout the year period fouowing the end of your franchise agreement of all revenue from the sale of all products and services and all other income of the business that offers goods or services which are the tumium fort acesushi ufdd provision section in franchise agreement summary same as or similar to the ace sushi business. modification of the agreement. must be in writing signed by both parties. integration merger clause. only the terms of the franchise agreement are binding subject to state law. nothing in the franchise agreement is intended to disclaim the representations made in the disclosure document. any representations or promises outside of the disclosure document and franchise agreement may not be enforceable. dispute resolution by arbitration or mediation not applicable not applicable. choice of forum. los angeles county california subject to state law. choice of law. california subject to the exception provided in sectipp. and addlicable state law. provision section in purchase agreement summary a length of the franchise term not apphcahle not applicable. renewal or extension of the term not applicable not applicable. requirements for you to renew or extend not apphcahle not apphcahle. termination by you not applicable not apphcahle. termination by us without cause not applicable not applicable. termination by us with cause not apphcahle not applicable cause defined defaults which can be cured not applicable not applicable. cause defined defaults which cannot be not applicable not applicable jimmimil au am acesushi ufdd seoftonin purohase agreement summary cured your ohhgations on temunation non renewal notappiicahie not apphcahle i assignment of contract hyus there are no hmlts on our assignment rights transfer tiy you tietinltion notappiicahie not apphcahle i our approval of transfer tiyyou not apphcahle notappiicahie conditions for our approval of transfer notappiicahie not apphcahle. our rightoffirstrefusal to acquire your husmess notappiicahie notappiicahie our option to purchase your husmess notappiicahie notappiicahie your death or disahiiity notappiicahie notappiicahie noncompetition covenants during the term of the franchise notappiicahie notappiicahie. non competition covenants after the franchise is terminated or expires notappiicahie notappiicahie. moditication of the agreement must he in writing signed hyhoth parties. integration merger clause only the terms of the purchase agreement are hinding suhject to state law. nothlnglnthe purchase agreement isintended to disclaim the representations madelnthe disclosure document any representations or promises outside of the disclosure document and purchase agreement may not he enforceahle. oispute resolution hy arhitration or mediation notappiicahie notappiicahie provision section in purchase agreement summary. choice of forum los angeles county california subject to state law. choice of law california subject to state law applicable state law may require additional disclosures related to the information in this disclosure document. these additional disclosures appear in exhibit to this disclosure document. item public figures we do not use any public figures to promote our franchise. x ace sushi ufdd item financial performance representations the ftc franchise rule permits a franchisor to provide information about the actual or potential financial performance of its franchised and or franchisor owned outlets if there is a reasonable basis for the information and if the information is included in the disclosure document. financial performance information that differs from that included in item may be given only if the franchisor provides the actual records of an existing outlet you are considering buying or a franchisor supplements the information provided in this item for example by providing information about possible performance at a particular location or under particular circumstances. before signing any documents or making any investment you must make your own independent investigation regarding the purchase of a ace sushi franchise including independent market and industry reviews and comparisons and talking to current and former ace sushi franchisees. you must consult with your own independent advisors such as attorneys and accountants to assist in determining the suitability of this investment for you. other than the following financial performance representations we do not make any financial performance representations. we also do not authorize our employees or representatives to make any such representations either orally or in writing. if you are purchasing an existing outlet however we may provide you with the actual records of that outlet. if you receive any other financial performance information or projections of your future income you should report it to the franchisor management by contacting our chief financial officer gary chin west th street suite gardena california the federal trade commission and the appropriate state regulatory agencies. your individual financial results may differ substantially from the results stated in this financial performance representation. written substantiation for the financial performance representations made in this item will be made available to you upon reasonable request. this page left blank intentionally mnmnohi ace sushi ufdd table gross sushi sales at franchised sushi bars masculine satellite stores ? by region in dollars in a notes and region note total number of sushi bars satellite stores per region notel total gross sushi sales per region ins masculine u note average gross sushi sales per region in note average gross sushi sales per region in highest of locations top quartile note average gross sushi sales per region in lowest of locations bottom quartile q note number of stores in top bottom quartiles note california. hmqs hawaii. ml line mkh. mid atlantic. tl. is fahrenheit mid west iv ii line masculine lm. north east kw. lines yl dale z south east massachusetts south western tfm total inmml illinois by delaware a delaware o o delaware ow. floruit fi floruit new zealand floruit rf hi hi iowa a floruit a z illinois fi illinois ounce illinois in fi in in q mmm by wj tense west q west fel west h dakota south dakota q a fort z u west state year outlets at start of year outlets opened terminations non renewals reacquired by franchisor ceased operations other reason outlets at end of year minnesota ? minnesota floruit floruit north carolina north carolina floruit floruit new jersey new jersey new jersey floruit floruit floruit floruit floruit floruit ti new york new york new york floruit floruit floruit floruit floruit oh oh floruit floruit oa by pennsylvania pennsylvania wyoming rhode island rhode island rl texas texas ix. utah utah i i floor a washington tm ui washington floruit vv ww ? wisconsin mz i is a imoiwk ! bachelor of science state year outlets at start of year outlets opened terminations non renewals reacquired by franchisor ceased operations other reason outlets at end of year total outlets a aw. out of west terminated franchises frnivliiiiiw franchise locations were terminated because the sushi supply agreement with the store owner expired or terminated virgin islands lynnchi.ual franchise locations terminated because the franchisee chose to leave the system and lastly i franchised locations were terminated by us for cause. out of the franchised locations opened. were new franchisees taking over terminated franchisees. were company owned stores sold to new franchisees and were new franchised outlets. during the last fiscal years we have signed confidentiality clauses with current or former franchisees. in some instances current and former franchisees sign provisions restricting their ability to speak openly about their experience with ace sushi franchise corporation. you may wish to speak with current and former franchisees but be aware that not all of those franchisees will be able to communicate with you. if you buy this franchise your contact information may be disclosed to other buyers when you leave the franchise system. see exhibit for a listing of the names addresses and phone numbers of all of our franchisees as of december. see exhibit for a listing of the names addresses and phone numbers of all franchisees that have had a business terminated cancelled not renewed or otherwise voluntarily or involuntarily ceased to do business under a franchise agreement as of december. we have communicated with all our franchise locations within weeks of the issuance date of this disclosure document. there are no trademark specific franchisee organizations associated with this franchise system that have asked to be included in this disclosure document. tl ! table number status of company owned outlets for years wj to wl. court court ? court delaware oo q q ao delaware delaware floruit floruit floruit hi hi hi iwlhwblfal idaho mwzoio idaho uh q idaho q illinois new mexico masculine illinois ttt wl illinois in in in oom wl key q wl. west massachusetts mmmi jvid a vs west q o o?o o wo q new jersey ooo q new jersey q new jersey q ov o o o o q west wl of ww or or q or ? wisconsin rhode island ul rhode island q rhode island texas west texas z texas utah utah west utah q q mmnmibi hi state year outlets at start of year outlets opened outlets reacquired from franchisee outlets closed outlets sold to franchisee outlets at end ofthe year virginia west west virginia virginia q washington ow q tq washington washington wisconsin a wisconsin wisconsin total sow alabama so the remainder of this page left blank intentionally iwwumigi table number projected openings as of december projected projected new franchise new company agreement franchised owned signed but outlets in outlets in outlet not the next the next state opened fiscal year fiscal year court gl district of columbia delaware ai gl massachusetts medicinae doctor new york pennsylvania texas q virginia i total nu item financial statements attached as exhibit are our audited financial statements as of december !. december and december nnd our umuiditod interim financial statomonts for tho period onjinn soutcmbur. our fiscal year ends on december of each year. item contracts the following contracts are attached to this disclosure document in the following order. initial training agreement exhibit. franchise agreement and attachments exhibit. satellite store addendum exhibit ikhj turn ace sushi ufdd. purchase agreement and attachments exhibit. candidate confidentiality agreement exhibit imal.ity agreement in witness whereof the parties have executed this attachment on the date first shown above. ace sushi franchise corporation franchisee by by name name. title title apn no piy ffruqe cqnride irtlm agreementt ace sushi franchise corporation franchise aqreement attachment employee confidentiality agreement ixuauiy agreement sushi this employee fflnnpentiauty agreement this asreement is made this dav of. the effective date by and between franchisee on the one hand and recipient on the other hand with reference to the following facts asiana management group. incorporated a california corporation. an affiliate of ace sushi franchise corporation a california corporation franchisor as the result of the expenditure of time skill effort and money has developed a distinctive svstem relating to the establishment and operation of sushi bars sushi ears which offer high qualitv. raw and cooked suslp. and chinese and related asian fusion food products prepared by a sushi chef for gale as carrv out items for off premises consumption either at sushi bar departments in millimeter stores supermarkets and other locations fthe stores owned and operated by third party operators who have entered into agreements with or pre packaged and sold in display and merchandising cases at stores in the general geographical vicinity of the sushi bars without a sushi bar department or sushi chef on site the system. the svstem is identified bv means of certain trade names service marks trademarks logos emblems and indicia of origin including but not limited to the mark sushi and such other trarfe ppmes. service marks and trademarks as are now designated and mav hereafter be designated bv franchisor in writing for use in connection with the svstem the proprietary marks. the svstem includes without limitation the operations and training manuals and anv other written directives related to the svstem the confidential operations manual the selection preparation and distribution of unique high qualitv. fresh and frozen sushi armed forces pacific rflpfed foftfl rp which incorporate trade secrets and proprietary information distinctive equipment standards and specifications for products and supplies service standards uniform standards specifications and procedures for operations procedures for inventory and management control training and assistance the relationship between franchisor and its franchisees trade dress defined product offerings. franchisor specified pricing and promotions restrictions on ownership administrative procedures and marketing and public relations programs i tl confidential information all of which may be modified by franchisor from time to time and may be disclosed to recipient bv franchise. franchisor has and continues to protect the confidentiality of the confidential information by. among other things i not revealing the cqaftdgotialcontents of the confidential information to unauthorized parties fii requiring ace sushi franchisees to acknowledge and agree in writing that the confidential information is confidential iii requiring ace sushi franchisees to agree in writing to maintain the confidentiality of the confidential information iv monitoring electronic access to the confidential information bv the use of passwords and other restrictions so that electronic access to the confidential information is limited to authonzed parties and requiring its franchisees to return all confidential information to franchisor upon the expiration and termmation of their franchise agreements. franchisor and franchisee have entered into a franchise agreement under which franchisor has granted franchisee the right to own and operate an ace sushi bar fthe a i sushi bar and tp use the hmmni fi? pacnsushi franchisf xfirfrmfmi svstem. the proprietary marks the confidential operations manual and the confidential information in the operation of the main sushi bar. franchisee is obligated under its franchise agreement with franchisor to obtain a written agreement from each employes employ by frpnfnssg and gfltfl independent contractor engaged by franchisee who mav have access to the confidential information and who mav be the recipient of the disclosure perfect the confidential information to maintain the confidentiality of the confidential information fort obtain the written agreement of each emplovee and independent contractor to not use the confidential information other than in the course of his or her employment or engagement by franchisee and to not disclose any of the confidential information to any unauthorized parties during the peripd perfect time that he or she is providing services for franchisee and forever after his or her employment or engagement bv franchisee ends. it is of i no prior experience.informajjqduojljkpqwlejjge. prior to hi ?ment bv franchisee. recipient had no experience information or knowledge whatsoever about sushi bars that offer raw and cooked sushi and or chinese and related asian food products. recipient knowledge ol the confidential information was obtained only from franchisee following the effective date and only in the course of recipient employment flilengaggmenfcjgy franchisee. jl confidential information. the confidential information includes all of the items included elsewhere in this agreement and in addition without limitation all tangible and intangible information relating to franchisor business operations products and services routines methods techniques manuals materials related written coojiit disclaimers handflut itemsf equipment teaching aids sources of materials and equipment client management and other software data other content formulations patterns. compilations prpgrams tisytieff and processes know how business relationships customer lists customer contact information and other data about the customer serviced bv franchisee as customers of franchisee. contact information for industry professionals designs developmental or experimental work and services improvements discoveries plans for research potential new or supplemental products and services websites. advertisements or ancillary products and services marketing and selling methods and or plans busmess plans. budgets and unpublished financial statements licenses prices and costs vendors collaborators and customers information regarding the skills and compensation of employees and contractors of franchisor designs drawings specifications source code object code documentation diagrams flowcharts research development. marketing techniques and materials trademarks trade secrets sales license techniques inventions copyrightable material trademarkable material databases the.relationship between franchisor and other companies persons or entities the confidential operations manual the proprietary marks and anv other information or material considered proprietary bv franchisor information bv franchisor. confession jdfnt ja information also inqli whether or not designated as confidential les the manner in which anv of the akys described items mav be combined with other information or products or synthesized or used bv franchisor. franchisee or recipient. confidential information does not include anv information that was in the lawful and unrestricted possession of recipient prior to its disclosure to recipient by franchisee fii is or becomes generally available to the public bv acts other than those of recipient after receiving it. fiii has been received lawfully and in good faith bv recipient ftm road partv who did not derive it from franchisee or franchisor or ivl is shown bv acceptable evidence to have been independently developed bv recipient. humukkg. rkeiihshj frflnrh south-east afipfkmrmt. independent value. the confidential information ci is not generally known bv the public or parties other than franchisor its affiliates its franchisees and franchisee ii derives independent economic value factual or potential frftm nqt frfiips generally known to the public or persons unaffiliated with franchisor or franchisee and iii is the subject of extensive efforts by franchisor that are reasonable under the circumstances to maintain the secrecy of the confidential information. valuable and proprietary. the confidential information has been developed bv franchisor its founder and their affiliates bv the investment of time skill effort and money and is widely recognized bv the public of substantial value and is proprietary confidential apd constitutes trade secrets of franchisor its founder and their affiliates. of recipient. recipient agrees that so ipng as recipient is employed or engaged bv franchisee and forever after his or her employment or engagement by franchisee fin i maintain confidentiality. recipient wil fully and strictly maintain the confidentiality of the confidential information wisconsin exercise the highest degree of diligence in safeguarding the confidential information and wil not disclose or reveal the confidential information to any person other than franchisee or another person employed or engaged by franchisee while an employee or independent contractor of franchisee and will then do so onlv to the degree necessary to carry out recipient duties as an employee or independent contractor of fi. reproduction or use. recipient will not directly or indirectly reproduce or copy any confidential information and wil make no use of anv confidential information for anv purpose whatsoever except as mav be required while recipient is employed or engaged bv franchisee and wil then do so onlv in scmnapfe with the provisions of this agreement and only to the degree necessarv to carry out recipient duties as an employee or independent contractor of franchisee. restrictions. recipient specifically acknowledges and agrees recipient mav receive valuable specialized training and confidential information including without limitation. confidential information regarding the operational sales promptipnal and marketing methods and techniques of franchisor and thg system wfrich are unique and proprietary to franchisor derive independent economic value from not being generally known to the public and are the subject of franchisor effoffr ?nd that are reasonable under the circumstances to maintain their secrecy. recipient therefore covenants that while employed or engaged bv franchisee recipient shall not either directly or indirectly for himself or herself or through pn behalf of. or in conjunction with anv person or legal entity divert or attempt to divert anv present or prospective ace sushi customer to any competitor by direct or indirect inducement or otherwise or do or perform directly or indirectly anv other act injurious or prejudicial to the goodwill associated with the proprietary marks and the svstem. fii employ or seek to employ anv person who is or has been within the previous thirty davs employed by franchisor franchisee or an affiliate of franchisor or franchisee as a salaried managerial employee or otherwise directly or indirectly induce the person to leave his or her employment or iii own either beneficially or of record engage in or render services to whether as an investor partner lender director officer manager employee consultant representative or agent any business that offers sushi products and or chinese and related asian fusion food products for sale to the public and anv business which looks like. copi imitates or operates a btisiness similar tg an ace sushi bar. third partv beneficiary. franchisor island and shall be and remain a third partv heneticiarv or this agreement and wil have the independent right to enforce the terms of this agreement. injunction. recipient recognizes the unique value and secondary meaning attached to the confidential information and the elements of the svstem and agrees that recipient noncompliance with the terms of this agreement or any unauthorized or improper use of the confidential information by recipient wil cause irreparable damage to franchisor and its franchisees. recipient therefore agrees that if recipient should engage in anv unauthorized or improper use or disclosure of the confidential information. franchisor and franchisee independently wisconsin be.end tied to both permanent and temporary injunctive relief from any court of competent jurisdiction without notice or the posting of anv bond to prevent anv unauthorized or improper use or disclosure of the confidential information in addition to anv other remedies prescribed by law. due to the irreparable damage that would result to franchisor and franchisee from anv violation of this agreement. recipient acknowledges and agrees that anv claim recipient believes he or she may have against franchisor franchisee wisconsin be deemed to be a matter separate and apart from recipient obligations under this agreement and wil not entitle recipient to violate or justify any violation of the provisions of this agreement. heirs and successors entire agreement. this agreement shall be binding upon and inure to the benefit of the parties their heirs successors and assigns. this agreement represents the entire understanding between the parties regarding the subiect matter of this agreement and supersedes all other negotiations agreements representations and covenants oral or written. this agreement mav not be modified except bv a written instrument signed bv franchisor and recipient that expressly modifies this agreement. the parties intend this agreement to be the entire integration of all of their agreements on this subiect of anv nature regarding the subiect matter of this agreement. no other agreements representations promises commitments or the like of anv nature exist between the parties. no right to use proprietary marks or svstem. this agreement is not a license of anv sort and does not grant recipient anv right to use or to license the use of the confidential information which right is expressly reserved bv franchisor. waiver and validi ty. failure bv franchisor to enforce anv rights under this agreement shall not be construed as a waiver of such rights. anv waiver including a waiver of dffpult in any one instance shall not constitute a continuing waiver or a waiver in anv other instance. anv invalidity of anv portion of thi agreement shall not affect the validity of the remaining portions and unless substantial performance of this agreement is frustrated bv anv such invalidity this agreement shall continue in full force and effect. headings and gender. the headings in this agreement are tor purposes of convenience onlv and shall not be used in construing the provisions of this agreement. as used in this agreement the male gender shall include the female and neuter genders the singular shall include the plural and the plural the sjnk arkansas hxminom a acf susm pp nirmsf ahrffmpntt. attorneys fees. if franchisor becomes a partv to anv legal proceedings concerning this agreement bv reason of anv act or omission of recipient. recipient shall be liable to franchisor for the reasonable attorneys fees and court costs incurred bv franchisor in the legal proceedings. if anv partv to this agreement commences any legal.proceeding against another partv arising out of or in connection with this agreement the prevailing partv shall be entitled to recover from the other partv its reasonable attorneys fees and costs of suit. cumulative remedies. anv specific right or remedy set forth in this agreement legal equitable or otherwise shall not be exclusive but shall be cumulative with all other rights or remedies set forth herein or allowed or allowable by law. notices. except as otherwise expressly provided herein all written notices and reports permitted or required to be delivered bv the parties under this agreement shall be deemed dehvered at the time dehvered bv hand one business dav after transmission by fax or email fwith a confirmation copy sent by regular united states mail or three davs after placement in the united states mail by registered or certified mail. return receipt requested postage prepaid and addressed as follows anv notice or demand to franchisee shall be given to fax with a copy to ace sushi franchise corporation west street. suite gardena california z attention president any notice or demand to recipient shall be given to fax. any party may change its address for the purpose of receiving notices demands and other communications bv a written notice given in the manner set forth above to the other party. governing law and venue. this agreement takes effect upon its acceptance and execution bv franchisor in california and shall be interpreted and construed under the laws of california. if. however anv provision of this agreement would not be enforceable under the laws of california and if the main sushi bar is located outside of california and such provision would be enforceable under the laws of the state in which the main sushi bar is located then such provision shall be interpreted and construed under the laws of that state. the parties agree that apy action brought by either party against the other in any court whether federal or state iwpiwmm ittnarrsuqmframrmqf ackfry shall be brought within thp shate of california in the couptv in which franchisor has its principal place of business at the time the action is initiated or as otherwise selected bv franchisor in its sole and absolute discretion and the parties hereby waive all questions of personal jurisdiction or venue for the purpose of carrying out this provision. counterparts and electronic copies. this agreement may be executed in any number of counterparts each of which shall be deemed to be an original and all of which together shall be deemed to be one and the same instrument. signatures transmitted electronically or bv facsimile will be deemed original signatures. electronic copies of this agreement shall constitute and be deemed an original copy of this agreement for all purposes provided that such electronic.copies are fullv executed dated and identical in form to the original hard copy version of this agreement in witness the parties have executed this agreement on the effective date. recipient name litle millimeter a ni arpsi si phamci usf arhfr itfnrr exhibit to the ace sushi franchise corporation disclosure document satellite store this satellite store this addendum is made and entered into as of this day of the effective date by and between ace sushi franchise corporation a california corporation franchisor and franchisee with reference to the following facts. asiana management group incorporated a california corporation amg an affiliate of franchisor as the result of the expenditure of time skill effort and money has developed a distinctive system relating to the establishment and operation of sushi bars ace sushi bars which offer high quality raw and cooked sushi and related food products prepared by a sushi cheft for sale as carry out items for off premises consumption either at sushi bars in grocery stores supermarkets and other locations the stores owned and operated by third party operators the store owners who have entered into agreements sushi supply agreements with or pre packaged and sold in display and merchandising cases at stores known as satellite stores in the general geographical vicinity of the ace sushi bars without a sushi bar or sushi chef on site the system. the distinguishing characteristics of the system include without limitation the selection preparation and distribution of unique high quality fresh and frozen sushi chinese and related asian fusion food products which incorporate amg trade secrets and proprietary information the proprietary products distinctive equipment standards and specifications for products and supphes service standards uniform standards specifications and procedures for operations procedures for inventory and management control afw training and assistance the relationship between franchisor and its franchisees trade dress defined product offerings. franchisor specified pricing and promotions restrictions on ownership administrative procedures and marketing and public relations programs all of which may be changed improved and further developed by franchisor and franchisor affihates from time to time. on. franchisor and franchisee entered into a franchise agreement the franchise agreement pursuant to which franchisee agreed to operate an ace sushi bar at a store in accordance with the terms of the franchise agreement. franchisor and franchisee have also agreed that franchisee wih service the satellite store listed on schedule attached to this addendum the satellite store under the terms of the franchise agreement. franchisor and franchisee desire to enter into this addendum to designate the satellite store that franchisee wih service under the franchise agreement. now therefore itis agreed. incorporation of recitals. the recitals set forth in paragraphs through above are true and correct and are hereby incorporated by reference into the body of this addendum. satellite stores franchisor hereby grants to franchisee the non exclusive right and franchisee undertakes the obligation during the term set forth on schedule to use the system the proprietary products and proprietary marks to service the satellite store with pre packaged proprietary products to be sold from display and merchandising cases at the satelhte store without a sushi bar or sushi chef on site. franchisee shall dehver sushi hmhuum ace sushi satellite store addendum a store no camcamertodehversn products to thesate testore. commissions ro alteration eees. commissions. franchisor andfor franchisors affiliates shaii pay franchisee a percentage of the oross sushi saies at the satellite stores as commissions a mannerdescrihedinsechon ofthe franchiseagreement. franchisors comnensation.franchisorandborfranchisobsaffiliatesshallretaina percentage of the oross sushi sales at the satehite stores as fmnchisobscompensation as set forth on. time of payments. alabama payments required hy sections. and. shall he paid ona montl hasis calculated in the manner descrihed insechon. of the franchise agreement. enttreaoreement the franchise agreement this addendum and schedulelrepresent the enhre understanding hetweenthe parties regarding the suhject matter of this addendum and supersede all other negotiations agreements representations and covenants oral or writien regarding the sul ect matter of this addendum. no other agreements representations promises commitments or the like of any nature exist twe regarding the suhject matter of this addendum. except as modified hy this addendum all terms and ohiigations of this franchise agreement are herehy ratitied aftirmed and approved. all defined terms which appear in this addendum shall have the same meanings as set forth in the franchise agreement. notwithstanding the foregoing nothing in this or any related agreement is intended to disclaim representations franchisormade in the franchise losureoocumentthat franchisor furnished to counterparts eeectroniccopifs this addendum may he executedin any numher of counterparts each of which shallhe deemed tohe anoriginal andallofwhichtogether shahhe deemedto he one and the same instrument. signatures transmitied electronically or hy facsimile wih he deemed original signatures. electronic copiesof addendum shall constitute and he deemed an original copy of this addendum for all purposes provided that such electronic copies are fully executed in the manner required and are dated and identical in form to the original hard copy version of this addendum. inweenesswhereoe thepartieshaveexecutedthisaddendumontheeffectiveoate i i i i franchisee by by name name title title vmmm tuu ace sushi satellite store addendum schedule to satellite store of satellite store commissions payable to franchisee compensation payable to franchisor term ofthis satellite store address of satellite store in witness whereof the parties have executed this schedule on the effective date ace sushi franchise corporation franchisee by name title by name title ihrnimw? ace sushi satellite store addendum ace sushi franchise corporation exhibit purchase agreement ace sushi franchise corporation purchase agreement table of contents. incorporation of recitals. purchase sale. purchase price for assets. liabilities of franchised business. franchise agreement. representations warranties of seller. representations warranties of buyer other agreements conditions precedent to buyer performance. conditions precedent to seller performance. indemnification. survival of representations warranties. governing law. general signatures exhibits exhibit assets exhibit franchise agreement exhibit promissory note exhibit allocation of purchase price exhibit assumed liabilities exhibit bill of sale exhibit general release ! purchase agreement this purchase agreement this agreement is made this day of. the effective date by and between asiana group incorporated a california corporation seller on the one hand and buyer on the other hand with reference to the following facts. seller owns and operates the ace sushi bar the franchised business located at the franchised location under an agreement the sushi supply agreement with the store owner. seller desires to sell to buyer and buyer desires to purchase from seller certain of the assets owned or used by seller in the operation of the franchised business as more fully described in exhibit the assets. buyer further desires to operate the franchised business under a franchise agreement with ace sushi franchise corporation the franchisor the franchisor of ace sushi bars in the form of exhibit the franchise agreement. now therefore it is agreed. incorporation of recitals. the recitals set forth in paragraphs and of this agreement are true and correct and are incorporated into this agreement as part of this agreement. purchase sale. seller hereby sells conveys transfers assigns and delivers to buyer and buyer hereby purchases from seller all of the assets of the franchised business listed on exhibit plus all of the useable retail inventory located at the franchised business on the effective date the inventory. purchase price for assets. a purchase price. the aggregate purchase price for the assets the purchase price shall be the sum of plus the sum of for the inventory. within two days after the effective date seller shall inform buyer of the purchase price for the inventory valued at its customary cost the inventory consideration. if the actual inventory consideration is greater than in the aggregate. buyer shah pay seller within five business days thereafter an additional amount equal to the difference between the actual inventory consideration and. if the actual inventory consideration is less than in the aggregate. seller shall issue a credit to buyer against the purchase price for buyer subsequent purchases of inventory in an amount equal to the difference between and the actual inventory consideration. payment of purchase price. contemporaneous with the parties execution of this agreement buyer shah pay seller the sum of as a down payment against the purchase price and shall execute and deliver to seller a promissory note in favor of seller for in the form attached to this agreement as exhibit the purchase note as payment of the purchase price. allocation of purchase price. seller and buyer shall allocate the purchase price among the assets as set forth on exhibit attached to this agreement by reference using the allocation method required by section of the internal revenue code of as amended the code and the regulations thereunder. jwj ace sushi purchase agreement millimeter payments required in addition to purchase price. buyer stiah pay ttie fotiowing obtigations in addition to the purchase price i the initial franchise fee due to pranchisor. ii aii amounts attrihutabie to prorations as more fuiiy descrihed in section folios of thisagreement. liabilittesopprangmsed business a seiier seiahiiities. seiier hereby assigns transfersandconyeystobuyeraiiofseiier right titie and interest in and to the iiahiiities and ohiigations ifany iisted on exhibit attached to this agreement coiiectiyeiythe assumedeiabitities mconnectio business. exceptasspeciticaiiy provided in section fb of this agreement buyer shaiinot assume and shaiinot acquire take over or be responsible for any tiabitities or obiigatior of seiier imown or unimow arising from the operation of the erancbised business by seher prior to the effective date i assumed eiabiiities. buyer hereby assumes and promises to pay and perform the assumed liabihtiesinconnectionwithbuyer sacquisition of the erancbised business. eranchiseagreemene on the effective date buyer and franchisor shah execute a franchise agreement for the franchised business in the form of exhibit. represeneattdnsand arranttesoeseeeer seiier represents and warrants to buyer a incorporation and authorisation. seiier i is duiy incorporated vahdiy existing and in good standing under the iaws of the state of california and ii has the power and authority to entering this agreement and the documents referenced in this agreement and to consummate the transactions contemplated by this agreementand otherwise toperformselle sobligationsunder this agreement.this agreement hasbeen duly authorized and executed by seller and constitutes the legal valid and binding obligation of seller enforceable against seller in accordance with its terms. vioiation. the execution and delivery of this agreement by seller and the consummation of the trar ctions contemplated by this agreement do not and will not i violate any provision of the ancles of incorporation of sellers ii violate any materialcouri or administrative order process or decree to which seller isaparty or by wl ch it or any of its respective properties or assets is bounds or iii resultinthecreationorimpositionofanymaterial henry charge pledge security interest or other encumbrance uponthe assets pursuant to any provision of any morigage lien lease agreement license or instm which seller isaparty or by which seller is bound. consents. no consent or approval by or any notification of or tiling with any person governmental or private is required in connection with thee agreement or the consummation of the transactions contemplated hythis agreement. encumbrances seller has good and marketable title to the assets free and clear of any and ah liens claims judgments taxes encuml ances security interests debts or other adverse club any kind. acesushi rchaseacreement. permit and licensed a necessarytocarryon busmessofthefranch busmess as mles and regulations of any fedem state county or local governmental agen ttie ticensesaremgoodstandlngand areinfull force and effect. litigation ttiere is no pending or to ttie knowledge of seller ttireatened suit action arbitration or legal administrative or ottier proceeding agarr or affecting seller ttie france assets ttie master lease or ttie licenses. novmtation.sellertiasnotreceivednoticeofany vioiationof any applicable federals state or local statute law or regulation relating to or directly or materially atiectmg tbe ass busmess and to tbe best knowledge of seller tbere are no sucb violations byseller. represei attonsandwarranttesofbuyer buyer represents and warrants tp seller a autbori ation.tlus agreement bas been duly autbori edward and executed by buyer and constitutestbelegal validandbmdingobligationof buyer enforceable agair buyer in accordance witb its terms. violation. tbe execution and delivery of tbis agreement by buyer and tbe consununation of tbe transactions contemplated by tbis agreement do not and will not i violate any material couri or administrative order process judgment or decree to wlucb buyer isaparty or by wbicb it or any of its respective properties or assets is bounds or ii result in tbe creation or imposition of any material lien cbar pledge security interest or otber encumbrance upon tbe assets pursuant to any provision of any mortgage lien lease agreement license or instrument to wbicb buyer isaparty or by wbicb buyer is bound. consents. no consent or approval by or any notification of or filing witb any person governmental or private is required in connection witb tbe execution delivery and performance by buyer of agreement or tbe consummation of tbe transactions contemplated by tbis agreement. ownersbip of tbe francbised business. buyer bas been advised by seller tbat seller or itsaffiliates bave been tbe only ownerof tbe francbised businessduring tbe period tbe francbised business bas been in existence. otheraoreements a condition of assets. alabama assets sold pursuant to tbis agreement are sold as is.seiier no warranttfs of i express or i i i fncluoino but not limtteo to those wtth respect to ttie conottionoett or ttieirmerchantability or fttness i be no abatement of tbe purchase price and seller sball bave no liability to buyer for any claim loss or damage asaresult of any nonoperating deticiency or defect in tbe assets tbe use or periormance of tbe assets or any interruption or loss of service or of use of tbe assets. susbisuppiya reement.tbesusbi supplyagreement witb tbe store owner and tbe accounts represented by tbe susl supplyagreement are and sball be and remain tbe exclusive property of seller and its affiliates. seller and buyer acknowledge and agree tbat all of tbe rigbts and dutie underthisagreement are expressly made subject to tbe terms and conditions oftbe susbi supplyagreement. confidentiatity. buyer and seller shall bold in confidence i all documents and information obtained tiom eacb other their employees agents and independent contractors ii the nature and con of tius agreemem and ah i hythis agreement ah of fhe ahove shah eoheeh shah not diseiose or eonvey any of sueh conhdenhalh ormahon toany other persons provided buyer and seher may disclose confidentiai tnformation to such oftheir potential lenders employees attorneys accountants and financial advisors asisreasonahle to facihtate consummationof thetransactions contemplated hythis agreements to the extent any such disclosure is required hylaws and to the massachusetts landlord and oti er third parties as necessary to facilitate ohtainmg such parties consent to the underthisagreement. saiestaxandutitities.buyershall pay all sales andbor use taxes arismg from the saleof the assets hyseher to buyer. alabama uthity and telephone service to the franchised business shall he discont sellers name as soon as practicable after the effective date. buyer shall transfer such services to buye that there is no interruption of such services asaresult of the transactions contemplated hythis agree shall not responsihie for payment of any related charges effective in each case on or after the close of husiness on the effective date. in the event that seller is required to pay any utihty expenses incurred after the effective date buyer shahreimhurse seller within five husiness days of sellersrequest for suchreimhursement. similarly if buyer pays any costs relating to the periodptior to effective date seller shah reimhursebuyer withintive husiness days of buyers writien request for such reimhursement. in all cases apartysrequ reimhursement shahheaccompanied hyevidence reasonahly satisfactory tothe other that suchparty has incurred the expense for which it is requesting reimhursement. ere ctusin credits buyer shall reimhurse seller within five husiness days of receipt of any retroactive credits or other amounts which all or partially relate to any period prior to the effective date fforexampie areal estate tax credit arising after ti eeffectivedate that relatesto the petiodninef months hefore and three months atier the effective date wih he reimbursed hy buyer to seller to the extent of south-east five percent of such credit received hy buyer. post osing charges. seller shall reimhurse buyer within i husiness days after receiving writien notice from buyer of any club rges which ah or partiahy relate to any period prior to the date and which are not assumed eiahihtiesfforexampie areal estate tax club rge received from after the datethatrelatestotheperiodnine monthshefore and three months after theeffectivedatewihhe reimbursed hy seller to the extent of seventy five percent of the hih. prorations. all rents sewer charges water charges pubhc utility charges real and personal property taxes levied or assessed agair the assets and the erancbised business and other item customarily prorated betweenasellerandabuyer ofabusiness shall be prorated between seller and buyer as of the effective date and sball be paid by seller orbuyer as the case may be on the effective date. condittdnsprecedenttd buyer peredrmance the ohligation of buyer to purchase the assets is subject to the receipt by buyer of duly executed originals of this agreements the franchise agreementandabill of sale for the assetsin the form of exhibit attached to this agreement. condeeidnsprecedenetdseeeer speredrmance theobhgationofsellertosellthe assets is suhject to the receiptby seller of duly executed originals of this agreement the franchise agreement promissory note anda north-east ra release in theform exbibito attached to this agreement. ace sushi purchase agreement mimw indemn cation by seti seher shah mtiemmfy defend and hold buyer freeand harmless om and agah any and ah losses as suffer which arise or resuh om the operation or conduct of the hnsmess of fhe any timehefore theeffectiyedate omseher sliahihtiesand fromany hreachof sehebsrepresentations warranties or covenants contained in this agreement. indemnificationhybuyer.buyer shaii indemnify defend and hoid seiier free and harmiess from and against any and ah losses which seher shah incur or suffer which atise or result tiomth operation or conduct of the franchisedbusiness hybuyer at any time after the effective date and from any hreach of buyer srepresentations warranties or covenants contained in this agreement. losses. for purposes of this agreement. losses shall mean anyandall ohhgations. liahilities costs mcluding reasonahie atiprneys fees expenses damages and loss actuah entitied to indemnitication under section fa and section fh of this agreements net of any insu and material tax adjustments netits savings or reductions to which such party is entitled hy virtue ofsuch ohhgations liahilities costs expenses damages and losses provided however that losses exclude ah corner quential damages of any itind includmg hut not limited to loss of revenue or income cost of capital or loss of husiness reputation or opportunity. dhti ations of indemnified party. party entitled to indemnification under the provisions of this section fthe indemnitee shah promptly notify the indenmifyingpa of the existence of any claim demand or other matier to which the demnitor sindemr ication ohiigations would apply and shah give the indemnitor a reasonahie opportunity to defend or pay the same at the demnitor sown expense and with counsel of indemnitor sownse the right to fully participate in the defense of any claim at the den tee sown expense. if the den withinareasonahle time after this notice fati to pay or defend. indemnitee shah have theright ohligation to undertake the defense of and to compromise orsetile exercising reasonahie husiness judgm the claim or other matier on hah for the account and at the risk of the demnitor. if thee cannot hy its nature he defended solely hy the indemnitor then the indemnitee shall make availahle all information and assistance that the indenmitorn reasonahiy request for this purpose. mitigation. each indemnitee shah he ohhgated in connection with any claim for indemnitication under thissectionll to use commercially reasonahie efforts to mitigate losses upon and after becoming aware of any event which could reasonahiy he expected to give rise to such losses. alabama representations warranties covenants and agreements of the parties contamed in this agreement or in any instrument or other writing provided for in this agreement shah survive the date. i tlus agreement shall he governed hy and corner trued in accordance with the laws of the state of california. general. a notices. except as otherwise expressly provided herein all written notices and reports permitted or required to be delivered by the parties pursuant hereto shall be deemed so delivered at the time delivered by hand one business day after electronic transmission or three business days after placement in the united states mail by registered or certified mail return receipt requested postage prepaid and addressed as follows if to seller asiana management group incorporated west street suite gardena california attention president facsimile number with a copy which shall not constitute notice to barry kurtz esq. fcrb kurtz law group professional corporation oxnard street suite woodland hills california facsimile number if to buyer. attention facsimile no any party may change his or its address by giving ten days prior written notice of such change to all other parties. waiver and delay. no waiver by seller of any default or series of defaults in performance by buyer and no failure refusal or neglect of seller to exercise any right power or option given to it hereunder or to insist upon strict compliance with or performance of buyer obligations under this agreement shall constitute a waiver of the provisions of this agreement with respect to any subsequent default thereof or a waiver by seller of its right at any time thereafter to require exact and strict compliance with the provisions thereof. successors and assigns benefit. this agreement shall be binding upon and inure to the benefit of the successors and assigns of seller and buyer and its or their respective heirs executors administrators successors and assigns subject to the restrictions on assignment contained herein. this agreement is for the benefit of the parties only and is not intended to and shah not confer any rights or benefits upon any person who is not a party hereto. entire agreement. this agreement and all exhibits to this agreement constitute the entire agreement between the parties and supersede any and all prior negotiations understandings representations and agreements. this agreement cannot be modified or changed except by written instrument signed by ail of the parties hereto. notwithstanding the foregoing nothing in this or any related agreement is intended to disclaim the representations franchisor made to franchisee in the franchise disclosure document or in any related document that franchisor heretofore furnished to franchisee. titles for convenience. section titles used in this agreement are for convenience only i i ace sushi purchase agreement mnmi and shahnot deemedto affect the meamng conditions of this agreement. exhihits gender and constmction. the terms of aii exhibits bereto are bereby incorporated into and madeapart of this agreement as ifthe same bad been set forth in fnh herein. aii terms used in any one number or gender sbaii extend to mean and include any other number and gender as the facts context or sense of this agreement or any arbcie or section hereof may require. neither this agreement nor a uncertainty or ambiguity herein shah be corner tmed or resolved against tbe drafter bereof wh of constmchonorotberwise. the contrary tl agreement has reviewed by allparhes a constmed and interpreted according to the ordinary meamng of the words used so as to fairly accomp purposes and intentions of all parties bereto. severabitity. nothing contained in agreement constmed as requiring the commission of any act contrary to law.lf any section of this agreement shall be beld indefinite invalid otherwise unenforceable theindetinite invalidor unenforceable provision shallhe deemed deleted a remaining part of this agreement shall continue in full force and effect. counterparts and etectronic couies. this agreement may be executed in any number of counterparts each of which shallin deemed to be an original and all of wbicb together shall be deemed to be oneand thesameinstmment.signaturestransmitiedelectronicallyorby facsimile wisconsin i deemedor i signatures. electronic copies of agreement shati constitute and he deemed an i copy of this agreement forallpurposes provided that such electronic copies arefuhy executed datedandidentical in form tothe original hard copy version of this agreement. i attorneys eees. if either party to this agreement shall bring any action or proceeding for any relief against the other declaratory or otherwise ari to the prevaihngpartyareasor hle sum for atiomey fees and costs incurred in bringing or defending such action orproceeding. in wetness wherege the parties hereof have executed this agreement as of the date first shown above. seeeer asianamanagementgrgue incorporated acalifomia corporation name title buyer name title ace sushi purchase agreement hxtdh exhibits exhibit exhibit exhibit exhibit exhibit exhibit exhibit assets franchise agreement promissory note allocation of purchase price assumed liabilities bill of sale general release inrnmm ? exhibit assets wmim.? exhibit franchise agreement ace sushi purchase agreement luooloxfi lines exhibit promissory note ace sushi purchase agreement kilometer tt promissory note gardena california. principal payment. for value received the undersigned buyer promises to pay asiana group incorporated a california corporation or order seller without deduction or offset at the address specified for notice to seller in section hereof or at such other place as seller shall specify in writing in lawful money of the united states of america the principal amount of dollars in equal consecutive monthly payments commencing with the first payment of due on and continuing on the same day of each successive month until when this note shah be paid in full in connection with buyer purchase of the assets at the ace sushi bar the franchised business located at payments due hereunder shall be made in the form of post dated checks cashiers checks or as otherwise required by seller at seller election. prepayment. this note may be prepaid at any time or from time to time in whole or in part without penalty. application of payments. each payment on this note whether made when due or otherwise shall first be credited against any interest then due and the remainder of such payment shall be credited against the unpaid principal. default acceleration. if one or more of the following events shall occur events of default or an event of default a buyer shall default in the due and punctual payment of any installment due hereunder whether at maturity upon acceleration or otherwise and such default shall continue for a period of ten days after written notice of such default is given by seller to buyer or. buyer shall default in the performance of buyer obligations under any other agreement between buyer and seller and such default shall continue for a period of at least ten days after written notice of such default is given by seller to buyer or. buyer shah seh exchange transfer or make any other disposition of all or substantially all of the assets other than a transfer by buyer to an affiliated entity of any franchised businesses owned by buyer whether individually or collectively or any transfer of or more of the capital stock membership interest partnership rights or other ownership interests of buyer or. buyer shall be adjudicated bankrupt or insolvent or make an assignment for the benefit ace sushi purchase agreement i i of creditor or buyer shah applyfor ofticer forhor for ah or any suhstantial part i shah he appointed without the apphcation or consent of buyer anti such appointment shah continue undischarged forapetiotiofslxty days or. buyer shah institute hy petition apphcation answer consent or otherwise any bankruptcy insolvency reorganization moratorium arrangement readjustment of deht dissolution liquidation or similar proceeding relating to it under the laws of any jurisdiction or any such proceeding shall instituted hy petition apphcation or otherwise againstbuyer and shall remain undismissed for sixty days then upon the occurrence of an event of fault under sections occurrence of an event of fault under sections a or ahove upon the election of seller fohowing expiration of the ten day period provided therein the entire principal halance of this note a interest without further demand shall immediately hecome due and payahle. no delay or omission on the part ofseller in exercising any right under this note shall operate asawaiver of such right. waiver buyer waives presentment protest and demand notice of protest demand dishonor and nonpayment of this note notice of acceleration notice of intent to accelerate and any and all other notices or matiers ofaliker ture provided ti such waiver shall not extend to any notice of default to he given hy seller under sections a or hereof. ateorneyseees buyer agrees that if any legal action is hrought to enforce or collect this note the prevailing party shallin entitled to reasonahie atiorneys fees and costs and any and all costs of collection in addition to any other rehef to which that party may he entitled. this provision shall he apphcahle to the entire note. severabieeey every provisionof thisnoteisintended tohe severahie. if any term or provision hereof is declared hyacourt of competent jurisdiction illegal or invahd for any reason whatsoever such illegality or invalidity not affect thehalance of the terms andprovisions hereof whichtermandp remain hinding and enforceahle. notices alabama notices statements or demands he in writing and shall he served in person hy express mah hycertitied mail hy private overnight delivery or hy electronic tmnsnussion fax. conclusively made a atthetimeofservice if personally served twentyfour hours exclusive of weekends and national holidays after deposit in the united states mail properly addressed and postage prepaid tiserved hy express mail upon the earlier of actual receipt or three calendar days after in the united states mail properly addressed and postage prepaid return receipt requested if served hy certitied mail twenty four hours atier delivery hythe party giving the notice statement ordinance private overnight delivery and at the time of electronic transmission if such trar missionoc. on a husiness day and a copy ofsuch notice is mailed within twenty four hours after the transmission. ace sushi purchase agreement mmi any notice or demand to seller shall be given to asiana management group incorporated west street suite gardena california attention president facsimile number with a copy which shah not constitute notice to barry kurtz esq. gaffwcurtz law group. professional corporation oxnard street suite woodland hills california facsimile number any notice or demand to buyer shall be given to attention fax number either party may change its address for. the purpose of receiving notices demands and other communications as herein provided by a written notice given in the manner aforesaid to the other party. binding effect. all the terms and provisions of this promissory note shah be binding upon and inure to the benefit of the parties hereto and their respective successors and assigns. headings. headings at the beginning of each numbered section of this promissory note are intended solely for convenience and are not to be deemed or construed to a part of this promissory note. governing law venue. this promissory note shall be governed and construed in accordance with the laws of the state of cahfomia. venue for purposes of any actions brought in connection with or arising out of this agreement shall be conclusively presumed to be in the state of california county of los angeles. in witness whereof the undersigned has executed this promissory note as of the day and year first above written. buyer by name i i i ace sushi purchase agreement iqoqll.iqf.jj title zuli ace sushi purchase agreement exhibit allocation of purchase price i ih hs exhibit assumed liabilities hxmhmft? exhibit bill of sale hnn.iixff i bill of sale pursuant to and in accordance with that certain purchase agreement dated the purchase agreement by and between asiana management group incorporated a california corporation seller on the one hand and buyer on the other hand and for other good and valuable consideration the receipt and sufficiency of which is hereby acknowledged. seller hereby sells conveys transfers assigns and delivers to buyer the assets the assets of the ace sushi bar located at as set forth in section of the purchase agreement. in witness whereof the undersigned has executed this bill of sale as of. seller asiana management group incorporated california corporation by name. title loomqu.zl exhibit general release uhjoumht.?! with reference to the following facts general release buyer enters into this general release on. on asiana management group incorporated a california corporation seller and buyer entered into purchase agreement the purchase agreement pursuant to which on the date hereof. seller sold to buyer all of seller right title and interest in and to certain assets the assets of the ace sushi bar the franchised business located at the franchised location. in connection with the purchase agreement buyer agreed to operate the franchised business as a franchisee of ace sushi franchise corporation franchisor under a franchise agreement the franchise agreement. for valuable consideration the receipt and sufficiency of which is hereby acknowledged. buyer hereby releases and forever discharges seller and franchisor and their subsidiaries and affiliated companies and their respective directors officers employees attorneys and agents and each of them from any and all claims obligations liabilities demands costs expenses damages actions and causes of action of whatever nature character or description known or unknown collectively damages which arose on or before the date of this release including any damages with respect to the purchase agreement the assets the franchised business the franchised location and the franchise agreement and any right or benefit which buyer may have under section of the california civil code or any comparable statute which reads as follows section. general release effects. general release does not extend to claims which the creditor does not know or suspect to exist in his or her favor at the time of executing this release which if keewknown by him or her must have materiahy affected his or her settlement with the debtor. buyer waives and releases any right or benefit which buyer has or may have under california civil code section or any other statute or common law principle of similar effect to the full extent that buyer may lawfully waive all such rights and benefits and acknowledges and agrees that buyer shall be considered to be a creditor of seller for the purposes of california civil code section. buyer acknowledges and agrees that buyer is aware that buyer may hereafter discover claims or facts in addition to or different from those which buyer now knows or believes to be true with respect to the released claims and the claims relative thereto which do now exist may exist or heretofore have existed between seller its respective officers directors shareholders members employees attorneys and agents and each of them on the one hand and buyer on the other hand. in furtherance of such intention the releases given in this section shall be and remain in effect as full and complete releases of the released claims notwithstanding the discovery or existence of any such additional or different claims or facts relating thereto. further buyer shall not institute any legal action or proceeding against seller or institute instigate or initiate any investigation or administrative proceedings by any state or federal regulatory agency with respect to the released claims and the claims relative thereto following the date hereof. this general release sets forth the entire agreement and understanding of the parties regarding the subject matter of this general release and any agreement representation or understanding express or implied heretofore made by any party or exchanged between the parties are hereby waived and canceled. this agreement shall be binding upon each of the parties to this general release and their respective heirs executors administrators personal representatives successors and assigns. signature page follows ace sushi purchase agreement ittmloohfi in witness whereof the parties have executed this agreement as of the day and year set forth above. buyer by name title ace sushi purchase agreement ooq uhj exhibit to the ace sushi franchise corporation disclosure document state specific addenda each provision of this addenda shah be effective only to the extent with respect to such provision that the jurisdictional requirements of a state are met independently without reference to this addenda. i ace sushi addenda cahfomia corporations cotie section requires ttie franchisor to give the franchisee a tiisciosnre tiocnment approveti tiy the apartment of corporations ptior toaso i i materiai modification of an existing franchise. proposed aoreements reeatino to teie saee i eranceose ee oeeivereo tooettierwtthtt oiscec dreoocdme our weesite has not eeen renewed or approved caeieornia i i weesit may ee directed to i tl fohowing language is added to the end of item of the disciosure document neither we nor any person identitied in item or anaffiiiate or franchise broker old testament ier ingfr under our principal trademark issuhject to any currently effective order ofany national securities associationornationalsecutitiesexchange asdefinedin the securities andexchange act of.ca. a et seq. suspending or expellingsucti person from memhership in such association or exchange. the fohowing paragmphs are added at theend oflteml of the tiisclosure ocument theeranchise agreement requires francl see to signageneml release of claims upon renewal or transfer of the franchise agreement. california corporations code section provides that any condition stipulation or provision purporting to hind any person acquiring any franchise to waive comphance with any provision of that law or anyrule or order thereunder is void. califorma business and ofessions code sections through provides rights to franchisees concerning termination or nonrenewal ofafranchise. if the franchise agreement containsa provision that is inconsistent with the law the law will control. tl efmhcl south-east agreement provides for termination upon bankruptcy. this provision may not be enforceahle under federal bankruptcy law. second etseq. thefranchise agreement containsacovenant not to compete wbich extends beyond the terminationof thefranchise.tl provision may notbe enforceable under a i i a enforce it to the extent enforceable. the franchise agreement containsahquidated damages clause. under california civil codesectionl certain liquidated damagesclausesare unenforceable. prospective franchisees are encouraged to consult private legal counsel to determine the applicabilityofcalifomiaand federal laws such as business and professions code section. code of civil procedure section and the federal arbitration act to any provisions ofafrancl south-east restricting venue toaforum outside the state ofcalifomia. illinois to disclosure document section of the illinois franchise disclosure act of the act provides that any provision in the franchise agreement which designates venue outside of illinois is void with respect to any cause of action which is otherwise enforceable in illinois however the agreement may provide for arbitration in a forum outside of illinois. notwithstanding the provisions of the franchise agreement that california law shall govern the franchise agreement illinois law shall apply to and govern any claim between the parties under the franchise agreement that alleges violation of the act. the conditions under which your franchise can be terminated and your rights upon renewal may be affected by illinois law ilcs and. a ace sushi addenda initial the undersigned hereby acknowledge and agree that. section of the lilinoisfranehlse disclosure act of the any provision in the initial training agreement which designates venue outside of respect to anycause of action whictiis otherwise enforceable in illinois however the agreement provide for arbitrationinaforum outside of illinois. illinois law shall apply to and govern any claim between the parties under the initial training agreement that alleges violation of the act. section. andsection of the initial training agreement are amendedto read as follows. choiceof law. this agreement shall be interpreted andconstruedunder the laws of tilinois. no ing in this section. is intended by the parties to subject this agreement to an tianchise or similar law rules or regulation of the state of illinois to which it would not otherwise subject. venue the parties agree that any action brought by either party against the other in any court whether federal or state shall he brought within the state of illinois. any condition stipulation orprovisionpurportingtobindany person acquiring any franchise to waive compliance with any provision of section of the act or any other iaw of illinois is void. tlus shallnot prevent any person from entering intoasettlement agreement or executingageneral releaseregardingapotentialoractuallawsuitfiledunderanyof the provisions of the act nor shall it prevent the arbitration ofany claim pursuant to the provisions oftitie of the united states code. each provision of this addendum shall be effective only to the extent with respect to sucb provision that the jurisdictional requirements of the act are met independentiy without reformation addendum franchisor acesush franch south-east corporation acalifomia corporation its franchisee addendumtofranchiseagreement the undersigned hereby acknowledge and agree that. seehon of the ihinois franchise any provision in the franchise agreement which to any cause of achon which is otherwise enforceabie in iiiinois bowever the agreement may arbitration inafomm outside of iiiinois. iiiinois iaw shaii apply to and govern any claim between the parties under the franchise agreement tbat alleges violation of the act. sechonl land section. of the franchise agreementare amended to read as follows. choice of taw. this agreement shall be interpreted and construed under the laws of illinois. no ing in this section. is intended by the narhes to franchise or similar law rules or regulation of the state of iiiinois to wl cb it would not otherwise be subject. venue the parties agree that any action brought by either party against the other in any court whether federal or state he brought within the state of tilinois. any condition stipulation or provision purporting to bind any person acquiring any hanchise to waive compliance with any provision of section of the act or any other law of illinois is void. shall not prevent any person from entering intoasettlement agreement or executingageneral release regardingapotentialor actual lawsuit tiled under any of the provisions of the act nor shall it prevent the arhitration of any claim pursuant to the provisions oftitle of the united states code. fach provision of this addendum shall be effective only to tbe extent with respect to such provision that the jur ic ior requirements of the act are met independentiy without refe addendum. franchisor acfsushifranchisecorforation acalifomia corporation by its franchisee indiana. risk factors hstedonthe cover page of indiana law. itisnnlawful forany franchiseagreement entered intobetween any franchisor anda franciuseewhoiseitheraresidentof indiana oranonresident who i i a i a a i indiana to contain any of the foiiowing provisions a requiring goods supphes inventories or services to he purchased exclusively from the franchisor or sources designated hythe franchisor where such goods supphes inventories or services of comparahle quality are avahahle from sources other than those designated hythe franchisor. however the puhhcahon hythe franchisor ofalistofapproved supphers of goods supphes inventories or service or the requirement that such goods supphes inventories or services comply with specifications and standards prescri i hythe franchisor does not constitute designation does a reasonahie right of the franchisor to disapprovea suppher constitute a designation. this paragraph doesnot apply totheprincipalgoods supphes inventories orservicesmanufacturedor trademarked hythe franchisor. allowing the franchisor to estahhsha franchisor ownedoutietengaged i a substantially identical husiness to that of the franchisee in the exciusive territory granted the franc hy the franchiseagreement or if noexclusive territory isdesignated permitting the franchisorto compete unfairly with the franchisee inareasonahle area. allowing suhstantial modification of the franchise agreement hythe franchisor without the consent in writing of the franchisee. allowing the franchisor to ohtain money goods services or any other henefit from any other person withwhom the franchisee does husiness on account of or in relation to the transaction hetween the franchisee and the other person other thanfor compensation for services rendered hy the franchisor uniess the henefit is promptly accounted for and transmitted to the franchisee. requiring the franchisee to prospectively assent to a release assignment novation waiver or estoppel whichpurportstorelieveanypersonfromhahilitytoheimposedhy indiana law or requiring any controversy hetween the franchisee and the franchisorto! refers person if referral would he hinding on the franchisee. paragraph does not apply to a hefore an independent arbitrator. allowingforanincrease inprices ofgoodsprovidedby the franchisor which the franchisee had ordered for private retail corner umers prior to the franchisee receipt of an official price increase notification. asaies contract signed byaprivate retail consumer shall constitute evidence of each order. price changesapphcabie to new models ofaproduct at the time of introduction of such new models shah not be consideredapriceincrease. price increases caused by conformity to state or federal iaw or the revaluation of the united states dollar in the case of foreign made goods are not subject to this paragraph. permitting unilateral termination of the franchise if such termination is without good cause or in bad faith. good cause within the meaning of this paragraph includes any material violation of the franchise agreement pern ttingttie franchisor to fati to renewafranchise without gooticanse or in hati faith tins paragraph shah not prohihitafranchise agreement tiom providing that the agreem not renewable upon expirationor that the agreement is renewable if the franchisee meetscertain conditions specified in the agreement. i reqniringa franchisee to covenant not to compete with the franchisor fo ra period longer than three years or in an area greater than the exclusive area grantedhy the fra agreement or in absence of such a provision in the agreement an area of reasonable size upon termination of or failure to renew the franchise. limiting litigation brought for breacb of the agreement in any manner whatsoever.achoice of forum or law other than that of indiana isprohibited. requiring the franchisee to participate in any i advertising campaign or contest ii promotional campaigns hi promotional materials or iv display decorations or materials at any expense to the franchisee that is indeterminate detern edward byathird party ordeter formula unless the franclnse agreement specities the maximum percentage of gross monthly sales or the maximum absolute sum that the franchisee may be required to pay. requiringafranchisee to enter into an agreement providing the franchisor with any indemmfication for liabilitycausedby the franchisee sproper reliance on or use of procedures or materialsprovided by the franchisor or by the franchisor snegligence. requiring a franchisee to enter into an agreement reserving the right to injunctive relief and any specitic damages to the franchisor limiting the remedies available to either a without benefit of appropriate process or recognizing the adequacy or inadequacy of any remedy under theagreement. itisunlawful forany franchisorwhohasentered into any franchise agreement witha franchisee who is eitheraresident of indiana oranomesidentoperatinga anchise in indiana to engage in any of the following acts and practices in relation to the agreement a coercing the franchisee to i order or accept delivery of any goods supplies inventories or services which are neither necessary to the operation of the franchise required by the franchiseagreement required by law nor voluntarily ordered by the franchisee. ii order or accept dehvery of any goods offered for sale by the franchisee which mcludes moditications or accessories which are not included in the hase price of those goods as pubtidy advertised by the franchisor iti participate in an advertising campaign or contest any promotionai campaign promotionai materiais display decorations or materials at an expense to ttie franchisee over and alabama ve the maximnm percentage of gross monthly sales or the maximum absolute snm require spent hythe franchisee provided for in the franchise agreement in the absence of sucti provision for required advertising expenditures in the franclnse agreement no such participation may be requiredto iv enterintoany agreement withthe franchisor or any designee of the franchisor or do any otber act prejudicial to the franchisee by threatening to cancel or fail to renew any agreementbetween the franchisee and thefranchisor. noticeingoodfaithtoany franchiseeof the franchisee violation ofthe termsor provisionsof a franchiseor agreement doesnotconstitutea violation of this paragraph. refusing or failing to deliver in reasonable quantities and withinareasonable time after receipt of an order fromafranciusee for any good supplies inventories or services wlucb the tianclusorhas agreed to supply to the franchisee essay the fahure is caused by acts or caused be the control of the franchisor. denying thesurviving spouse heirs or estateof a deceased franchisee tbe opportunity to participate in the ownership of the francluse undera validfranchise agreement fora reasonahie time after the death of the tiancl see providedthat the surviving spouse heirs or estate maintains all standards and obligations of the franchise. establishing a franchisor owned outlet engaged in a substantially identical business to that of the franchisee within the exclusive territory granted the franchisee by the agreement or if no exclusive territory is designated competing unfairly with the franchisee withina reasonable area. eiowever a franchisor shallnot heconsidered tobe competing whenoperatinga business either temporarily forareasonable period of time or inabona tide retail operation wbicb is for sale to any quatitied independent person atafair and reasonable price or inabona fide relationship in whichanindependentpersonhasn deasigniticant investment subject to loss in the business operation and can reasonably expect to acquire full ownership of such business on reasonable terms and conditions. discriminating airly among its franchisees or unreasonably faiiing or refusing tocomply with any terms ofafranchise agreement. obtaining money goods services or any other benefit from any otber person with wbom the fmnchisee does business on account of or in relation to the transaction between the franchisee and the other person other than compensation for services rendered hy the franclusor thebenetitispromptiyaccountedfor and transmitted tothe francbisee. increasing prices of goods provided by the franchisor which the francbisee bad ordered for retail consumers prior to the franchisee receipt of a written official price increase notification i ce increases caused by conformity toastate or federal law the revaluation ofthe united states dollar in tbe case of foreign made goods or pursuant to the franchise agreement are not subject to this paragraph. using deceptive advertising or engaging in deceptive acts in connection with the franchise or the franchisor sbusiness. i i the franchisee does not waive any right under indiana statutes with regard to prior representations made in the indiana disclosure document. each provision of the franchise documents which is unlawful pursuant to indiana franchise laws is amended to conform with said law. each provision of this addendum shall be effective only to the extent with respect to such provision that the jurisdictional requirements of indiana law are met independently without reference to this addendum to disclosure document. whulipfr. i ace sushi addenda maryland to franchise disclosure document. the summary section of item entitled requirements for vou to renew or extend and the summary section of item entitled our approval of transfer are amended by adding the fohowing any general release you sign shall not apply to the extent prohibited by the maryland franchise registration and disclosure law. the summary sections of item entitled choice of forum are amended by adding the following you may sue us in maryland for claims arising under the maryland franchise registration and disclosure law. the maryland franchise registration and disclosure law prohibits a franchisor from requiring a prospective franchisee to assent to any release estoppel or waiver of liabihty as a condition of purchasing a franchise. any provisions of the franchise agreement initial training agreement satellite store addendum conversion agreement or franchise compliance certificate which require a prospective franchisee to disclaim the occurrence and or non occurrence of acts that would constitute a violation of the maryland franchise registration and disclosure law in order to purchase a franchise are not intended to nor shah they act as a release estoppel or waiver of any liability incurred under the maryland franchise registration and disclosure law. hxk u ace sushi addenda i agreements in recognition of ttie requirements of ttie maryianti eranctiise registration anti disciosnre eaw as amentieti ttie initiaitraining agreementanti eranci anyprovisionreqniringeranctiiseetosignagenerai reiease of any anti aii ciain agair eranci sorsi ii not appiy to ciain arising untier ttie maryianti franchise registration anti. yprovisionreqniringeranctiiseetotiring an action against franchisor inany state other than maryland shaii not appiy to ciain arising nntier the maryianti franchise registration anti disciosureeaw. franchiseemay hring an actionin maryland for claims arising under themarylanti franchise registration anti disciosnre eaw. the maryland franchiseregistrationand isclosureeawprohitiitsafranchisorfrom reqniringaprospective franchisee to assent to any release estoppel or waiver of liahti purchasingafranchise. any provisions which reqitireaprospectivetianclti and or nonoccurrence of acts that would constitnteaviolation ofthe marylandfr sclosurel in order to purchaseatianchise are not intended to nor shall they act asare orwaiverof any liatiility incurred under the maryland franchise registration and disclosures in wetness wheredf each the undersigned hereby acknowledges having read this amendment understands and consents to he hound by ail of its terms. eranghisor agesdshifrangfuseggrpgratign agalifomia corporation its franghisee disclosuredocument the fohowing losuresare required by a the state old english michioan erohieits certain uneair provisions that are in franchise documents ie any old english the eoeeowino provisions are in franchise docui new testament ttie provisions are void aoainstyou. each of the following prov ions is void and unenforeeable if containedin afranchise. aprohihihon on the right ofahanchisee to join an association of franchisees. requirement that a franchiseeassent a release assignment novation waiver or estoppel which deprives a franchisee of rights and protections provided in the michigan franchise investment act.ttus shall not precludeafranchisee any and ah claims. aprovision that permitsafranchlsorto termlnateafranchise priorto the expimho term except for goodcause. ooodcauseshah includethefailureof the franchisee to comply withany lawful provision of the franchise agreement and to cure such failure after heing given written nohc reasonahie opportunity which wih not he more than days tocuresuch faiiure. provision that permits a franchisor to refuse to renew a franchise without fairly compensating the franchisee hyrepurehase or other means for the fair market value atthe hm of the fmnchisee sinventory supphes equipment fixtures andfurnishings. personalised materiaiswhich have no value to the franchisor and inventory supphes equipment fixtures and furnishm required in the conduct of the franchise husiness are not suhject to compensation. this suhsection apphes only if i the term of the franchise is less than years and the franchisee is prohibited or otber agreement from continuing to conduct suhstantiahy the same business under another tradema service mark trade name logotype advertising or other commerciai symbol in tbe same area subseque theexpiration of thefranchiseor the franchisee doesnot receiyeat least months advancenoticeof franchisor sintent not to renew the franchise. aprovision that permits the franchisor to refuse to renewafranchise on terms ge available to other franchisees of the same class or type under simhar circumstances. this section does not requirearenewal provision. aprovision requiring that arbitration or hhgahon be conducted outside this state. this shah not preclude the franchisee from entering into an agreement at the time of arbitmh arbitration atalocation outside this state. aprovision wisconsin ch permitsafranchlsorto refuse to permitatransfer of ownership ofa franchise except for good cause. the subdivision does not preventafranchisor from exercisingaright of first refusal to purchase the ranc ioood cause shah include but is not i i i tbe faiiure of the proposed transferee to meet the franchisor then current reasonablequahtications or standards fact that the roposed a ree i sa franchisor. eunwhhngness of the proposed a lawful obhgahons. the failure of the franchisee or proposed trar feree to pay any sums owing to the franchisor or tocureany default in the franchise agreementexlshngat the time of th aprovision that requires thefranchisee to resell to thefranchisor items that are not uniquely identified with the franchisor. this subdivision does not prohibitaprovision that grants toa hanchisorarlght of first refusal to purchase the assets ofafranchise on the same termsas honafide thirdparty wiliingand able topurchasethoseassets nordoesthissuhdivisionprohibita provision that gmnts the franchisor the right to acquire the assets ofafranchise for the value of such assets if the franchisee has breacbed the lawful provisions of the franchi failed tocure the breach in the manner provided insubdivision. provision which permits the franchisor to directly or indirectly convey assign or otherwise trar fer its obligahons to fulfill contractual obbgahons to the been made for providing the required contractual services. if the franchisor smost recent hnancial statements are udited and sbowanet worth of less than. thefrancl or shall at the request ofafranclusee arkansas and other funds paid hy the franchisee until the obtigations to provide real estate improvements equipment inventory training or other items included in the franchise otiering at the option ofthefranchisor asuretybond may be provided in placeof escrow. i isanotice old testament attorney i any questions regarding ti notice sbould state of michigan consumer protection envision attention erancbise o mennen williams building westot tawa eansing i minnesota aooendumtooisoeosureoooument in accordance whh the requirement read in conjunction with the iosureoocnment. any inconsistency withthem iosu re i nmen tw i he resolved in favor of this minnesota addendum. item tradema is amended hy adding the following with respect to franchises govemedhy minnesota iaw we wiii compiy with minn.stat section o suhd. which requires us to protect your tight to use the tmden trade names and indemnify you from any loss costs or expenses arising out of any claim suit or demand regarding the useof same. item renewat termination transferandetisnute resolution isamended hy adding the foiiowing renewal andtermination with respect to franchises governed hy minnesota iaw we wih comply with minn. statistical second o suhds. and which require except in certain specified cases that you he given days notice of termination with days to cure and days notice for non renewai of the agreement. choice of eorum minn. statistical section circa and minn. rule. prohibit us from requi htigation to he conducted outside of minnesota requiring waiver a i or requiring the franchisee to consent to liquidated damages termination penalties or judgment notes inaddition nothing in the disclosure document or agreementscan ahrogateor reduceany of franchisee rightsas provided for in minnesota statutes chapter county orfranchisee srightstoanyprocedure forum or remedies provided for hy the laws of the jurisdiction. releases minn.ruie. dprohihitsus from requiringafranchisee to assent toa generai reiease.agenerai reiease shah not relieve any person from iiahihty imposed hythe minnesota franchise eaw minn. statistical chapter county sections circa injunctive relief minn.ruie. prohihits us tiom requiringafranchisee to consent toa franchisor ohtaining injunctive rehef.we may seek injunctive reiief. inaddition acourt wih determine ifahond isrequired. with respect to franchises governed hy minnesota iaw we wiii comply with minn. stat.section circa suhd which requires no action i commence morethan three yearsafterthecauseofactionaccrues. ac u hiaooenoa franchiseagreement this addendum tg franchise ism ndedto apart andbytiusre rence mcorpo edmto nchlse agreement dated by and between ace sushi eran south-east corporations catifomia corporation as franchisor and as franchisee. where and to the extent that any of the provisions of this addendum are provision containedmthe franchise agreement the provisions contained in this addendum i fined terms contained in the franchise agreementshaii bave the identical rneaningsm. minn. statistical second boc i and minn. ruie prohibit us from i i beconducted outside mirmesota requiring waiver ofajuryttiai or requirm liquated damages termination penalties or judgment notes in addition nothing in the franchise agreement can abrogate or reduce any of franchisee stights as provided for in minnesota county or franchisee stights to any procedure forum or remedies provided for bythe iawsof the juti. withrespect tofranchisesgovemedbyminnesotaiaw franchisorwiiicompiy witb minn. statistical second ci subds. and whichrequire except in certain specitied cases that be given days notice of termination with days to cure and days notice for non renewai of the franchiseagreement. notwithstandinganything tothe contrary set forthinthefranchiseagreement any generai reiease the franchisee is required to assent to shaii not apply to any iiahiiity franchisor may have under the minnesota franchise act. minn. ruie. prohibits us from requiringatianchisee to consent a obtaining injunctive relief. we may seek injunctive relief in addition acourt wiii determine ifabond is required. each provision of this addendum shati beeffectiveoniy to the extent with respect to sucb provision that the jurisdictionai requirements of the act are met independentiy wisconsin thout addendum. franchisgr acesdshifranchisecgrpgratign acaiifomia corporation its franchisee disclosuredocument the disclosuredocumemisamended as fohows ah references made herein toadisclosuree ocumentshah amended to. ttie fohowing paragraphs are added to the disciosure documentcovereage ineormatton comearino eranchisors is available. call the state administrators your public library eor sources old english information. registration old english this franchise by new yorr state does not state recommends information in thisdisclosuredocument. if you learn that anything in this disclosure is untrue gommission new yorrstate department bureau ofinvestorerotectionandsecurittes. ie we choose negotiate with you about itemscovered in the prospectus. however wecannotusethenegotiating processto prevail upon prospective franchisee to accept terms which are less favorable thoseseteorthinthisprospectus. any contain. item litlgatlun isamended hythe addition of the foiiowing language neither we our predecessors any person identified in item nor an affiliate offering franchisesunderourprincipaltrademarkl anadministr pendingagainst it him or her aheginga felony a violation offranchise antitrust or securities law fraud emhe ement fraudulent conversion misappropriation of property unfair or deceptive practices or comparahle civil or misdemeanor ahegations. in addition neither we our predecessors any person identified in item or an affiliate offering franchises under our principal trademark has any pendingactions otherthan routine htigation incidental to the husiness whichare significant in the context of the numher of franchisees and the si ture or financial condition of the franchi system or its hu operations. neither we our predecessors any person identifiedin item nor an affiliate offering franchisesunderourprincipaltrademarkhasheenconvicted ofafelony or pleaded nolo contendere toafelony charge or withinthelo year penod immediately preceding the apphcation for registration has heen convicted of or pleaded nolo contendere to a misdemeanorchargeor hasheenthe suhject of acivi action alleging violationofa franchise antifraud or securities law fraud emhe lement fraudulent conversion or misappropriation of property unfair or deceptive practices or comparahle allegations. neither we our predecessors any personidentitiedinltem nor an aftiiiate offering franchisesunderourprincipal trademark is suhject toacurrentiy effective injunctiveor restrictive order or decree relatingto franctiise secnrities antitrust traderegulationortradepracticelaw resnlting froma concluded or pending action or proceedmg tirongtitbyapntihc agency or is subject to any currently effective order of any national securities association or national securities exchange as detinedmti securities and excl nge act of suspending or expelling sucti person from meml rsl in sucti association or exchange or is subject toacurrentiy etiectiveinjunctiveorrestrictiveorderrelating toany other husiness activity asaresuit of an action brought hyapuhlic agency or department including without limitation actions affectingalicenseasareal estate broker or sales agent. the following paragraph is added to ltem bankruptcv except as disclosed ahove neither we nor any of our affiliates predecessors officers or general partners have during the year period immediately before the date of tbe disclosuredocument a filed as dehtor or had tiled against it apetition to start an action under thed eankruptcy code obtainedadischarge of its debts under thed. bankruptcy code or wasaprincipal officer ofacompanyorageneral partner ina parmership that either filed asadebtor or bad filed against it apetition to start an action under the. bankruptcy code or that ohtainedadischarge of its debts under the. bankruptcy code during or withinlyear after the officer or general partner of ours heid this position in sucb company or partnership. ourchoiceoflawprovisionsshould not be consideredawaiver of any right conferred upon either us or upon you by the franchise sales act ofnewyork newyork general busmess eaw article. alabama rights you enjoy and any causes of action arising in your favor from the provisions of the new york nerai busmess article and the regulations issued means tetany language inafranchise agreement tl says that you waive or surrender your rights under the act is without effectinnewyork. any provision purporting to require you to agree toawaiver or estoppel wl ch would retieveaperson of his her legal obligations to you under the act is unlawful in new york. dnder new yorklaw you have theright to terminate thefranchise agreementif webave committedasubstantial breach of the agreement. in new york any provision inafranchise agreement that grantsafmnchisor the right to a the agreement without the prior approval ofatianci seesl illinois be moditied to permit an assignment to an assignee who in the good faith judgment of the hanchisor is wihing and able to assume the franchisor obligations under the agreement. franchisor sregisteredagentin this state authorised to receive service ofproeess secretary ofstateofthestateofnewyork washingtonavenue alhany newyork rhode island to disclosure document. even though the franchise agreement provides that home state law applies local law may supersede it in your state. please refer to any state specific addenda that are attached to this disclosure document for details. uuu u z ace sushi addenda rhode island to franchise agreement in recognition of the requirements of the rhode island franchise investment act section. the parties to the attached franchise agreement agree as follows. section. applicable law regarding applicable law and section. regarding choice of forum is amended by adding the following. of the rhode island franchise investment act provides that provision in a franchise agreement restricting jurisdiction or venue to a forum outside this state or requiring the application of the laws of another state is void with respect to a claim otherwise enforceable under this act. franchisor ace sushi franchise corporation california corporation by its franchisee. jumummixir ace sushi addenda virginia to disclosure document the disclosure document is amended as follows. pursuant to section. of the virginia retail franchising act it is unlawful for a franchisor to cancel a franchise without reasonable cause. if any grounds for default or termination stated in the franchise agreement or other agreements does not constitute reasonable cause as that term may be defined in the virginia retail franchising act or the laws of virginia that provision may not be enforceable. tj h lhkv acesushi addenda virginia to franchise agreement the undersigned hereby acknowledge and agree that. alabama references in the franchise agreement which provide that the franchise agreement may be terminated for any reason are in violation of section. of the virginia retail franchising act and are unenforceable. each provision of this addendum shall be effective only to the extent with respect to such provision that the jurisdictional requirements of the act are met independently without reference to this addendum. franchisor ace sushi franchise corporation california corporation by i its franchisee. mfflximih.? ? ace sushi addenda washington aooenoumtooisglosureoogument for franchises subject to the washington franchise investment frotection act the foiiowing inforn hon supersedes or snppiements as the case may the text of the franchise disclosure oocument. tf any of the provisions in this franchise agreement are inconsistent with the relationship prov row. or other requirements of the washmgton franchise investment detection act of the act will prevail over the inconsistent provisions of the franchise agreement with regard to any franchise sold in washington. item transfer fees are collectable to the extent that they retiect the franclusor reasonable estate ima or actual costs in effectingatransfer. item notwithstanding the provisions of the franchise agreement in the event ofaconflict of laws the provision ofthe washington franchise investmentfrotection act ohapterl. row shall prevail. arelease or waiver of rights executed byatianchisee shall notinclude tights under tbe washington ranch i investment otection act except when executed pursuant toanegotiated settlement after the agreement is in effect and where the parties are represented by independent counsel. provisions such as those wbicb umeasonably restrict or limit the statute of limitations period for claims under the act tights or remedies union the act such asarigbt toajury trial may not be enforceable. acesushiaooenoa washington aooenoi toitlanghiseagreement the under gned hereby acknowledge and agree that the state of washington hasastatute row the act tranchise agreement in your relationship with france yourfranchise. there also court decisions which supersede the tranchise agreement in your relationsl with the franchisor including the areas of termination and renewal of your franclu. in theeventof aconflict of laws theprovisions of thewashingtontranctiiselnvestment protection act chapter. rgw shall prevail. areleaseorwaiverof rights executedby the franchisee shallnot include rightsunder ttie wasltington tranchiseinvestment protection act except wben executed pursuant toanegotiated settlement after theagreement isineffectand where the parties are represented by independent counsel. provisions such as those wl cbumeasonably restrict or lin the statute of limitations period for claims remedies under the act such asaright toajury trial may not be enforceable. transfer feesarecollectabletotheextentthat tbey retiect pranchisor sreasonable estimated or actual costs in effectingatransfer. in the event of any conftictl tween the terms of this addendum and the terms of the pranchise agreement the terms of this addendum shall prevail. eacbprovisionof this addendum shallbe effective only to the extent with respect to such provision that the jurisdictional requirements of the act are met independently without reference to this addendum pranchisor acesushipranchisecorporation acalifomia corporation its pranchisee ace sushi franchise corporation confidentiality agreement this confidentiality agreement this agreement is made this day of by and between ace sushi franchise corporation a california corporation franchisor and candidate with reference to the fouowing facts. asiana management group incorporated a california corporation amg an affiliate of franchisor as the result of the expenditure of time skill effort and money has developed a distinctive system relating to the establishment and operation of sushi bars which offer high quality raw and cooked sushi and chinese and related asian fusion food products prepared by a sushi chef for sale as carry out items for off premises consumption either at sushi bar departments in grocery stores supermarkets and other locations the stores owned and operated by third party operators who have entered into agreements with amg or pre packaged and sold in display and merchandising cases at stores in the general geographical vicinity of the ace sushi bars without a sushi bar department or sushi chef on site the system. the distinguishing characteristics of the system include without limitation the selection preparation and distribution of unique high quality fresh and frozen sushi and related food products which incorporate amg trade secrets and proprietary information the proprietary products distinctive equipment standards and specifications for products and supphes service standards uniform standards specifications and procedures for operations procedures for inventory and management control aad training and assistance the relationship between franchisor and its franchisees trade dress defined product offerings franchisor specified pricing and promotions restrictions on ownership administrative procedures and marketing and public relating prgfiffims all of which may be changed improved and further developed by franchisor and franchisor affiliates from time to time. the system is identified by means of certain trade names service marks trademarks logos emblems and indicia of origin including but not limited to the mark ace sushi and such other trade names service marks and trademarks as are now designated and may hereafter be designated by franchisor in writing for use in connection with the system the proprietary marks. franchisor has the right to use and to license others to use the proprietary marks the proprietary products and the system and has as the result of the expenditure of time skill effort and money developed a distinctive franchise model for qualified franchisees to obtain the right to operate a ace sushi bar under the system using the proprietary products and the proprietary marks. franchisor may provide candidate with confidential and proprietary information regarding the system prior to granting or declining to grant candidate a franchise. franchisor desires that candidate maintain the contidentiahty of ah such confidential and proprietary information on the terms and conditions set forth in this agreement. now therefore it is agreed. incorporation of recitals. the recitals set forth in paragraph through paragraph above are true and correct and are hereby incorporated by reference into the body of this agreement. x ace sushi candidate confident alfty agreement con denttality candidate acknowledges and agrees. confidential inforn tion. candidates knowledge of the elements of the system other proprietary data that may he disclosed to candidate hy franchisor or any affiliate offranchisor including without limitation any and all confidential and or proprietary knowledge data or inform party and any and all confidential and or proprietary knowledge dataor information which a party has ohtained or ohtains from another person orentity and which a party treats as proprietary or designates whether or not in writing or electronic form as confidential informations by way of illustration but not limitation confidential information includes tangible and mtangible information whether or not in electronic form relating to frar chisor sbusiness operations recipes products and services sources of supply of products materials and equipment client management and other software data other content formulations patterns compilations programs devices and processes knowhow business relationships contact! for industry professionals designs developmental or experimental work and services improvements discoveries plans for research potential new or supplemental products and services websites advertisements or ancillary products and services marketing and selling methods and or plans business plans budgets and unpublished financial statements licenses.pricesandcosts. vendors.collaboratorsandcustomers.current omefa dprosc ctive customer names and addresses customer service purchasing histories and pri charged to customers information regarding the skillsand compensation of employeesand contractorsof franchisor designs drawings specifications source code ob research development marketing techmquesand mate i inventions copyrightablematerial trademarkablematerial datahases relationshiphetweenfranchi other companies persons or entities the system and any other information or materiai considered proprietary hyfranchisor whetber or not designated as contidential information by franchisor but that is not generally knownby thepuhhc or whichderivesindependenteconomic value actuai or potential from notbeing generally known to the public or persons unaftiliated with franchisor and which is the subject of hyfranchisor that are reasonable under the cireumstances to intain its secrecy or any other i oral writien graphic or electronic form which given the circumstances surrounding such discl considered contidential. confidential information also includes the marmer in wbich any of the ahove described iten may be combined with other information or products or synthesized or used by candidate. confidential informationdoesnot includeany information wbicb a was inthe lawful and unrestricted possession of candidate prior to its disclosure by franchisor is or becomes genemlly available to the puhlic by acts othe tl those of candidate after receiving it has been received iawfuhy and in good faith by candi third party whodid notderiveitfromfranchisor or isshownby acceptable evidencetohavebeen independently developed by candidate. value. the confidential information has heen developed by franchisor and its affiliates by the investment of time skill effort and money and are widely recognized by the pubhc and are of substantial value. prietary. at the contidentiallnformationisproprietary confidential andconstitutesa trade secret of franchisor and its affiliates. maintain confidentiality. tl candidate will fully and strictly maintain the colorado i thecontidentiallnformation willexercise the highest degree of diligence in safeguarding the corner denti informationand willnotdisclose or revealtheconfidentialinformationto any person other than another person who is actively and directly participating in the acquisition of the franchise with candidate but only after first disclosing the identity of sucb person to franchisor in writing and obtaimng such person ssign onanon disclosure agreement simiiar to this agreement unless covered hyatiorney lientprivti acesushicanpio connoennal aoreement reoreduction and candidas wtil contidential om hon or any part thereof and whl make no use of any colorado purpose whatsoever unless and until candidate hecomes a franchisee of franchisor and then only in accordance with the provisions of candldate spranchise agreement. general injunction. candidate recognizes theunique valueandsecondary meaningattached tothe contidential formation and the elements of the system and agrees that any noncomphance with the terms of this agreement or any unauthorized or improper use of the contidential information will cause irreparahie damage to franchisor and its franchisees.candidate therefore agrees that if candidate should engage in a such unauthorized or improper useof the confidential information franchisorshall heentitled to hoth permanent and temporary injunctiverelief fromany courtof competent jurisdictionwithout notice or the posting of any hond in addition to any other remedies prescrihed hy law. heirs and successors.this agreement shall he hinding upon and inure to the henefit of the parties their heirs successors and assigns. entire agreement.this agreement represents theentire understanding hetween the parties regarding the suhject matter of this agreement and supersedes all other negotiations agreements representationsandcovenants oralorwrttten.tlus agreementmay not hemodifiedexcept a written irish trument signed hyfranchisor and candidate that expressly modifies tlus agreement. agreement to he the entire integration of all of their agreements on this suhject of any nature regarding the suhject matier of this agreement no other agreements representations promises commitments or the like any nature exist hetween the parties. no warranties.candidate acknowledges and agrees that franchisor has made no promises representations or warranties to candidate that are inconsistent with the terms of this agreement or franchisors franchise ehsclosure document concerning the profitahility or likelihood of success of the franchised husiness tl candidate has heen informed thefranchised husinessand that candidate shusinessahility and aptitudeisprimary indetermininghis success. no right to else the svstem or the eroorietarv marks this agreement is notafranchise agreement oralicense of any sort and does not grant candidate any right to use or to franchise or hcense the use of the confidential information which right is expressly reserved hyfranchisor. waiver. failure hy franchisor to enforce any rights under this agreement shah not he construedasawaiverofsuchrights. any waiver includingawaiver of default in any one instance shah not constituteacontinuing waiver orawaiver in any other instance. vai idi ty. invalidity of any portion of this agreement shall not affect the validity of the remaining portion and ur esssul tial pertormance of this agreement is frustrated hy any su this agreement shall continue in fuh force and effect. headings and gender. the headings herein are for purposes of convenience only and shall not he used in construing the provisions hereof. as used herein the male gender shall include the female and neuter genders the singular shall mclude the plural and the plural the singular. attorneys fees if franchisor hecomes a party to any legal proceedings concerning this agreementhy reason of any act or omission of candidate or its authorized representatives. candidate shall he iiahie tofranchisor for the reasonahleattomeys feesand courtcostsincurred hyfranchisor in the legal ace sushi candidate confidentialfty agreement proceedmg neither party commences legal proceedlngagalnst theother party arisingout of or in cormechon with this agreement the prevailing party shall he entitled tohave its reasonable attorneys fees anti costs of suit. lo. cumutative remetiies. any specific right or remedy set forth in this agreement legal equitable or otherwise shall no exclusive hnt he cumulative with all other rt herein or allowed or allowable by law. notices. except as otherwise expressly provided herein all written notices and reports permitied or required to be delivered by the parties pursuant bereto sl be deemed so debvered at th delivered by hand one business day after electronic transmission with confirmation copy united statesman or three business days after placement in the united states mall by certified mall return receipt requested postage prepaid and addressed as follows any notice or demand to franchisor sball be given to ace sushi franchise corporation cardena california attention president withacopyto barry kurt fso. kurtz eaw croup.aprofesslonal corporation oxnardstreet sulte woodlandfiills cahfomia attn barry kurtz esq. fax b b anynoticeordemandtocandldateshahbeglvento either party may change hs address hyawrttiennohcegiveninthen hner set forth ahove to the other party. govermngeaw.this agreement takes effect upon its acceptance and execution in cahforma and shah he interpreted anti construed under the iaws of california. parties agree that any action hrought hy either party againstthe other in any court whether federal or state shah he hrought within the city and county in which franchisor has its pti of husiness at the time the action is initiated and the parties herehy waive ah questions of personal orvenue for thepurpose ofcarrying out this provision. counterparts and electronic copies. this agreement may he executed in any numher of counterparts each of which shah he deemed to he an original and all of which together shah he deemed to he one and the same instrument. signatures transmitted electronically or hy facsimile will he deemed original signatures. electronic copies of this agreementshall constitute and he deemed an original copy of this ace hicano arecon en agreement agreement for all purposes provided that such electronic copies are fully executed dated and.identical in form to the original hard copy version of this agreement. signature pago follows mum ace sushi candidate confidentiality agreement in witness whereof the parties have executed this agreement on the date first shown above. franchisor ace sushi franchise corporation name title candidate an individual a general partnership a limited partnership a limited liability company a corporation by its and individually luwioozoa ace sushi candidate confidential ity agreement exhibit to the ace sushi franchise corporation disclosure document list of franchisees current through december list of current franchisees code tetephone number first name last name center name street address state province catherine sin albertsons. tatum btvd. suite phoenix arizona massachusetts thi albertsons. carefree highway phoenix arizona catherine sin albertsons. cave creek road phoenix arizona massachusetts thi albertsons. hayden road scottsdale arizona massachusetts thi albertsons east via linda scottsdale arizona massachusetts thi albertsons. frank lloyd wright scottsdale arizona khin thi albertsons. scottsdale road scottsdale arizona su hlaing albertsons west branch street arroyo grande california soe lwin albertsons lasposas road camarillo california soe lwin albertsons loiscasitas pass road carpinteria california aung zin albertsons york town avenue huntington beach california su hlaing albertsons qulntana road mono bay california lwin albertson reino road newbury park california su hlaing albertsons. claritave. orcutt california maiiar nalng albertsons. pacific coast highway redondo beach california gumshu. howa the fresh market douglas boulevard suite roseville california daovanh bounpakob albertsons. bonita avenue san dimas california marlar nalng albertsons south western avenue san pedro california robert horibe albertsons state street santa barbara california soe lwin albertson lindero canyon road westlake village callfomia tial men stop shop west street cromwell connecticut xia chen stop shop oak street glastonbury connecticut xia chen stop shop glastonbury boulevard glastonbury connecticut thet nandar stop shop salmon brook street granby connecticut ngun. thb stop shop dixwell avenue hamden connecticut tial men stop shop east main street middletown connecticut mei mel tan stop shop state rte new fairfield connecticut naun. thio stop shop whalley avenue new haven connecticut ngun thto stop shop amity road new haven connecticut xia chen stop shop kitts lane newington connecticut thet nandar stop shop fenn road newington connecticut tial men stop shop washington avenue north haven connecticut nalng lwin stop shop elm street old saybrook connecticut xia chen stop shop town une road rock hill connecticut ngim thio stop shop franklin street seymour connecticut thet nandar stop shop bushy hill road rte simsbury connecticut meimet tan stop shop lake avenue. danbury connecticut tial men stop shop. colony road wallingford connecticut xia chen stop shop farmington avenue westhartford connecticut yin yang enterprises llc giant food town center drive millville delaware yin yang enterprises llc giant food lighthouse plaza boulevard rehoboth beach delaware van tluangi giant food connecticut avenue washington district of columbia van tluangi giant food th street washington district of columbia o norman ye yint ye yint boh food pantry kuhio highway anahoia hawaii theln foodland fort weaver road ewa beach hawaii thein malama makakito drive ewa beach hawaii khun sal foodland kamehameha highway hatetwa hawaii list of current franchisees first name last name center name street address state province code telephone state province code number khun sai malama kamehameha highway haleiwa hawaii yan yee foodland kanoelehua avenue hito hawaii yan yee foodland kinoole street hllo hawaii yan yee malama pahoa village hilo hawaii aye maw foodland ala moana boulevard honolulu hawaii ye yint thein foodland. beretania street honolulu hawaii hau thawng foodland hind drive honolulu hawaii khun sai food pantry kuhio avenue honolulu hawaii khun sal coco cave kalakaua avenue space honolulu hawaii diane lum food pantry hobron lane honolulu hawaii dianne lum food pantry ala moana boulevard honolulu hawaii ye yint thein foodland harding avenue honululu hawaii ye yint thein foodland dillingham boulevard honululu hawaii union boh foodland kane street kahului hawaii htawng nan njip foodland hekili street kailua hawaii tsomg chin foodland mamalahoa highway kamuela hawaii yan yee foodland mauna lani drive suite kamuela hawaii aung tun foodland kapolei village center kapotei parkway bulk kapolei hawaii norman boh foodland kuhio highway kauai hawaii gin pau foodland kuhto highway kauai hawaii yan yee foodland old volcano road suite keeau hawaii ye yint thein foodland south kihei road kihei hawaii ye yint thein food pantry weilea alanus drive b kihei hawaii yan yee foodland palani road kona hawaii ye yint thein food land front street b lahaina hawaii ye yint thein food pantry lower honoapiliani highway lahalna hawaii ye yint thein foodland keawa sl building lahaina hawaii ye yint thein food pantry napilihua street lahaina hawaii ye yint thein foodland waimano home road peart city hawaii aung tun foodland pukalani street pukalani hawaii yan yee food pantry wakoica beach drive walkotoa hawaii ye yint theln foodland eha street wailuku maul hawaii ye yint thein foodland waipio uka street walpahu hawaii linda tran the fresh market northwest highway crystal lake illinois mehm seik chan the fresh market commons drive geneva illinois myint tun tban the fresh market north rand road kildeer illinois than than sint the fresh market western avenue lake forest illinois nang ying the fresh market north greenbriar drive normal illinois jeifeng man the fresh market west lake avenue peoria illinois pye phyo kywe the fresh market lake avenue suite wilmette illinois dingyou gummawn the fresh market east th street carmel indiana nai louisiana wee the fresh market west jefferson boulevard fort wayne indiana dingyou gummawn the fresh maiket north college avenue indianapolis indiana hnem kim the fresh market rudy lane louisville kentucky seng bu kinraw albertsons parkings road baton rouge louisiana seng bu kinraw albertsons bluebonnel boulevard baton rouge louisiana sourivanh keopraseuth albertsons albertson parkway broussard louisiana list of current franchisees first name last name center name street address ctty state province zip code telephone number seng bu kinraw albertsons range avenue denham springs louisiana sourivanh keopraseuth albertsons johnston street lafayette louisiana sourivanh keopraseuth albertsons ambassador caffery lafayette louisiana sourivanh keopraseuth albertsons ambassador caffery lafayette louisiana yin yang enterprise llc giant food forest drive annapolis maryland yin yang enterprise llc giant food bay ridge road annapolis maryland nana. thang giant food wilkens avenue baltimore maryland nana. thang giant food baltimore national pike baltimore maryland thang khen giant food west street baltimore maryland thang khen giant food harford road baltimore maryland thang khen giant food york road baltimore maryland zaw zaw giant food arlington road bethesda maryland marilyn manalo giant food westbard avenue bethesda maryland marilyn manalo giant food old georgetown road bethesda maryland thang baw lian giant food annapolis road free state mall bowie maryland yin yang enterpri giant food first colony way california maryland vanlal tluangi giant food wisconsin circle chevy chase maryland felix quenga giant food daybreak circle clarksville maryland felix quenga giant food freetown road columbia maryland felix quenga giant food cradlerock way columbia maryland lai thiang lima thang a kap giant food centre park drive columbia thang baw felix uan giant food town center boulevard dunkirk maryland maryland quenga martin london town boulevard eldersburg maryland thang mang giant food new design road frederick maryland thang mang giant food sugaroaf pny frederick maryland thang mang giant food kingfisher drive frederick maryland tu aung giant food frederick road germantown maryland yin yang enterpri giant food rousby hall road lusby maryland thang baw llan giant food maryland route gambrills maryland joesph htluan giant food georgia avenue olney maryland yin yang enterprises llc giant food mountain road pasadena maryland nang thang giant food otd court road pikesville maryland marilyn manalo giant food falls road potomac maryland tu aung giant food rockville pike rockville maryland tu aung giant food hungerford drive rockville maryland tu aung giant food tuckerman lane rockville maryland yin yang enterprises llc giant food ritchie highway severena park maryland joesph htluan giant food interna tion drive silver spring maryland joesph htluan giant food connecticut aspen hill shopping center silver spring maryland zaw zaw giant food east west highway silver spring maryland nang thang giant food york road timonium maryland joesph htluan giant food university boulevard west wheaton maryland aung tun stop shop chelmsford street chelmsford massachusetts rachel hwang stop shop chief justice gushing highway cohasset massachusetts aung tun stop shop newbury street danvers massachusetts roberto arevalo stop shop old connecticut path framingham massachusetts roberto arevalo stop shop temple street framingham massachusetts list of current franchisees first name last na me center name street address state province zip code telephone number rachel hwang stop shop franklin village drive franklin massachusetts rachel hwang stop shop lincoln street hlngham massachusetts aung tun stop shop charles street maiden massachusetts rachel hwang stop shop chauncy street mansfield massachusetts rachel hwang stop shop east main sl milford massachusetts roberto arevalo stop shop worchester street route natick massachusetts rachel hwang stop shop boston providence highway norwood massachusetts rachel hwang stop shop church street pembroke massachusetts rachel hwang stop shop mattakeesett street pembroke massachusetts aung tun stop shop squire road revere massachusetts jongwoo lee stop shop highland avenue seekonk massachusetts aung tun stop shop paradise road swamps colorado tt massachusetts dinghul lin stop shop boston post road wayland massachusetts roberto arevalo stop shop lyman street westborough massachusetts roberto arevalo stop shop turnpike road rte westborough massachusetts louisiana wu rainbow prairie center drive eden prarie minnesota louisiana wu rainbow lagoon avenue minneapolis minnesota maung aung rainbow new brighton boulevard minneapolis minnesota maung aung rainbow larpenteur avenue roseville minnesota maung aung rainbow university avew. saint paul minnesota louisiana wu rainbow th street west street louis park minnesota langh thang albertsons guadalupe santa fe new mexico langh thang albertsons street francis santa fe new mexico langh thang albertsons zasarano drive santa fe new mexico chaw su blair lowes food arendell street morehead north carolina yan tun the fresh market montgomery road cincinnati onto wah wah dun the fresh market madison road cincinnati ohio karen yuan the frest market henderson road columbus ohio karen yuan the fresh market van aken boulevard shaker heights ohio el el win the fresh market west central avenue toledo ohio chun sun hur giant carlisle street road bensalem pennsylvania chul jin kim giant carlisle dekalb pike blue bell pennsylvania chul jin kim giant carlisle springfield road broomall pennsylvania thomas za united kingdom giant carlisle spring garden street carlisle pennsylvania chul jin kim giant carlisle east ridge pike conshohocken pennsylvania john kim giant carlisle swamp road doylestown pennsylvania jacky tran giant carlisle east swedesford exton pennsylvania chun hur giant carlisle bustleton pike feasterville pennsylvania sung han yoon giant carlisle bethlehem pike flour town pennsylvania thomas za united kingdom giant carlisle unglestown road harrisburg pennsylvania thomas za united kingdom giant carlisle jonestown road harrisburg pennsylvania thomas za united kingdom giant carlisle union deposit road harrisburg pennsylvania young kang giant carlisle cowpath road hatfield pennsylvania thomas za united kingdom giant carlisle cocoa avenue hershey pennsylvania chun sun hur giant carlisle new falls road levittown pennsylvania thomas za united kingdom giant carlisle cumberland parkway mechanicsburg pennsylvania ji hoon lee giant carlisle logan square new hope pennsylvania mst perfect current franchisees first name last name center name street address state province code telephone number first name last name center name street address code telephone number john kim giant carlisle knapp road north wales pennsylvania chun hur giant carlisle grant avenue suite philadelphia pennsylvania chul jin kim giant carlisle chemical road plymouth meeting pennsylvania young kang giant carlisle south west end boulevard quakertown pennsytvania young kang giant carlisle broad street quarkertown pennsytvania jacky tran giant carlisle ridge pike suite royersford pennsylvania young kang giant cadisle route souderton pennsylvania chun sun hur giant carlisle north dakota street knowles avenue south hampton pennsytvania chul jin kim giant cadisle. sproul road spring field pennsytvania sung han yoon giant carlisle bethlenhem pike spring house pennsytvania young kang giant cadisle hamilton boulevard trexlertown pennsylvania jacky tran giant carlisle wilmington pike westchester pennsylvania jacky tran giant cadisle baltimore street west grove pennsylvania jacky tran giant cadisle dowingtown pike westchester pennsylvania massachusetts khin win giant cadisle east market street yorit pennsylvania jongwoo lee stop shop metacom avenue bristol rhode island jongwoo lee stop shop west main road middletown rhode island jongwoo lee stop shop point judith road narragansett rhode island jongwoo lee stop shop bellevue avenue newport rhode island jongwoo lee stop shop jt connell highway newport rhode island jongwoo lee stop shop ten rod road north kingstown rhode island hkawn labya albertsons.eaisbury burieson texas yin yit albertsons mckinney avenue dallas texas yit yit albertsons west northwest highway dallas texas hkawn labya albertsons clifford street ford worth texas hkawn labya albertsons oakmont fort worth texas hkawn labya albertsons western center boulevard fort worth texas hkawn labya albertsons north saginaw btvd saginaw texas ngo dal giant food duke street alexandria virginia ngo dal giant food kingston boulevard alexandria virginia htike htike aung giant food bradlick road annandale virginia soe than giant food th road south suite ariington virginia soe than giant food south gleble road ariington virginia ngo dal giant food washington boulevard ariington virginia khawn tsln giant food abbey road chariottesvilte viminla tsln khawn garden school foundatio darden boulevard chariottesville virginia ngo dal giant food lee jackson memorial highway fairfax virginia htike htike aung giant food ariington boulevard falls church virginia htike aung giant food west broad street falls church virginia ngo dal giant food. jefferson street falls church virginia ngo dal giant food richmond highway groveton virginia mary marip martin. market street harrisonburg virginia htike htike aung giant food chainbridge road mclean virginia soe soe than giant food chain bridge road oakton virginia thang mang giant food east main street purcellville virginia ngo dal giant food north point village center reston virginia aung phage martin richmond road staunton virginia list of current franchisees first nanie last name center name street address state province zip code telephone number a a phaga martins elizabeth drive stephens virginia ngo dal giant food southbank street steriing virginia soe soe than giant food maple avenue east vienna virginia aung phaga martin tiffany drive waynesbord virginia louisiana ja phaga martin gate way drive winchester virginia louisiana ja phaga martins south plaza valley road winchester virginia louisiana ja phaga martins rivendell court winchester virginia kap lian copps calumet street appleton wisconsin kap khan lian copps wisconsin avenue appleton wisconsin kap khan lian copps ballard road appleton wisconsin ei nan kar pick save bluemound road brookfield wisconsin mang cin sung pick save capitol drive brookfield wisconsin mang sung pick save. capitol drive brookfield wisconsin hnem par pick save wgreeefield avenue brookfield wisconsin nan khin kyi the fresh market west bleumound road brookfield wisconsin ni sui sendiks watertown plank road elm grove wisconsin ben ratanajitta copps cahill main road fitchburg wisconsin tial chum linguistic pick save whitnall street francis wisconsin ni sul sendiks west rawson avenue franklin wisconsin tin can pick save th street franklin wisconsin tin can pick save lover lane road franklin wisconsin tiai linguistic pick save mequon road germantown wisconsin aye aye nwe pick save port washington road glendale wisconsin aye aye nwe orthopedic hospital of. river woods parkway glendale wisconsin ck sushi sendiks first avenue grafton wisconsin aye aye nwe pick save falls road grafton wisconsin ni sui sendiks west layton avenue greenfield wisconsin sung hlei cuai pick save th street greenfield wisconsin tin can pick save th street hales comer wisconsin michael wai copps south whitney madison wisconsin michael wai university of wisconsin. park street madison wisconsin michael tun wai copps mckee road madison wisconsin michael wai copps juction road madison wisconsin michael wai university of wisconsin west dayton street madison wisconsin chit oo copps shopko drive madison wisconsin ciin vung copps calumet avenue manitowoc wisconsin tial chum linguistic pick save appleton avenue menomonee falls wisconsin ck sushi sendiks north port washington road mequon wisconsin aye nwe pick save. port washington road mequon wisconsin michael wai copps century avenue middleton wisconsin khin htwe pick save. van buren milwaukee wisconsin ying nanq pick save east lyon street milwaukee wisconsin tial linguistic pick save. good hope road milwaukee wisconsin lai za nawl pick save hq holt avenue milwaukee wisconsin michael chan wai thang hmet dun pick save. green bay road mount pleasant i a i i a i i wisconsin i sra hnem par pick save rochester street mukwonago wisconsin ust of current franchisees a last name center name street address state province zip code telephone number hnem par pick save janesville road muskego wisconsin david piang copps commercial street neenah wisconsin david piang pick save fox point piaza neenah wisconsin thaa chin sendiks south moorland road new berlin wisconsin tial chum linguistic pick save howell avenue oak creek wisconsin tial chum linguistic pick save ryan road oak creek wisconsin arthur aye chan pick save pabst farms circle oconomowoc wisconsin arthur aye chan pick save. wisconsin avenue oconomowoc wisconsin david piang pick save jackson street oshkosh wisconsin david piang pick save skoel lerst oshkosh wisconsin massachusetts nan pick save silvemau road pewaukee wisconsin myo lwin shwe copps plover road plover wisconsin chan thang hmet dun pick save douglas avenue racine wisconsin chan thang hmet dun pick save. green bay road racine wisconsin ciin vung pick save th street sheboygan wisconsin clinical vung pick save south business drive sheboygan wisconsin turn lan bik pick save oakland avenue shorewood wisconsin michael wal copps university avenue shorewood hills wisconsin mwo lwin shwe copps pinecrest avenue stevens point wisconsin mang sung pick save main street sussex wisconsin arthur aye chan pick save wales road wales wisconsin tha ceu pick save sunset drive waukesha wisconsin mang cin sung pick save. state street wauwatosa wisconsin paw soe pick save nmarfair road wauwatosa wisconsin ni sui sendiks wnorth avenue wauwatosa wisconsin paw soe pick save th street west allis wisconsin ck sushi sendiks silver spring drive whitefish bay wisconsin exhibit to the ace sushi franchise corporation disclosure document list of terminated franchisees current through december list of terminated franchisees owner name center name stree address ty state zip code phone victoria ramilo albertsons casitas pass road carpinteria california felice andrea tio albertsons bolsa chica street huntington beach california aung zin albertsons bolsa chica street huntington beach california soe myint lwin albertsosn saticoy street reseda california su hlaing albertsons. broadway santa maria california young kang giant carlisle emmous avenue allentown connecticut myong hui kim stop shop division street ansonia connecticut aung zaw stop shop king highway fairfield connecticut aung zaw stop shop villa avenue fairfield connecticut myong hui kim stop shop king highway fairfield connecticut myong hui kim stop shop villa avenue fairfield connecticut wai man leung stop shop oak street glastonbury connecticut wai man leung stop shop glastonbury boulevard glastonbury connecticut cung lianhup stop shop salmon brook street granby connecticut aung zaw stop shop amity road new haven connecticut wai man leung stop shop kitts lane newington connecticut cung uanhup stop shop fenn road newington connecticut wai man leung stop shop town line road rock hill connecticut cung uanhup stop shop bushy hill road rte simsbury connecticut cung lianhup stop shop farmington avenue westhartford connecticut vanlal tluangi fresh green th street washington columbia district of gun soon lee big save waiaio road eleele hawaii robert aye maw foodland fort weaver road ewa beach hawaii aye maw malama makakilo drive ewa beach hawaii sandy lam foodland. beretania street honolulu hawaii cung nim foodland kane street kahului hawaii union boh foodland hekili street kailua hawaii thang piang foodland mauna lani drive suite kamuela hawaii gun soon lee big save koloa road koloa hawaii thang piang foodland palani road kona hawaii aye maw foodland waimano home road pearl oty hawaii robert thang piang food pantry wakoica beach drive waikoloa hawaii aye maw foodland waipio uka street waipahu hawaii myint tun than the fresh market western avenue lake forest illinois list of terminated franchisees owner name center name stree address ty state zip code phone aung tun the fresh market lake avenue suite wilmette illinois massachusetts ei ei chan the fresh.market tates creek road lexington kentucky hsar kee lar the fresh market shelbyville road louisville kentucky jabu waga winn dixie highway covington louisiana jabu waga albertsons highway mandeville louisiana jabu waga albertsons highway mandeville louisiana a j internation incorporated giant food bay ridge road annapolis maryland internation incorporated giant food forest drive annapolis maryland joseph htluan giant food bay ridge road annapolis maryland joseph htluan giant food forest drive annapolis maryland nei cho thang fresh green north charies place baltimore maryland heather ninimer giant food arlington road bethesda maryland thomas win giant food old georgetown road bethesda maryland thomas win giant food westbard avenue bethesda maryland joseph htluan giant food annapolis road free state mall bowie maryland joseph htluan giant food town center boulevard dunkirk maryland aung tun marshalee drive elkridge maryland zing uan giant food marshalee drive elkridge maryland zing lian giant food dorsey hall drive ellicott oty maryland zotaang enterprises giant food frederick road germantown maryland tu aung giant food kentlands boulevard giathersburg maryland yin yang enterprises giant food maryland route gambrills maryland khaitha giant food maryland route gambrills maryland zotaang enterprises giant food georgia avenue olney maryland khai tha giant food mountain road pasadena maryland thomas win giant food falls road potomac maryland zotaang enterprises giant food tuckerman lane rockville maryland language vung giant food rockville pike rockville maryland language vung giant food hungerford drive rockville maryland khai tha giant food ritchie highway severena park maryland zotaang enterprises giant food intemation drive silver spring maryland zotaang enterprises giant food connecticut aspen hill silver spring maryland heather ninimer giant food east west highway silver spring maryland zotaang enterprises giant food university boulevard west wheaton maryland list of terminated franchisees owner name center name stree address city state zip code phone minki yun stop shop old connecticut path framingham massachusetts minki yun stop shop temple street framingham massachusetts rachel hwang sendiks truman parkway hyde park massachusetts minki yun stop shop worchester street route natick massachusetts myong hui kim stop shop highland avenue seekonk massachusetts minki yun stop shop boston turnpike shrewbury massachusetts minki yun stop shop turnpike road rte westborough massachusetts minki yun stop shop lyman street westborough massachusetts hsu incorporated rainbow prairie center drive eden prarie minnesota gay doh soe rainbow new brighton boulevard minneapolis minnesota usually incorporated rainbow lagoon avenue minneapolis minnesota lisu incorporated rainbow new brighton boulevard minneapolis minnesota gay doh soe rainbow larpenteur avenue roseville minnesota usually incorporated rainbow larpenteur avenue roseville minnesota gay doh soe rainbow university avenue saint paul minnesota usually incorporated rainbow university avenue saint paul minnesota usually incorporated rainbow th street west street louis park minnesota mae kah lowes. th street alamogordo new mexico tao uu albertsons juan tabo north-east albuquerque new mexico tao uu albertsons coors boulevard albuquerque new mexico tao uu albertsons. ventura street north-east albuquerque new mexico tao uu smith golf course road albuquerque new mexico zotaang enterprises albertsons guadalupe santa fe new mexico zotaang enterprises albertsons zasarano drive santa fe new mexico zotaang enterprises albertsons street francis santa fe new mexico lwin kyaw ttiu the fresh market madison road cincinnati ohio uan suan mung the fresh market van aken boulevard shaker heights ohio dong kam giant carlisle emmaus avenue allentown pennsylvania sung han yoon giant carlisle dekalb pike blue bell pennsylvania yeon kook kim giant carlisle dekalb pike blue bell pennsylvania sung han yoon giant carlisle springfield road broomall pennsylvania yeon kook kim giant carlisle springfield road broomall pennsylvania massachusetts khin win giant carlisle spring garden street carlisle pennsylvania sung han yoon giant carlisle east ridge pike conshohocken pennsylvania list of terminated franchisees owner name center name stree address city state zip code phone young kang giant carlisle swamp road doylestown pennsylvania massachusetts khin win giant carlisle jonestown road harrisburg pennsylvania massachusetts khin win giant carlisle union deposit road harrisburg pennsylvania massachusetts khin win giant carlisle unglestown road harrisburg pennsylvania dong kam giant carlisle cowpath road hatfield pennsylvania massachusetts khin win giant carlisle cocoa avenue hershey pennsylvania massachusetts khin win giant carlisle cumberland parkway mechanicsburg pennsylvania young kang giant carlisle logan square new hope pennsylvania young kang giant carlisle knapp road north wales pennsylvania yeon kook kim giant carlisle nut road phoenix ville pennsylvania sung han yoon giant carlisle tense nutt road phoenixville pennsylvania sung han yoon giant carlisle chemical road plymouth meeting pennsylvania yeon kook kim giant carlisle chemical road plymouth meeting pennsylvania dong kam giant carlisle south west end boulevard quakertown pennsylvania dong kam giant carlisle broad street quarkertown sung han yoon giant carlislet. township une road royersford pennsylvania yeon kook kim giant carlisle. township une road royersford pennsylvania dong kam giant carlisle route souderton pennsylvania sung han yoon giant carlisle. sproul road spring field pennsylvania yeon kook kim giant carlisle. sproul road spring field pennsylvania dong kam giant carlisle hamilton boulevard trexlertown pennsylvania chun hur giant carlisle west street road warminster pennsylvania john kim giant carlisle easton road warrington pennsylvania young kang giant carlisle easton road warrington pennsylvania myong hui kim stop tense shop metacom avenue bristol rhode isiand myong hui kim stop shop west main road middletown rhode island myong hui kim stop shop point judith road narragansett rhode island myong hui kim stop tense shop bellevue avenue newport rhode island myong hui kim stop shop jt connell highway newport rhode island myong hui kim stop shop ten rod road north kingstown rhode island tao uu albertsons. eaisbury burleson texas kai nhkum albertsons clifford street ford worth texas taouu albertsons western center boulevard fort worth texas kai nhkum albertsons oakmont fort worth texas ust of terminated franchisee? owner name center name stree address ty state zip code phone tao uu albertsons. beach street fort worth texas kai nhkum albertsons alton road fort worth texas thang piang lowes th street lubbock texas kai nhkum albertsons north saginaw boulevard saginaw texas taouu albertsons rufe snow drive watauga texas meixia yu fresh market park avenue park qty utah nilar massachusetts fresh market park avenue park qty utah nilar massachusetts fresh market kilby road park qty utah gng neam giant food kingston boulevard alexandria virginia cing neam giant food duke street alexandria virginia ngo khua pau giant food washington boulevard arlington virginia soe than giant food south gleble road arlington virginia soe than giant food th road south suite arlington virginia khawn tsin giant food zan road chariottesville virginia ngo khua pau giant food lee jackson memorial highway fairfax virginia shwe thike khun giant food west broad street falls church virginia irene thein giant food west broad street falls church virginia qng neam giant food. jefferson street falls church virginia qng neam giant food town country road falmouth virginia qng neam giant food richmond highway groveton virginia qng neam giant food ox road lorton virginia su tin lu giant food chain bridge road oakton virginia ngo khua pau giant food north point village court reston virginia qng neam giant food worth avenue staffordshire virginia ngo khua pau giant food southbank street sterling virginia su tin lu giant food maple avenue east vienna virginia qng neam giant food plank road frederickburg virginia paw soe plgglywiggly. th street brookfield wisconsin pra kar thao sendiks mequon road germantown wisconsin nan khin kyi pick save falls road grafton wisconsin bao xiong pick save th street greenfield wisconsin michael wai university of wisconsin kronshage drive madison wisconsin michael wai unrversrty of wisconsin tript qrcle madison wisconsin michael wai university of wisconsin west johnson street madison wisconsin list of terminated franchisees owner name center name stree address city state zip code phone ying nang aurora sinai medical cen. th street milwaukee wisconsin kyaw shein pick save. green bay road mount pleasant wisconsin kyaw shein pick save douglas avenue racine wisconsin kyaw shein pick save. green bay road racine wisconsin samoeun kao copps ironwood drive sunpraire wisconsin samoeun kao copps east main street sunpraire wisconsin chitoo copps east main street sunpraire wisconsin chitoo copps ironwood drive sunpraire wisconsin arthur aye chan pick save sunset drive waukesha wisconsin pra kar thao sendiks north th avenue west bend wisconsin nan khin kyi pick save washington street west bend wisconsin nan khin kyi pick i save main street west bend wisconsin exhibit to the ace sushi franchise corporation disclosure document financial statements ace sushi franchise corporation i financial statements december and i i i contents independent auditor report balance sheet statement of profit and loss statement of stockholder equity statement of cash flows notes to the financial statements i i i teresa crivello cpa. box san pedro california independent auditor report to the stockholder of ace sushi franchise corporation have audited the accompanying balance sheets of ace sushi franchise corporation as of december and and the related statements of profit and loss stockholder.equity and cash flows for the tax year ended december and. these financial statements are the responsibility ofthe company management my responsibility is to express an opinion on these financial statements based on my audit conducted my audits in accordance with auditing standards generally accepted in the united stales of america. those standards require that plan and perform the audit to obtain reasonable assurance about whether the financial statements are free of material misstatement an audit includes consideration of internal control over financial reporting as a basis for designing audit procedures that are appropriate in the circumstances but not for the purpose of expressing an opinion on the effectiveness of the corporation internal control over financial reporting. accordingly we express no such opinion. an audit includes examining on a test basis evidence supporting the amounts and disclosures on the financial statements. an audit also includes assessing the accounting principles used and significant estimates made by management as well as evaluating the overall financial statement presentation. believe that my audits provide a reasonable basis for my opinion. i im ftfi in my opinion the financial statements referred to above present fairly in all material respects the changes in the stockholder equity and the results from operation of ace sushi franchise corporation as of december and in conformity with accounting principles generally accepted in the united states of america. san pedro california march ace sushi franchise corporation balance sheet i assets december i current assets accounts receivable from franchisee receivables from related company total assets. liabilities and stockholder equity liabilities payables to related company. cuij unearned franchise income stockholder equity capital stock issued shares at par value. retained earnings total liabilities and stockholder equity. i i ace sushi franchise corporation statement of profit and loss revenues sales franchise fees initial training fees gross profit expense management fee to related company profit or loss for the year ended december. i ! i ace sushi franchise corporation statement of stockholder equity for the period since inception october through the tax year ended december beginning balance capital contribution october net income balance december net income balance december net income balance december net income balance december net income balance december net income balance december net income balance december net income balance december net income balance december capital stock issued common number of shares. amount. retained earnings. i i ace sushi franchise corporation statement of cash flows for tbe year ended cash flows operating activities net income adjustments to reconcile net income to net cash provided by operating activities accounts receivable receivables from related company payables to related company unearned franchise fee net cash provided by operating activities net change in cash cash at beginning of period cash at end of period supplemental disclosures cash paid for interest income taxes december. qq i i ace sushi franchise corporation notes to the financial statements december and note formation of corporation the corporation was formed on october to sell franchises for ace sushi bars in various states. note revenue recognition franchise fees are recognized on a periodic basis the signed contract revenue is distributed and posted evenly over the entire contract term. additionally training fees are recognized when services are rendered. note capital contributions the only capital contribution to date is the initial capital contribution of by harlan. chin on october. this represents shares at par value per share. note tax filing requirements and elections the corporation has elected a calendar year end and has elected the cash basis of accounting for tax purposes. in addition the corporation maintains their books and records based on the accrual method of accounting. note management fee and related party transactions ace sushi franchise corporation pays a management fee to a related corporation asiana management group incorporated because the related company is responsible for all of the legal and administrative support of the company. the corporations are both owned by harlan. chin. all cash collected by ace sushi franchise corporation is used to pay the management fee which is equivalent to the total revenue generated by the company to compensate asiana management group incorporated for expenses it has incurred associated with the franchise business. any excess thereof is treated as receivables from related company. note cash on december cash was transferred to ace sushi franchise corporation from the related corporation asiana management group incorporated and was offset through receivables from parent company. therefore as of december the cash balance was. i ace sushi franchise corporation financial statements december. contents independent auditor report balance sheet statement of profit ahd loss statement of stockholder equity statement of cash flows notes to armed forces europe financial statements. teres crivello camp box san pedro california independent auditor report to the stockholder of ace sushi franchise corporation have audited the accompanying balance sheets of ace sushi franchise corporation as of december and and the related statements of profit and loss stockholder equity and cash flows for the tax year ended december and. these financial statements are the responsibility of the company management my responsibility is to express an opinion on these financial statements based on my audit conducted my audits in accordance with auditing standards generally accepted in the united states of america. those standards require that plan and perform the audit to obtain reasonable assurance about whether the financial statements are fiee of material misstatement an audit includes consideration of internal control over financial reporting as a basis for designing audit procedures that are appropriate in the circumstances but not for the purpose of expressing an opinion on the effectiveness of the company internal control over financial reporting. accordingly we express no such opinion. an audit includes examining on a test basis evidence supporting the amounts and disclosures on the financial statements. an audit also includes assessing the accounting principles used and significant estimates made by management as well as evaluating the overall financial statement presentation. believe that my audits provide a reasonable basis for my opinion. in my opinion the financial statements referred to above present airly in all material respects the changes in the stockholder equity and the results from operation of ace sushi franchise corporation as ofdecember and in conformity with accounting principles generally accepted in the united states of america. latsy san pedro california febmaiy ace sushi franchise corporation balance sheet assets current assets cash accounts receivable from franchisee receivables from related company total assets december j line j millimeter liabilities and stockholder equity liabilities payables to related company unearned franchise income stockholder equity capital stock issued shares at par vahie retained earnings fi total liabnjties and stockholder equity. ace sushi franchise corporation statement of profit and loss revenues sales franchisefees initial training fees gross profit ion expense management fee to related company profit or loss. for the year ended december. wsl. qq ? west meter im. fi ace sushi franchise corporation statement of stockholder equity for the period since inception october through the tax year ended december capita stock ftgpeftcqmmop number of amsml retained arafaffi beginning balance capital contribution october netincome balance december net mcome balance december netincome balance december netincome balance december netincome balance december netincome balance december netincome balance december netincome balance december millimeter ace sushi franchise corporation statement of cash flows for the year ended cash flows from operating activities netincome adjustments to reconcile net income to net cash provided by operating activities accounts receivable receivables from related company payables to related company unearned franchise fee net cash provided by operating activities net change in cash cash at beginning of period cash at end of period. p west bmwq millimeter im. a supplemental disclosures cash paid for interest income taxes so so ace sushi franchise corporation notes to the financial statements december and note formation of corporation the corporation was fonned on october to sell franchises for ace sushi bars in various states. note revenue recognition franchise fees are recognized on a periodic basis ac signed contract revenue is distributed and posted evenly over the entire contract term. additionally training fees are recognized when services are rendered. note capital contributions the only capital contribution to date is the initial capital contribution of by harlan. chin on october. this represents shares at par value per share. note tax filing requirements and elections the corporation has elected a calendar year end and has elected the cash basis of accounting for tax purposes. in addition the corporation maintains their books and records based on the accrual method of accounting. note management fee and related party transactions ace sushi franchise corporation pays a management fee to a related corporation asiana management group incorporated because the related company is responsible for all ofthe legal and administrative support of the company. hie corporations are both owned by harian. chin. all cash collected by ace sushi franchise corporation is used to pay the management fee which is equivalent to the total revenue generated by the company to compensate asiana management group incorporated for expenses it has incurred associated with the franchise business. any excess thereof is treated as receivables from related company. ace sushi franchise corporation notes to the financial statements december and continued note cash on december cash was transferred to ace sushi franchise corporation fiom the related corporation asiana management group incorporated and was offset through receivables fiom parent company. therefore as of december the cash balance was. note prior period adjustment in ace sushi franchise corporation changed the method of recognizing franchise fees see note from the cash basis to the accrual basis of accounting. there were no effects fiom die change on retained earnings net income or applicable taxes. teresa crivello cpa. box san pedro california independent auditor report to the stockholder of ace sushi franchise corporation have audited the accompanying balance sheets as of december and and the related statements of profit and loss stockholder equity and cash fiows for the tax year ended december and of ace sushi franchise corporation. these financial statements are the responsibility ofthe company management. my responsibility is to express an opinion on these financial statements based on my audit. conducted my audits in accordance with auditing standards generally accepted in the united states of america. those standards require that plan and perform the audit to obtain reasonable assurance about whether the financial statements are fiee of material misstatement. an audit includes consideration of internal control over financial reporting as a basis for designing audit procedures that are appropriate in the circumstances but not for the purpose of expressing an opinion on the effectiveness of the company internal control over financial reporting. accordingly we express no such opinion. an audit includes examining on a test basis evidence supporting the amounts and disclosures on the financial statements. an audit also includes assessing the accounting principles used and significant estimates made by management as well as evaluating the overall financial statement presentation. believe that my audits provide a reasonable basis for my opinion. in my opinion the financial statements referred to above present fairly in all material respects the changes in the stockholder equity and the results fiom operation of ace sushi franchise corporation as of december and in conformity with accounting principles generally accepted in the united states of america. thasjl san pedro california november exhibit to the ace sushi franchise corporation disclosure document franchise compliance certificate exhibit to the ace sushi franchise corporation franchise compliance certificate as you know. ace sushi franchise corporation franchisor and you are preparing to enter into a franchise agreement for the establishment and operation of an age sushi bar franchised business. the purpose of this questionnaire is to determine whether any statements or promises were made to you that the franchisor has not authorized and that may be untrue inaccurate or misleading. please review each of the following questions and statements carefully and provide honest and complete responses to each. had my first face to face or telephone meeting with a franchisor representative on date. have you received and personally reviewed the franchise agreement and each addendum and related agreement attached to it? yes number do you understand all of the information contained in the franchise agreement each addendum and related agreement provided to you? yes no if no what parts of the franchise agreement addendum and or related agreement do you not understand? attach additional pages if necessary. have you received and personally reviewed franchisor disclosure document? yes number did you sign a receipt for the disclosure document indicating the date you received it? yes number do you understand all of the information contained in the disclosure document and any state specific addendum to the disclosure document? yes no if no what parts of the disclosure document and or addendum do you not understand? attach additional pages if necessary. have you discussed the benefits and risks of establishing and operating an ace sushi bar franchised business with an attorney accountant or other professional advisor? yes no if no do you wish to have more time to do so? yes no immnnhh ace sushi questionnaire. do you understand that the success or failure of your ace sushi bar franchised business will depend in large part upon your skills and abilities competition from other businesses interest rates inflation labor and supply costs lease terms and other economic and business factors? yes number has any employee or other person speaking on our behalf made any statement or promise concerning the revenues profits or operating costs of an ace sushi bar franchised business that is contrary to the information contained in the disclosure document? yes number has any employee or other person speaking on our behalf made any statement or promise regarding the amount of money you may earn in operating an ace sushi bar franchised business that is contrary to the information contained in the disclosure document? yes number has any employee or other person speaking on our behalf made any statement or promise concerning the total amount of revenue your ace sushi bar franchised business will or may generate that is contrary to the information contained in the disclosure document? yes. has any employee or other person speaking on our behalf made any statement or promise regarding the costs you will or may incur in operating your ace sushi bar franchised business that is contrary to the infonnation contained in the disclosure document? yes number has any employee or other person speaking on our behalf made any statement or promise concerning the likelihood of success that you should or might expect to achieve from operating an ace sushi bar franchised business? yes number has any employee or other person on our behalf made any statement or promise concerning ace sushi parent or affiliated companies other than the information contained in the fdd? yes number has any employee or other person speaking on our behalf made any statement promise or agreement concerning the advertising marketing training support service or assistance that we will furnish to you that is contrary to the information contained in the disclosure document? yes number have you entered into any binding agreement with us concerning the purchase of this franchise prior to today? yes no jnfjmiiofih a ace sushi questionnaire. have you paid any money to us concerning the purchase of this franchise prior to today? yes number if you have answered yes to any one of questions please provide a full explanation of each yes answer in the following blank lines. attach additional pages if necessary and refer to them below. we signed the franchise agreement and addenda if any on date and acknowledge that no agreement or addendum is effective until signed and dated by the franchisor. please understand that your responses to these questions are important to us and that we will rely on them. by signing this questionnaire you are representing that you have responded truthfully to the above questions. franchise applicant signature print name date franchise applicant signature print name date nxmnntifi i a i ace sushi questionnaire exhibit to the ace sushi franchise corporation disclosure document receipts receipt this disclosure document summarizes provisions of the franchise agreement and other information in plain language. read this disclosure document and all agreements carefully. if ace sushi franchise corporation offers you a franchise. ace sushi franchise corporation must provide this disclosure document to you calendar days before you sign a binding agreement or make a payment with the franchisor or an affiliate in connection with the proposed franchise sale whichever comes first. new york oklahoma and rhode island require that we give you this disclosure document at the earlier of the first personal meeting or business days before the execution of the franchise or other agreement or the payment of any consideration that relates to the franchise relationship. michigan. washington ond wisconsin roauiromichigan requires that we give you this disclosure document at least business days before the execution of any binding franchise or other agreement or the payment of any consideration whichever comes first. if ace sushi franchise corporation does not deliver this disclosure document on time or if it contains a false or misleading statement or a material omission a violation of federal and state law may have occurred and should be reported to the federal trade commission washington. and the appropriate state agency identified on exhibit the franchisor is ace sushi franchise corporation located at west th street gardena california. issuance date april. mz.march. the name principal business address and telephone number of each franchise seller offering the franchise su kyi angela chang brian tan and garv chin and wai man lue. west street gardena california and michelle olson main street el segundo california. we authorize the agents listed in exhibit to receive service of process for us. have received a disclosure document dated april imarch. this disclosure document includes the following exhibits agents for service of process state administrators initial training agreement franchise agreement and attachments satellite store addendum purchase agreement and attachments state specific addenda candidate confidentiality agreement list of franchisees list of terminated franchisees financial statements franchise compliance certificate receipts dated signed address name phone mail please sign this copy of the receipt date your signature and return it to harlan. chin west th street suite gardena california. zsmum i ? ii this disclosure ument summarizes plain language. read this disclosure document and all agreements carefully. if acesushitranchise corporation offersyou a franchise acesushitranchisecorporationmust provide this sclosure document to you calendar days fore you signahinding agreement or makea payment with the hancl sor or an affliate in connection with the proposed franchise sale whiche first. new york dahomaandrhodelslandrequire that wegive you thisdisclosuredocument at the earlier of the first personal meeting or husiness days fore the execution of the franchise or or the payment of any consideration that relates to the franchise relationship. michigan. washington hing oand colorado in i ru requires that we give vou this disclosure document at least husiness days hefore the execution of any hinding franchise or other agreement or the payment of any consideration whichever comes first. if ace susl tranchise corporationdoes not deliver tl disclosure document on time or if it containsa false or leading statement oramaterial on ssion aviolation of federal and state law may have occurred should he reported to the tederal trade commission washington. and the appropriate state agency identified on exhibit. the franchisor is ace sushi tranchisecorporation located at west street cardena california issuance date i i a thename principalhusiness address and telephonenumher of each tranchise seller offeringthe tranchise su kv angela chan briaritan and garv chma wai california and michelle main street we authorize the agents listed in exhlhitato receive service of process for us. have receivedadisclosured ument a a this disclosure document includes the following exhibits agents for service of process stateadmimstrators imtialtraimng agreement franchise agreement and attachments satellite store addendum purchase agreement and attachments statespecificaddenda candidate confidentiaiity agreement tist of franchisees i eist ofterminated franchisees financialstatements franchise compliance certificate receipts dated signed address name fhone email email keep this copy for your records. tlus disclosure document may he availahle in several formats including on paper onacd in pdf format or on our wehsite www acesushicom. juhklllkmail ace sushi ufdd'"
      ]
     },
     "execution_count": 26,
     "metadata": {},
     "output_type": "execute_result"
    }
   ],
   "source": [
    "texts[9]"
   ]
  },
  {
   "cell_type": "code",
   "execution_count": 27,
   "id": "c74c2aee-e0c7-47e1-9620-1785ee8e9236",
   "metadata": {
    "slideshow": {
     "slide_type": "slide"
    },
    "tags": []
   },
   "outputs": [
    {
     "data": {
      "text/plain": [
       "{'ace', 'ace sushi franchise', 'franchise'}"
      ]
     },
     "execution_count": 27,
     "metadata": {},
     "output_type": "execute_result"
    }
   ],
   "source": [
    "FE.get_firm(texts[9])"
   ]
  },
  {
   "cell_type": "markdown",
   "id": "748b1572-a3c3-41b1-83d6-61939dc21147",
   "metadata": {
    "slideshow": {
     "slide_type": "slide"
    },
    "tags": []
   },
   "source": [
    "Much like the other tools, you can also use the batch version of FirmExtract for much quicker processing:"
   ]
  },
  {
   "cell_type": "code",
   "execution_count": 28,
   "id": "fde58b53-299d-4e1c-83c0-f14e297b6846",
   "metadata": {
    "slideshow": {
     "slide_type": "subslide"
    },
    "tags": []
   },
   "outputs": [
    {
     "data": {
      "application/vnd.jupyter.widget-view+json": {
       "model_id": "b3cae568e141424dbb974bc09af9b5d7",
       "version_major": 2,
       "version_minor": 0
      },
      "text/plain": [
       "  0%|          | 0/10 [00:00<?, ?it/s]"
      ]
     },
     "metadata": {},
     "output_type": "display_data"
    },
    {
     "data": {
      "text/plain": [
       "[{'trade'},\n",
       " {'franchising', 'trade'},\n",
       " {'federal trade commission', 'togo franchisor llc'},\n",
       " None,\n",
       " {'adkins carter carter', 'carter carter'},\n",
       " {'buymg'},\n",
       " {'federal trade commission.'},\n",
       " None,\n",
       " {'healthy'},\n",
       " {'ace', 'ace sushi franchise', 'franchise'}]"
      ]
     },
     "execution_count": 28,
     "metadata": {},
     "output_type": "execute_result"
    }
   ],
   "source": [
    "FE.get_firm_batch(texts)"
   ]
  },
  {
   "cell_type": "markdown",
   "id": "3fdf5ca2",
   "metadata": {
    "slideshow": {
     "slide_type": "slide"
    }
   },
   "source": [
    "# CREAM - finding the needle in a haystack"
   ]
  },
  {
   "cell_type": "markdown",
   "id": "895df82b",
   "metadata": {
    "slideshow": {
     "slide_type": "slide"
    }
   },
   "source": [
    "Our CREAM tool allows you to define concepts (classes), for which we can search through any number of texts. In particular, we envision the ability to be able to conceptualize any class you can think of (e.g., educational requirements), and be able to extract these concepts from texts using our method. See below for an example!"
   ]
  },
  {
   "cell_type": "markdown",
   "id": "c34429a5",
   "metadata": {
    "slideshow": {
     "slide_type": "slide"
    }
   },
   "source": [
    "First, let's create the concept of \"educational requirements\". To do this, all we need is a list of keywords that are relevant to this class, as well as a number of \"rules\" which trigger when the class is \"true\". First the keywords:"
   ]
  },
  {
   "cell_type": "code",
   "execution_count": 29,
   "id": "3a81b68d",
   "metadata": {
    "slideshow": {
     "slide_type": "subslide"
    }
   },
   "outputs": [
    {
     "data": {
      "text/plain": [
       "['bachelor',\n",
       " 'master',\n",
       " 'degree',\n",
       " 'high school',\n",
       " 'education',\n",
       " 'diploma',\n",
       " 'ged',\n",
       " 'certification']"
      ]
     },
     "execution_count": 29,
     "metadata": {},
     "output_type": "execute_result"
    }
   ],
   "source": [
    "with open(\"data/demo/CREAM/education_keywords.txt\", 'r') as f:\n",
    "    keywords = [x.strip() for x in f.readlines()]\n",
    "keywords"
   ]
  },
  {
   "cell_type": "markdown",
   "id": "af8c8e9c",
   "metadata": {
    "slideshow": {
     "slide_type": "subslide"
    }
   },
   "source": [
    "This is just an example! Now for the rules:"
   ]
  },
  {
   "cell_type": "code",
   "execution_count": 30,
   "id": "043b0c83",
   "metadata": {
    "slideshow": {
     "slide_type": "subslide"
    }
   },
   "outputs": [
    {
     "data": {
      "text/html": [
       "<div>\n",
       "<style scoped>\n",
       "    .dataframe tbody tr th:only-of-type {\n",
       "        vertical-align: middle;\n",
       "    }\n",
       "\n",
       "    .dataframe tbody tr th {\n",
       "        vertical-align: top;\n",
       "    }\n",
       "\n",
       "    .dataframe thead th {\n",
       "        text-align: right;\n",
       "    }\n",
       "</style>\n",
       "<table border=\"1\" class=\"dataframe\">\n",
       "  <thead>\n",
       "    <tr style=\"text-align: right;\">\n",
       "      <th></th>\n",
       "      <th>rule</th>\n",
       "      <th>education</th>\n",
       "    </tr>\n",
       "  </thead>\n",
       "  <tbody>\n",
       "    <tr>\n",
       "      <th>0</th>\n",
       "      <td>qualifications associate degree</td>\n",
       "      <td>1</td>\n",
       "    </tr>\n",
       "    <tr>\n",
       "      <th>1</th>\n",
       "      <td>accredited college or university</td>\n",
       "      <td>1</td>\n",
       "    </tr>\n",
       "    <tr>\n",
       "      <th>2</th>\n",
       "      <td>accredited college or university</td>\n",
       "      <td>1</td>\n",
       "    </tr>\n",
       "    <tr>\n",
       "      <th>3</th>\n",
       "      <td>at least a bachelor degree</td>\n",
       "      <td>1</td>\n",
       "    </tr>\n",
       "    <tr>\n",
       "      <th>4</th>\n",
       "      <td>ba bs degree in a related</td>\n",
       "      <td>1</td>\n",
       "    </tr>\n",
       "    <tr>\n",
       "      <th>...</th>\n",
       "      <td>...</td>\n",
       "      <td>...</td>\n",
       "    </tr>\n",
       "    <tr>\n",
       "      <th>81</th>\n",
       "      <td>at least a bachelor degree</td>\n",
       "      <td>1</td>\n",
       "    </tr>\n",
       "    <tr>\n",
       "      <th>82</th>\n",
       "      <td>must be a graduate of an accredited</td>\n",
       "      <td>1</td>\n",
       "    </tr>\n",
       "    <tr>\n",
       "      <th>83</th>\n",
       "      <td>needed ba bs degree</td>\n",
       "      <td>1</td>\n",
       "    </tr>\n",
       "    <tr>\n",
       "      <th>84</th>\n",
       "      <td>bachelors degree experience</td>\n",
       "      <td>1</td>\n",
       "    </tr>\n",
       "    <tr>\n",
       "      <th>85</th>\n",
       "      <td>experience or a bachelor</td>\n",
       "      <td>1</td>\n",
       "    </tr>\n",
       "  </tbody>\n",
       "</table>\n",
       "<p>86 rows × 2 columns</p>\n",
       "</div>"
      ],
      "text/plain": [
       "                                   rule  education\n",
       "0      qualifications associate degree           1\n",
       "1     accredited college or university           1\n",
       "2     accredited college or university           1\n",
       "3            at least a bachelor degree          1\n",
       "4             ba bs degree in a related          1\n",
       "..                                  ...        ...\n",
       "81           at least a bachelor degree          1\n",
       "82  must be a graduate of an accredited          1\n",
       "83                  needed ba bs degree          1\n",
       "84          bachelors degree experience          1\n",
       "85             experience or a bachelor          1\n",
       "\n",
       "[86 rows x 2 columns]"
      ]
     },
     "execution_count": 30,
     "metadata": {},
     "output_type": "execute_result"
    }
   ],
   "source": [
    "rules = pd.read_csv(\"data/demo/CREAM/education_rules.csv\")\n",
    "rules"
   ]
  },
  {
   "cell_type": "markdown",
   "id": "ef6fb8a3",
   "metadata": {
    "slideshow": {
     "slide_type": "subslide"
    }
   },
   "source": [
    "One can define arbitrarily many rules. The more the merrier! For CREAM, we need to input the rules in a specific format:"
   ]
  },
  {
   "cell_type": "code",
   "execution_count": 31,
   "id": "4bc4a8f8",
   "metadata": {
    "scrolled": true,
    "slideshow": {
     "slide_type": "subslide"
    }
   },
   "outputs": [
    {
     "data": {
      "text/plain": [
       "[('qualifications associate degree ', 1),\n",
       " ('accredited college or university ', 1),\n",
       " ('accredited college or university ', 1),\n",
       " ('at least a bachelor degree', 1),\n",
       " ('ba bs degree in a related', 1),\n",
       " ('bachelor degree and years work experience', 1),\n",
       " ('bachelor degree ba bs', 1),\n",
       " ('bachelor degree in a', 1),\n",
       " ('bachelor degree or equivalent', 1),\n",
       " ('bachelor degree skills', 1),\n",
       " ('bs ba degree in related field', 1),\n",
       " ('bs degree or equivalent', 1),\n",
       " ('bs or ms degree', 1),\n",
       " ('college degree programs', 1),\n",
       " ('degree required bachelor degree', 1),\n",
       " ('education and experience bachelor degree', 1),\n",
       " ('education bachelor degree', 1),\n",
       " ('education from accredited colleges', 1),\n",
       " ('education level bachelor degree', 1),\n",
       " ('experience bachelor degree ', 1),\n",
       " ('experience bachelor degree and years', 1),\n",
       " ('foreign colleges or universities', 1),\n",
       " ('from an accredited college or university', 1),\n",
       " ('minimum degree required bachelor degree', 1),\n",
       " ('must be a graduate of an accredited', 1),\n",
       " ('needed ba bs degree', 1),\n",
       " ('needed bachelor degree', 1),\n",
       " ('nursing degree', 1),\n",
       " ('preferred undergraduate degree', 1),\n",
       " ('preferred undergraduate degree or equivalent', 1),\n",
       " ('qualifications bachelor degree', 1),\n",
       " ('technical degree bachelors masters', 1),\n",
       " ('technical degree bachelors masters or phd', 1),\n",
       " ('associate degree and or diploma', 1),\n",
       " ('experience high school diploma', 1),\n",
       " ('qualifications high school', 1),\n",
       " ('national certification or high school', 1),\n",
       " ('minimum level of education high school', 1),\n",
       " ('high school education', 1),\n",
       " ('high school degree ged ', 1),\n",
       " ('high school degree', 1),\n",
       " ('ged equivalent', 1),\n",
       " ('full time degree preferred high school', 1),\n",
       " ('experience knowledge high school', 1),\n",
       " ('experience high school diploma', 1),\n",
       " ('experience high school diploma', 1),\n",
       " ('education high school diploma', 1),\n",
       " ('education high school ', 1),\n",
       " ('education high schhol experience', 1),\n",
       " ('education experience high school', 1),\n",
       " ('education and experience high school', 1),\n",
       " ('diploma or general education development ged', 1),\n",
       " ('diploma or general education degree ged', 1),\n",
       " ('diploma or general education degree', 1),\n",
       " ('diploma or ged', 1),\n",
       " ('diploma or equivalent', 1),\n",
       " ('diploma ged', 1),\n",
       " ('degree required high school', 1),\n",
       " ('a high school degree', 1),\n",
       " ('diploma ged with years of experience', 1),\n",
       " ('experience high school diploma', 1),\n",
       " ('experience high school diploma', 1),\n",
       " ('general education degree ged', 1),\n",
       " ('high school degree', 1),\n",
       " ('high school qualification', 1),\n",
       " ('preferred high school degree ged', 1),\n",
       " ('certification or pharmacy license', 1),\n",
       " ('doctoral degree in nursing', 1),\n",
       " ('has doctoral degree', 1),\n",
       " ('pharmacy license', 1),\n",
       " ('master degree in nursing', 1),\n",
       " ('bs or ms degree', 1),\n",
       " ('needed bachelor degree', 1),\n",
       " ('bachelor degree or equivalent', 1),\n",
       " ('education from accredited colleges', 1),\n",
       " ('bs degree or equivalent', 1),\n",
       " ('bachelor degree in a', 1),\n",
       " ('preferred undergraduate degree', 1),\n",
       " ('education level bachelor degree', 1),\n",
       " ('from an accredited college or university', 1),\n",
       " ('qualifications bachelor degree', 1),\n",
       " ('at least a bachelor degree', 1),\n",
       " ('must be a graduate of an accredited', 1),\n",
       " ('needed ba bs degree', 1),\n",
       " ('bachelors degree experience', 1),\n",
       " ('experience or a bachelor', 1)]"
      ]
     },
     "execution_count": 31,
     "metadata": {},
     "output_type": "execute_result"
    }
   ],
   "source": [
    "rules = list(rules.itertuples(index=False, name=None))\n",
    "rules"
   ]
  },
  {
   "cell_type": "markdown",
   "id": "9899a5cd",
   "metadata": {
    "slideshow": {
     "slide_type": "slide"
    }
   },
   "source": [
    "Now, we can import CREAM!"
   ]
  },
  {
   "cell_type": "code",
   "execution_count": 32,
   "id": "bd69cd5f",
   "metadata": {
    "slideshow": {
     "slide_type": "subslide"
    }
   },
   "outputs": [
    {
     "name": "stdout",
     "output_type": "stream",
     "text": [
      "INIT\n",
      "Finished.\n"
     ]
    }
   ],
   "source": [
    "from JAAT import CREAM\n",
    "C = CREAM(keywords=keywords, rules=rules, n=4, threshold=0.9) \n",
    "# n and threshold --> optional parameters (these are the default values)"
   ]
  },
  {
   "cell_type": "markdown",
   "id": "cbeac6bb",
   "metadata": {
    "slideshow": {
     "slide_type": "slide"
    }
   },
   "source": [
    "Now let's load in a sample of job ads that we used before."
   ]
  },
  {
   "cell_type": "code",
   "execution_count": 33,
   "id": "8636bcd9",
   "metadata": {
    "slideshow": {
     "slide_type": "subslide"
    }
   },
   "outputs": [
    {
     "data": {
      "text/html": [
       "<div>\n",
       "<style scoped>\n",
       "    .dataframe tbody tr th:only-of-type {\n",
       "        vertical-align: middle;\n",
       "    }\n",
       "\n",
       "    .dataframe tbody tr th {\n",
       "        vertical-align: top;\n",
       "    }\n",
       "\n",
       "    .dataframe thead th {\n",
       "        text-align: right;\n",
       "    }\n",
       "</style>\n",
       "<table border=\"1\" class=\"dataframe\">\n",
       "  <thead>\n",
       "    <tr style=\"text-align: right;\">\n",
       "      <th></th>\n",
       "      <th>id</th>\n",
       "      <th>onet_id</th>\n",
       "      <th>job_title</th>\n",
       "      <th>company</th>\n",
       "      <th>job_location</th>\n",
       "      <th>salary</th>\n",
       "      <th>text</th>\n",
       "      <th>responsibilities_text</th>\n",
       "      <th>requirements_text</th>\n",
       "      <th>preferred_text</th>\n",
       "      <th>company_desc</th>\n",
       "    </tr>\n",
       "  </thead>\n",
       "  <tbody>\n",
       "    <tr>\n",
       "      <th>0</th>\n",
       "      <td>1</td>\n",
       "      <td>43-4131.00</td>\n",
       "      <td>SBA Loan Associate</td>\n",
       "      <td>Bankers Healthcare Group</td>\n",
       "      <td>Fort Lauderdale, FL</td>\n",
       "      <td>NaN</td>\n",
       "      <td>Assist Business Development Officer with SBA 7...</td>\n",
       "      <td>Assist Business Development Officer with SBA 7...</td>\n",
       "      <td>A successful candidate is a motivated administ...</td>\n",
       "      <td>NaN</td>\n",
       "      <td>Are you ready to join a growing team that puts...</td>\n",
       "    </tr>\n",
       "    <tr>\n",
       "      <th>1</th>\n",
       "      <td>2</td>\n",
       "      <td>43-4131.00</td>\n",
       "      <td>Credit Analyst</td>\n",
       "      <td>First American Equipment Finance</td>\n",
       "      <td>Rochester, NY</td>\n",
       "      <td>NaN</td>\n",
       "      <td>The Credit Analyst is responsible for assistin...</td>\n",
       "      <td>The Credit Analyst is responsible for assistin...</td>\n",
       "      <td>Bachelor’s degree preferred, or equivalent com...</td>\n",
       "      <td>NaN</td>\n",
       "      <td>First American Equipment Finance, an RBC/City ...</td>\n",
       "    </tr>\n",
       "    <tr>\n",
       "      <th>2</th>\n",
       "      <td>3</td>\n",
       "      <td>19-1042.00</td>\n",
       "      <td>Scientist, Lead Discovery</td>\n",
       "      <td>Accent Therapeutics, Inc.</td>\n",
       "      <td>Lexington, MA</td>\n",
       "      <td>NaN</td>\n",
       "      <td>Design and execution of biochemical assays for...</td>\n",
       "      <td>Design and execution of biochemical assays for...</td>\n",
       "      <td>BA/BS in Biochemistry, Enzymology or related f...</td>\n",
       "      <td>NaN</td>\n",
       "      <td>As a key member of the Lead Discovery team, re...</td>\n",
       "    </tr>\n",
       "    <tr>\n",
       "      <th>3</th>\n",
       "      <td>4</td>\n",
       "      <td>49-9071.00</td>\n",
       "      <td>Maintenance Director</td>\n",
       "      <td>CWS Apartment Homes LLC</td>\n",
       "      <td>Austin, TX</td>\n",
       "      <td>NaN</td>\n",
       "      <td>As a Maintenance Director, you’ll effectively ...</td>\n",
       "      <td>As a Maintenance Director, you’ll effectively ...</td>\n",
       "      <td>Able to read service requests and schedules in...</td>\n",
       "      <td>High school diploma or GED\\nHVAC, Pool and oth...</td>\n",
       "      <td>Who We Are\\nWe are honored to be recognized as...</td>\n",
       "    </tr>\n",
       "    <tr>\n",
       "      <th>4</th>\n",
       "      <td>5</td>\n",
       "      <td>17-2112.00</td>\n",
       "      <td>Engineer I</td>\n",
       "      <td>Freese and Nichols, Inc.</td>\n",
       "      <td>Atlanta, GA</td>\n",
       "      <td>NaN</td>\n",
       "      <td>Freese and Nichols is seeking an Engineer I to...</td>\n",
       "      <td>Freese and Nichols is seeking an Engineer I to...</td>\n",
       "      <td>Bachelor’s Degree in Civil or Environmental En...</td>\n",
       "      <td>Master’s in Environmental Engineering</td>\n",
       "      <td>At Freese and Nichols, everyone on our team ge...</td>\n",
       "    </tr>\n",
       "    <tr>\n",
       "      <th>...</th>\n",
       "      <td>...</td>\n",
       "      <td>...</td>\n",
       "      <td>...</td>\n",
       "      <td>...</td>\n",
       "      <td>...</td>\n",
       "      <td>...</td>\n",
       "      <td>...</td>\n",
       "      <td>...</td>\n",
       "      <td>...</td>\n",
       "      <td>...</td>\n",
       "      <td>...</td>\n",
       "    </tr>\n",
       "    <tr>\n",
       "      <th>985</th>\n",
       "      <td>986</td>\n",
       "      <td>31-1121.00</td>\n",
       "      <td>$1500 Signing Bonus Home Health Aide</td>\n",
       "      <td>Cuyuna Regional Medical Center</td>\n",
       "      <td>Crosby, MN</td>\n",
       "      <td>NaN</td>\n",
       "      <td>Responsible to the R.N. and/or therapist who a...</td>\n",
       "      <td>Responsible to the R.N. and/or therapist who a...</td>\n",
       "      <td>POSITION QUALIFICATIONS\\nEducation and Experie...</td>\n",
       "      <td>NaN</td>\n",
       "      <td>NaN</td>\n",
       "    </tr>\n",
       "    <tr>\n",
       "      <th>986</th>\n",
       "      <td>987</td>\n",
       "      <td>31-1121.00</td>\n",
       "      <td>Home Health Aide - Home Health - New River Val...</td>\n",
       "      <td>Carilion Clinic</td>\n",
       "      <td>Radford, VA</td>\n",
       "      <td>NaN</td>\n",
       "      <td>This position supports Carilion's hallmarks of...</td>\n",
       "      <td>This position supports Carilion's hallmarks of...</td>\n",
       "      <td>Education: Demonstrate ability to read, write ...</td>\n",
       "      <td>NaN</td>\n",
       "      <td>This is Carilion Clinic ...\\n\\nAn organization...</td>\n",
       "    </tr>\n",
       "    <tr>\n",
       "      <th>987</th>\n",
       "      <td>988</td>\n",
       "      <td>31-1121.00</td>\n",
       "      <td>Home Health Aide</td>\n",
       "      <td>Ridgeview Medical Center</td>\n",
       "      <td>Waconia, MN</td>\n",
       "      <td>NaN</td>\n",
       "      <td>Documents the various aspects of care on appro...</td>\n",
       "      <td>Documents the various aspects of care on appro...</td>\n",
       "      <td>Minimum Education/Work Experience \\nOn Minneso...</td>\n",
       "      <td>Preferred Qualifications: Previous home care, ...</td>\n",
       "      <td>NaN</td>\n",
       "    </tr>\n",
       "    <tr>\n",
       "      <th>988</th>\n",
       "      <td>989</td>\n",
       "      <td>31-1121.00</td>\n",
       "      <td>Home Health Aide</td>\n",
       "      <td>St. Claire HealthCare</td>\n",
       "      <td>Morehead, KY</td>\n",
       "      <td>NaN</td>\n",
       "      <td>Observes, reports and documents patient status...</td>\n",
       "      <td>Observes, reports and documents patient status...</td>\n",
       "      <td>Skills/Abilities: Basic ability to read, write...</td>\n",
       "      <td>NaN</td>\n",
       "      <td>NaN</td>\n",
       "    </tr>\n",
       "    <tr>\n",
       "      <th>989</th>\n",
       "      <td>990</td>\n",
       "      <td>29-2012.00</td>\n",
       "      <td>Medical Lab Technician/UKHC</td>\n",
       "      <td>UK HealthCare</td>\n",
       "      <td>Lexington, KY</td>\n",
       "      <td>NaN</td>\n",
       "      <td>The Medical Lab Technician /UKHC will be respo...</td>\n",
       "      <td>The Medical Lab Technician /UKHC will be respo...</td>\n",
       "      <td>This is a team oriented environment and a succ...</td>\n",
       "      <td>NaN</td>\n",
       "      <td>This CAP Accredited Laboratory at the Universi...</td>\n",
       "    </tr>\n",
       "  </tbody>\n",
       "</table>\n",
       "<p>990 rows × 11 columns</p>\n",
       "</div>"
      ],
      "text/plain": [
       "      id     onet_id                                          job_title  \\\n",
       "0      1  43-4131.00                                 SBA Loan Associate   \n",
       "1      2  43-4131.00                                     Credit Analyst   \n",
       "2      3  19-1042.00                          Scientist, Lead Discovery   \n",
       "3      4  49-9071.00                               Maintenance Director   \n",
       "4      5  17-2112.00                                         Engineer I   \n",
       "..   ...         ...                                                ...   \n",
       "985  986  31-1121.00               $1500 Signing Bonus Home Health Aide   \n",
       "986  987  31-1121.00  Home Health Aide - Home Health - New River Val...   \n",
       "987  988  31-1121.00                                   Home Health Aide   \n",
       "988  989  31-1121.00                                   Home Health Aide   \n",
       "989  990  29-2012.00                        Medical Lab Technician/UKHC   \n",
       "\n",
       "                              company         job_location salary  \\\n",
       "0            Bankers Healthcare Group  Fort Lauderdale, FL    NaN   \n",
       "1    First American Equipment Finance        Rochester, NY    NaN   \n",
       "2           Accent Therapeutics, Inc.        Lexington, MA    NaN   \n",
       "3             CWS Apartment Homes LLC           Austin, TX    NaN   \n",
       "4            Freese and Nichols, Inc.          Atlanta, GA    NaN   \n",
       "..                                ...                  ...    ...   \n",
       "985    Cuyuna Regional Medical Center           Crosby, MN    NaN   \n",
       "986                   Carilion Clinic          Radford, VA    NaN   \n",
       "987          Ridgeview Medical Center          Waconia, MN    NaN   \n",
       "988             St. Claire HealthCare         Morehead, KY    NaN   \n",
       "989                     UK HealthCare        Lexington, KY    NaN   \n",
       "\n",
       "                                                  text  \\\n",
       "0    Assist Business Development Officer with SBA 7...   \n",
       "1    The Credit Analyst is responsible for assistin...   \n",
       "2    Design and execution of biochemical assays for...   \n",
       "3    As a Maintenance Director, you’ll effectively ...   \n",
       "4    Freese and Nichols is seeking an Engineer I to...   \n",
       "..                                                 ...   \n",
       "985  Responsible to the R.N. and/or therapist who a...   \n",
       "986  This position supports Carilion's hallmarks of...   \n",
       "987  Documents the various aspects of care on appro...   \n",
       "988  Observes, reports and documents patient status...   \n",
       "989  The Medical Lab Technician /UKHC will be respo...   \n",
       "\n",
       "                                 responsibilities_text  \\\n",
       "0    Assist Business Development Officer with SBA 7...   \n",
       "1    The Credit Analyst is responsible for assistin...   \n",
       "2    Design and execution of biochemical assays for...   \n",
       "3    As a Maintenance Director, you’ll effectively ...   \n",
       "4    Freese and Nichols is seeking an Engineer I to...   \n",
       "..                                                 ...   \n",
       "985  Responsible to the R.N. and/or therapist who a...   \n",
       "986  This position supports Carilion's hallmarks of...   \n",
       "987  Documents the various aspects of care on appro...   \n",
       "988  Observes, reports and documents patient status...   \n",
       "989  The Medical Lab Technician /UKHC will be respo...   \n",
       "\n",
       "                                     requirements_text  \\\n",
       "0    A successful candidate is a motivated administ...   \n",
       "1    Bachelor’s degree preferred, or equivalent com...   \n",
       "2    BA/BS in Biochemistry, Enzymology or related f...   \n",
       "3    Able to read service requests and schedules in...   \n",
       "4    Bachelor’s Degree in Civil or Environmental En...   \n",
       "..                                                 ...   \n",
       "985  POSITION QUALIFICATIONS\\nEducation and Experie...   \n",
       "986  Education: Demonstrate ability to read, write ...   \n",
       "987  Minimum Education/Work Experience \\nOn Minneso...   \n",
       "988  Skills/Abilities: Basic ability to read, write...   \n",
       "989  This is a team oriented environment and a succ...   \n",
       "\n",
       "                                        preferred_text  \\\n",
       "0                                                  NaN   \n",
       "1                                                  NaN   \n",
       "2                                                  NaN   \n",
       "3    High school diploma or GED\\nHVAC, Pool and oth...   \n",
       "4                Master’s in Environmental Engineering   \n",
       "..                                                 ...   \n",
       "985                                                NaN   \n",
       "986                                                NaN   \n",
       "987  Preferred Qualifications: Previous home care, ...   \n",
       "988                                                NaN   \n",
       "989                                                NaN   \n",
       "\n",
       "                                          company_desc  \n",
       "0    Are you ready to join a growing team that puts...  \n",
       "1    First American Equipment Finance, an RBC/City ...  \n",
       "2    As a key member of the Lead Discovery team, re...  \n",
       "3    Who We Are\\nWe are honored to be recognized as...  \n",
       "4    At Freese and Nichols, everyone on our team ge...  \n",
       "..                                                 ...  \n",
       "985                                                NaN  \n",
       "986  This is Carilion Clinic ...\\n\\nAn organization...  \n",
       "987                                                NaN  \n",
       "988                                                NaN  \n",
       "989  This CAP Accredited Laboratory at the Universi...  \n",
       "\n",
       "[990 rows x 11 columns]"
      ]
     },
     "execution_count": 33,
     "metadata": {},
     "output_type": "execute_result"
    }
   ],
   "source": [
    "jobs = pd.read_excel(\"data/demo/TitleMatch/JobAdsData2022_OSF.xlsx\")\n",
    "jobs"
   ]
  },
  {
   "cell_type": "code",
   "execution_count": 34,
   "id": "47b91ef5",
   "metadata": {
    "slideshow": {
     "slide_type": "subslide"
    }
   },
   "outputs": [],
   "source": [
    "texts = jobs.text.to_list()"
   ]
  },
  {
   "cell_type": "markdown",
   "id": "ae821045",
   "metadata": {
    "slideshow": {
     "slide_type": "slide"
    }
   },
   "source": [
    "Now all we need to do is input these texts into CREAM, and let it run!"
   ]
  },
  {
   "cell_type": "code",
   "execution_count": 35,
   "id": "894312d3",
   "metadata": {
    "slideshow": {
     "slide_type": "subslide"
    }
   },
   "outputs": [
    {
     "data": {
      "application/vnd.jupyter.widget-view+json": {
       "model_id": "327defd4529d414ca7a4c00a11e769f9",
       "version_major": 2,
       "version_minor": 0
      },
      "text/plain": [
       "  0%|          | 0/990 [00:00<?, ?it/s]"
      ]
     },
     "metadata": {},
     "output_type": "display_data"
    }
   ],
   "source": [
    "results = C.run(texts)"
   ]
  },
  {
   "cell_type": "code",
   "execution_count": 36,
   "id": "b6844005",
   "metadata": {
    "slideshow": {
     "slide_type": "slide"
    }
   },
   "outputs": [
    {
     "data": {
      "text/plain": [
       "311"
      ]
     },
     "execution_count": 36,
     "metadata": {},
     "output_type": "execute_result"
    }
   ],
   "source": [
    "results.inferred_label.sum()"
   ]
  },
  {
   "cell_type": "markdown",
   "id": "d9d5b3c9",
   "metadata": {
    "slideshow": {
     "slide_type": "subslide"
    }
   },
   "source": [
    "From the above, we can see that 311 out of the 990 texts were matched with a rule from our rule set, thus receiving a label of 1 for the \"educational requirement\" class we defined. Let's look at some examples."
   ]
  },
  {
   "cell_type": "code",
   "execution_count": 37,
   "id": "1c24b740",
   "metadata": {
    "slideshow": {
     "slide_type": "slide"
    }
   },
   "outputs": [
    {
     "data": {
      "text/plain": [
       "text                   A skilled position responsible for installatio...\n",
       "inferred_rule                                degree required high school\n",
       "inferred_label                                                         1\n",
       "inferred_confidence                                             0.925455\n",
       "Name: 35, dtype: object"
      ]
     },
     "execution_count": 37,
     "metadata": {},
     "output_type": "execute_result"
    }
   ],
   "source": [
    "results[results.inferred_label == 1].iloc[11]"
   ]
  },
  {
   "cell_type": "code",
   "execution_count": 38,
   "id": "875c0c8c",
   "metadata": {
    "slideshow": {
     "slide_type": "subslide"
    }
   },
   "outputs": [
    {
     "data": {
      "text/plain": [
       "'A skilled position responsible for installation, set up, repair and ongoing maintenance of vending, cooling and/or fountain equipment at customer accounts. Diagnoses equipment problems, uses judgment to determine how to best repair or replace. Position works independently and has frequent customer contact.  May require lifting, carrying, pulling and/or moving between 20 and 45 pounds repeatedly over workday Requires kneeling, squatting, crouching, crawling and bending when making repairs, often in low places. Position may require moving vending machines weighing 800-1200 pounds. \\nRepair and perform preventative maintenance on marketing equipment\\nUnload and reload with products as necessary\\nEducate customers on basic equipment repair and upkeep procedures\\nInstall equipment by making holes and route lines to connect products to dispensing unit, connecting water and gas supply and finding drains for units with ice. For box syrup, build racks and connect lines\\nFill installed equipment and adjust to proper mixture\\nPrioritize and schedule service and PM calls to meet customer service windows\\nDrive to location, evaluate situation and perform necessary work (may include plumbing, electricity, refrigeration, carpentry)\\nCollect accurate and complete equipment and customer information\\nRemove old parts and replace with new parts\\nMaintain parts inventory on service truck\\nEstablish positive relationship with contacts at service calls\\nAfter each call, complete paperwork on job and call in paperwork every two hours\\nTransport miscellaneous items (e.g., compressors for repair/scrap, cardboard for recycle, etc.)\\nRegular, reliable, predictable attendance 18 years or older\\nHigh School Diploma or GED\\n21 years or older if CDL Required\\nValid CDL license (if applicable)\\nPass DOT Physical and DOT Road-test (if applicable)\\nAdhere to DOT Regulations (if applicable)\\nPass the background check\\nSenior technician requires certification in refrigeration\\nMust be able to pass refrigeration certification Type I/Type II practices (if applicable) Working with mechanical systems (e.g., knowing mechanical concepts, troubleshooting and repairing appliances, performing basic household repair in plumbing, circuits, fuses, and electrical components, operating hand tools and power tools, etc.) \\nServing customers (e.g., resolving customer issues, ensuring appropriate communication with store managers, following up on customer requests, etc.)\\nWorking with basic refrigeration systems (e.g., understanding refrigeration cycle, Freon, compressors, evaporators, condensers, etc.)\\nWorking with electrical systems (e.g., understanding flow, wiring, outlets, etc.)\\nWorking with plumbing (e.g., working with drains, water supply, ice makers, shut-off valves, sweating copper, filtration systems, etc.)\\nGenerating and setting work schedules (e.g., determining priority of work, building work schedules, etc.)\\nEquipment installation (e.g., HVAC, refrigeration, auto, copiers, fountain products, etc.) '"
      ]
     },
     "execution_count": 38,
     "metadata": {},
     "output_type": "execute_result"
    }
   ],
   "source": [
    "results[results.inferred_label == 1].iloc[11].text"
   ]
  },
  {
   "cell_type": "code",
   "execution_count": 39,
   "id": "da9e4756",
   "metadata": {
    "slideshow": {
     "slide_type": "slide"
    }
   },
   "outputs": [
    {
     "data": {
      "text/plain": [
       "text                   Analyzes complex end user needs to determine o...\n",
       "inferred_rule                                     needed bachelor degree\n",
       "inferred_label                                                         1\n",
       "inferred_confidence                                             0.937813\n",
       "Name: 372, dtype: object"
      ]
     },
     "execution_count": 39,
     "metadata": {},
     "output_type": "execute_result"
    }
   ],
   "source": [
    "results[results.inferred_label == 1].iloc[123]"
   ]
  },
  {
   "cell_type": "code",
   "execution_count": 40,
   "id": "0823a220",
   "metadata": {
    "slideshow": {
     "slide_type": "subslide"
    }
   },
   "outputs": [
    {
     "data": {
      "text/plain": [
       "'Analyzes complex end user needs to determine optimal means of meeting those needs.\\nDetermines specific business application software requirements to address complex business needs.\\nDevelops project plans and identifies and coordinates resources, involving those outside the unit.\\nWorks with programming staff to ensure requirements will be incorporated into system design and testing.\\nActs as a resource to users of the software to address questions/issues.\\nMay provide direction and guidance to team members and serves as an expert for the team. Requires a BS/BA degree, 5-7 years of business analysis experience that includes knowledge of systems capabilities and business operations; or any combination of education and experienced, which would provide an equivalent background. Project management certification (PMP) preferred.\\n\\n•             EDI experience strongly preferred Your Talent. Our Vision.  At Beacon Health Options, a proud member of the Anthem, Inc. family of companies, it’s a powerful combination.  It’s the foundation upon which we’re creating greater access to care for our members, greater value for our customers and greater health for our communities. Join us and together we will drive the future of health care.\\n\\nFor more than 30 years, Beacon Health Options has changed the way people live with behavioral health conditions. Today, we are the undisputed leader in behavioral health management, serving 37 million people across all 50 states. At Beacon, our mission is to help people live their lives to the fullest potential. Beacon offers superior clinical mental health and substance use disorder management, a comprehensive employee assistance program, work/life support, specialty programs for autism and depression, and insightful analytics to improve the delivery of care.\\n\\nLocation: Can be Remote: TX, CA, AZ, GA, MA\\n\\nWe are seeking a Business Analyst III with experience in EDI and Project Management.  The Business Analyst will be responsible for serving as the liaison between the business and IT in translating complex business needs into application software.'"
      ]
     },
     "execution_count": 40,
     "metadata": {},
     "output_type": "execute_result"
    }
   ],
   "source": [
    "results[results.inferred_label == 1].iloc[123].text"
   ]
  },
  {
   "cell_type": "code",
   "execution_count": 41,
   "id": "4e8b9b6e",
   "metadata": {
    "slideshow": {
     "slide_type": "slide"
    }
   },
   "outputs": [
    {
     "data": {
      "text/plain": [
       "text                   Observes, reports and documents patient status...\n",
       "inferred_rule                                         high school degree\n",
       "inferred_label                                                         1\n",
       "inferred_confidence                                              0.92737\n",
       "Name: 988, dtype: object"
      ]
     },
     "execution_count": 41,
     "metadata": {},
     "output_type": "execute_result"
    }
   ],
   "source": [
    "results[results.inferred_label == 1].iloc[-1]"
   ]
  },
  {
   "cell_type": "code",
   "execution_count": 42,
   "id": "1ebdd29e",
   "metadata": {
    "slideshow": {
     "slide_type": "subslide"
    }
   },
   "outputs": [
    {
     "data": {
      "text/plain": [
       "'Observes, reports and documents patient status and the care or services provided.\\nObserves and suggests changes to patient/caregiver for internal factors in the home that often cause accidents or an unsafe environment for the patient/family/aide.\\nMaintains a clean and safe environment in the patient’s place of residence and performs appropriate nutritional observations.\\nUtilizes proper procedures for personal care.\\nUtilizes proper technique for transfers and ambulation.\\nDemonstrates proficiency and accuracy in other procedures performed in the home.\\nDemonstrates appropriate practices based upon the age of the patient served. Skills/Abilities: Basic ability to read, write and follow verbal instructions. Must possess ability to operate a motor vehicle. Must have reliable transportation.\\nEducation: High School graduate or GED or equivalent years of experience. \\nExperience: Previous work in a hospital or nursing home/private duty setting preferred. \\nLicensure/Certification: Certified Nursing Assistant Certification (CNA) required. Valid driver’s license with proof of insurance.  \\nPhysical/Work Requirements: The physical demands described here are representative of those that must be met by an employee to successfully perform the essential functions of this job. Reasonable accommodations may be made to enable individuals with disabilities to perform the essential functions. While performing the duties of this job, the employee is regularly required to sit and use hands to finger, handle or feel. The employee is required to communicate effectively.  Specific vision abilities required by this job include close vision for reading and computer work. The employee must regularly lift and/or move up to 10 pounds, frequently lift and/or move up to 25 pounds, and occasionally lift and/or move more than 50 pounds. The work environment described here is representative of those that must be met by an employee to successfully perform the essential functions of this job. Reasonable accommodations may be made to enable individuals with disabilities to perform the essential functions. While performing the duties of this job, the employee works in an area with good lighting and climate control. The noise level in the work environment is usually moderate.  '"
      ]
     },
     "execution_count": 42,
     "metadata": {},
     "output_type": "execute_result"
    }
   ],
   "source": [
    "results[results.inferred_label == 1].iloc[-1].text"
   ]
  },
  {
   "cell_type": "markdown",
   "id": "66bfcfbb",
   "metadata": {
    "slideshow": {
     "slide_type": "slide"
    }
   },
   "source": [
    "Looking into the text examples, we can see that CREAM did indeed identify the needles in the haystack!"
   ]
  },
  {
   "cell_type": "markdown",
   "id": "a741a8ce-df5d-4d89-9824-26f9c629a4d3",
   "metadata": {
    "slideshow": {
     "slide_type": "slide"
    },
    "tags": []
   },
   "source": [
    "# That's all! Start using JAAT today."
   ]
  }
 ],
 "metadata": {
  "celltoolbar": "Slideshow",
  "kernelspec": {
   "display_name": "Python 3 (ipykernel)",
   "language": "python",
   "name": "python3"
  },
  "language_info": {
   "codemirror_mode": {
    "name": "ipython",
    "version": 3
   },
   "file_extension": ".py",
   "mimetype": "text/x-python",
   "name": "python",
   "nbconvert_exporter": "python",
   "pygments_lexer": "ipython3",
   "version": "3.8.10"
  }
 },
 "nbformat": 4,
 "nbformat_minor": 5
}
