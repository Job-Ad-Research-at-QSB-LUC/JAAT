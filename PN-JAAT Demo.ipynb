{
 "cells": [
  {
   "cell_type": "markdown",
   "id": "82976832",
   "metadata": {
    "jp-MarkdownHeadingCollapsed": true,
    "slideshow": {
     "slide_type": "slide"
    }
   },
   "source": [
    "# Job Ad Analysis Toolkit \n",
    "\n",
    "## A Demonstration from Unstructured Job Ad Text to Data\n",
    "\n",
    "\n",
    "### Tools: TitleMatch, FirmExtract, TaskMatch, and CREAM\n",
    "\n",
    "Let's code up 990 Job Ads with the following machine tools:\n",
    "\n",
    "1. TitleMatch - Match Job Titles to O-NET Occupation Codes.\n",
    "2. FirmNER - Extracts Candidate Firm Names from Job Ad (or other) Text.\n",
    "3. TaskMatch - Match Job Ad Text to O-NET Task IDs\n",
    "4. CREAM - Develop custom classifiers with embeddings by augmenting a human curated list of 'rules'. Demo uses Education Requirements.\n",
    "\n",
    "This project has received generous support from the National Labor Exchange, the Russell Sage Foundation, the Washington Center for Equitable Growth.\n",
    "\n",
    "Job ad data for this demo is from:\n",
    "\n",
    "```\n",
    "\n",
    "Zhou, Steven, John Aitken, Peter McEachern, and Renee McCauley. “Data from 990 Public Real-World Job Advertisements Organized by O*NET Categories.” Journal of Open Psychology Data 10 (November 21, 2022): 17. https://doi.org/10.5334/jopd.69.\n",
    "\n",
    "```"
   ]
  },
  {
   "cell_type": "code",
   "execution_count": 1,
   "id": "d71e2dfe",
   "metadata": {
    "slideshow": {
     "slide_type": "subslide"
    }
   },
   "outputs": [
    {
     "data": {
      "text/html": [
       "<div>\n",
       "<style scoped>\n",
       "    .dataframe tbody tr th:only-of-type {\n",
       "        vertical-align: middle;\n",
       "    }\n",
       "\n",
       "    .dataframe tbody tr th {\n",
       "        vertical-align: top;\n",
       "    }\n",
       "\n",
       "    .dataframe thead th {\n",
       "        text-align: right;\n",
       "    }\n",
       "</style>\n",
       "<table border=\"1\" class=\"dataframe\">\n",
       "  <thead>\n",
       "    <tr style=\"text-align: right;\">\n",
       "      <th></th>\n",
       "      <th>job_title</th>\n",
       "      <th>text</th>\n",
       "    </tr>\n",
       "  </thead>\n",
       "  <tbody>\n",
       "    <tr>\n",
       "      <th>0</th>\n",
       "      <td>SBA Loan Associate</td>\n",
       "      <td>assist business development officer with sba 7...</td>\n",
       "    </tr>\n",
       "    <tr>\n",
       "      <th>1</th>\n",
       "      <td>Credit Analyst</td>\n",
       "      <td>the credit analyst is responsible for assistin...</td>\n",
       "    </tr>\n",
       "    <tr>\n",
       "      <th>2</th>\n",
       "      <td>Scientist, Lead Discovery</td>\n",
       "      <td>design and execution of biochemical assays for...</td>\n",
       "    </tr>\n",
       "    <tr>\n",
       "      <th>3</th>\n",
       "      <td>Maintenance Director</td>\n",
       "      <td>as a maintenance director, you’ll effectively ...</td>\n",
       "    </tr>\n",
       "    <tr>\n",
       "      <th>4</th>\n",
       "      <td>Engineer I</td>\n",
       "      <td>freese and nichols is seeking an engineer i to...</td>\n",
       "    </tr>\n",
       "    <tr>\n",
       "      <th>...</th>\n",
       "      <td>...</td>\n",
       "      <td>...</td>\n",
       "    </tr>\n",
       "    <tr>\n",
       "      <th>985</th>\n",
       "      <td>$1500 Signing Bonus Home Health Aide</td>\n",
       "      <td>responsible to the r.n. and/or therapist who a...</td>\n",
       "    </tr>\n",
       "    <tr>\n",
       "      <th>986</th>\n",
       "      <td>Home Health Aide - Home Health - New River Val...</td>\n",
       "      <td>this position supports carilion's hallmarks of...</td>\n",
       "    </tr>\n",
       "    <tr>\n",
       "      <th>987</th>\n",
       "      <td>Home Health Aide</td>\n",
       "      <td>documents the various aspects of care on appro...</td>\n",
       "    </tr>\n",
       "    <tr>\n",
       "      <th>988</th>\n",
       "      <td>Home Health Aide</td>\n",
       "      <td>observes, reports and documents patient status...</td>\n",
       "    </tr>\n",
       "    <tr>\n",
       "      <th>989</th>\n",
       "      <td>Medical Lab Technician/UKHC</td>\n",
       "      <td>the medical lab technician /ukhc will be respo...</td>\n",
       "    </tr>\n",
       "  </tbody>\n",
       "</table>\n",
       "<p>990 rows × 2 columns</p>\n",
       "</div>"
      ],
      "text/plain": [
       "                                             job_title  \\\n",
       "0                                   SBA Loan Associate   \n",
       "1                                       Credit Analyst   \n",
       "2                            Scientist, Lead Discovery   \n",
       "3                                 Maintenance Director   \n",
       "4                                           Engineer I   \n",
       "..                                                 ...   \n",
       "985               $1500 Signing Bonus Home Health Aide   \n",
       "986  Home Health Aide - Home Health - New River Val...   \n",
       "987                                   Home Health Aide   \n",
       "988                                   Home Health Aide   \n",
       "989                        Medical Lab Technician/UKHC   \n",
       "\n",
       "                                                  text  \n",
       "0    assist business development officer with sba 7...  \n",
       "1    the credit analyst is responsible for assistin...  \n",
       "2    design and execution of biochemical assays for...  \n",
       "3    as a maintenance director, you’ll effectively ...  \n",
       "4    freese and nichols is seeking an engineer i to...  \n",
       "..                                                 ...  \n",
       "985  responsible to the r.n. and/or therapist who a...  \n",
       "986  this position supports carilion's hallmarks of...  \n",
       "987  documents the various aspects of care on appro...  \n",
       "988  observes, reports and documents patient status...  \n",
       "989  the medical lab technician /ukhc will be respo...  \n",
       "\n",
       "[990 rows x 2 columns]"
      ]
     },
     "execution_count": 1,
     "metadata": {},
     "output_type": "execute_result"
    }
   ],
   "source": [
    "import pandas as pd\n",
    "from operator import itemgetter\n",
    "\n",
    "data = pd.read_excel(\"data/demo/TitleMatch/JobAdsData2022_OSF.xlsx\")\n",
    "data['text'] = data['text'].str.strip()\n",
    "data.text = data.text.replace(r'\\n','. ', regex=True)\n",
    "data.text = data.text.apply(lambda x: x.lower() if isinstance(x, str) else x)\n",
    "# We will work with the columns 'job_title' and 'text' (a concatenation of all text)\n",
    "data[['job_title','text']]"
   ]
  },
  {
   "cell_type": "code",
   "execution_count": 2,
   "id": "46e63302",
   "metadata": {
    "slideshow": {
     "slide_type": "subslide"
    }
   },
   "outputs": [
    {
     "name": "stdout",
     "output_type": "stream",
     "text": [
      "<class 'pandas.core.frame.DataFrame'>\n",
      "RangeIndex: 990 entries, 0 to 989\n",
      "Data columns (total 11 columns):\n",
      " #   Column                 Non-Null Count  Dtype \n",
      "---  ------                 --------------  ----- \n",
      " 0   id                     990 non-null    int64 \n",
      " 1   onet_id                990 non-null    object\n",
      " 2   job_title              990 non-null    object\n",
      " 3   company                990 non-null    object\n",
      " 4   job_location           986 non-null    object\n",
      " 5   salary                 78 non-null     object\n",
      " 6   text                   990 non-null    object\n",
      " 7   responsibilities_text  978 non-null    object\n",
      " 8   requirements_text      961 non-null    object\n",
      " 9   preferred_text         655 non-null    object\n",
      " 10  company_desc           609 non-null    object\n",
      "dtypes: int64(1), object(10)\n",
      "memory usage: 85.2+ KB\n"
     ]
    }
   ],
   "source": [
    "data.info()"
   ]
  },
  {
   "cell_type": "markdown",
   "id": "88dea394",
   "metadata": {
    "slideshow": {
     "slide_type": "slide"
    }
   },
   "source": [
    "# Title Match: Match Job Titles to O-NET Occupation Codes\n",
    "\n",
    "From:\n",
    "\n",
    "'Operations Engineer'\n",
    "'ESL Processing Operator'\n",
    "\n",
    "To: \n",
    "\n",
    "[('Operations Engineer', '17-2112.00', 1.0)]\n",
    "[('Processing Operator', '51-3091.00', 0.943)]"
   ]
  },
  {
   "cell_type": "code",
   "execution_count": 3,
   "id": "992ffff1",
   "metadata": {
    "slideshow": {
     "slide_type": "subslide"
    }
   },
   "outputs": [
    {
     "name": "stderr",
     "output_type": "stream",
     "text": [
      "/Users/pnorlander/Library/Python/3.9/lib/python/site-packages/tqdm/auto.py:21: TqdmWarning: IProgress not found. Please update jupyter and ipywidgets. See https://ipywidgets.readthedocs.io/en/stable/user_install.html\n",
      "  from .autonotebook import tqdm as notebook_tqdm\n"
     ]
    },
    {
     "name": "stdout",
     "output_type": "stream",
     "text": [
      "INIT\n",
      "Loading data...\n",
      "Preparing embeddings...\n"
     ]
    },
    {
     "name": "stderr",
     "output_type": "stream",
     "text": [
      "Batches: 100%|██████████| 1424/1424 [00:42<00:00, 33.28it/s]\n",
      "Batches: 100%|██████████| 31/31 [00:01<00:00, 28.03it/s]\n"
     ]
    }
   ],
   "source": [
    "from JAAT import TitleMatch\n",
    "TiM = TitleMatch()\n",
    "\n",
    "data['TitleMatch'] = TiM.get_title(data.job_title.to_list())\n",
    "data['TM_onet_id'] = data.TitleMatch.apply(itemgetter(1)).astype(str)\n"
   ]
  },
  {
   "cell_type": "code",
   "execution_count": 4,
   "id": "3100d649",
   "metadata": {
    "slideshow": {
     "slide_type": "subslide"
    }
   },
   "outputs": [
    {
     "data": {
      "text/html": [
       "<div>\n",
       "<style scoped>\n",
       "    .dataframe tbody tr th:only-of-type {\n",
       "        vertical-align: middle;\n",
       "    }\n",
       "\n",
       "    .dataframe tbody tr th {\n",
       "        vertical-align: top;\n",
       "    }\n",
       "\n",
       "    .dataframe thead th {\n",
       "        text-align: right;\n",
       "    }\n",
       "</style>\n",
       "<table border=\"1\" class=\"dataframe\">\n",
       "  <thead>\n",
       "    <tr style=\"text-align: right;\">\n",
       "      <th></th>\n",
       "      <th>job_title</th>\n",
       "      <th>TM_onet_id</th>\n",
       "    </tr>\n",
       "  </thead>\n",
       "  <tbody>\n",
       "    <tr>\n",
       "      <th>0</th>\n",
       "      <td>SBA Loan Associate</td>\n",
       "      <td>43-4131.00</td>\n",
       "    </tr>\n",
       "    <tr>\n",
       "      <th>1</th>\n",
       "      <td>Credit Analyst</td>\n",
       "      <td>13-2041.00</td>\n",
       "    </tr>\n",
       "    <tr>\n",
       "      <th>2</th>\n",
       "      <td>Scientist, Lead Discovery</td>\n",
       "      <td>47-5049.00</td>\n",
       "    </tr>\n",
       "    <tr>\n",
       "      <th>3</th>\n",
       "      <td>Maintenance Director</td>\n",
       "      <td>11-3013.00</td>\n",
       "    </tr>\n",
       "    <tr>\n",
       "      <th>4</th>\n",
       "      <td>Engineer I</td>\n",
       "      <td>15-1241.01</td>\n",
       "    </tr>\n",
       "    <tr>\n",
       "      <th>...</th>\n",
       "      <td>...</td>\n",
       "      <td>...</td>\n",
       "    </tr>\n",
       "    <tr>\n",
       "      <th>985</th>\n",
       "      <td>$1500 Signing Bonus Home Health Aide</td>\n",
       "      <td>31-1121.00</td>\n",
       "    </tr>\n",
       "    <tr>\n",
       "      <th>986</th>\n",
       "      <td>Home Health Aide - Home Health - New River Val...</td>\n",
       "      <td>31-1121.00</td>\n",
       "    </tr>\n",
       "    <tr>\n",
       "      <th>987</th>\n",
       "      <td>Home Health Aide</td>\n",
       "      <td>31-1121.00</td>\n",
       "    </tr>\n",
       "    <tr>\n",
       "      <th>988</th>\n",
       "      <td>Home Health Aide</td>\n",
       "      <td>31-1121.00</td>\n",
       "    </tr>\n",
       "    <tr>\n",
       "      <th>989</th>\n",
       "      <td>Medical Lab Technician/UKHC</td>\n",
       "      <td>29-2012.00</td>\n",
       "    </tr>\n",
       "  </tbody>\n",
       "</table>\n",
       "<p>990 rows × 2 columns</p>\n",
       "</div>"
      ],
      "text/plain": [
       "                                             job_title  TM_onet_id\n",
       "0                                   SBA Loan Associate  43-4131.00\n",
       "1                                       Credit Analyst  13-2041.00\n",
       "2                            Scientist, Lead Discovery  47-5049.00\n",
       "3                                 Maintenance Director  11-3013.00\n",
       "4                                           Engineer I  15-1241.01\n",
       "..                                                 ...         ...\n",
       "985               $1500 Signing Bonus Home Health Aide  31-1121.00\n",
       "986  Home Health Aide - Home Health - New River Val...  31-1121.00\n",
       "987                                   Home Health Aide  31-1121.00\n",
       "988                                   Home Health Aide  31-1121.00\n",
       "989                        Medical Lab Technician/UKHC  29-2012.00\n",
       "\n",
       "[990 rows x 2 columns]"
      ]
     },
     "execution_count": 4,
     "metadata": {},
     "output_type": "execute_result"
    }
   ],
   "source": [
    "data[['job_title', 'TM_onet_id']]"
   ]
  },
  {
   "attachments": {},
   "cell_type": "markdown",
   "id": "7fad0bbd",
   "metadata": {
    "slideshow": {
     "slide_type": "slide"
    }
   },
   "source": [
    "# Firm Extract: Extracts Candidate Firm Names from Job Ad (or other) Text\n",
    "\n",
    "From:\n",
    "\n",
    "\"First American Equipment Finance, an RBC/City National Company, is a growing, national leader providing equipment leasing and equipment finance services to commercial borrowers in all fifty states. In 2020, the company earned top honors among midsize companies for the Best Companies to Work for in New York for the 3rd consecutive year, and in 2021, added to their accolades by being recognized as the #1 top workplace among midsized companies in Rochester. With national headquarters in Rochester (Woodcliff Office Park, Fairport), First American has approximately 270 employees and manages a $2bn portfolio.  \n",
    "\n",
    "To: \n",
    "\n",
    "{'american', 'first american'}\n",
    "\n",
    "From: \n",
    "\n",
    "As a key member of the Lead Discovery team, reporting to the Head of Lead Discovery, the Scientist, Lead Discovery will develop and implement biochemical assays for internal and external use and collaborate with a cross-functional team of scientists within the company and with external partners to support drug discovery efforts across the Accent portfolio.\t\n",
    "\n",
    "To: \n",
    "{'accent'}"
   ]
  },
  {
   "cell_type": "code",
   "execution_count": 5,
   "id": "c51cac47",
   "metadata": {
    "slideshow": {
     "slide_type": "subslide"
    }
   },
   "outputs": [
    {
     "name": "stdout",
     "output_type": "stream",
     "text": [
      "INIT\n"
     ]
    },
    {
     "name": "stderr",
     "output_type": "stream",
     "text": [
      "100%|██████████| 990/990 [02:00<00:00,  8.21it/s]\n"
     ]
    }
   ],
   "source": [
    "from JAAT import FirmExtract\n",
    "FE = FirmExtract()\n",
    "\n",
    "data['FirmExtract'] = FE.get_firm_batch(data.text.to_list())"
   ]
  },
  {
   "cell_type": "code",
   "execution_count": 8,
   "id": "fa020322",
   "metadata": {
    "slideshow": {
     "slide_type": "subslide"
    }
   },
   "outputs": [
    {
     "data": {
      "text/html": [
       "<div>\n",
       "<style scoped>\n",
       "    .dataframe tbody tr th:only-of-type {\n",
       "        vertical-align: middle;\n",
       "    }\n",
       "\n",
       "    .dataframe tbody tr th {\n",
       "        vertical-align: top;\n",
       "    }\n",
       "\n",
       "    .dataframe thead th {\n",
       "        text-align: right;\n",
       "    }\n",
       "</style>\n",
       "<table border=\"1\" class=\"dataframe\">\n",
       "  <thead>\n",
       "    <tr style=\"text-align: right;\">\n",
       "      <th></th>\n",
       "      <th>company</th>\n",
       "      <th>FirmExtract</th>\n",
       "    </tr>\n",
       "  </thead>\n",
       "  <tbody>\n",
       "    <tr>\n",
       "      <th>0</th>\n",
       "      <td>Bankers Healthcare Group</td>\n",
       "      <td>{-, fund, ex solutions}</td>\n",
       "    </tr>\n",
       "    <tr>\n",
       "      <th>1</th>\n",
       "      <td>First American Equipment Finance</td>\n",
       "      <td>{american, first american}</td>\n",
       "    </tr>\n",
       "    <tr>\n",
       "      <th>2</th>\n",
       "      <td>Accent Therapeutics, Inc.</td>\n",
       "      <td>{accent}</td>\n",
       "    </tr>\n",
       "    <tr>\n",
       "      <th>3</th>\n",
       "      <td>CWS Apartment Homes LLC</td>\n",
       "      <td>None</td>\n",
       "    </tr>\n",
       "    <tr>\n",
       "      <th>4</th>\n",
       "      <td>Freese and Nichols, Inc.</td>\n",
       "      <td>{freese and nichols, freese and}</td>\n",
       "    </tr>\n",
       "    <tr>\n",
       "      <th>...</th>\n",
       "      <td>...</td>\n",
       "      <td>...</td>\n",
       "    </tr>\n",
       "    <tr>\n",
       "      <th>985</th>\n",
       "      <td>Cuyuna Regional Medical Center</td>\n",
       "      <td>None</td>\n",
       "    </tr>\n",
       "    <tr>\n",
       "      <th>986</th>\n",
       "      <td>Carilion Clinic</td>\n",
       "      <td>{carilion clinic}</td>\n",
       "    </tr>\n",
       "    <tr>\n",
       "      <th>987</th>\n",
       "      <td>Ridgeview Medical Center</td>\n",
       "      <td>{ridgeview}</td>\n",
       "    </tr>\n",
       "    <tr>\n",
       "      <th>988</th>\n",
       "      <td>St. Claire HealthCare</td>\n",
       "      <td>None</td>\n",
       "    </tr>\n",
       "    <tr>\n",
       "      <th>989</th>\n",
       "      <td>UK HealthCare</td>\n",
       "      <td>{university of kentucky}</td>\n",
       "    </tr>\n",
       "  </tbody>\n",
       "</table>\n",
       "<p>990 rows × 2 columns</p>\n",
       "</div>"
      ],
      "text/plain": [
       "                              company                       FirmExtract\n",
       "0            Bankers Healthcare Group           {-, fund, ex solutions}\n",
       "1    First American Equipment Finance        {american, first american}\n",
       "2           Accent Therapeutics, Inc.                          {accent}\n",
       "3             CWS Apartment Homes LLC                              None\n",
       "4            Freese and Nichols, Inc.  {freese and nichols, freese and}\n",
       "..                                ...                               ...\n",
       "985    Cuyuna Regional Medical Center                              None\n",
       "986                   Carilion Clinic                 {carilion clinic}\n",
       "987          Ridgeview Medical Center                       {ridgeview}\n",
       "988             St. Claire HealthCare                              None\n",
       "989                     UK HealthCare          {university of kentucky}\n",
       "\n",
       "[990 rows x 2 columns]"
      ]
     },
     "execution_count": 8,
     "metadata": {},
     "output_type": "execute_result"
    }
   ],
   "source": [
    "data[['company','FirmExtract']]"
   ]
  },
  {
   "cell_type": "markdown",
   "id": "97b43257",
   "metadata": {},
   "source": [
    "# Task Match: Match Job Ad Text to O-NET Task IDs\n",
    "\n",
    "From text: \n",
    "\n",
    "```\n",
    "Develops software solutions by studying information needs; conferring with users; studying systems flow, data usage, and work processes; investigating problem areas; following the software development lifecycle.\n",
    "Determines operational feasibility by evaluating analysis, problem definition, requirements, solution development, and proposed solutions.\n",
    "Documents and demonstrates solutions by developing documentation, flowcharts, layouts, diagrams, charts, code comments and clear code.\n",
    "Supports and develops software developers by providing advice, coaching and educational opportunities.\n",
    "Other duties as required.\n",
    "\n",
    "```\n",
    "\n",
    "To O-NET Task IDs:\n",
    "\n",
    "```\n",
    "\n",
    "[('16363', 'Identify operational requirements for new systems to inform selection of technological solutions.'),\n",
    " ('16987', 'Prepare documentation or presentations, including charts, photos, or graphs.'),\n",
    " ('9583', 'Assign duties to other staff and give instructions regarding work methods and routines.')]\n",
    "\n",
    "```"
   ]
  },
  {
   "cell_type": "code",
   "execution_count": 9,
   "id": "bb1ec2c8",
   "metadata": {
    "slideshow": {
     "slide_type": "subslide"
    }
   },
   "outputs": [
    {
     "name": "stdout",
     "output_type": "stream",
     "text": [
      "INIT\n",
      "Preparing embeddings...\n"
     ]
    },
    {
     "name": "stderr",
     "output_type": "stream",
     "text": [
      "Batches: 100%|██████████| 295/295 [00:35<00:00,  8.34it/s]"
     ]
    },
    {
     "name": "stdout",
     "output_type": "stream",
     "text": [
      "Setting up pipeline...\n",
      "Finished.\n"
     ]
    },
    {
     "name": "stderr",
     "output_type": "stream",
     "text": [
      "\n"
     ]
    },
    {
     "ename": "AttributeError",
     "evalue": "Can't pickle local object 'pad_collate_fn.<locals>.inner'",
     "output_type": "error",
     "traceback": [
      "\u001b[0;31m---------------------------------------------------------------------------\u001b[0m",
      "\u001b[0;31mAttributeError\u001b[0m                            Traceback (most recent call last)",
      "Cell \u001b[0;32mIn[9], line 4\u001b[0m\n\u001b[1;32m      1\u001b[0m \u001b[39mfrom\u001b[39;00m \u001b[39mJAAT\u001b[39;00m \u001b[39mimport\u001b[39;00m TaskMatch\n\u001b[1;32m      2\u001b[0m TM \u001b[39m=\u001b[39m TaskMatch()\n\u001b[0;32m----> 4\u001b[0m data[\u001b[39m'\u001b[39m\u001b[39mTaskMatch\u001b[39m\u001b[39m'\u001b[39m] \u001b[39m=\u001b[39m TM\u001b[39m.\u001b[39;49mget_tasks_batch(data\u001b[39m.\u001b[39;49mtext\u001b[39m.\u001b[39;49mto_list())\n",
      "File \u001b[0;32m~/Documents/GitHub/JAAT/JAAT.py:122\u001b[0m, in \u001b[0;36mTaskMatch.get_tasks_batch\u001b[0;34m(self, texts)\u001b[0m\n\u001b[1;32m    121\u001b[0m \u001b[39mdef\u001b[39;00m \u001b[39mget_tasks_batch\u001b[39m(\u001b[39mself\u001b[39m, texts):\n\u001b[0;32m--> 122\u001b[0m     all_data \u001b[39m=\u001b[39m \u001b[39mself\u001b[39;49m\u001b[39m.\u001b[39;49mget_candidates_batch(texts)\n\u001b[1;32m    124\u001b[0m     q_embed \u001b[39m=\u001b[39m \u001b[39mself\u001b[39m\u001b[39m.\u001b[39membedding_model\u001b[39m.\u001b[39mencode([x[\u001b[39m1\u001b[39m] \u001b[39mfor\u001b[39;00m x \u001b[39min\u001b[39;00m all_data], convert_to_tensor\u001b[39m=\u001b[39m\u001b[39mTrue\u001b[39;00m, batch_size\u001b[39m=\u001b[39m\u001b[39m64\u001b[39m)\n\u001b[1;32m    125\u001b[0m     \u001b[39mif\u001b[39;00m \u001b[39mself\u001b[39m\u001b[39m.\u001b[39mdevice \u001b[39m==\u001b[39m \u001b[39m\"\u001b[39m\u001b[39mcuda\u001b[39m\u001b[39m\"\u001b[39m:\n",
      "File \u001b[0;32m~/Documents/GitHub/JAAT/JAAT.py:89\u001b[0m, in \u001b[0;36mTaskMatch.get_candidates_batch\u001b[0;34m(self, texts)\u001b[0m\n\u001b[1;32m     86\u001b[0m predictions \u001b[39m=\u001b[39m []\n\u001b[1;32m     88\u001b[0m temp \u001b[39m=\u001b[39m ListDataset([x[\u001b[39m1\u001b[39m] \u001b[39mfor\u001b[39;00m x \u001b[39min\u001b[39;00m all_data])\n\u001b[0;32m---> 89\u001b[0m \u001b[39mfor\u001b[39;00m r \u001b[39min\u001b[39;00m \u001b[39mself\u001b[39m\u001b[39m.\u001b[39mpipe(temp):\n\u001b[1;32m     90\u001b[0m     predictions\u001b[39m.\u001b[39mappend(r)\n\u001b[1;32m     92\u001b[0m count \u001b[39m=\u001b[39m \u001b[39m0\u001b[39m\n",
      "File \u001b[0;32m~/Library/Python/3.9/lib/python/site-packages/transformers/pipelines/pt_utils.py:67\u001b[0m, in \u001b[0;36mPipelineIterator.__iter__\u001b[0;34m(self)\u001b[0m\n\u001b[1;32m     66\u001b[0m \u001b[39mdef\u001b[39;00m \u001b[39m__iter__\u001b[39m(\u001b[39mself\u001b[39m):\n\u001b[0;32m---> 67\u001b[0m     \u001b[39mself\u001b[39m\u001b[39m.\u001b[39miterator \u001b[39m=\u001b[39m \u001b[39miter\u001b[39;49m(\u001b[39mself\u001b[39;49m\u001b[39m.\u001b[39;49mloader)\n\u001b[1;32m     68\u001b[0m     \u001b[39mreturn\u001b[39;00m \u001b[39mself\u001b[39m\n",
      "File \u001b[0;32m~/Library/Python/3.9/lib/python/site-packages/transformers/pipelines/pt_utils.py:67\u001b[0m, in \u001b[0;36mPipelineIterator.__iter__\u001b[0;34m(self)\u001b[0m\n\u001b[1;32m     66\u001b[0m \u001b[39mdef\u001b[39;00m \u001b[39m__iter__\u001b[39m(\u001b[39mself\u001b[39m):\n\u001b[0;32m---> 67\u001b[0m     \u001b[39mself\u001b[39m\u001b[39m.\u001b[39miterator \u001b[39m=\u001b[39m \u001b[39miter\u001b[39;49m(\u001b[39mself\u001b[39;49m\u001b[39m.\u001b[39;49mloader)\n\u001b[1;32m     68\u001b[0m     \u001b[39mreturn\u001b[39;00m \u001b[39mself\u001b[39m\n",
      "File \u001b[0;32m~/Library/Python/3.9/lib/python/site-packages/torch/utils/data/dataloader.py:439\u001b[0m, in \u001b[0;36mDataLoader.__iter__\u001b[0;34m(self)\u001b[0m\n\u001b[1;32m    437\u001b[0m     \u001b[39mreturn\u001b[39;00m \u001b[39mself\u001b[39m\u001b[39m.\u001b[39m_iterator\n\u001b[1;32m    438\u001b[0m \u001b[39melse\u001b[39;00m:\n\u001b[0;32m--> 439\u001b[0m     \u001b[39mreturn\u001b[39;00m \u001b[39mself\u001b[39;49m\u001b[39m.\u001b[39;49m_get_iterator()\n",
      "File \u001b[0;32m~/Library/Python/3.9/lib/python/site-packages/torch/utils/data/dataloader.py:387\u001b[0m, in \u001b[0;36mDataLoader._get_iterator\u001b[0;34m(self)\u001b[0m\n\u001b[1;32m    385\u001b[0m \u001b[39melse\u001b[39;00m:\n\u001b[1;32m    386\u001b[0m     \u001b[39mself\u001b[39m\u001b[39m.\u001b[39mcheck_worker_number_rationality()\n\u001b[0;32m--> 387\u001b[0m     \u001b[39mreturn\u001b[39;00m _MultiProcessingDataLoaderIter(\u001b[39mself\u001b[39;49m)\n",
      "File \u001b[0;32m~/Library/Python/3.9/lib/python/site-packages/torch/utils/data/dataloader.py:1040\u001b[0m, in \u001b[0;36m_MultiProcessingDataLoaderIter.__init__\u001b[0;34m(self, loader)\u001b[0m\n\u001b[1;32m   1033\u001b[0m w\u001b[39m.\u001b[39mdaemon \u001b[39m=\u001b[39m \u001b[39mTrue\u001b[39;00m\n\u001b[1;32m   1034\u001b[0m \u001b[39m# NB: Process.start() actually take some time as it needs to\u001b[39;00m\n\u001b[1;32m   1035\u001b[0m \u001b[39m#     start a process and pass the arguments over via a pipe.\u001b[39;00m\n\u001b[1;32m   1036\u001b[0m \u001b[39m#     Therefore, we only add a worker to self._workers list after\u001b[39;00m\n\u001b[1;32m   1037\u001b[0m \u001b[39m#     it started, so that we do not call .join() if program dies\u001b[39;00m\n\u001b[1;32m   1038\u001b[0m \u001b[39m#     before it starts, and __del__ tries to join but will get:\u001b[39;00m\n\u001b[1;32m   1039\u001b[0m \u001b[39m#     AssertionError: can only join a started process.\u001b[39;00m\n\u001b[0;32m-> 1040\u001b[0m w\u001b[39m.\u001b[39;49mstart()\n\u001b[1;32m   1041\u001b[0m \u001b[39mself\u001b[39m\u001b[39m.\u001b[39m_index_queues\u001b[39m.\u001b[39mappend(index_queue)\n\u001b[1;32m   1042\u001b[0m \u001b[39mself\u001b[39m\u001b[39m.\u001b[39m_workers\u001b[39m.\u001b[39mappend(w)\n",
      "File \u001b[0;32m/Library/Developer/CommandLineTools/Library/Frameworks/Python3.framework/Versions/3.9/lib/python3.9/multiprocessing/process.py:121\u001b[0m, in \u001b[0;36mBaseProcess.start\u001b[0;34m(self)\u001b[0m\n\u001b[1;32m    118\u001b[0m \u001b[39massert\u001b[39;00m \u001b[39mnot\u001b[39;00m _current_process\u001b[39m.\u001b[39m_config\u001b[39m.\u001b[39mget(\u001b[39m'\u001b[39m\u001b[39mdaemon\u001b[39m\u001b[39m'\u001b[39m), \\\n\u001b[1;32m    119\u001b[0m        \u001b[39m'\u001b[39m\u001b[39mdaemonic processes are not allowed to have children\u001b[39m\u001b[39m'\u001b[39m\n\u001b[1;32m    120\u001b[0m _cleanup()\n\u001b[0;32m--> 121\u001b[0m \u001b[39mself\u001b[39m\u001b[39m.\u001b[39m_popen \u001b[39m=\u001b[39m \u001b[39mself\u001b[39;49m\u001b[39m.\u001b[39;49m_Popen(\u001b[39mself\u001b[39;49m)\n\u001b[1;32m    122\u001b[0m \u001b[39mself\u001b[39m\u001b[39m.\u001b[39m_sentinel \u001b[39m=\u001b[39m \u001b[39mself\u001b[39m\u001b[39m.\u001b[39m_popen\u001b[39m.\u001b[39msentinel\n\u001b[1;32m    123\u001b[0m \u001b[39m# Avoid a refcycle if the target function holds an indirect\u001b[39;00m\n\u001b[1;32m    124\u001b[0m \u001b[39m# reference to the process object (see bpo-30775)\u001b[39;00m\n",
      "File \u001b[0;32m/Library/Developer/CommandLineTools/Library/Frameworks/Python3.framework/Versions/3.9/lib/python3.9/multiprocessing/context.py:224\u001b[0m, in \u001b[0;36mProcess._Popen\u001b[0;34m(process_obj)\u001b[0m\n\u001b[1;32m    222\u001b[0m \u001b[39m@staticmethod\u001b[39m\n\u001b[1;32m    223\u001b[0m \u001b[39mdef\u001b[39;00m \u001b[39m_Popen\u001b[39m(process_obj):\n\u001b[0;32m--> 224\u001b[0m     \u001b[39mreturn\u001b[39;00m _default_context\u001b[39m.\u001b[39;49mget_context()\u001b[39m.\u001b[39;49mProcess\u001b[39m.\u001b[39;49m_Popen(process_obj)\n",
      "File \u001b[0;32m/Library/Developer/CommandLineTools/Library/Frameworks/Python3.framework/Versions/3.9/lib/python3.9/multiprocessing/context.py:284\u001b[0m, in \u001b[0;36mSpawnProcess._Popen\u001b[0;34m(process_obj)\u001b[0m\n\u001b[1;32m    281\u001b[0m \u001b[39m@staticmethod\u001b[39m\n\u001b[1;32m    282\u001b[0m \u001b[39mdef\u001b[39;00m \u001b[39m_Popen\u001b[39m(process_obj):\n\u001b[1;32m    283\u001b[0m     \u001b[39mfrom\u001b[39;00m \u001b[39m.\u001b[39;00m\u001b[39mpopen_spawn_posix\u001b[39;00m \u001b[39mimport\u001b[39;00m Popen\n\u001b[0;32m--> 284\u001b[0m     \u001b[39mreturn\u001b[39;00m Popen(process_obj)\n",
      "File \u001b[0;32m/Library/Developer/CommandLineTools/Library/Frameworks/Python3.framework/Versions/3.9/lib/python3.9/multiprocessing/popen_spawn_posix.py:32\u001b[0m, in \u001b[0;36mPopen.__init__\u001b[0;34m(self, process_obj)\u001b[0m\n\u001b[1;32m     30\u001b[0m \u001b[39mdef\u001b[39;00m \u001b[39m__init__\u001b[39m(\u001b[39mself\u001b[39m, process_obj):\n\u001b[1;32m     31\u001b[0m     \u001b[39mself\u001b[39m\u001b[39m.\u001b[39m_fds \u001b[39m=\u001b[39m []\n\u001b[0;32m---> 32\u001b[0m     \u001b[39msuper\u001b[39;49m()\u001b[39m.\u001b[39;49m\u001b[39m__init__\u001b[39;49m(process_obj)\n",
      "File \u001b[0;32m/Library/Developer/CommandLineTools/Library/Frameworks/Python3.framework/Versions/3.9/lib/python3.9/multiprocessing/popen_fork.py:19\u001b[0m, in \u001b[0;36mPopen.__init__\u001b[0;34m(self, process_obj)\u001b[0m\n\u001b[1;32m     17\u001b[0m \u001b[39mself\u001b[39m\u001b[39m.\u001b[39mreturncode \u001b[39m=\u001b[39m \u001b[39mNone\u001b[39;00m\n\u001b[1;32m     18\u001b[0m \u001b[39mself\u001b[39m\u001b[39m.\u001b[39mfinalizer \u001b[39m=\u001b[39m \u001b[39mNone\u001b[39;00m\n\u001b[0;32m---> 19\u001b[0m \u001b[39mself\u001b[39;49m\u001b[39m.\u001b[39;49m_launch(process_obj)\n",
      "File \u001b[0;32m/Library/Developer/CommandLineTools/Library/Frameworks/Python3.framework/Versions/3.9/lib/python3.9/multiprocessing/popen_spawn_posix.py:47\u001b[0m, in \u001b[0;36mPopen._launch\u001b[0;34m(self, process_obj)\u001b[0m\n\u001b[1;32m     45\u001b[0m \u001b[39mtry\u001b[39;00m:\n\u001b[1;32m     46\u001b[0m     reduction\u001b[39m.\u001b[39mdump(prep_data, fp)\n\u001b[0;32m---> 47\u001b[0m     reduction\u001b[39m.\u001b[39;49mdump(process_obj, fp)\n\u001b[1;32m     48\u001b[0m \u001b[39mfinally\u001b[39;00m:\n\u001b[1;32m     49\u001b[0m     set_spawning_popen(\u001b[39mNone\u001b[39;00m)\n",
      "File \u001b[0;32m/Library/Developer/CommandLineTools/Library/Frameworks/Python3.framework/Versions/3.9/lib/python3.9/multiprocessing/reduction.py:60\u001b[0m, in \u001b[0;36mdump\u001b[0;34m(obj, file, protocol)\u001b[0m\n\u001b[1;32m     58\u001b[0m \u001b[39mdef\u001b[39;00m \u001b[39mdump\u001b[39m(obj, file, protocol\u001b[39m=\u001b[39m\u001b[39mNone\u001b[39;00m):\n\u001b[1;32m     59\u001b[0m \u001b[39m    \u001b[39m\u001b[39m'''Replacement for pickle.dump() using ForkingPickler.'''\u001b[39;00m\n\u001b[0;32m---> 60\u001b[0m     ForkingPickler(file, protocol)\u001b[39m.\u001b[39;49mdump(obj)\n",
      "\u001b[0;31mAttributeError\u001b[0m: Can't pickle local object 'pad_collate_fn.<locals>.inner'"
     ]
    }
   ],
   "source": [
    "from JAAT import TaskMatch\n",
    "TM = TaskMatch()\n",
    "\n",
    "data['TaskMatch'] = TM.get_tasks_batch(data.text.to_list())"
   ]
  },
  {
   "cell_type": "code",
   "execution_count": null,
   "id": "a99dd08b",
   "metadata": {},
   "outputs": [],
   "source": [
    "data[['TaskMatch']]"
   ]
  },
  {
   "cell_type": "markdown",
   "id": "dfa200be",
   "metadata": {
    "slideshow": {
     "slide_type": "slide"
    }
   },
   "source": [
    "# CREAM: Adapt a Classification Scheme or Build a Novel Lexicon\n",
    "\n",
    "From initial rules:\n",
    "\n",
    "\n",
    "And natural language in a corpus:\n",
    "\n",
    "\n",
    "\n",
    "To labeled data:\n"
   ]
  },
  {
   "cell_type": "code",
   "execution_count": 11,
   "id": "cae78b09",
   "metadata": {
    "slideshow": {
     "slide_type": "subslide"
    }
   },
   "outputs": [],
   "source": [
    "import pandas as pd\n",
    "import numpy as np\n",
    "from sentence_transformers import SentenceTransformer, util\n",
    "import json\n",
    "import re\n",
    "import swifter\n",
    "\n",
    "# sbert model\n",
    "#model = SentenceTransformer(\"sentence-transformers/all-MiniLM-L6-v2\")\n",
    "model = SentenceTransformer(\"thenlper/gte-large\")\n",
    "\n",
    "# similarity function\n",
    "# vectorize input text and use cosine similarity to compare to encoded rules\n",
    "def get_sim(model, rule_map, encoded_rules, q):\n",
    "    sim_scores = util.cos_sim(model.encode([q]), encoded_rules)\n",
    "    return dict(zip(rule_map.keys(), sim_scores[0].tolist()))\n",
    "\n",
    "# label via max score\n",
    "def label_from_max(scores, rule_map):\n",
    "    max_rule = max(scores, key=scores.get)\n",
    "    label = rule_map[max_rule]\n",
    "    return max_rule, label, scores[max_rule]\n",
    "\n",
    "# if keyword found, get context window for similarity scoring\n",
    "def get_context(text, keywords):\n",
    "    n = 4\n",
    "    text = text.lower()\n",
    "    text = re.sub(r'[^a-z0-9]+', ' ', text)\n",
    "\n",
    "    words = text.split()\n",
    "    found_index = [i for i, w in enumerate(words) if any(k.strip() in w for k in keywords)]\n",
    "    context = [\" \".join(words[max(0, idx-n):min(idx+n+1, len(words))]) for idx in found_index]\n",
    "\n",
    "    return '|'.join(context)\n",
    "\n",
    "## helper function to run CREAM on all data points\n",
    "def __helper__(row):\n",
    "    global keywords\n",
    "    global model\n",
    "    global rule_map\n",
    "    global encoded_rules\n",
    "    \n",
    "    THRESHOLD = 0.9\n",
    "        \n",
    "    text = row[\"text\"]\n",
    "    context = get_context(text, keywords).split('|')\n",
    "    \n",
    "    if len(context) > 0 and context[0] != \"\":\n",
    "        all_scores = []\n",
    "        for c in context:\n",
    "            scores = get_sim(model, rule_map, encoded_rules, c)\n",
    "            all_scores.append(label_from_max(scores, rule_map))\n",
    "        max_score = max(all_scores, key=itemgetter(2))\n",
    "        if max_score[2] >= THRESHOLD:\n",
    "            return max_score[1], max_score[2], max_score[0]\n",
    "        else:\n",
    "            return None, 0, None\n",
    "    else:\n",
    "        return None, None, None"
   ]
  },
  {
   "cell_type": "code",
   "execution_count": 14,
   "id": "2654a45f",
   "metadata": {
    "slideshow": {
     "slide_type": "subslide"
    }
   },
   "outputs": [],
   "source": [
    "# load sample keywords, rules, and data\n",
    "keywords = [\n",
    "    \"bachelor\",\n",
    "    \"master\",\n",
    "    \"degree\",\n",
    "    \"high school\",\n",
    "    \"education\",\n",
    "    \"diploma\",\n",
    "    \"ged\",\n",
    "    \"certification\"\n",
    "]\n",
    "\n",
    "rules = pd.read_csv(\"data/demo/CREAM_ed_requirements_onet_coded.csv\")\n",
    "encoded_rules = model.encode(rules['rule'].tolist())\n",
    "rule_map = dict(zip(rules['rule'].tolist(), rules['category'].tolist()))\n",
    "\n",
    "data[['ed_inferred_rule', 'ed_inferred_label', 'ed_inferred_confidence']] = data.apply(__helper__, axis=1, result_type=\"expand\")"
   ]
  },
  {
   "cell_type": "code",
   "execution_count": null,
   "id": "195d7cd7",
   "metadata": {
    "scrolled": true,
    "slideshow": {
     "slide_type": "slide"
    }
   },
   "outputs": [],
   "source": [
    "data.to_excel('data/demo/coded_output.xlsx', index=False)\n",
    "data"
   ]
  },
  {
   "cell_type": "code",
   "execution_count": null,
   "id": "a11603c5-5f4f-4e64-ba5e-8103db39ae3f",
   "metadata": {},
   "outputs": [],
   "source": []
  }
 ],
 "metadata": {
  "celltoolbar": "Slideshow",
  "kernelspec": {
   "display_name": "Python 3 (ipykernel)",
   "language": "python",
   "name": "python3"
  },
  "language_info": {
   "codemirror_mode": {
    "name": "ipython",
    "version": 3
   },
   "file_extension": ".py",
   "mimetype": "text/x-python",
   "name": "python",
   "nbconvert_exporter": "python",
   "pygments_lexer": "ipython3",
   "version": "3.9.6"
  }
 },
 "nbformat": 4,
 "nbformat_minor": 5
}
