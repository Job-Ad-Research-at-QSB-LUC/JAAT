{
 "cells": [
  {
   "cell_type": "markdown",
   "id": "f36cec1d-ccbd-4d8e-b2cc-066de9d5c83f",
   "metadata": {
    "editable": true,
    "slideshow": {
     "slide_type": "slide"
    },
    "tags": []
   },
   "source": [
    "# TaskMatch Demo"
   ]
  },
  {
   "cell_type": "markdown",
   "id": "65f6539d-7920-41f1-a5e9-4cfcb75a4a3e",
   "metadata": {
    "editable": true,
    "slideshow": {
     "slide_type": "subslide"
    },
    "tags": []
   },
   "source": [
    "A short demonstration of TaskMatch - efficiently and accurately extracting task information from job ad texts."
   ]
  },
  {
   "cell_type": "markdown",
   "id": "03e43c53-a532-4f76-9339-b87e2b46d470",
   "metadata": {
    "editable": true,
    "slideshow": {
     "slide_type": "slide"
    },
    "tags": []
   },
   "source": [
    "# Simple Startup"
   ]
  },
  {
   "cell_type": "code",
   "execution_count": 2,
   "id": "52b6b682-680a-4d71-a9e6-72f104f8f5d3",
   "metadata": {
    "editable": true,
    "slideshow": {
     "slide_type": "subslide"
    },
    "tags": []
   },
   "outputs": [],
   "source": [
    "from pprint import pprint\n",
    "import nltk\n",
    "from tqdm.auto import tqdm\n",
    "import time\n",
    "\n",
    "import sys\n",
    "sys.path.insert(0, \"/path/to/TaskMatch/\") # TODO: edit!\n",
    "\n",
    "from TaskMatch import TaskMatch"
   ]
  },
  {
   "cell_type": "code",
   "execution_count": 3,
   "id": "186df90d-e362-4ab1-9bc4-8bd2ea56f6b9",
   "metadata": {
    "editable": true,
    "slideshow": {
     "slide_type": "subslide"
    },
    "tags": []
   },
   "outputs": [
    {
     "name": "stdout",
     "output_type": "stream",
     "text": [
      "INIT\n",
      "Preparing embeddings...\n"
     ]
    },
    {
     "data": {
      "application/vnd.jupyter.widget-view+json": {
       "model_id": "1b759746dd854cccae38d67268f7a4fe",
       "version_major": 2,
       "version_minor": 0
      },
      "text/plain": [
       "Batches:   0%|          | 0/295 [00:00<?, ?it/s]"
      ]
     },
     "metadata": {},
     "output_type": "display_data"
    },
    {
     "name": "stdout",
     "output_type": "stream",
     "text": [
      "Setting up pipeline...\n",
      "Finished.\n"
     ]
    }
   ],
   "source": [
    "# load TaskMatch - performs setup steps\n",
    "TM = TaskMatch()"
   ]
  },
  {
   "cell_type": "markdown",
   "id": "b922d086-b464-4926-b316-2a3362bb5387",
   "metadata": {
    "editable": true,
    "slideshow": {
     "slide_type": "slide"
    },
    "tags": []
   },
   "source": [
    "# Extracting Task IDs from Job Ad Texts"
   ]
  },
  {
   "cell_type": "markdown",
   "id": "d1eb7317-57f6-4b27-b967-497ed88c987c",
   "metadata": {
    "editable": true,
    "slideshow": {
     "slide_type": "slide"
    },
    "tags": []
   },
   "source": [
    "Let's take a sample job ab:"
   ]
  },
  {
   "cell_type": "code",
   "execution_count": 4,
   "id": "540f675c-9cbb-49d4-a114-0c99b37b780a",
   "metadata": {
    "editable": true,
    "slideshow": {
     "slide_type": "subslide"
    },
    "tags": []
   },
   "outputs": [
    {
     "name": "stdout",
     "output_type": "stream",
     "text": [
      "\n",
      "Junior Full Stack Software Developer\n",
      "\n",
      "Description\n",
      "Develops software solutions by studying information needs; conferring with users; studying systems flow, data usage, and work processes; investigating problem areas; following the software development lifecycle.\n",
      "Determines operational feasibility by evaluating analysis, problem definition, requirements, solution development, and proposed solutions.\n",
      "Documents and demonstrates solutions by developing documentation, flowcharts, layouts, diagrams, charts, code comments and clear code.\n",
      "Supports and develops software developers by providing advice, coaching and educational opportunities.\n",
      "Other duties as required.\n",
      "\n",
      "About Us\n",
      "We are a small team of dedicated professionals that work to support the business objectives of our company as well as developing innovative software solutions for other companies in our industry. If you join our team, you will have the opportunity to work with a wide variety of technologies in a fast-paced development environment that caters to innovation and efficiency as opposed to rigid processes and ingrained mentalities. If you like to code, can follow other people’s code, can work in a team, and for a team, we say come and talk to us (mention ‘verko’ in your cover letter). We believe our company is a nice place to work and grow your skills, where working smart is appreciated as much as working hard.\n",
      "Requirements:\n",
      "\n",
      "Experience Requirements\n",
      "Bachelor’s degree in computer science, MIS, other related field or relevant experience.\n",
      "Experience with the Microsoft .NET technology stack (C#, MVC, Web API, Web Forms, etc.)\n",
      "Experience with JavaScript frameworks (ReactJS, Node.js preferred).\n",
      "Experience with relational databases (MS SQL preferred)\n",
      "Experience with code versioning tools, such as Git.\n",
      "Experience with modern software design patterns, debugging and refactoring.\n",
      "Familiarity with continuous integration and automated build products like Team City and Azure DevOps\n",
      "Geographical Requirements\n",
      "Applicants from Glastonbury/Hartford CT and the vicinity will be favored.\n",
      "Applicants from outside of New England states will not be considered.\n",
      "\n"
     ]
    }
   ],
   "source": [
    "job = \"\"\"\n",
    "Junior Full Stack Software Developer\n",
    "\n",
    "Description\n",
    "Develops software solutions by studying information needs; conferring with users; studying systems flow, data usage, and work processes; investigating problem areas; following the software development lifecycle.\n",
    "Determines operational feasibility by evaluating analysis, problem definition, requirements, solution development, and proposed solutions.\n",
    "Documents and demonstrates solutions by developing documentation, flowcharts, layouts, diagrams, charts, code comments and clear code.\n",
    "Supports and develops software developers by providing advice, coaching and educational opportunities.\n",
    "Other duties as required.\n",
    "\n",
    "About Us\n",
    "We are a small team of dedicated professionals that work to support the business objectives of our company as well as developing innovative software solutions for other companies in our industry. If you join our team, you will have the opportunity to work with a wide variety of technologies in a fast-paced development environment that caters to innovation and efficiency as opposed to rigid processes and ingrained mentalities. If you like to code, can follow other people’s code, can work in a team, and for a team, we say come and talk to us (mention ‘verko’ in your cover letter). We believe our company is a nice place to work and grow your skills, where working smart is appreciated as much as working hard.\n",
    "Requirements:\n",
    "\n",
    "Experience Requirements\n",
    "Bachelor’s degree in computer science, MIS, other related field or relevant experience.\n",
    "Experience with the Microsoft .NET technology stack (C#, MVC, Web API, Web Forms, etc.)\n",
    "Experience with JavaScript frameworks (ReactJS, Node.js preferred).\n",
    "Experience with relational databases (MS SQL preferred)\n",
    "Experience with code versioning tools, such as Git.\n",
    "Experience with modern software design patterns, debugging and refactoring.\n",
    "Familiarity with continuous integration and automated build products like Team City and Azure DevOps\n",
    "Geographical Requirements\n",
    "Applicants from Glastonbury/Hartford CT and the vicinity will be favored.\n",
    "Applicants from outside of New England states will not be considered.\n",
    "\"\"\"\n",
    "print(job)"
   ]
  },
  {
   "cell_type": "markdown",
   "id": "276d6086-57dd-4b6d-bfc9-4e30f7a7ccd7",
   "metadata": {
    "editable": true,
    "slideshow": {
     "slide_type": "slide"
    },
    "tags": []
   },
   "source": [
    "To extract task IDs from the job, simply call:"
   ]
  },
  {
   "cell_type": "code",
   "execution_count": 5,
   "id": "9cecaa13-277a-4458-99de-812a2c98db78",
   "metadata": {
    "editable": true,
    "slideshow": {
     "slide_type": "subslide"
    },
    "tags": []
   },
   "outputs": [
    {
     "name": "stdout",
     "output_type": "stream",
     "text": [
      "[('16363', 'Identify operational requirements for new systems to inform selection of technological solutions.'),\n",
      " ('16987', 'Prepare documentation or presentations, including charts, photos, or graphs.'),\n",
      " ('9583', 'Assign duties to other staff and give instructions regarding work methods and routines.')]\n"
     ]
    }
   ],
   "source": [
    "tasks = TM.get_tasks(job)\n",
    "pprint(tasks, width=120)"
   ]
  },
  {
   "cell_type": "markdown",
   "id": "50d1065d-4e28-4c87-bf4a-4d7d62a7a33d",
   "metadata": {
    "editable": true,
    "slideshow": {
     "slide_type": "slide"
    },
    "tags": []
   },
   "source": [
    "## Great! But let's look under the hood"
   ]
  },
  {
   "cell_type": "markdown",
   "id": "68551c91-e427-4854-881e-2120a07d3982",
   "metadata": {
    "editable": true,
    "slideshow": {
     "slide_type": "slide"
    },
    "tags": []
   },
   "source": [
    "Before matching to task IDs, TaskMatch first identifies candidate sentences. To do a this, a classifier model identifies which segments of the job ad text are potentially task statements. Going back to the example:"
   ]
  },
  {
   "cell_type": "code",
   "execution_count": 6,
   "id": "8d5a1c48-6e23-4bbe-8609-ccddd0096e65",
   "metadata": {
    "editable": true,
    "slideshow": {
     "slide_type": "subslide"
    },
    "tags": []
   },
   "outputs": [
    {
     "name": "stdout",
     "output_type": "stream",
     "text": [
      "['(1) Junior Full Stack Software Developer\\n'\n",
      " '\\n'\n",
      " 'Description\\n'\n",
      " 'Develops software solutions by studying information needs; conferring with users; studying systems flow, data usage, and work processes; '\n",
      " 'investigating problem areas; following the software development lifecycle.',\n",
      " '(2) Determines operational feasibility by evaluating analysis, problem definition, requirements, solution development, and proposed solutions.',\n",
      " '(3) Documents and demonstrates solutions by developing documentation, flowcharts, layouts, diagrams, charts, code comments and clear code.',\n",
      " '(4) Supports and develops software developers by providing advice, coaching and educational opportunities.',\n",
      " '(5) Other duties as required.',\n",
      " '(6) Experience with modern software design patterns, debugging and refactoring.']\n"
     ]
    }
   ],
   "source": [
    "candidates = [\"({}) \".format(i+1)+x.strip() for i, x in enumerate(TM.get_candidates(job))]\n",
    "pprint(candidates, width=150)"
   ]
  },
  {
   "cell_type": "code",
   "execution_count": 7,
   "id": "888be459-341a-48f8-a7b9-f829c90091dc",
   "metadata": {
    "editable": true,
    "slideshow": {
     "slide_type": "subslide"
    },
    "tags": []
   },
   "outputs": [
    {
     "data": {
      "text/plain": [
       "16"
      ]
     },
     "execution_count": 7,
     "metadata": {},
     "output_type": "execute_result"
    }
   ],
   "source": [
    "len(nltk.sent_tokenize(job))"
   ]
  },
  {
   "cell_type": "markdown",
   "id": "d94a1d3e-273c-49aa-97c1-28b2bbeca9b1",
   "metadata": {
    "editable": true,
    "slideshow": {
     "slide_type": "subslide"
    },
    "tags": []
   },
   "source": [
    "So we see that six candidates are identified out of the 16 \"sentences\" in the job ad. From these we can narrow down to three matched tasks."
   ]
  },
  {
   "cell_type": "markdown",
   "id": "065d15a9-455f-474b-bfb9-73aab1e6141b",
   "metadata": {
    "editable": true,
    "slideshow": {
     "slide_type": "slide"
    },
    "tags": []
   },
   "source": [
    "## Batch Processing"
   ]
  },
  {
   "cell_type": "markdown",
   "id": "c352f4b1-295a-4375-b445-0608d4d1805f",
   "metadata": {
    "editable": true,
    "slideshow": {
     "slide_type": "slide"
    },
    "tags": []
   },
   "source": [
    "What if we want to process many job ads at once? Use our batch processing function."
   ]
  },
  {
   "cell_type": "code",
   "execution_count": 8,
   "id": "409d34b2-af48-4c63-957d-3dccc06a3a48",
   "metadata": {
    "editable": true,
    "slideshow": {
     "slide_type": "subslide"
    },
    "tags": []
   },
   "outputs": [],
   "source": [
    "# read in random job ads\n",
    "with open(\"/path/to/data_sample\", 'r') as f:\n",
    "    tasks = [x.strip() for x in f.readlines()[:100]]"
   ]
  },
  {
   "cell_type": "markdown",
   "id": "d045b291-d74b-46d6-9602-8682c5dddf16",
   "metadata": {
    "editable": true,
    "slideshow": {
     "slide_type": "subslide"
    },
    "tags": []
   },
   "source": [
    "Let's look at a couple samples."
   ]
  },
  {
   "cell_type": "code",
   "execution_count": 9,
   "id": "0e9b630e-3dc5-4fd5-b197-ce5297d17f77",
   "metadata": {
    "editable": true,
    "slideshow": {
     "slide_type": "slide"
    },
    "tags": []
   },
   "outputs": [
    {
     "data": {
      "text/plain": [
       "\"Company: US0064 Sysco St. Louis, LLC Zip Code: 63301 Minimum Level of Education: High School or Equivalent Minimum Years of Experience: 0-1 Years Employment Type: Full Time Travel Percentage: 0 JOB SUMMARYThis is a warehouse position responsible for operating an electric pallet jack, or forklift, to select the correct products, labeling product using Sysco Order Selection (SOS) label technology, palletizing product to build customer orders and delivering the product to the dock safely and efficiently. This position requires working 6:00 p.m. until end-of-shift with all products accurately selected and loaded. Overtime hours and working weekends and holidays are required to successfully fill customers' orders. The job requires working in areas with temperature and humidity variations based on local weather conditions, and on selecting the environment (dry, cooler, freezer).RESPONSIBILITIES + Hand select orders within various warehouse environments of fluctuating temperatures, including dry, cooler, and freezer. + Operate assigned Sysco Order Selection (SOS) unit to create labels and correctly place labels on product. + Stack product on pallets following proper selecting procedures (for example, no stacking heavy-on-light, labels facing out, etc.). + Engage an electric pallet jack, or forklift, to transport products. + Stage pallets for loading on proper dock locations. + Follows SyscoSafe preferred work methods at all times, and immediately advise supervisor of any unsafe conditions. + Adhere to sanitation requirements to comply with the policy set forth by the company and by AIB (American Institute of Baking). + Maintain and safely operate all assigned equipment, including but not limited to pallet jack, SOS unit, and personal protective equipment. + Perform pre- and post-trip inspections, and safely operate all mechanical equipment. + Shrink-wrap product on the loading dock. + Attend all required company meetings. + Other duties may be assigned. QUALIFICATIONS Education + High school diploma or General Education Development (GED) or equivalent. Experience + 3 months' warehouse experience preferred. + 3 months' experience operating an electric pallet jack or forklift preferred. + Previous experience at Sysco or in the food service industry preferred. Requirements + 18+ years of age. + Submit to pre-employment testing (Drug Screening, Background Check, Physical Abilities Test). Professional Skills + Ability to meet or exceed minimum efficiency levels established through an engineered production standard. + Able to work rapidly at a constant pace for the entire shift, in a fast-paced environment. + Meet or exceed established cases per error goals. + Develop a good working knowledge of the product, placement, and inventory control techniques and procedures. + Able to read, write, and communicate effectively as it relates to the job and the safety regulations. Physical DemandsThe physical demands described here are representative of those that must be met by an employee to successfully perform the essential functions of this job. + Frequently lift product that weighs 1-75 pounds, up to 100 pounds. + Regularly reach up to 72 inches. + Constantly bend and twist while operating a pallet jack and/or forklift, retrieving items from lower shelf areas. Working ConditionsTo perform this job successfully, an individual must be able to perform each essential duty satisfactorily. The requirements listed above are representative of knowledge, skill and/or ability required. Reasonable accommodations may be made to enable individuals with disabilities to perform the essential functions. + Requires working overtime hours, working weekends, and holidays. + Requires working in areas with temperature and humidity variations based on local weather conditions, and on selecting the environment (Dry, Cooler, Freezer). The above information on this description has been designed to indicate the general nature and level of work performed by associates within this classification. It is not designed to contain or be interpreted as a comprehensive inventory of all duties, responsibilities, and qualifications required of associates assigned to this job. BENEFITS INFORMATION: In the coming weeks, you will receive information in the mail confirming your benefits eligibility and the enrollment process. In the meantime, you may visit https://syscobenefits.com/ to learn more. HOW WE PROTECT OUR ASSOCIATES COVID-19 Precaution(s): + Personal protective equipment and masks provided + Temperature screenings + Social distancing guidelines in place + Sanitizing, disinfecting, and cleaning procedures in place OVERVIEW: Sysco is the global leader in foodservice distribution. With over 57,000 associates and a fleet of over 13,000 vehicles, Sysco operates approximately 326 distribution facilities worldwide and serves more than 625,000 customer locations. We offer our associates the opportunity to grow personally and professionally, to contribute to the success of a dynamic organization, and to serve others in a manner that exceeds their expectations. We're looking for talented, hard-working individuals to join our team. Come grow with us and let us show you why Sysco is at the heart of food and service. AFFIRMATIVE ACTION STATEMENT: Applicants must be currently authorized to work in the United States. We are proud to be an Equal Opportunity and Affirmative Action employer, and consider qualified applicants without regard to race, color, creed, religion, ancestry, national origin, sex, sexual orientation, gender identity, age, disability, veteran status or any other protected factor under federal, state or local law. This opportunity is available through Sysco Corporation, its subsidiaries and affiliates.\""
      ]
     },
     "execution_count": 9,
     "metadata": {},
     "output_type": "execute_result"
    }
   ],
   "source": [
    "tasks[1]"
   ]
  },
  {
   "cell_type": "code",
   "execution_count": 10,
   "id": "ca08f8f1-6a77-4a78-a9ec-05e775b3b1d5",
   "metadata": {
    "editable": true,
    "slideshow": {
     "slide_type": "slide"
    },
    "tags": []
   },
   "outputs": [
    {
     "data": {
      "text/plain": [
       "'To be fully engaged in providing No Harm / Quality, Customer Experience, and Stewardship by working as a team member and maintaining a positive attitude. Support the Core Laboratory Supervisor and Technologists (no patient testing or running of Quality Control). Manage Core Laboratory supply inventory. PRIMARY ACCOUNTABILITIES - Complies with policies/processes/procedures to provide quality services with < 2 errors per year - Manages daily workload in a productive manner. - Demonstrates fiscal responsibility as measured by volume adjusted budget as measured by a variance of no more than 5% over volume adjusted budget. QUALIFICATIONS · High school diploma or equivalent. · Must be willing and able to work with bio-hazardous/toxic materials following OSHA guidelines. · Excellent human relations skills. · Excellent organizational skills. · Excellent communication skills. · Strong computer skills. · Demonstrate high school math skills. · Must be able to sit for extended periods (2-3 hours). · Must be able to lift 10-20 lbs. unassisted. · Must be able to sit and operate a computer. Job: *Laboratory Organization: *Holmes Regional Medical Center Title: Lab Assistant - Lab Core Lab, Holmes Regional Medical Center, Full Time Night Shift/Variable Shifts Location: Florida - Brevard County-Melbourne Requisition ID: 049334'"
      ]
     },
     "execution_count": 10,
     "metadata": {},
     "output_type": "execute_result"
    }
   ],
   "source": [
    "tasks[99]"
   ]
  },
  {
   "cell_type": "markdown",
   "id": "7e5040ea-374e-40a5-b5bb-d4a5e8c3bef2",
   "metadata": {
    "editable": true,
    "slideshow": {
     "slide_type": "slide"
    },
    "tags": []
   },
   "source": [
    "Let's first see how long it would take to process these texts sequentially."
   ]
  },
  {
   "cell_type": "code",
   "execution_count": null,
   "id": "602f46c1-dbfc-4c94-901f-5d32ee5616d9",
   "metadata": {
    "editable": true,
    "slideshow": {
     "slide_type": "subslide"
    },
    "tags": []
   },
   "outputs": [],
   "source": [
    "start = time.time()\n",
    "for t in tqdm(tasks):\n",
    "    res = TM.get_tasks(t)\n",
    "end = time.time() - start\n",
    "print(end)"
   ]
  },
  {
   "cell_type": "markdown",
   "id": "de5139ff-f456-497d-886f-ee3ddda2746a",
   "metadata": {
    "editable": true,
    "slideshow": {
     "slide_type": "slide"
    },
    "tags": []
   },
   "source": [
    "And now using our batch processing..."
   ]
  },
  {
   "cell_type": "code",
   "execution_count": 12,
   "id": "98fc25d2-9ae9-491b-b82f-bd0d3088e760",
   "metadata": {
    "editable": true,
    "slideshow": {
     "slide_type": "subslide"
    },
    "tags": []
   },
   "outputs": [
    {
     "name": "stdout",
     "output_type": "stream",
     "text": [
      "1.4743261337280273\n"
     ]
    }
   ],
   "source": [
    "start = time.time()\n",
    "res = TM.get_tasks_batch(tasks)\n",
    "end = time.time() - start\n",
    "print(end)"
   ]
  },
  {
   "cell_type": "markdown",
   "id": "b1013e63-a2b7-490d-a5fe-f9cdff204062",
   "metadata": {
    "editable": true,
    "slideshow": {
     "slide_type": "subslide"
    },
    "tags": []
   },
   "source": [
    "Much faster!"
   ]
  },
  {
   "cell_type": "markdown",
   "id": "162845ad-f46d-483d-926f-4569713b010a",
   "metadata": {
    "editable": true,
    "slideshow": {
     "slide_type": "slide"
    },
    "tags": []
   },
   "source": [
    "Finally, the output tasks matches for our two examples:"
   ]
  },
  {
   "cell_type": "code",
   "execution_count": 13,
   "id": "f011d990-1926-4c6f-a056-9b29f5af12f2",
   "metadata": {
    "editable": true,
    "slideshow": {
     "slide_type": "subslide"
    },
    "tags": []
   },
   "outputs": [
    {
     "name": "stdout",
     "output_type": "stream",
     "text": [
      "[('12019', 'Transport metal ingots to storage areas, using forklifts.'),\n",
      " ('11083', 'Supply, operate, or maintain personal protective equipment.'),\n",
      " ('13176', 'Perform equipment safety checks prior to departure.'),\n",
      " ('9667', 'Attend company meetings to exchange product information and coordinate work activities with other departments.'),\n",
      " ('9583', 'Assign duties to other staff and give instructions regarding work methods and routines.'),\n",
      " ('21881', 'Write and revise safety regulations and codes.')]\n"
     ]
    }
   ],
   "source": [
    "pprint(res[1], width=150)"
   ]
  },
  {
   "cell_type": "code",
   "execution_count": 14,
   "id": "386735f3-a6d1-4d39-8fe3-efa3964474c1",
   "metadata": {
    "editable": true,
    "slideshow": {
     "slide_type": "subslide"
    },
    "tags": []
   },
   "outputs": [
    {
     "name": "stdout",
     "output_type": "stream",
     "text": [
      "[('20982', 'Place orders for laboratory equipment and supplies.')]\n"
     ]
    }
   ],
   "source": [
    "pprint(res[99], width=150)"
   ]
  },
  {
   "cell_type": "markdown",
   "id": "a741a8ce-df5d-4d89-9824-26f9c629a4d3",
   "metadata": {
    "editable": true,
    "slideshow": {
     "slide_type": "slide"
    },
    "tags": []
   },
   "source": [
    "# That's all!"
   ]
  }
 ],
 "metadata": {
  "kernelspec": {
   "display_name": "Python 3 (ipykernel)",
   "language": "python",
   "name": "python3"
  },
  "language_info": {
   "codemirror_mode": {
    "name": "ipython",
    "version": 3
   },
   "file_extension": ".py",
   "mimetype": "text/x-python",
   "name": "python",
   "nbconvert_exporter": "python",
   "pygments_lexer": "ipython3",
   "version": "3.10.12"
  }
 },
 "nbformat": 4,
 "nbformat_minor": 5
}
